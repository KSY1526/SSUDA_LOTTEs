{
  "nbformat": 4,
  "nbformat_minor": 0,
  "metadata": {
    "colab": {
      "name": "최종정리본2",
      "provenance": [],
      "collapsed_sections": [
        "I0lsyXQQL4Lt",
        "IECCEdMvL8mq"
      ],
      "toc_visible": true,
      "machine_shape": "hm"
    },
    "kernelspec": {
      "name": "python3",
      "display_name": "Python 3"
    },
    "language_info": {
      "name": "python"
    },
    "gpuClass": "standard",
    "accelerator": "GPU"
  },
  "cells": [
    {
      "cell_type": "markdown",
      "source": [
        "# 패키지 설치"
      ],
      "metadata": {
        "id": "I0lsyXQQL4Lt"
      }
    },
    {
      "cell_type": "code",
      "source": [
        "!pip install fastpivot\n",
        "!pip install pyarrow\n",
        "\n",
        "!nvidia-smi\n",
        "!head /proc/cpuinfo\n",
        "!head -n 3 /proc/meminfo"
      ],
      "metadata": {
        "id": "3ekB7md6zCmx",
        "colab": {
          "base_uri": "https://localhost:8080/"
        },
        "outputId": "472cb42f-22a1-4997-daa0-f5305b2cc983"
      },
      "execution_count": null,
      "outputs": [
        {
          "output_type": "stream",
          "name": "stdout",
          "text": [
            "Looking in indexes: https://pypi.org/simple, https://us-python.pkg.dev/colab-wheels/public/simple/\n",
            "Collecting fastpivot\n",
            "  Downloading fastpivot-0.1.12-cp37-cp37m-manylinux_2_24_x86_64.whl (548 kB)\n",
            "\u001b[K     |████████████████████████████████| 548 kB 4.2 MB/s \n",
            "\u001b[?25hRequirement already satisfied: scipy>=1.6.0 in /usr/local/lib/python3.7/dist-packages (from fastpivot) (1.7.3)\n",
            "Requirement already satisfied: pandas>=1.0.0 in /usr/local/lib/python3.7/dist-packages (from fastpivot) (1.3.5)\n",
            "Requirement already satisfied: numpy>=1.19.0 in /usr/local/lib/python3.7/dist-packages (from fastpivot) (1.21.6)\n",
            "Requirement already satisfied: python-dateutil>=2.7.3 in /usr/local/lib/python3.7/dist-packages (from pandas>=1.0.0->fastpivot) (2.8.2)\n",
            "Requirement already satisfied: pytz>=2017.3 in /usr/local/lib/python3.7/dist-packages (from pandas>=1.0.0->fastpivot) (2022.1)\n",
            "Requirement already satisfied: six>=1.5 in /usr/local/lib/python3.7/dist-packages (from python-dateutil>=2.7.3->pandas>=1.0.0->fastpivot) (1.15.0)\n",
            "Installing collected packages: fastpivot\n",
            "Successfully installed fastpivot-0.1.12\n",
            "Looking in indexes: https://pypi.org/simple, https://us-python.pkg.dev/colab-wheels/public/simple/\n",
            "Requirement already satisfied: pyarrow in /usr/local/lib/python3.7/dist-packages (6.0.1)\n",
            "Requirement already satisfied: numpy>=1.16.6 in /usr/local/lib/python3.7/dist-packages (from pyarrow) (1.21.6)\n",
            "Fri Aug 12 08:10:04 2022       \n",
            "+-----------------------------------------------------------------------------+\n",
            "| NVIDIA-SMI 460.32.03    Driver Version: 460.32.03    CUDA Version: 11.2     |\n",
            "|-------------------------------+----------------------+----------------------+\n",
            "| GPU  Name        Persistence-M| Bus-Id        Disp.A | Volatile Uncorr. ECC |\n",
            "| Fan  Temp  Perf  Pwr:Usage/Cap|         Memory-Usage | GPU-Util  Compute M. |\n",
            "|                               |                      |               MIG M. |\n",
            "|===============================+======================+======================|\n",
            "|   0  Tesla P100-PCIE...  Off  | 00000000:00:04.0 Off |                    0 |\n",
            "| N/A   46C    P0    29W / 250W |      0MiB / 16280MiB |      0%      Default |\n",
            "|                               |                      |                  N/A |\n",
            "+-------------------------------+----------------------+----------------------+\n",
            "                                                                               \n",
            "+-----------------------------------------------------------------------------+\n",
            "| Processes:                                                                  |\n",
            "|  GPU   GI   CI        PID   Type   Process name                  GPU Memory |\n",
            "|        ID   ID                                                   Usage      |\n",
            "|=============================================================================|\n",
            "|  No running processes found                                                 |\n",
            "+-----------------------------------------------------------------------------+\n",
            "processor\t: 0\n",
            "vendor_id\t: GenuineIntel\n",
            "cpu family\t: 6\n",
            "model\t\t: 63\n",
            "model name\t: Intel(R) Xeon(R) CPU @ 2.30GHz\n",
            "stepping\t: 0\n",
            "microcode\t: 0x1\n",
            "cpu MHz\t\t: 2299.998\n",
            "cache size\t: 46080 KB\n",
            "physical id\t: 0\n",
            "MemTotal:       26692024 kB\n",
            "MemFree:        23733564 kB\n",
            "MemAvailable:   25548740 kB\n"
          ]
        }
      ]
    },
    {
      "cell_type": "code",
      "source": [
        "import os\n",
        "import warnings; warnings.filterwarnings(\"ignore\")\n",
        "import numpy as np\n",
        "import pandas as pd\n",
        "import pyarrow as pa\n",
        "from fastpivot import pivot_table\n",
        "from tqdm import tqdm\n",
        "\n",
        "import sys\n",
        "import random\n",
        "\n",
        "import seaborn as sns\n",
        "sns.set_palette('deep')\n",
        "sns.set_color_codes()\n",
        "sns.set_style('white')\n",
        "\n",
        "from joblib import Parallel, delayed\n",
        "import multiprocessing\n",
        "num_cores = multiprocessing.cpu_count()\n",
        "\n",
        "print(\"Usable Core : \", num_cores)\n",
        "print(\"Pandas Version : \", pd.__version__) # 1.3.5\n",
        "print(\"Pyarrow Version : \", pa.__version__) # 6.0.1\n"
      ],
      "metadata": {
        "colab": {
          "base_uri": "https://localhost:8080/"
        },
        "id": "i8WmujNCPpUt",
        "outputId": "2c889a10-9407-44d8-ee3c-fd212ef82ca0"
      },
      "execution_count": null,
      "outputs": [
        {
          "output_type": "stream",
          "name": "stdout",
          "text": [
            "Usable Core :  4\n",
            "Pandas Version :  1.3.5\n",
            "Pyarrow Version :  6.0.1\n"
          ]
        }
      ]
    },
    {
      "cell_type": "code",
      "source": [
        "!sudo fc-cache -fv\n",
        "!rm ~/.cache/matplotlib -rf\n",
        "!pip install fuzzy-c-means\n",
        "\n",
        "from fcmeans import FCM\n",
        "import matplotlib as mpl\n",
        "import matplotlib.pyplot as plt\n",
        "\n",
        "%matplotlib inline"
      ],
      "metadata": {
        "colab": {
          "base_uri": "https://localhost:8080/"
        },
        "id": "QzCji5lI4dXr",
        "outputId": "db5096ce-df76-41bc-fb4e-f17fca7d898c"
      },
      "execution_count": null,
      "outputs": [
        {
          "output_type": "stream",
          "name": "stdout",
          "text": [
            "/usr/share/fonts: caching, new cache contents: 0 fonts, 1 dirs\n",
            "/usr/share/fonts/truetype: caching, new cache contents: 0 fonts, 2 dirs\n",
            "/usr/share/fonts/truetype/humor-sans: caching, new cache contents: 1 fonts, 0 dirs\n",
            "/usr/share/fonts/truetype/liberation: caching, new cache contents: 16 fonts, 0 dirs\n",
            "/usr/local/share/fonts: caching, new cache contents: 0 fonts, 0 dirs\n",
            "/root/.local/share/fonts: skipping, no such directory\n",
            "/root/.fonts: skipping, no such directory\n",
            "/var/cache/fontconfig: cleaning cache directory\n",
            "/root/.cache/fontconfig: not cleaning non-existent cache directory\n",
            "/root/.fontconfig: not cleaning non-existent cache directory\n",
            "fc-cache: succeeded\n",
            "Looking in indexes: https://pypi.org/simple, https://us-python.pkg.dev/colab-wheels/public/simple/\n",
            "Collecting fuzzy-c-means\n",
            "  Downloading fuzzy_c_means-1.6.3-py3-none-any.whl (9.1 kB)\n",
            "Requirement already satisfied: numpy<2.0.0,>=1.21.1 in /usr/local/lib/python3.7/dist-packages (from fuzzy-c-means) (1.21.6)\n",
            "Requirement already satisfied: pydantic<2.0.0,>=1.8.2 in /usr/local/lib/python3.7/dist-packages (from fuzzy-c-means) (1.9.1)\n",
            "Requirement already satisfied: tabulate<0.9.0,>=0.8.9 in /usr/local/lib/python3.7/dist-packages (from fuzzy-c-means) (0.8.10)\n",
            "Collecting typer<0.4.0,>=0.3.2\n",
            "  Downloading typer-0.3.2-py3-none-any.whl (21 kB)\n",
            "Requirement already satisfied: typing-extensions>=3.7.4.3 in /usr/local/lib/python3.7/dist-packages (from pydantic<2.0.0,>=1.8.2->fuzzy-c-means) (4.1.1)\n",
            "Requirement already satisfied: click<7.2.0,>=7.1.1 in /usr/local/lib/python3.7/dist-packages (from typer<0.4.0,>=0.3.2->fuzzy-c-means) (7.1.2)\n",
            "Installing collected packages: typer, fuzzy-c-means\n",
            "  Attempting uninstall: typer\n",
            "    Found existing installation: typer 0.4.2\n",
            "    Uninstalling typer-0.4.2:\n",
            "      Successfully uninstalled typer-0.4.2\n",
            "Successfully installed fuzzy-c-means-1.6.3 typer-0.3.2\n"
          ]
        }
      ]
    },
    {
      "cell_type": "code",
      "source": [
        "!pip install modin[all]"
      ],
      "metadata": {
        "id": "1Bc-5u4k81KC",
        "colab": {
          "base_uri": "https://localhost:8080/"
        },
        "outputId": "9a1ee7fe-293a-4f12-ebd5-bafc9b135488"
      },
      "execution_count": null,
      "outputs": [
        {
          "output_type": "stream",
          "name": "stdout",
          "text": [
            "Looking in indexes: https://pypi.org/simple, https://us-python.pkg.dev/colab-wheels/public/simple/\n",
            "Collecting modin[all]\n",
            "  Downloading modin-0.12.1-py3-none-any.whl (761 kB)\n",
            "\u001b[K     |████████████████████████████████| 761 kB 4.4 MB/s \n",
            "\u001b[?25hRequirement already satisfied: pandas==1.3.5 in /usr/local/lib/python3.7/dist-packages (from modin[all]) (1.3.5)\n",
            "Requirement already satisfied: packaging in /usr/local/lib/python3.7/dist-packages (from modin[all]) (21.3)\n",
            "Requirement already satisfied: numpy>=1.16.5 in /usr/local/lib/python3.7/dist-packages (from modin[all]) (1.21.6)\n",
            "Collecting fsspec\n",
            "  Downloading fsspec-2022.7.1-py3-none-any.whl (141 kB)\n",
            "\u001b[K     |████████████████████████████████| 141 kB 57.4 MB/s \n",
            "\u001b[?25hRequirement already satisfied: cloudpickle in /usr/local/lib/python3.7/dist-packages (from modin[all]) (1.3.0)\n",
            "Collecting dask>=2.22.0\n",
            "  Downloading dask-2022.2.0-py3-none-any.whl (1.1 MB)\n",
            "\u001b[K     |████████████████████████████████| 1.1 MB 43.2 MB/s \n",
            "\u001b[?25hCollecting ray[default]>=1.4.0\n",
            "  Downloading ray-1.13.0-cp37-cp37m-manylinux2014_x86_64.whl (54.5 MB)\n",
            "\u001b[K     |████████████████████████████████| 54.5 MB 254 kB/s \n",
            "\u001b[?25hCollecting rpyc==4.1.5\n",
            "  Downloading rpyc-4.1.5-py3-none-any.whl (68 kB)\n",
            "\u001b[K     |████████████████████████████████| 68 kB 7.7 MB/s \n",
            "\u001b[?25hCollecting distributed>=2.22.0\n",
            "  Downloading distributed-2022.2.0-py3-none-any.whl (837 kB)\n",
            "\u001b[K     |████████████████████████████████| 837 kB 48.3 MB/s \n",
            "\u001b[?25hCollecting boto3\n",
            "  Downloading boto3-1.24.50-py3-none-any.whl (132 kB)\n",
            "\u001b[K     |████████████████████████████████| 132 kB 41.6 MB/s \n",
            "\u001b[?25hRequirement already satisfied: pyarrow>=1.0 in /usr/local/lib/python3.7/dist-packages (from modin[all]) (6.0.1)\n",
            "Collecting modin-spreadsheet>=0.1.0\n",
            "  Downloading modin_spreadsheet-0.1.2-py2.py3-none-any.whl (1.8 MB)\n",
            "\u001b[K     |████████████████████████████████| 1.8 MB 38.0 MB/s \n",
            "\u001b[?25hRequirement already satisfied: python-dateutil>=2.7.3 in /usr/local/lib/python3.7/dist-packages (from pandas==1.3.5->modin[all]) (2.8.2)\n",
            "Requirement already satisfied: pytz>=2017.3 in /usr/local/lib/python3.7/dist-packages (from pandas==1.3.5->modin[all]) (2022.1)\n",
            "Collecting plumbum\n",
            "  Downloading plumbum-1.7.2-py2.py3-none-any.whl (117 kB)\n",
            "\u001b[K     |████████████████████████████████| 117 kB 63.9 MB/s \n",
            "\u001b[?25hCollecting pyyaml>=5.3.1\n",
            "  Downloading PyYAML-6.0-cp37-cp37m-manylinux_2_5_x86_64.manylinux1_x86_64.manylinux_2_12_x86_64.manylinux2010_x86_64.whl (596 kB)\n",
            "\u001b[K     |████████████████████████████████| 596 kB 39.8 MB/s \n",
            "\u001b[?25hCollecting partd>=0.3.10\n",
            "  Downloading partd-1.3.0-py3-none-any.whl (18 kB)\n",
            "Requirement already satisfied: toolz>=0.8.2 in /usr/local/lib/python3.7/dist-packages (from dask>=2.22.0->modin[all]) (0.12.0)\n",
            "Requirement already satisfied: msgpack>=0.6.0 in /usr/local/lib/python3.7/dist-packages (from distributed>=2.22.0->modin[all]) (1.0.4)\n",
            "Requirement already satisfied: tblib>=1.6.0 in /usr/local/lib/python3.7/dist-packages (from distributed>=2.22.0->modin[all]) (1.7.0)\n",
            "Requirement already satisfied: zict>=0.1.3 in /usr/local/lib/python3.7/dist-packages (from distributed>=2.22.0->modin[all]) (2.2.0)\n",
            "Requirement already satisfied: psutil>=5.0 in /usr/local/lib/python3.7/dist-packages (from distributed>=2.22.0->modin[all]) (5.4.8)\n",
            "Requirement already satisfied: click>=6.6 in /usr/local/lib/python3.7/dist-packages (from distributed>=2.22.0->modin[all]) (7.1.2)\n",
            "Requirement already satisfied: sortedcontainers!=2.0.0,!=2.0.1 in /usr/local/lib/python3.7/dist-packages (from distributed>=2.22.0->modin[all]) (2.4.0)\n",
            "Requirement already satisfied: tornado>=5 in /usr/local/lib/python3.7/dist-packages (from distributed>=2.22.0->modin[all]) (5.1.1)\n",
            "Requirement already satisfied: jinja2 in /usr/local/lib/python3.7/dist-packages (from distributed>=2.22.0->modin[all]) (2.11.3)\n",
            "Collecting cloudpickle\n",
            "  Downloading cloudpickle-2.1.0-py3-none-any.whl (25 kB)\n",
            "Requirement already satisfied: setuptools in /usr/local/lib/python3.7/dist-packages (from distributed>=2.22.0->modin[all]) (57.4.0)\n",
            "Requirement already satisfied: ipywidgets>=7.0.0 in /usr/local/lib/python3.7/dist-packages (from modin-spreadsheet>=0.1.0->modin[all]) (7.7.1)\n",
            "Collecting notebook>=6.0.3\n",
            "  Downloading notebook-6.4.12-py3-none-any.whl (9.9 MB)\n",
            "\u001b[K     |████████████████████████████████| 9.9 MB 23.0 MB/s \n",
            "\u001b[?25hRequirement already satisfied: jupyter>=1.0.0 in /usr/local/lib/python3.7/dist-packages (from modin-spreadsheet>=0.1.0->modin[all]) (1.0.0)\n",
            "Requirement already satisfied: ipython>=4.0.0 in /usr/local/lib/python3.7/dist-packages (from ipywidgets>=7.0.0->modin-spreadsheet>=0.1.0->modin[all]) (5.5.0)\n",
            "Requirement already satisfied: widgetsnbextension~=3.6.0 in /usr/local/lib/python3.7/dist-packages (from ipywidgets>=7.0.0->modin-spreadsheet>=0.1.0->modin[all]) (3.6.1)\n",
            "Requirement already satisfied: ipython-genutils~=0.2.0 in /usr/local/lib/python3.7/dist-packages (from ipywidgets>=7.0.0->modin-spreadsheet>=0.1.0->modin[all]) (0.2.0)\n",
            "Requirement already satisfied: traitlets>=4.3.1 in /usr/local/lib/python3.7/dist-packages (from ipywidgets>=7.0.0->modin-spreadsheet>=0.1.0->modin[all]) (5.1.1)\n",
            "Requirement already satisfied: jupyterlab-widgets>=1.0.0 in /usr/local/lib/python3.7/dist-packages (from ipywidgets>=7.0.0->modin-spreadsheet>=0.1.0->modin[all]) (1.1.1)\n",
            "Requirement already satisfied: ipykernel>=4.5.1 in /usr/local/lib/python3.7/dist-packages (from ipywidgets>=7.0.0->modin-spreadsheet>=0.1.0->modin[all]) (4.10.1)\n",
            "Requirement already satisfied: jupyter-client in /usr/local/lib/python3.7/dist-packages (from ipykernel>=4.5.1->ipywidgets>=7.0.0->modin-spreadsheet>=0.1.0->modin[all]) (5.3.5)\n",
            "Requirement already satisfied: prompt-toolkit<2.0.0,>=1.0.4 in /usr/local/lib/python3.7/dist-packages (from ipython>=4.0.0->ipywidgets>=7.0.0->modin-spreadsheet>=0.1.0->modin[all]) (1.0.18)\n",
            "Requirement already satisfied: pickleshare in /usr/local/lib/python3.7/dist-packages (from ipython>=4.0.0->ipywidgets>=7.0.0->modin-spreadsheet>=0.1.0->modin[all]) (0.7.5)\n",
            "Requirement already satisfied: pexpect in /usr/local/lib/python3.7/dist-packages (from ipython>=4.0.0->ipywidgets>=7.0.0->modin-spreadsheet>=0.1.0->modin[all]) (4.8.0)\n",
            "Requirement already satisfied: decorator in /usr/local/lib/python3.7/dist-packages (from ipython>=4.0.0->ipywidgets>=7.0.0->modin-spreadsheet>=0.1.0->modin[all]) (4.4.2)\n",
            "Requirement already satisfied: simplegeneric>0.8 in /usr/local/lib/python3.7/dist-packages (from ipython>=4.0.0->ipywidgets>=7.0.0->modin-spreadsheet>=0.1.0->modin[all]) (0.8.1)\n",
            "Requirement already satisfied: pygments in /usr/local/lib/python3.7/dist-packages (from ipython>=4.0.0->ipywidgets>=7.0.0->modin-spreadsheet>=0.1.0->modin[all]) (2.6.1)\n",
            "Requirement already satisfied: qtconsole in /usr/local/lib/python3.7/dist-packages (from jupyter>=1.0.0->modin-spreadsheet>=0.1.0->modin[all]) (5.3.1)\n",
            "Requirement already satisfied: jupyter-console in /usr/local/lib/python3.7/dist-packages (from jupyter>=1.0.0->modin-spreadsheet>=0.1.0->modin[all]) (5.2.0)\n",
            "Requirement already satisfied: nbconvert in /usr/local/lib/python3.7/dist-packages (from jupyter>=1.0.0->modin-spreadsheet>=0.1.0->modin[all]) (5.6.1)\n",
            "Requirement already satisfied: argon2-cffi in /usr/local/lib/python3.7/dist-packages (from notebook>=6.0.3->modin-spreadsheet>=0.1.0->modin[all]) (21.3.0)\n",
            "Requirement already satisfied: terminado>=0.8.3 in /usr/local/lib/python3.7/dist-packages (from notebook>=6.0.3->modin-spreadsheet>=0.1.0->modin[all]) (0.13.3)\n",
            "Requirement already satisfied: jupyter-core>=4.6.1 in /usr/local/lib/python3.7/dist-packages (from notebook>=6.0.3->modin-spreadsheet>=0.1.0->modin[all]) (4.11.1)\n",
            "Requirement already satisfied: Send2Trash>=1.8.0 in /usr/local/lib/python3.7/dist-packages (from notebook>=6.0.3->modin-spreadsheet>=0.1.0->modin[all]) (1.8.0)\n",
            "Requirement already satisfied: pyzmq>=17 in /usr/local/lib/python3.7/dist-packages (from notebook>=6.0.3->modin-spreadsheet>=0.1.0->modin[all]) (23.2.0)\n",
            "Requirement already satisfied: prometheus-client in /usr/local/lib/python3.7/dist-packages (from notebook>=6.0.3->modin-spreadsheet>=0.1.0->modin[all]) (0.14.1)\n",
            "Requirement already satisfied: nest-asyncio>=1.5 in /usr/local/lib/python3.7/dist-packages (from notebook>=6.0.3->modin-spreadsheet>=0.1.0->modin[all]) (1.5.5)\n",
            "Collecting tornado>=5\n",
            "  Downloading tornado-6.2-cp37-abi3-manylinux_2_5_x86_64.manylinux1_x86_64.manylinux_2_17_x86_64.manylinux2014_x86_64.whl (423 kB)\n",
            "\u001b[K     |████████████████████████████████| 423 kB 50.6 MB/s \n",
            "\u001b[?25hRequirement already satisfied: nbformat in /usr/local/lib/python3.7/dist-packages (from notebook>=6.0.3->modin-spreadsheet>=0.1.0->modin[all]) (5.4.0)\n",
            "Requirement already satisfied: bleach in /usr/local/lib/python3.7/dist-packages (from nbconvert->jupyter>=1.0.0->modin-spreadsheet>=0.1.0->modin[all]) (5.0.1)\n",
            "Requirement already satisfied: pandocfilters>=1.4.1 in /usr/local/lib/python3.7/dist-packages (from nbconvert->jupyter>=1.0.0->modin-spreadsheet>=0.1.0->modin[all]) (1.5.0)\n",
            "Requirement already satisfied: defusedxml in /usr/local/lib/python3.7/dist-packages (from nbconvert->jupyter>=1.0.0->modin-spreadsheet>=0.1.0->modin[all]) (0.7.1)\n",
            "Requirement already satisfied: mistune<2,>=0.8.1 in /usr/local/lib/python3.7/dist-packages (from nbconvert->jupyter>=1.0.0->modin-spreadsheet>=0.1.0->modin[all]) (0.8.4)\n",
            "Requirement already satisfied: entrypoints>=0.2.2 in /usr/local/lib/python3.7/dist-packages (from nbconvert->jupyter>=1.0.0->modin-spreadsheet>=0.1.0->modin[all]) (0.4)\n",
            "Requirement already satisfied: testpath in /usr/local/lib/python3.7/dist-packages (from nbconvert->jupyter>=1.0.0->modin-spreadsheet>=0.1.0->modin[all]) (0.6.0)\n",
            "Requirement already satisfied: MarkupSafe>=0.23 in /usr/local/lib/python3.7/dist-packages (from jinja2->distributed>=2.22.0->modin[all]) (2.0.1)\n",
            "Requirement already satisfied: fastjsonschema in /usr/local/lib/python3.7/dist-packages (from nbformat->notebook>=6.0.3->modin-spreadsheet>=0.1.0->modin[all]) (2.16.1)\n",
            "Requirement already satisfied: jsonschema>=2.6 in /usr/local/lib/python3.7/dist-packages (from nbformat->notebook>=6.0.3->modin-spreadsheet>=0.1.0->modin[all]) (4.3.3)\n",
            "Requirement already satisfied: importlib-resources>=1.4.0 in /usr/local/lib/python3.7/dist-packages (from jsonschema>=2.6->nbformat->notebook>=6.0.3->modin-spreadsheet>=0.1.0->modin[all]) (5.9.0)\n",
            "Requirement already satisfied: pyrsistent!=0.17.0,!=0.17.1,!=0.17.2,>=0.14.0 in /usr/local/lib/python3.7/dist-packages (from jsonschema>=2.6->nbformat->notebook>=6.0.3->modin-spreadsheet>=0.1.0->modin[all]) (0.18.1)\n",
            "Requirement already satisfied: attrs>=17.4.0 in /usr/local/lib/python3.7/dist-packages (from jsonschema>=2.6->nbformat->notebook>=6.0.3->modin-spreadsheet>=0.1.0->modin[all]) (22.1.0)\n",
            "Requirement already satisfied: importlib-metadata in /usr/local/lib/python3.7/dist-packages (from jsonschema>=2.6->nbformat->notebook>=6.0.3->modin-spreadsheet>=0.1.0->modin[all]) (4.12.0)\n",
            "Requirement already satisfied: typing-extensions in /usr/local/lib/python3.7/dist-packages (from jsonschema>=2.6->nbformat->notebook>=6.0.3->modin-spreadsheet>=0.1.0->modin[all]) (4.1.1)\n",
            "Requirement already satisfied: zipp>=3.1.0 in /usr/local/lib/python3.7/dist-packages (from importlib-resources>=1.4.0->jsonschema>=2.6->nbformat->notebook>=6.0.3->modin-spreadsheet>=0.1.0->modin[all]) (3.8.1)\n",
            "Requirement already satisfied: pyparsing!=3.0.5,>=2.0.2 in /usr/local/lib/python3.7/dist-packages (from packaging->modin[all]) (3.0.9)\n",
            "Collecting locket\n",
            "  Downloading locket-1.0.0-py2.py3-none-any.whl (4.4 kB)\n",
            "Requirement already satisfied: wcwidth in /usr/local/lib/python3.7/dist-packages (from prompt-toolkit<2.0.0,>=1.0.4->ipython>=4.0.0->ipywidgets>=7.0.0->modin-spreadsheet>=0.1.0->modin[all]) (0.2.5)\n",
            "Requirement already satisfied: six>=1.9.0 in /usr/local/lib/python3.7/dist-packages (from prompt-toolkit<2.0.0,>=1.0.4->ipython>=4.0.0->ipywidgets>=7.0.0->modin-spreadsheet>=0.1.0->modin[all]) (1.15.0)\n",
            "Requirement already satisfied: aiosignal in /usr/local/lib/python3.7/dist-packages (from ray[default]>=1.4.0->modin[all]) (1.2.0)\n",
            "Requirement already satisfied: protobuf<4.0.0,>=3.15.3 in /usr/local/lib/python3.7/dist-packages (from ray[default]>=1.4.0->modin[all]) (3.17.3)\n",
            "Requirement already satisfied: requests in /usr/local/lib/python3.7/dist-packages (from ray[default]>=1.4.0->modin[all]) (2.23.0)\n",
            "Collecting grpcio<=1.43.0,>=1.28.1\n",
            "  Downloading grpcio-1.43.0-cp37-cp37m-manylinux_2_17_x86_64.manylinux2014_x86_64.whl (4.1 MB)\n",
            "\u001b[K     |████████████████████████████████| 4.1 MB 29.1 MB/s \n",
            "\u001b[?25hCollecting virtualenv\n",
            "  Downloading virtualenv-20.16.3-py2.py3-none-any.whl (8.8 MB)\n",
            "\u001b[K     |████████████████████████████████| 8.8 MB 31.5 MB/s \n",
            "\u001b[?25hRequirement already satisfied: frozenlist in /usr/local/lib/python3.7/dist-packages (from ray[default]>=1.4.0->modin[all]) (1.3.0)\n",
            "Requirement already satisfied: filelock in /usr/local/lib/python3.7/dist-packages (from ray[default]>=1.4.0->modin[all]) (3.7.1)\n",
            "Collecting prometheus-client\n",
            "  Downloading prometheus_client-0.13.1-py3-none-any.whl (57 kB)\n",
            "\u001b[K     |████████████████████████████████| 57 kB 1.2 MB/s \n",
            "\u001b[?25hCollecting colorful\n",
            "  Downloading colorful-0.5.4-py2.py3-none-any.whl (201 kB)\n",
            "\u001b[K     |████████████████████████████████| 201 kB 43.1 MB/s \n",
            "\u001b[?25hCollecting py-spy>=0.2.0\n",
            "  Downloading py_spy-0.3.12-py2.py3-none-manylinux_2_5_x86_64.manylinux1_x86_64.whl (3.1 MB)\n",
            "\u001b[K     |████████████████████████████████| 3.1 MB 21.9 MB/s \n",
            "\u001b[?25hCollecting gpustat>=1.0.0b1\n",
            "  Downloading gpustat-1.0.0rc1.tar.gz (89 kB)\n",
            "\u001b[K     |████████████████████████████████| 89 kB 8.5 MB/s \n",
            "\u001b[?25hRequirement already satisfied: smart-open in /usr/local/lib/python3.7/dist-packages (from ray[default]>=1.4.0->modin[all]) (5.2.1)\n",
            "Collecting opencensus\n",
            "  Downloading opencensus-0.11.0-py2.py3-none-any.whl (128 kB)\n",
            "\u001b[K     |████████████████████████████████| 128 kB 40.0 MB/s \n",
            "\u001b[?25hCollecting aiohttp-cors\n",
            "  Downloading aiohttp_cors-0.7.0-py3-none-any.whl (27 kB)\n",
            "Requirement already satisfied: aiohttp>=3.7 in /usr/local/lib/python3.7/dist-packages (from ray[default]>=1.4.0->modin[all]) (3.8.1)\n",
            "Requirement already satisfied: async-timeout<5.0,>=4.0.0a3 in /usr/local/lib/python3.7/dist-packages (from aiohttp>=3.7->ray[default]>=1.4.0->modin[all]) (4.0.2)\n",
            "Requirement already satisfied: yarl<2.0,>=1.0 in /usr/local/lib/python3.7/dist-packages (from aiohttp>=3.7->ray[default]>=1.4.0->modin[all]) (1.8.1)\n",
            "Requirement already satisfied: charset-normalizer<3.0,>=2.0 in /usr/local/lib/python3.7/dist-packages (from aiohttp>=3.7->ray[default]>=1.4.0->modin[all]) (2.1.0)\n",
            "Requirement already satisfied: multidict<7.0,>=4.5 in /usr/local/lib/python3.7/dist-packages (from aiohttp>=3.7->ray[default]>=1.4.0->modin[all]) (6.0.2)\n",
            "Requirement already satisfied: asynctest==0.13.0 in /usr/local/lib/python3.7/dist-packages (from aiohttp>=3.7->ray[default]>=1.4.0->modin[all]) (0.13.0)\n",
            "Collecting nvidia-ml-py<=11.495.46,>=11.450.129\n",
            "  Downloading nvidia_ml_py-11.495.46-py3-none-any.whl (25 kB)\n",
            "Collecting psutil>=5.0\n",
            "  Downloading psutil-5.9.1-cp37-cp37m-manylinux_2_12_x86_64.manylinux2010_x86_64.manylinux_2_17_x86_64.manylinux2014_x86_64.whl (281 kB)\n",
            "\u001b[K     |████████████████████████████████| 281 kB 50.6 MB/s \n",
            "\u001b[?25hCollecting blessed>=1.17.1\n",
            "  Downloading blessed-1.19.1-py2.py3-none-any.whl (58 kB)\n",
            "\u001b[K     |████████████████████████████████| 58 kB 6.3 MB/s \n",
            "\u001b[?25hRequirement already satisfied: ptyprocess in /usr/local/lib/python3.7/dist-packages (from terminado>=0.8.3->notebook>=6.0.3->modin-spreadsheet>=0.1.0->modin[all]) (0.7.0)\n",
            "Requirement already satisfied: idna>=2.0 in /usr/local/lib/python3.7/dist-packages (from yarl<2.0,>=1.0->aiohttp>=3.7->ray[default]>=1.4.0->modin[all]) (2.10)\n",
            "Requirement already satisfied: heapdict in /usr/local/lib/python3.7/dist-packages (from zict>=0.1.3->distributed>=2.22.0->modin[all]) (1.0.1)\n",
            "Requirement already satisfied: argon2-cffi-bindings in /usr/local/lib/python3.7/dist-packages (from argon2-cffi->notebook>=6.0.3->modin-spreadsheet>=0.1.0->modin[all]) (21.2.0)\n",
            "Requirement already satisfied: cffi>=1.0.1 in /usr/local/lib/python3.7/dist-packages (from argon2-cffi-bindings->argon2-cffi->notebook>=6.0.3->modin-spreadsheet>=0.1.0->modin[all]) (1.15.1)\n",
            "Requirement already satisfied: pycparser in /usr/local/lib/python3.7/dist-packages (from cffi>=1.0.1->argon2-cffi-bindings->argon2-cffi->notebook>=6.0.3->modin-spreadsheet>=0.1.0->modin[all]) (2.21)\n",
            "Requirement already satisfied: webencodings in /usr/local/lib/python3.7/dist-packages (from bleach->nbconvert->jupyter>=1.0.0->modin-spreadsheet>=0.1.0->modin[all]) (0.5.1)\n",
            "Collecting jmespath<2.0.0,>=0.7.1\n",
            "  Downloading jmespath-1.0.1-py3-none-any.whl (20 kB)\n",
            "Collecting botocore<1.28.0,>=1.27.50\n",
            "  Downloading botocore-1.27.50-py3-none-any.whl (9.0 MB)\n",
            "\u001b[K     |████████████████████████████████| 9.0 MB 37.0 MB/s \n",
            "\u001b[?25hCollecting s3transfer<0.7.0,>=0.6.0\n",
            "  Downloading s3transfer-0.6.0-py3-none-any.whl (79 kB)\n",
            "\u001b[K     |████████████████████████████████| 79 kB 7.4 MB/s \n",
            "\u001b[?25hCollecting urllib3<1.27,>=1.25.4\n",
            "  Downloading urllib3-1.26.11-py2.py3-none-any.whl (139 kB)\n",
            "\u001b[K     |████████████████████████████████| 139 kB 45.8 MB/s \n",
            "\u001b[?25hCollecting opencensus-context>=0.1.3\n",
            "  Downloading opencensus_context-0.1.3-py2.py3-none-any.whl (5.1 kB)\n",
            "Requirement already satisfied: google-api-core<3.0.0,>=1.0.0 in /usr/local/lib/python3.7/dist-packages (from opencensus->ray[default]>=1.4.0->modin[all]) (1.31.6)\n",
            "Requirement already satisfied: google-auth<2.0dev,>=1.25.0 in /usr/local/lib/python3.7/dist-packages (from google-api-core<3.0.0,>=1.0.0->opencensus->ray[default]>=1.4.0->modin[all]) (1.35.0)\n",
            "Requirement already satisfied: googleapis-common-protos<2.0dev,>=1.6.0 in /usr/local/lib/python3.7/dist-packages (from google-api-core<3.0.0,>=1.0.0->opencensus->ray[default]>=1.4.0->modin[all]) (1.56.4)\n",
            "Requirement already satisfied: pyasn1-modules>=0.2.1 in /usr/local/lib/python3.7/dist-packages (from google-auth<2.0dev,>=1.25.0->google-api-core<3.0.0,>=1.0.0->opencensus->ray[default]>=1.4.0->modin[all]) (0.2.8)\n",
            "Requirement already satisfied: rsa<5,>=3.1.4 in /usr/local/lib/python3.7/dist-packages (from google-auth<2.0dev,>=1.25.0->google-api-core<3.0.0,>=1.0.0->opencensus->ray[default]>=1.4.0->modin[all]) (4.9)\n",
            "Requirement already satisfied: cachetools<5.0,>=2.0.0 in /usr/local/lib/python3.7/dist-packages (from google-auth<2.0dev,>=1.25.0->google-api-core<3.0.0,>=1.0.0->opencensus->ray[default]>=1.4.0->modin[all]) (4.2.4)\n",
            "Requirement already satisfied: pyasn1<0.5.0,>=0.4.6 in /usr/local/lib/python3.7/dist-packages (from pyasn1-modules>=0.2.1->google-auth<2.0dev,>=1.25.0->google-api-core<3.0.0,>=1.0.0->opencensus->ray[default]>=1.4.0->modin[all]) (0.4.8)\n",
            "Requirement already satisfied: chardet<4,>=3.0.2 in /usr/local/lib/python3.7/dist-packages (from requests->ray[default]>=1.4.0->modin[all]) (3.0.4)\n",
            "Collecting urllib3<1.27,>=1.25.4\n",
            "  Downloading urllib3-1.25.11-py2.py3-none-any.whl (127 kB)\n",
            "\u001b[K     |████████████████████████████████| 127 kB 54.2 MB/s \n",
            "\u001b[?25hRequirement already satisfied: certifi>=2017.4.17 in /usr/local/lib/python3.7/dist-packages (from requests->ray[default]>=1.4.0->modin[all]) (2022.6.15)\n",
            "Requirement already satisfied: qtpy>=2.0.1 in /usr/local/lib/python3.7/dist-packages (from qtconsole->jupyter>=1.0.0->modin-spreadsheet>=0.1.0->modin[all]) (2.1.0)\n",
            "Collecting distlib<1,>=0.3.5\n",
            "  Downloading distlib-0.3.5-py2.py3-none-any.whl (466 kB)\n",
            "\u001b[K     |████████████████████████████████| 466 kB 60.4 MB/s \n",
            "\u001b[?25hCollecting platformdirs<3,>=2.4\n",
            "  Downloading platformdirs-2.5.2-py3-none-any.whl (14 kB)\n",
            "Building wheels for collected packages: gpustat\n",
            "  Building wheel for gpustat (setup.py) ... \u001b[?25l\u001b[?25hdone\n",
            "  Created wheel for gpustat: filename=gpustat-1.0.0rc1-py3-none-any.whl size=18872 sha256=0f6ef3cf32ae4cbdd050fbdbe205dc84772e6023f20db3aeb8667ecec8819ba3\n",
            "  Stored in directory: /root/.cache/pip/wheels/85/85/03/7f87ed3a11307c5ad083829b59731788971a8411c265984409\n",
            "Successfully built gpustat\n",
            "Installing collected packages: tornado, prometheus-client, urllib3, notebook, platformdirs, locket, jmespath, distlib, virtualenv, pyyaml, psutil, partd, opencensus-context, nvidia-ml-py, grpcio, fsspec, cloudpickle, botocore, blessed, s3transfer, ray, py-spy, plumbum, opencensus, gpustat, dask, colorful, aiohttp-cors, rpyc, modin-spreadsheet, modin, distributed, boto3\n",
            "  Attempting uninstall: tornado\n",
            "    Found existing installation: tornado 5.1.1\n",
            "    Uninstalling tornado-5.1.1:\n",
            "      Successfully uninstalled tornado-5.1.1\n",
            "  Attempting uninstall: prometheus-client\n",
            "    Found existing installation: prometheus-client 0.14.1\n",
            "    Uninstalling prometheus-client-0.14.1:\n",
            "      Successfully uninstalled prometheus-client-0.14.1\n",
            "  Attempting uninstall: urllib3\n",
            "    Found existing installation: urllib3 1.24.3\n",
            "    Uninstalling urllib3-1.24.3:\n",
            "      Successfully uninstalled urllib3-1.24.3\n",
            "  Attempting uninstall: notebook\n",
            "    Found existing installation: notebook 5.3.1\n",
            "    Uninstalling notebook-5.3.1:\n",
            "      Successfully uninstalled notebook-5.3.1\n",
            "  Attempting uninstall: pyyaml\n",
            "    Found existing installation: PyYAML 3.13\n",
            "    Uninstalling PyYAML-3.13:\n",
            "      Successfully uninstalled PyYAML-3.13\n",
            "  Attempting uninstall: psutil\n",
            "    Found existing installation: psutil 5.4.8\n",
            "    Uninstalling psutil-5.4.8:\n",
            "      Successfully uninstalled psutil-5.4.8\n",
            "  Attempting uninstall: grpcio\n",
            "    Found existing installation: grpcio 1.47.0\n",
            "    Uninstalling grpcio-1.47.0:\n",
            "      Successfully uninstalled grpcio-1.47.0\n",
            "  Attempting uninstall: cloudpickle\n",
            "    Found existing installation: cloudpickle 1.3.0\n",
            "    Uninstalling cloudpickle-1.3.0:\n",
            "      Successfully uninstalled cloudpickle-1.3.0\n",
            "  Attempting uninstall: dask\n",
            "    Found existing installation: dask 2.12.0\n",
            "    Uninstalling dask-2.12.0:\n",
            "      Successfully uninstalled dask-2.12.0\n",
            "  Attempting uninstall: distributed\n",
            "    Found existing installation: distributed 1.25.3\n",
            "    Uninstalling distributed-1.25.3:\n",
            "      Successfully uninstalled distributed-1.25.3\n",
            "\u001b[31mERROR: pip's dependency resolver does not currently take into account all the packages that are installed. This behaviour is the source of the following dependency conflicts.\n",
            "gym 0.17.3 requires cloudpickle<1.7.0,>=1.2.0, but you have cloudpickle 2.1.0 which is incompatible.\n",
            "google-colab 1.0.0 requires notebook~=5.3.0, but you have notebook 6.4.12 which is incompatible.\n",
            "google-colab 1.0.0 requires tornado~=5.1.0, but you have tornado 6.2 which is incompatible.\u001b[0m\n",
            "Successfully installed aiohttp-cors-0.7.0 blessed-1.19.1 boto3-1.24.50 botocore-1.27.50 cloudpickle-2.1.0 colorful-0.5.4 dask-2022.2.0 distlib-0.3.5 distributed-2022.2.0 fsspec-2022.7.1 gpustat-1.0.0rc1 grpcio-1.43.0 jmespath-1.0.1 locket-1.0.0 modin-0.12.1 modin-spreadsheet-0.1.2 notebook-6.4.12 nvidia-ml-py-11.495.46 opencensus-0.11.0 opencensus-context-0.1.3 partd-1.3.0 platformdirs-2.5.2 plumbum-1.7.2 prometheus-client-0.13.1 psutil-5.9.1 py-spy-0.3.12 pyyaml-6.0 ray-1.13.0 rpyc-4.1.5 s3transfer-0.6.0 tornado-6.2 urllib3-1.25.11 virtualenv-20.16.3\n"
          ]
        },
        {
          "output_type": "display_data",
          "data": {
            "application/vnd.colab-display-data+json": {
              "pip_warning": {
                "packages": [
                  "cloudpickle",
                  "psutil",
                  "tornado"
                ]
              }
            }
          },
          "metadata": {}
        }
      ]
    },
    {
      "cell_type": "code",
      "execution_count": null,
      "metadata": {
        "id": "FNAkB-axyuqw",
        "colab": {
          "base_uri": "https://localhost:8080/"
        },
        "outputId": "2934b37a-b6d3-4ad7-a07a-57d0b56e45f0"
      },
      "outputs": [
        {
          "output_type": "stream",
          "name": "stdout",
          "text": [
            "Mounted at /content/drive\n"
          ]
        }
      ],
      "source": [
        "from google.colab import drive\n",
        "drive.mount(\"/content/drive\")"
      ]
    },
    {
      "cell_type": "code",
      "source": [
        "import modin.pandas as mpd\n",
        "import pandas as pd\n",
        " \n",
        "import time\n",
        "import ray\n",
        "ray.init() # 병렬처리를 위한 클러스터 구축"
      ],
      "metadata": {
        "id": "ajdcJACt9CQe",
        "colab": {
          "base_uri": "https://localhost:8080/"
        },
        "outputId": "c6b2f512-b18b-4439-ef78-0ead3dfc1b94"
      },
      "execution_count": null,
      "outputs": [
        {
          "output_type": "stream",
          "name": "stderr",
          "text": [
            "2022-08-12 08:11:31,068\tINFO services.py:1476 -- View the Ray dashboard at \u001b[1m\u001b[32mhttp://127.0.0.1:8265\u001b[39m\u001b[22m\n"
          ]
        },
        {
          "output_type": "execute_result",
          "data": {
            "text/plain": [
              "RayContext(dashboard_url='127.0.0.1:8265', python_version='3.7.13', ray_version='1.13.0', ray_commit='e4ce38d001dbbe09cd21c497fedd03d692b2be3e', address_info={'node_ip_address': '172.28.0.2', 'raylet_ip_address': '172.28.0.2', 'redis_address': None, 'object_store_address': '/tmp/ray/session_2022-08-12_08-11-28_426514_83/sockets/plasma_store', 'raylet_socket_name': '/tmp/ray/session_2022-08-12_08-11-28_426514_83/sockets/raylet', 'webui_url': '127.0.0.1:8265', 'session_dir': '/tmp/ray/session_2022-08-12_08-11-28_426514_83', 'metrics_export_port': 56922, 'gcs_address': '172.28.0.2:60700', 'address': '172.28.0.2:60700', 'node_id': 'f636be22c93fe00fe793f0b609eca63ff757a4d0cdef64e0db5ce6d0'})"
            ]
          },
          "metadata": {},
          "execution_count": 6
        }
      ]
    },
    {
      "cell_type": "markdown",
      "source": [
        "# 데이터 불러오기"
      ],
      "metadata": {
        "id": "IECCEdMvL8mq"
      }
    },
    {
      "cell_type": "code",
      "source": [
        "# 구글 드라이브와 연동하여 데이터 위치 경로 설정\n",
        "path = \"/content/drive/MyDrive/AIFactory/Data/LPOINT_BIG_COMP/\""
      ],
      "metadata": {
        "id": "0GaUjrJvzCsQ"
      },
      "execution_count": null,
      "outputs": []
    },
    {
      "cell_type": "code",
      "source": [
        "DEMO = mpd.read_csv(path+\"/LPOINT_BIG_COMP_01_DEMO.csv\", encoding=\"utf-8\")\n",
        "PDDE = mpd.read_csv(path+\"/LPOINT_BIG_COMP_02_PDDE.csv\", encoding=\"utf-8\")\n",
        "COP_U = mpd.read_csv(path+\"/LPOINT_BIG_COMP_03_COP_U.csv\", encoding=\"utf-8\")\n",
        "PD_CLAC = mpd.read_csv(path+\"/LPOINT_BIG_COMP_04_PD_CLAC.csv\", encoding=\"utf-8\")\n",
        "BR = mpd.read_csv(path+\"/LPOINT_BIG_COMP_05_BR.csv\", encoding=\"utf-8\")\n",
        "LPAY = mpd.read_csv(path+\"/LPOINT_BIG_COMP_06_LPAY.csv\", encoding=\"utf-8\")"
      ],
      "metadata": {
        "id": "aIqbJPwJzCvz"
      },
      "execution_count": null,
      "outputs": []
    },
    {
      "cell_type": "code",
      "source": [
        "PDDE['chnl_dv'].value_counts()"
      ],
      "metadata": {
        "colab": {
          "base_uri": "https://localhost:8080/"
        },
        "id": "Q5RTq8vow6VT",
        "outputId": "0b9f7aa7-7994-4066-a4ef-6ed3adc4740a"
      },
      "execution_count": null,
      "outputs": [
        {
          "output_type": "execute_result",
          "data": {
            "text/plain": [
              "1    3953242\n",
              "2     428501\n",
              "Name: chnl_dv, dtype: int64"
            ]
          },
          "metadata": {},
          "execution_count": 9
        }
      ]
    },
    {
      "cell_type": "code",
      "source": [
        "BR.columns = ['br_c', 'cop_c', 'br_zon_hlv', 'br_zon_mcls']\n",
        "\n",
        "# 데이터 테이블끼리 조인.\n",
        "pdde_cust = mpd.merge(PDDE, DEMO, on=['cust'])\n",
        "pdde_cust = mpd.merge(pdde_cust, PD_CLAC, on=['pd_c'], how='left')\n",
        "pdde_cust = mpd.merge(pdde_cust, BR, on=['br_c', 'cop_c'], how='left')\n",
        "\n",
        "pdde_col = [\n",
        "            \"cust\", \"ma_fem_dv\", \"ages\", \"zon_hlv\", # 고객 정보 (누가)\n",
        "            \"de_dt\", \"de_hr\", # 시간 정보 (언제)\n",
        "            \"chnl_dv\", \"br_zon_hlv\", \"br_zon_mcls\", \"cop_c\", \"br_c\", # 점포 정보 (어디서)\n",
        "            \"clac_hlv_nm\", \"clac_mcls_nm\", \"pd_nm\", \"pd_c\", # 상품 정보 (무엇을)\n",
        "            \"buy_ct\", \"buy_am\",  # 구매 정보 (어떻게)\n",
        "            \"rct_no\"\n",
        "            ]\n",
        "            \n",
        "pdde_cust = pdde_cust.loc[:, pdde_col]\n",
        "\n",
        "\n",
        "copu_cust = mpd.merge(COP_U, DEMO, on=['cust'])\n",
        "copu_cust = mpd.merge(copu_cust, BR, on=['br_c', 'cop_c'], how='left')\n",
        "\n",
        "copu_col = [\n",
        "            \"cust\", \"ma_fem_dv\", \"ages\", \"zon_hlv\", # 고객 정보 (누가)\n",
        "            \"de_dt\", \"de_hr\", # 시간 정보 (언제)\n",
        "            \"chnl_dv\", \"br_zon_hlv\", \"br_zon_mcls\", \"cop_c\", \"br_c\", # 점포 정보 (어디서)\n",
        "            \"vst_dt\",  # 상품 정보 (무엇을) : 방문일자는 상품 정보에 해당. copu의 경우 점포 정보 또한 상품 정보에 해당\n",
        "            \"buy_am\",  # 구매 정보 (어떻게)\n",
        "            ] # 영수증 번호는 제외\n",
        "\n",
        "copu_cust = copu_cust.loc[:, copu_col]\n",
        "\n",
        "\n",
        "lpay_cust = mpd.merge(LPAY, DEMO, on=['cust'])\n",
        "\n",
        "lpay_col = [\n",
        "            \"cust\", \"ma_fem_dv\", \"ages\", \"zon_hlv\", # 고객 정보 (누가)\n",
        "            \"de_dt\", \"de_hr\", # 시간 정보 (언제)\n",
        "            \"chnl_dv\", \"cop_c\", # LPAY 제휴 이용 정보 (어디서)\n",
        "            # 상품 정보 (무엇을) : 존재하지 않음\n",
        "            \"buy_am\",  # 구매 정보 (어떻게)\n",
        "            ] # 영수증 번호는 제외\n",
        "\n",
        "lpay_cust = lpay_cust.loc[:, lpay_col]\n",
        "\n",
        "\n",
        "pdde_cust.to_csv(path+\"/LPOINT_BIG_COMP_PDDE_CUST.csv\", encoding=\"utf-8\") # 장바구니\n",
        "copu_cust.to_csv(path+\"/LPOINT_BIG_COMP_COPU_CUST.csv\", encoding=\"utf-8\")\n",
        "lpay_cust.to_csv(path+\"/LPOINT_BIG_COMP_LPAY_CUST.csv\", encoding=\"utf-8\")"
      ],
      "metadata": {
        "id": "12vVYR_w-lz8"
      },
      "execution_count": null,
      "outputs": []
    },
    {
      "cell_type": "markdown",
      "source": [
        "# EDA 2"
      ],
      "metadata": {
        "id": "mg1z-cklOC6Q"
      }
    },
    {
      "cell_type": "code",
      "source": [
        "# pdde 사용자 파이차트\n",
        "cust_counts = pdde_cust.drop_duplicates(\"cust\").groupby(\"ages\").cust.count()\n",
        "cust_counts.index = [f\"{i}0s\" for i in range(2,8)]\n",
        "plt.rc('font', size=14)\n",
        "cust_counts.plot(kind='pie', y='ages',\n",
        "                 autopct='%.1f%%', explode=[.03, .01, .01, .03, .2, .2],\n",
        "                 legend='ages', \n",
        "                 figsize=(10,10))\n",
        "plt.title(\"PDDE Count\")"
      ],
      "metadata": {
        "id": "oGsoCBsUOEeP",
        "outputId": "9e9388ee-8798-44fb-c3c5-1a1592f4a2b6",
        "colab": {
          "base_uri": "https://localhost:8080/",
          "height": 612
        }
      },
      "execution_count": 36,
      "outputs": [
        {
          "output_type": "execute_result",
          "data": {
            "text/plain": [
              "Text(0.5, 1.0, 'PDDE Count')"
            ]
          },
          "metadata": {},
          "execution_count": 36
        },
        {
          "output_type": "display_data",
          "data": {
            "text/plain": [
              "<Figure size 720x720 with 1 Axes>"
            ],
            "image/png": "[encoded data removed]"
          },
          "metadata": {}
        }
      ]
    },
    {
      "cell_type": "code",
      "source": [
        "# lpay 사용자 파이차트\n",
        "cust_counts = lpay_cust.drop_duplicates(\"cust\").groupby(\"ages\").cust.count()\n",
        "cust_counts.index = [f\"{i}0s\" for i in range(2,8)]\n",
        "plt.rc('font', size=14)\n",
        "cust_counts.plot(kind='pie', y='ages',\n",
        "                 autopct='%.1f%%', explode=[.03, .01, .01, .03, .2, .2],\n",
        "                 legend='ages', \n",
        "                 figsize=(10,10))\n",
        "plt.title(\"Lpay Count\")"
      ],
      "metadata": {
        "id": "kvJodarHOFz4",
        "outputId": "70f511a1-2aea-46cd-d93b-d789b8d2f54b",
        "colab": {
          "base_uri": "https://localhost:8080/",
          "height": 612
        }
      },
      "execution_count": 37,
      "outputs": [
        {
          "output_type": "execute_result",
          "data": {
            "text/plain": [
              "Text(0.5, 1.0, 'Lpay Count')"
            ]
          },
          "metadata": {},
          "execution_count": 37
        },
        {
          "output_type": "display_data",
          "data": {
            "text/plain": [
              "<Figure size 720x720 with 1 Axes>"
            ],
            "image/png": "[encoded data removed]"
          },
          "metadata": {}
        }
      ]
    },
    {
      "cell_type": "code",
      "source": [
        "# pdde 사용량 파이차트\n",
        "cust_counts = pdde_cust.drop_duplicates(\"rct_no\").groupby(\"ages\").cust.count()\n",
        "cust_counts.index = [f\"{i}0s\" for i in range(2,8)]\n",
        "plt.rc('font', size=14)\n",
        "cust_counts.plot(kind='pie', y='ages',\n",
        "                 autopct='%.1f%%', explode=[.03, .01, .01, .03, .2, .2],\n",
        "                 legend='ages', \n",
        "                 figsize=(12,12))\n",
        "plt.title(\"PDDE Count\")"
      ],
      "metadata": {
        "id": "9LnPCMyHOFw4",
        "outputId": "52af63c6-560a-420a-b03a-1aae6a324cdd",
        "colab": {
          "base_uri": "https://localhost:8080/",
          "height": 721
        }
      },
      "execution_count": 38,
      "outputs": [
        {
          "output_type": "execute_result",
          "data": {
            "text/plain": [
              "Text(0.5, 1.0, 'PDDE Count')"
            ]
          },
          "metadata": {},
          "execution_count": 38
        },
        {
          "output_type": "display_data",
          "data": {
            "text/plain": [
              "<Figure size 864x864 with 1 Axes>"
            ],
            "image/png": "[encoded data removed]"
          },
          "metadata": {}
        }
      ]
    },
    {
      "cell_type": "code",
      "source": [
        "# LPAY 사용량 파이차트\n",
        "cust_counts = lpay_cust.groupby(\"ages\").cust.count()\n",
        "cust_counts.index = [f\"{i}0s\" for i in range(2,8)]\n",
        "plt.rc('font', size=14)\n",
        "cust_counts.plot(kind='pie', y='ages',\n",
        "                 autopct='%.1f%%', explode=[.03, .01, .01, .03, .2, .2],\n",
        "                 legend='ages', \n",
        "                 figsize=(10,10))\n",
        "plt.title(\"Lpay Count\")"
      ],
      "metadata": {
        "id": "8dW2XHWQOFuB",
        "outputId": "5019fcc3-3af3-4ffd-fb72-91c0588ba7c9",
        "colab": {
          "base_uri": "https://localhost:8080/",
          "height": 612
        }
      },
      "execution_count": 39,
      "outputs": [
        {
          "output_type": "execute_result",
          "data": {
            "text/plain": [
              "Text(0.5, 1.0, 'Lpay Count')"
            ]
          },
          "metadata": {},
          "execution_count": 39
        },
        {
          "output_type": "display_data",
          "data": {
            "text/plain": [
              "<Figure size 720x720 with 1 Axes>"
            ],
            "image/png": "[encoded data removed]"
          },
          "metadata": {}
        }
      ]
    },
    {
      "cell_type": "code",
      "source": [
        "# pdde 남녀 사용자 파이차트\n",
        "cust_counts = pdde_cust.drop_duplicates(\"cust\").groupby(\"ma_fem_dv\").cust.count()\n",
        "cust_counts.index = [\"M\", \"F\"]\n",
        "plt.rc('font', size=14)\n",
        "cust_counts.plot(kind='pie', y='ages',\n",
        "                 autopct='%.1f%%',\n",
        "                 legend='ages', \n",
        "                 figsize=(10,10))\n",
        "plt.title(\"PDDE Count\")"
      ],
      "metadata": {
        "id": "q7vU2hmiOFrp",
        "outputId": "f893994c-ae5f-402b-b7fa-0de663515def",
        "colab": {
          "base_uri": "https://localhost:8080/",
          "height": 612
        }
      },
      "execution_count": 40,
      "outputs": [
        {
          "output_type": "execute_result",
          "data": {
            "text/plain": [
              "Text(0.5, 1.0, 'PDDE Count')"
            ]
          },
          "metadata": {},
          "execution_count": 40
        },
        {
          "output_type": "display_data",
          "data": {
            "text/plain": [
              "<Figure size 720x720 with 1 Axes>"
            ],
            "image/png": "[encoded data removed]"
          },
          "metadata": {}
        }
      ]
    },
    {
      "cell_type": "code",
      "source": [
        "# lpay 남녀 사용자 파이차트\n",
        "cust_counts = lpay_cust.drop_duplicates(\"cust\").groupby(\"ma_fem_dv\").cust.count()\n",
        "cust_counts.index = [\"M\", \"F\"]\n",
        "plt.rc('font', size=14)\n",
        "cust_counts.plot(kind='pie', y='ages',\n",
        "                 autopct='%.1f%%',\n",
        "                 legend='ages', \n",
        "                 figsize=(10,10))\n",
        "plt.title(\"Lpay Count\")"
      ],
      "metadata": {
        "id": "jZhqlsgTOFpH",
        "outputId": "35955662-446a-4909-923a-5db137120c7f",
        "colab": {
          "base_uri": "https://localhost:8080/",
          "height": 612
        }
      },
      "execution_count": 41,
      "outputs": [
        {
          "output_type": "execute_result",
          "data": {
            "text/plain": [
              "Text(0.5, 1.0, 'Lpay Count')"
            ]
          },
          "metadata": {},
          "execution_count": 41
        },
        {
          "output_type": "display_data",
          "data": {
            "text/plain": [
              "<Figure size 720x720 with 1 Axes>"
            ],
            "image/png": "[encoded data removed]"
          },
          "metadata": {}
        }
      ]
    },
    {
      "cell_type": "code",
      "source": [
        "# pdde 남녀 사용량 파이차트\n",
        "cust_counts = pdde_cust.drop_duplicates(\"rct_no\").groupby(\"ma_fem_dv\").cust.count()\n",
        "cust_counts.index = [\"M\", \"F\"]\n",
        "plt.rc('font', size=14)\n",
        "cust_counts.plot(kind='pie', y='ages',\n",
        "                 autopct='%.1f%%',\n",
        "                 legend='ages', \n",
        "                 figsize=(10,10))\n",
        "plt.title(\"PDDE Count\")"
      ],
      "metadata": {
        "id": "xN5-CF1VOFmg",
        "outputId": "af048ca9-259d-4c9b-e100-3bb4445a7252",
        "colab": {
          "base_uri": "https://localhost:8080/",
          "height": 612
        }
      },
      "execution_count": 42,
      "outputs": [
        {
          "output_type": "execute_result",
          "data": {
            "text/plain": [
              "Text(0.5, 1.0, 'PDDE Count')"
            ]
          },
          "metadata": {},
          "execution_count": 42
        },
        {
          "output_type": "display_data",
          "data": {
            "text/plain": [
              "<Figure size 720x720 with 1 Axes>"
            ],
            "image/png": "[encoded data removed]"
          },
          "metadata": {}
        }
      ]
    },
    {
      "cell_type": "code",
      "source": [
        "# lpay 남녀 사용량 파이차트\n",
        "cust_counts = lpay_cust.groupby(\"ma_fem_dv\").cust.count()\n",
        "cust_counts.index = [\"M\", \"F\"]\n",
        "plt.rc('font', size=14)\n",
        "cust_counts.plot(kind='pie', y='ages',\n",
        "                 autopct='%.1f%%',\n",
        "                 legend='ages', \n",
        "                 figsize=(10,10))\n",
        "plt.title(\"Lpay Count\")"
      ],
      "metadata": {
        "id": "FVXXexyQOFjp",
        "outputId": "4c9b6671-6870-4cbd-c5d5-0b59ec17b9b2",
        "colab": {
          "base_uri": "https://localhost:8080/",
          "height": 612
        }
      },
      "execution_count": 43,
      "outputs": [
        {
          "output_type": "execute_result",
          "data": {
            "text/plain": [
              "Text(0.5, 1.0, 'Lpay Count')"
            ]
          },
          "metadata": {},
          "execution_count": 43
        },
        {
          "output_type": "display_data",
          "data": {
            "text/plain": [
              "<Figure size 720x720 with 1 Axes>"
            ],
            "image/png": "[encoded data removed]"
          },
          "metadata": {}
        }
      ]
    },
    {
      "cell_type": "markdown",
      "source": [
        "# EDA"
      ],
      "metadata": {
        "id": "NQjalV4uceLd"
      }
    },
    {
      "cell_type": "code",
      "source": [
        "# 지역별 Lpay 사용 비율\n",
        "tem = pd.DataFrame({'values' : pdde_cust.groupby(['br_zon_hlv']).buy_am.sum()})\n",
        "tem2 = pd.DataFrame({'values' : lpay_cust.groupby(['zon_hlv']).buy_am.sum()})\n",
        "tem['values'] = tem2['values'] / tem['values']\n",
        "tem['br_zon_hlv'] = np.array([i for i in range(17)])\n",
        "\n",
        "plt.figure(figsize=[12,8])\n",
        "sns.barplot(x='br_zon_hlv', y='values', data=tem)\n",
        "plt.title('purchasing devide Lpay purchasing By Region', fontsize=25, color='#189AB4')\n",
        "plt.legend(fontsize=12)\n",
        "plt.show()"
      ],
      "metadata": {
        "colab": {
          "base_uri": "https://localhost:8080/",
          "height": 542
        },
        "id": "cRdNbrxB-wVd",
        "outputId": "72ca915d-03f2-446e-b72d-46135419bbaa"
      },
      "execution_count": null,
      "outputs": [
        {
          "output_type": "stream",
          "name": "stderr",
          "text": [
            "WARNING:matplotlib.legend:No handles with labels found to put in legend.\n"
          ]
        },
        {
          "output_type": "display_data",
          "data": {
            "text/plain": [
              "<Figure size 864x576 with 1 Axes>"
            ],
            "image/png": "[encoded data removed]"
          },
          "metadata": {
            "needs_background": "light"
          }
        }
      ]
    },
    {
      "cell_type": "code",
      "source": [
        "# 연령대별 구매 총 금액\n",
        "plt.figure(figsize=[12,8])\n",
        "plt.text(s=\"purchasing power\",x=0,y=1.3, va='bottom',ha='center',color='#189AB4',fontsize=25)\n",
        "plt.pie(pdde_cust['buy_am'].groupby(pdde_cust['ages']).sum(), autopct='%1.1f%%', pctdistance=1.1)\n",
        "plt.legend(['20s', '30s', '40s', '50s', '60s', '70s'], loc = \"upper right\",title=\"Ages\", prop={'size': 15})\n",
        "plt.show()"
      ],
      "metadata": {
        "colab": {
          "base_uri": "https://localhost:8080/",
          "height": 498
        },
        "id": "1Wh5cIb7bi22",
        "outputId": "66a24bfa-20b7-4dc1-be31-db30db6776df"
      },
      "execution_count": null,
      "outputs": [
        {
          "output_type": "display_data",
          "data": {
            "text/plain": [
              "<Figure size 864x576 with 1 Axes>"
            ],
            "image/png": "[encoded data removed]"
          },
          "metadata": {}
        }
      ]
    },
    {
      "cell_type": "code",
      "source": [
        "# 성별에 따른 구매 총 금액\n",
        "plt.figure(figsize=[12,8])\n",
        "plt.text(s=\"purchasing power\",x=0,y=1.3, va='bottom',ha='center',color='#189AB4',fontsize=25)\n",
        "plt.pie(pdde_cust['buy_am'].groupby(pdde_cust['ma_fem_dv']).sum(), autopct='%1.1f%%', pctdistance=1.1)\n",
        "plt.legend(['Man', 'Woman'], loc = \"upper right\",title=\"Ages\", prop={'size': 15})\n",
        "plt.show()"
      ],
      "metadata": {
        "colab": {
          "base_uri": "https://localhost:8080/",
          "height": 498
        },
        "id": "XZ7uwKqKonXa",
        "outputId": "0ebd6645-70b2-46d8-e506-1ec4d00fd532"
      },
      "execution_count": null,
      "outputs": [
        {
          "output_type": "display_data",
          "data": {
            "text/plain": [
              "<Figure size 864x576 with 1 Axes>"
            ],
            "image/png": "[encoded data removed]"
          },
          "metadata": {}
        }
      ]
    },
    {
      "cell_type": "code",
      "source": [
        "# 성별/연령대 별 구매 총 금액\n",
        "tem = pd.DataFrame({'values' : pdde_cust.groupby(['ma_fem_dv', 'ages']).buy_am.sum()})\n",
        "tem['ma_fem_dv'] = np.array(['M'] * 6 + ['W'] * 6)\n",
        "tem['ages'] = np.array(['20s', '30s', '40s', '50s', '60s', '70s'] * 2)\n",
        "\n",
        "plt.figure(figsize=[12,8])\n",
        "sns.barplot(x='ages', y='values', hue='ma_fem_dv', data=tem)\n",
        "plt.title('purchasing power', fontsize=25, color='#189AB4')\n",
        "plt.legend(fontsize=12)\n",
        "plt.show()"
      ],
      "metadata": {
        "colab": {
          "base_uri": "https://localhost:8080/",
          "height": 522
        },
        "id": "Kb3KqVnljjCg",
        "outputId": "2a852fa7-74f4-4ae8-8e2c-a94df42def2b"
      },
      "execution_count": null,
      "outputs": [
        {
          "output_type": "display_data",
          "data": {
            "text/plain": [
              "<Figure size 864x576 with 1 Axes>"
            ],
            "image/png": "[encoded data removed]"
          },
          "metadata": {
            "needs_background": "light"
          }
        }
      ]
    },
    {
      "cell_type": "code",
      "source": [
        "# 성별/연령대 별 상품 당 금액 소비량\n",
        "tem = pd.DataFrame({'values' : pdde_cust.groupby(['ma_fem_dv', 'ages']).buy_am.mean()})\n",
        "tem['ma_fem_dv'] = np.array(['M'] * 6 + ['W'] * 6)\n",
        "tem['ages'] = np.array(['20s', '30s', '40s', '50s', '60s', '70s'] * 2)\n",
        "\n",
        "plt.figure(figsize=[12,8])\n",
        "sns.barplot(x='ages', y='values', hue='ma_fem_dv', data=tem) \n",
        "plt.title('purchasing power of a product unit', fontsize=25, color='#189AB4')\n",
        "plt.legend(fontsize=12)\n",
        "plt.show()"
      ],
      "metadata": {
        "colab": {
          "base_uri": "https://localhost:8080/",
          "height": 522
        },
        "id": "Vdfa53OBn7j5",
        "outputId": "54e15056-b692-4b12-d0ae-d549760ad798"
      },
      "execution_count": null,
      "outputs": [
        {
          "output_type": "display_data",
          "data": {
            "text/plain": [
              "<Figure size 864x576 with 1 Axes>"
            ],
            "image/png": "[encoded data removed]"
          },
          "metadata": {
            "needs_background": "light"
          }
        }
      ]
    },
    {
      "cell_type": "code",
      "source": [
        "# 연령대별 상품 구매 개수\n",
        "plt.figure(figsize=[12,8])\n",
        "plt.text(s=\"PDDE Count\",x=0,y=1.3, va='bottom',ha='center',color='#189AB4',fontsize=25)\n",
        "plt.pie(pdde_cust['ages'].value_counts(), autopct='%1.1f%%', pctdistance=1.1)\n",
        "plt.legend(['40s', '30s', '50s', '60s', '20s', '70s'], loc = \"upper right\",title=\"Ages\", prop={'size': 15})\n",
        "plt.show()"
      ],
      "metadata": {
        "colab": {
          "base_uri": "https://localhost:8080/",
          "height": 498
        },
        "id": "ZqCm_ZBdbuuV",
        "outputId": "646d8db6-f213-417e-8344-dba4b1070e07"
      },
      "execution_count": null,
      "outputs": [
        {
          "output_type": "display_data",
          "data": {
            "text/plain": [
              "<Figure size 864x576 with 1 Axes>"
            ],
            "image/png": "[encoded data removed]"
          },
          "metadata": {}
        }
      ]
    },
    {
      "cell_type": "code",
      "source": [
        "# 연령대별 Lpay 상품 구매 개수\n",
        "plt.figure(figsize=[12,8])\n",
        "plt.text(s=\"Lpay Count\",x=0,y=1.3, va='bottom',ha='center',color='#189AB4',fontsize=25)\n",
        "plt.pie(lpay_cust['ages'].value_counts(), autopct='%1.1f%%', pctdistance=1.1)\n",
        "plt.legend(['40s', '30s', '50s', '20s', '60s', '70s'], loc = \"upper right\",title=\"Ages\", prop={'size': 15})\n",
        "plt.show()"
      ],
      "metadata": {
        "colab": {
          "base_uri": "https://localhost:8080/",
          "height": 498
        },
        "id": "HFTZJZhRcX06",
        "outputId": "dea66559-5bbe-415a-bf0c-47a446e02117"
      },
      "execution_count": null,
      "outputs": [
        {
          "output_type": "display_data",
          "data": {
            "text/plain": [
              "<Figure size 864x576 with 1 Axes>"
            ],
            "image/png": "[encoded data removed]"
          },
          "metadata": {}
        }
      ]
    },
    {
      "cell_type": "code",
      "source": [
        "# 성별에 따른 상품 구매 개수\n",
        "plt.figure(figsize=[12,8])\n",
        "plt.text(s=\"PDDE Count\",x=0,y=1.3, va='bottom',ha='center',color='#189AB4',fontsize=25)\n",
        "plt.pie(pdde_cust['ma_fem_dv'].value_counts(),autopct='%1.1f%%', pctdistance=1.1, colors = ['orange', 'blue'])\n",
        "plt.legend(['Woman', 'Man'], loc = \"upper right\",title=\"Sex\", prop={'size': 15})\n",
        "plt.show()"
      ],
      "metadata": {
        "colab": {
          "base_uri": "https://localhost:8080/",
          "height": 498
        },
        "id": "8i2EAAe1Z-NH",
        "outputId": "974b8ec7-b02c-4f9c-fe5c-4a13fd4cd6e2"
      },
      "execution_count": null,
      "outputs": [
        {
          "output_type": "display_data",
          "data": {
            "text/plain": [
              "<Figure size 864x576 with 1 Axes>"
            ],
            "image/png": "[encoded data removed]"
          },
          "metadata": {}
        }
      ]
    },
    {
      "cell_type": "code",
      "source": [
        "# Lpay 상품 구매 개수\n",
        "plt.figure(figsize=[12,8])\n",
        "plt.text(s=\"Lpay Count\",x=0,y=1.3, va='bottom',ha='center',color='#189AB4',fontsize=25)\n",
        "plt.pie(lpay_cust['ma_fem_dv'].value_counts(),autopct='%1.1f%%', pctdistance=1.1, colors = ['orange', 'blue'])\n",
        "plt.legend(['Woman', 'Man'], loc = \"upper right\",title=\"Sex\", prop={'size': 15})\n",
        "plt.show()"
      ],
      "metadata": {
        "colab": {
          "base_uri": "https://localhost:8080/",
          "height": 498
        },
        "id": "EixrpqEfbF06",
        "outputId": "bc744327-4350-458c-d23b-5eb8ec4e9515"
      },
      "execution_count": null,
      "outputs": [
        {
          "output_type": "display_data",
          "data": {
            "text/plain": [
              "<Figure size 864x576 with 1 Axes>"
            ],
            "image/png": "[encoded data removed]"
          },
          "metadata": {}
        }
      ]
    },
    {
      "cell_type": "code",
      "source": [
        "# 성별/연령대별 상품 구매 개수\n",
        "tem = pd.DataFrame({'values' : pdde_cust.groupby(['ma_fem_dv', 'ages']).buy_am.count()})\n",
        "tem['ma_fem_dv'] = np.array(['M'] * 6 + ['W'] * 6)\n",
        "tem['ages'] = np.array(['20s', '30s', '40s', '50s', '60s', '70s'] * 2)\n",
        "\n",
        "plt.figure(figsize=[12,8])\n",
        "sns.barplot(x='ages', y='values', hue='ma_fem_dv', data=tem) \n",
        "plt.title('PDDE Count', fontsize=25, color='#189AB4')\n",
        "plt.legend(fontsize=12)\n",
        "plt.show()"
      ],
      "metadata": {
        "colab": {
          "base_uri": "https://localhost:8080/",
          "height": 522
        },
        "id": "2lFHwAK1p90R",
        "outputId": "cb717537-b7be-4ffd-853a-4627e4079eae"
      },
      "execution_count": null,
      "outputs": [
        {
          "output_type": "display_data",
          "data": {
            "text/plain": [
              "<Figure size 864x576 with 1 Axes>"
            ],
            "image/png": "[encoded data removed]"
          },
          "metadata": {
            "needs_background": "light"
          }
        }
      ]
    },
    {
      "cell_type": "code",
      "source": [
        "# 성별/연령대별 Lpay 상품 구매 개수\n",
        "\n",
        "tem = pd.DataFrame({'values' : lpay_cust.groupby(['ma_fem_dv', 'ages']).buy_am.count()})\n",
        "tem['ma_fem_dv'] = np.array(['M'] * 6 + ['W'] * 6)\n",
        "tem['ages'] = np.array(['20s', '30s', '40s', '50s', '60s', '70s'] * 2)\n",
        "\n",
        "plt.figure(figsize=[12,8])\n",
        "sns.barplot(x='ages', y='values', hue='ma_fem_dv', data=tem) \n",
        "plt.title('Lpay Count', fontsize=25, color='#189AB4')\n",
        "plt.legend(fontsize=12)\n",
        "plt.show()"
      ],
      "metadata": {
        "colab": {
          "base_uri": "https://localhost:8080/",
          "height": 522
        },
        "id": "2EWEsuy9qN10",
        "outputId": "f5c976d9-1884-46be-807e-8aff1b7e5809"
      },
      "execution_count": null,
      "outputs": [
        {
          "output_type": "display_data",
          "data": {
            "text/plain": [
              "<Figure size 864x576 with 1 Axes>"
            ],
            "image/png": "[encoded data removed]"
          },
          "metadata": {
            "needs_background": "light"
          }
        }
      ]
    },
    {
      "cell_type": "markdown",
      "source": [
        "# 데이터 전처리"
      ],
      "metadata": {
        "id": "c2r05MinOGYx"
      }
    },
    {
      "cell_type": "code",
      "source": [
        "# 날짜 자료형 변환 함수\n",
        "def make_datetime(df, drop=True):\n",
        "    df[\"datetime\"] = df[\"de_dt\"].apply(str).str[:4] \\\n",
        "                                    + \"-\" + df[\"de_dt\"].apply(str).str[4:6] \\\n",
        "                                    + \"-\" + df[\"de_dt\"].apply(str).str[6:8] \\\n",
        "                                    + \" \" + df[\"de_hr\"].apply(lambda x: str(x).zfill(2))\n",
        "    df[\"datetime\"] = pd.to_datetime(df[\"datetime\"])\n",
        "    if drop : df = df.drop([\"de_dt\", \"de_hr\"], axis=1)\n",
        "    return df\n",
        "\n",
        "\n",
        "# 맵핑 함수\n",
        "def class_mapping(df, col, verbose=True):\n",
        "    class_map = {lbl:idx for idx, lbl in enumerate(sorted(df[col].unique()))}\n",
        "    if verbose : print(class_map)\n",
        "    return df[col].map(class_map)"
      ],
      "metadata": {
        "id": "lx6eoHd6PY5_"
      },
      "execution_count": null,
      "outputs": []
    },
    {
      "cell_type": "code",
      "source": [
        "# 램을 효율적으로 쓰기 위해 데이터 전처리 작업을 분할해서 진행\n",
        "# 영수증번호, 고객코드, 시간 데이터 / 영수증번호 중복 제거\n",
        "format_df = pd.read_parquet(path+\"/LPOINT_BIG_COMP_PDDE_CUST.parquet\", \n",
        "                            columns=[\"cust\", \"rct_no\", \"de_dt\", \"de_hr\"], engine=\"pyarrow\").drop_duplicates(\"rct_no\", keep=\"first\")\n",
        "format_df = make_datetime(format_df, drop=True)\n",
        "format_df = format_df.set_index(\"rct_no\")\n",
        "#print(format_df.head(5))\n",
        "\n",
        "\n",
        "# 영수증번호, 성별, 나이, 채널, 거주지, 제휴사 / 영수증번호 중복제거\n",
        "pdde_cust_df = pd.read_parquet(path+\"/LPOINT_BIG_COMP_PDDE_CUST.parquet\", \n",
        "                               columns=[\"rct_no\", \"ma_fem_dv\", \"ages\", \"chnl_dv\", \"zon_hlv\", \"cop_c\"], \n",
        "                               engine=\"pyarrow\").drop_duplicates(\"rct_no\", keep=\"first\").set_index(\"rct_no\")\n",
        "pdde_cust_df[\"ma_fem_dv\"] = class_mapping(pdde_cust_df, \"ma_fem_dv\")\n",
        "pdde_cust_df[\"chnl_dv\"] = class_mapping(pdde_cust_df, \"chnl_dv\")\n",
        "pdde_cust_df[\"ages\"] = class_mapping(pdde_cust_df, \"ages\")\n",
        "#print(pdde_cust_df.head(5))\n",
        "\n",
        "\n",
        "# 두 테이블을 조인\n",
        "format_df = format_df.join(pdde_cust_df)\n",
        "format_df[\"month\"] = format_df.datetime.dt.month\n",
        "format_df[\"dayofweek\"] = format_df.datetime.dt.dayofweek\n",
        "# 나이, 거주지, 제휴사, 달, 요일 원핫인코딩 진행\n",
        "format_df = pd.get_dummies(format_df,\n",
        "                           columns=[\"ages\", \"zon_hlv\", \"cop_c\", \"month\", \"dayofweek\"])\n",
        "\n",
        "#format_df.head(5)"
      ],
      "metadata": {
        "colab": {
          "base_uri": "https://localhost:8080/"
        },
        "id": "RppQPsuSQP5w",
        "outputId": "b05ef26f-6588-46ae-e836-7eb66aa89db9"
      },
      "execution_count": null,
      "outputs": [
        {
          "output_type": "stream",
          "name": "stdout",
          "text": [
            "{'남성': 0, '여성': 1}\n",
            "{1: 0, 2: 1}\n",
            "{'20대': 0, '30대': 1, '40대': 2, '50대': 3, '60대': 4, '70대': 5}\n"
          ]
        }
      ]
    },
    {
      "cell_type": "code",
      "source": [
        "# 영수증 번호, 제품, 구매량 테이블\n",
        "clac_mcls_df = pd.read_parquet(path+\"/LPOINT_BIG_COMP_PDDE_CUST.parquet\", columns=[\"rct_no\", \"clac_mcls_nm\", \"buy_ct\"],engine=\"pyarrow\")\n",
        "# 피벗테이블로 만듬\n",
        "clac_mcls_df = pivot_table(clac_mcls_df, index=\"rct_no\", columns=\"clac_mcls_nm\", values=\"buy_ct\", aggfunc='sum', fill_value=0).astype(\"uint16\")\n",
        "clac_mcls_df.head(5)"
      ],
      "metadata": {
        "colab": {
          "base_uri": "https://localhost:8080/",
          "height": 432
        },
        "id": "YbdkaKL0QTWq",
        "outputId": "7b2219ba-f613-4a93-acf6-a0cb53db5173"
      },
      "execution_count": null,
      "outputs": [
        {
          "output_type": "execute_result",
          "data": {
            "text/plain": [
              "clac_mcls_nm  DVD/홈시어터  TV  가공유  가방세트  간식/안주형과자  간편조리  갑각류  거실가구  건강가전  \\\n",
              "rct_no                                                                   \n",
              "A01000001113         0   0    0     0         0     0    0     0     0   \n",
              "A01000002265         0   0    0     0         0     0    0     0     0   \n",
              "A01000003148         0   0    0     0         0     0    0     0     0   \n",
              "A01000004946         0   0    0     0         0     0    0     0     0   \n",
              "A01000005297         0   0    0     0         0     0    0     0     0   \n",
              "\n",
              "clac_mcls_nm  건강관리용품  ...  핸드/풋케어  햄/소시지  향수  향신료  헤어액세서리  헤어케어  호주산소고기  홈웨어  \\\n",
              "rct_no                ...                                                      \n",
              "A01000001113       0  ...       0      0   0    0       0     0       0    0   \n",
              "A01000002265       0  ...       0      0   0    0       0     0       0    0   \n",
              "A01000003148       0  ...       0      0   0    0       0     0       0    0   \n",
              "A01000004946       0  ...       0      0   0    0       0     0       0    0   \n",
              "A01000005297       0  ...       0      0   0    0       0     0       0    0   \n",
              "\n",
              "clac_mcls_nm  홍삼/인삼가공식품  화장지/티슈  \n",
              "rct_no                           \n",
              "A01000001113          0       0  \n",
              "A01000002265          0       0  \n",
              "A01000003148          0       0  \n",
              "A01000004946          0       0  \n",
              "A01000005297          0       0  \n",
              "\n",
              "[5 rows x 349 columns]"
            ],
            "text/html": [
              "\n",
              "  <div id=\"df-bd1b248d-b5e4-40be-bd95-622d04063067\">\n",
              "    <div class=\"colab-df-container\">\n",
              "      <div>\n",
              "<style scoped>\n",
              "    .dataframe tbody tr th:only-of-type {\n",
              "        vertical-align: middle;\n",
              "    }\n",
              "\n",
              "    .dataframe tbody tr th {\n",
              "        vertical-align: top;\n",
              "    }\n",
              "\n",
              "    .dataframe thead th {\n",
              "        text-align: right;\n",
              "    }\n",
              "</style>\n",
              "<table border=\"1\" class=\"dataframe\">\n",
              "  <thead>\n",
              "    <tr style=\"text-align: right;\">\n",
              "      <th>clac_mcls_nm</th>\n",
              "      <th>DVD/홈시어터</th>\n",
              "      <th>TV</th>\n",
              "      <th>가공유</th>\n",
              "      <th>가방세트</th>\n",
              "      <th>간식/안주형과자</th>\n",
              "      <th>간편조리</th>\n",
              "      <th>갑각류</th>\n",
              "      <th>거실가구</th>\n",
              "      <th>건강가전</th>\n",
              "      <th>건강관리용품</th>\n",
              "      <th>...</th>\n",
              "      <th>핸드/풋케어</th>\n",
              "      <th>햄/소시지</th>\n",
              "      <th>향수</th>\n",
              "      <th>향신료</th>\n",
              "      <th>헤어액세서리</th>\n",
              "      <th>헤어케어</th>\n",
              "      <th>호주산소고기</th>\n",
              "      <th>홈웨어</th>\n",
              "      <th>홍삼/인삼가공식품</th>\n",
              "      <th>화장지/티슈</th>\n",
              "    </tr>\n",
              "    <tr>\n",
              "      <th>rct_no</th>\n",
              "      <th></th>\n",
              "      <th></th>\n",
              "      <th></th>\n",
              "      <th></th>\n",
              "      <th></th>\n",
              "      <th></th>\n",
              "      <th></th>\n",
              "      <th></th>\n",
              "      <th></th>\n",
              "      <th></th>\n",
              "      <th></th>\n",
              "      <th></th>\n",
              "      <th></th>\n",
              "      <th></th>\n",
              "      <th></th>\n",
              "      <th></th>\n",
              "      <th></th>\n",
              "      <th></th>\n",
              "      <th></th>\n",
              "      <th></th>\n",
              "      <th></th>\n",
              "    </tr>\n",
              "  </thead>\n",
              "  <tbody>\n",
              "    <tr>\n",
              "      <th>A01000001113</th>\n",
              "      <td>0</td>\n",
              "      <td>0</td>\n",
              "      <td>0</td>\n",
              "      <td>0</td>\n",
              "      <td>0</td>\n",
              "      <td>0</td>\n",
              "      <td>0</td>\n",
              "      <td>0</td>\n",
              "      <td>0</td>\n",
              "      <td>0</td>\n",
              "      <td>...</td>\n",
              "      <td>0</td>\n",
              "      <td>0</td>\n",
              "      <td>0</td>\n",
              "      <td>0</td>\n",
              "      <td>0</td>\n",
              "      <td>0</td>\n",
              "      <td>0</td>\n",
              "      <td>0</td>\n",
              "      <td>0</td>\n",
              "      <td>0</td>\n",
              "    </tr>\n",
              "    <tr>\n",
              "      <th>A01000002265</th>\n",
              "      <td>0</td>\n",
              "      <td>0</td>\n",
              "      <td>0</td>\n",
              "      <td>0</td>\n",
              "      <td>0</td>\n",
              "      <td>0</td>\n",
              "      <td>0</td>\n",
              "      <td>0</td>\n",
              "      <td>0</td>\n",
              "      <td>0</td>\n",
              "      <td>...</td>\n",
              "      <td>0</td>\n",
              "      <td>0</td>\n",
              "      <td>0</td>\n",
              "      <td>0</td>\n",
              "      <td>0</td>\n",
              "      <td>0</td>\n",
              "      <td>0</td>\n",
              "      <td>0</td>\n",
              "      <td>0</td>\n",
              "      <td>0</td>\n",
              "    </tr>\n",
              "    <tr>\n",
              "      <th>A01000003148</th>\n",
              "      <td>0</td>\n",
              "      <td>0</td>\n",
              "      <td>0</td>\n",
              "      <td>0</td>\n",
              "      <td>0</td>\n",
              "      <td>0</td>\n",
              "      <td>0</td>\n",
              "      <td>0</td>\n",
              "      <td>0</td>\n",
              "      <td>0</td>\n",
              "      <td>...</td>\n",
              "      <td>0</td>\n",
              "      <td>0</td>\n",
              "      <td>0</td>\n",
              "      <td>0</td>\n",
              "      <td>0</td>\n",
              "      <td>0</td>\n",
              "      <td>0</td>\n",
              "      <td>0</td>\n",
              "      <td>0</td>\n",
              "      <td>0</td>\n",
              "    </tr>\n",
              "    <tr>\n",
              "      <th>A01000004946</th>\n",
              "      <td>0</td>\n",
              "      <td>0</td>\n",
              "      <td>0</td>\n",
              "      <td>0</td>\n",
              "      <td>0</td>\n",
              "      <td>0</td>\n",
              "      <td>0</td>\n",
              "      <td>0</td>\n",
              "      <td>0</td>\n",
              "      <td>0</td>\n",
              "      <td>...</td>\n",
              "      <td>0</td>\n",
              "      <td>0</td>\n",
              "      <td>0</td>\n",
              "      <td>0</td>\n",
              "      <td>0</td>\n",
              "      <td>0</td>\n",
              "      <td>0</td>\n",
              "      <td>0</td>\n",
              "      <td>0</td>\n",
              "      <td>0</td>\n",
              "    </tr>\n",
              "    <tr>\n",
              "      <th>A01000005297</th>\n",
              "      <td>0</td>\n",
              "      <td>0</td>\n",
              "      <td>0</td>\n",
              "      <td>0</td>\n",
              "      <td>0</td>\n",
              "      <td>0</td>\n",
              "      <td>0</td>\n",
              "      <td>0</td>\n",
              "      <td>0</td>\n",
              "      <td>0</td>\n",
              "      <td>...</td>\n",
              "      <td>0</td>\n",
              "      <td>0</td>\n",
              "      <td>0</td>\n",
              "      <td>0</td>\n",
              "      <td>0</td>\n",
              "      <td>0</td>\n",
              "      <td>0</td>\n",
              "      <td>0</td>\n",
              "      <td>0</td>\n",
              "      <td>0</td>\n",
              "    </tr>\n",
              "  </tbody>\n",
              "</table>\n",
              "<p>5 rows × 349 columns</p>\n",
              "</div>\n",
              "      <button class=\"colab-df-convert\" onclick=\"convertToInteractive('df-bd1b248d-b5e4-40be-bd95-622d04063067')\"\n",
              "              title=\"Convert this dataframe to an interactive table.\"\n",
              "              style=\"display:none;\">\n",
              "        \n",
              "  <svg xmlns=\"http://www.w3.org/2000/svg\" height=\"24px\"viewBox=\"0 0 24 24\"\n",
              "       width=\"24px\">\n",
              "    <path d=\"M0 0h24v24H0V0z\" fill=\"none\"/>\n",
              "    <path d=\"M18.56 5.44l.94 2.06.94-2.06 2.06-.94-2.06-.94-.94-2.06-.94 2.06-2.06.94zm-11 1L8.5 8.5l.94-2.06 2.06-.94-2.06-.94L8.5 2.5l-.94 2.06-2.06.94zm10 10l.94 2.06.94-2.06 2.06-.94-2.06-.94-.94-2.06-.94 2.06-2.06.94z\"/><path d=\"M17.41 7.96l-1.37-1.37c-.4-.4-.92-.59-1.43-.59-.52 0-1.04.2-1.43.59L10.3 9.45l-7.72 7.72c-.78.78-.78 2.05 0 2.83L4 21.41c.39.39.9.59 1.41.59.51 0 1.02-.2 1.41-.59l7.78-7.78 2.81-2.81c.8-.78.8-2.07 0-2.86zM5.41 20L4 18.59l7.72-7.72 1.47 1.35L5.41 20z\"/>\n",
              "  </svg>\n",
              "      </button>\n",
              "      \n",
              "  <style>\n",
              "    .colab-df-container {\n",
              "      display:flex;\n",
              "      flex-wrap:wrap;\n",
              "      gap: 12px;\n",
              "    }\n",
              "\n",
              "    .colab-df-convert {\n",
              "      background-color: #E8F0FE;\n",
              "      border: none;\n",
              "      border-radius: 50%;\n",
              "      cursor: pointer;\n",
              "      display: none;\n",
              "      fill: #1967D2;\n",
              "      height: 32px;\n",
              "      padding: 0 0 0 0;\n",
              "      width: 32px;\n",
              "    }\n",
              "\n",
              "    .colab-df-convert:hover {\n",
              "      background-color: #E2EBFA;\n",
              "      box-shadow: 0px 1px 2px rgba(60, 64, 67, 0.3), 0px 1px 3px 1px rgba(60, 64, 67, 0.15);\n",
              "      fill: #174EA6;\n",
              "    }\n",
              "\n",
              "    [theme=dark] .colab-df-convert {\n",
              "      background-color: #3B4455;\n",
              "      fill: #D2E3FC;\n",
              "    }\n",
              "\n",
              "    [theme=dark] .colab-df-convert:hover {\n",
              "      background-color: #434B5C;\n",
              "      box-shadow: 0px 1px 3px 1px rgba(0, 0, 0, 0.15);\n",
              "      filter: drop-shadow(0px 1px 2px rgba(0, 0, 0, 0.3));\n",
              "      fill: #FFFFFF;\n",
              "    }\n",
              "  </style>\n",
              "\n",
              "      <script>\n",
              "        const buttonEl =\n",
              "          document.querySelector('#df-bd1b248d-b5e4-40be-bd95-622d04063067 button.colab-df-convert');\n",
              "        buttonEl.style.display =\n",
              "          google.colab.kernel.accessAllowed ? 'block' : 'none';\n",
              "\n",
              "        async function convertToInteractive(key) {\n",
              "          const element = document.querySelector('#df-bd1b248d-b5e4-40be-bd95-622d04063067');\n",
              "          const dataTable =\n",
              "            await google.colab.kernel.invokeFunction('convertToInteractive',\n",
              "                                                     [key], {});\n",
              "          if (!dataTable) return;\n",
              "\n",
              "          const docLinkHtml = 'Like what you see? Visit the ' +\n",
              "            '<a target=\"_blank\" href=https://colab.research.google.com/notebooks/data_table.ipynb>data table notebook</a>'\n",
              "            + ' to learn more about interactive tables.';\n",
              "          element.innerHTML = '';\n",
              "          dataTable['output_type'] = 'display_data';\n",
              "          await google.colab.output.renderOutput(dataTable, element);\n",
              "          const docLink = document.createElement('div');\n",
              "          docLink.innerHTML = docLinkHtml;\n",
              "          element.appendChild(docLink);\n",
              "        }\n",
              "      </script>\n",
              "    </div>\n",
              "  </div>\n",
              "  "
            ]
          },
          "metadata": {},
          "execution_count": 24
        }
      ]
    },
    {
      "cell_type": "code",
      "source": [
        "# 저장\n",
        "processed_df = format_df.reset_index().set_index(\"rct_no\").join(clac_mcls_df)\n",
        "processed_df.to_parquet(path + \"LPOINT_BIG_COMP_CLAC_MCLS_SUM.parquet\", index=True, engine=\"pyarrow\", compression=None)"
      ],
      "metadata": {
        "id": "XlRcMsSTQbwd"
      },
      "execution_count": null,
      "outputs": []
    },
    {
      "cell_type": "code",
      "source": [
        "# 로드\n",
        "processed_df = pd.read_parquet(path + \"LPOINT_BIG_COMP_CLAC_MCLS_SUM.parquet\", engine=\"pyarrow\")\n",
        "processed_df = processed_df.reset_index().set_index(\"cust\")\n",
        "processed_df.head(3)"
      ],
      "metadata": {
        "colab": {
          "base_uri": "https://localhost:8080/",
          "height": 494
        },
        "id": "cgSBQOGpQp0j",
        "outputId": "4defb2c0-dadf-44a1-a0ea-ac2073650a38"
      },
      "execution_count": null,
      "outputs": [
        {
          "output_type": "execute_result",
          "data": {
            "text/plain": [
              "                  rct_no            datetime  ma_fem_dv  chnl_dv  ages_0  \\\n",
              "cust                                                                       \n",
              "M430112881  A01000001113 2021-01-01 10:00:00          1        0       0   \n",
              "M430112881  A01000003148 2021-01-01 10:00:00          1        0       0   \n",
              "M430112881  A01000004946 2021-01-01 10:00:00          1        0       0   \n",
              "\n",
              "            ages_1  ages_2  ages_3  ages_4  ages_5  ...  핸드/풋케어  햄/소시지  향수  \\\n",
              "cust                                                ...                      \n",
              "M430112881       0       0       1       0       0  ...       0      0   0   \n",
              "M430112881       0       0       1       0       0  ...       0      0   0   \n",
              "M430112881       0       0       1       0       0  ...       0      0   0   \n",
              "\n",
              "            향신료  헤어액세서리  헤어케어  호주산소고기  홈웨어  홍삼/인삼가공식품  화장지/티슈  \n",
              "cust                                                           \n",
              "M430112881    0       0     0       0    0          0       0  \n",
              "M430112881    0       0     0       0    0          0       0  \n",
              "M430112881    0       0     0       0    0          0       0  \n",
              "\n",
              "[3 rows x 401 columns]"
            ],
            "text/html": [
              "\n",
              "  <div id=\"df-59cda542-cb2f-4964-952b-ccb9bb79da61\">\n",
              "    <div class=\"colab-df-container\">\n",
              "      <div>\n",
              "<style scoped>\n",
              "    .dataframe tbody tr th:only-of-type {\n",
              "        vertical-align: middle;\n",
              "    }\n",
              "\n",
              "    .dataframe tbody tr th {\n",
              "        vertical-align: top;\n",
              "    }\n",
              "\n",
              "    .dataframe thead th {\n",
              "        text-align: right;\n",
              "    }\n",
              "</style>\n",
              "<table border=\"1\" class=\"dataframe\">\n",
              "  <thead>\n",
              "    <tr style=\"text-align: right;\">\n",
              "      <th></th>\n",
              "      <th>rct_no</th>\n",
              "      <th>datetime</th>\n",
              "      <th>ma_fem_dv</th>\n",
              "      <th>chnl_dv</th>\n",
              "      <th>ages_0</th>\n",
              "      <th>ages_1</th>\n",
              "      <th>ages_2</th>\n",
              "      <th>ages_3</th>\n",
              "      <th>ages_4</th>\n",
              "      <th>ages_5</th>\n",
              "      <th>...</th>\n",
              "      <th>핸드/풋케어</th>\n",
              "      <th>햄/소시지</th>\n",
              "      <th>향수</th>\n",
              "      <th>향신료</th>\n",
              "      <th>헤어액세서리</th>\n",
              "      <th>헤어케어</th>\n",
              "      <th>호주산소고기</th>\n",
              "      <th>홈웨어</th>\n",
              "      <th>홍삼/인삼가공식품</th>\n",
              "      <th>화장지/티슈</th>\n",
              "    </tr>\n",
              "    <tr>\n",
              "      <th>cust</th>\n",
              "      <th></th>\n",
              "      <th></th>\n",
              "      <th></th>\n",
              "      <th></th>\n",
              "      <th></th>\n",
              "      <th></th>\n",
              "      <th></th>\n",
              "      <th></th>\n",
              "      <th></th>\n",
              "      <th></th>\n",
              "      <th></th>\n",
              "      <th></th>\n",
              "      <th></th>\n",
              "      <th></th>\n",
              "      <th></th>\n",
              "      <th></th>\n",
              "      <th></th>\n",
              "      <th></th>\n",
              "      <th></th>\n",
              "      <th></th>\n",
              "      <th></th>\n",
              "    </tr>\n",
              "  </thead>\n",
              "  <tbody>\n",
              "    <tr>\n",
              "      <th>M430112881</th>\n",
              "      <td>A01000001113</td>\n",
              "      <td>2021-01-01 10:00:00</td>\n",
              "      <td>1</td>\n",
              "      <td>0</td>\n",
              "      <td>0</td>\n",
              "      <td>0</td>\n",
              "      <td>0</td>\n",
              "      <td>1</td>\n",
              "      <td>0</td>\n",
              "      <td>0</td>\n",
              "      <td>...</td>\n",
              "      <td>0</td>\n",
              "      <td>0</td>\n",
              "      <td>0</td>\n",
              "      <td>0</td>\n",
              "      <td>0</td>\n",
              "      <td>0</td>\n",
              "      <td>0</td>\n",
              "      <td>0</td>\n",
              "      <td>0</td>\n",
              "      <td>0</td>\n",
              "    </tr>\n",
              "    <tr>\n",
              "      <th>M430112881</th>\n",
              "      <td>A01000003148</td>\n",
              "      <td>2021-01-01 10:00:00</td>\n",
              "      <td>1</td>\n",
              "      <td>0</td>\n",
              "      <td>0</td>\n",
              "      <td>0</td>\n",
              "      <td>0</td>\n",
              "      <td>1</td>\n",
              "      <td>0</td>\n",
              "      <td>0</td>\n",
              "      <td>...</td>\n",
              "      <td>0</td>\n",
              "      <td>0</td>\n",
              "      <td>0</td>\n",
              "      <td>0</td>\n",
              "      <td>0</td>\n",
              "      <td>0</td>\n",
              "      <td>0</td>\n",
              "      <td>0</td>\n",
              "      <td>0</td>\n",
              "      <td>0</td>\n",
              "    </tr>\n",
              "    <tr>\n",
              "      <th>M430112881</th>\n",
              "      <td>A01000004946</td>\n",
              "      <td>2021-01-01 10:00:00</td>\n",
              "      <td>1</td>\n",
              "      <td>0</td>\n",
              "      <td>0</td>\n",
              "      <td>0</td>\n",
              "      <td>0</td>\n",
              "      <td>1</td>\n",
              "      <td>0</td>\n",
              "      <td>0</td>\n",
              "      <td>...</td>\n",
              "      <td>0</td>\n",
              "      <td>0</td>\n",
              "      <td>0</td>\n",
              "      <td>0</td>\n",
              "      <td>0</td>\n",
              "      <td>0</td>\n",
              "      <td>0</td>\n",
              "      <td>0</td>\n",
              "      <td>0</td>\n",
              "      <td>0</td>\n",
              "    </tr>\n",
              "  </tbody>\n",
              "</table>\n",
              "<p>3 rows × 401 columns</p>\n",
              "</div>\n",
              "      <button class=\"colab-df-convert\" onclick=\"convertToInteractive('df-59cda542-cb2f-4964-952b-ccb9bb79da61')\"\n",
              "              title=\"Convert this dataframe to an interactive table.\"\n",
              "              style=\"display:none;\">\n",
              "        \n",
              "  <svg xmlns=\"http://www.w3.org/2000/svg\" height=\"24px\"viewBox=\"0 0 24 24\"\n",
              "       width=\"24px\">\n",
              "    <path d=\"M0 0h24v24H0V0z\" fill=\"none\"/>\n",
              "    <path d=\"M18.56 5.44l.94 2.06.94-2.06 2.06-.94-2.06-.94-.94-2.06-.94 2.06-2.06.94zm-11 1L8.5 8.5l.94-2.06 2.06-.94-2.06-.94L8.5 2.5l-.94 2.06-2.06.94zm10 10l.94 2.06.94-2.06 2.06-.94-2.06-.94-.94-2.06-.94 2.06-2.06.94z\"/><path d=\"M17.41 7.96l-1.37-1.37c-.4-.4-.92-.59-1.43-.59-.52 0-1.04.2-1.43.59L10.3 9.45l-7.72 7.72c-.78.78-.78 2.05 0 2.83L4 21.41c.39.39.9.59 1.41.59.51 0 1.02-.2 1.41-.59l7.78-7.78 2.81-2.81c.8-.78.8-2.07 0-2.86zM5.41 20L4 18.59l7.72-7.72 1.47 1.35L5.41 20z\"/>\n",
              "  </svg>\n",
              "      </button>\n",
              "      \n",
              "  <style>\n",
              "    .colab-df-container {\n",
              "      display:flex;\n",
              "      flex-wrap:wrap;\n",
              "      gap: 12px;\n",
              "    }\n",
              "\n",
              "    .colab-df-convert {\n",
              "      background-color: #E8F0FE;\n",
              "      border: none;\n",
              "      border-radius: 50%;\n",
              "      cursor: pointer;\n",
              "      display: none;\n",
              "      fill: #1967D2;\n",
              "      height: 32px;\n",
              "      padding: 0 0 0 0;\n",
              "      width: 32px;\n",
              "    }\n",
              "\n",
              "    .colab-df-convert:hover {\n",
              "      background-color: #E2EBFA;\n",
              "      box-shadow: 0px 1px 2px rgba(60, 64, 67, 0.3), 0px 1px 3px 1px rgba(60, 64, 67, 0.15);\n",
              "      fill: #174EA6;\n",
              "    }\n",
              "\n",
              "    [theme=dark] .colab-df-convert {\n",
              "      background-color: #3B4455;\n",
              "      fill: #D2E3FC;\n",
              "    }\n",
              "\n",
              "    [theme=dark] .colab-df-convert:hover {\n",
              "      background-color: #434B5C;\n",
              "      box-shadow: 0px 1px 3px 1px rgba(0, 0, 0, 0.15);\n",
              "      filter: drop-shadow(0px 1px 2px rgba(0, 0, 0, 0.3));\n",
              "      fill: #FFFFFF;\n",
              "    }\n",
              "  </style>\n",
              "\n",
              "      <script>\n",
              "        const buttonEl =\n",
              "          document.querySelector('#df-59cda542-cb2f-4964-952b-ccb9bb79da61 button.colab-df-convert');\n",
              "        buttonEl.style.display =\n",
              "          google.colab.kernel.accessAllowed ? 'block' : 'none';\n",
              "\n",
              "        async function convertToInteractive(key) {\n",
              "          const element = document.querySelector('#df-59cda542-cb2f-4964-952b-ccb9bb79da61');\n",
              "          const dataTable =\n",
              "            await google.colab.kernel.invokeFunction('convertToInteractive',\n",
              "                                                     [key], {});\n",
              "          if (!dataTable) return;\n",
              "\n",
              "          const docLinkHtml = 'Like what you see? Visit the ' +\n",
              "            '<a target=\"_blank\" href=https://colab.research.google.com/notebooks/data_table.ipynb>data table notebook</a>'\n",
              "            + ' to learn more about interactive tables.';\n",
              "          element.innerHTML = '';\n",
              "          dataTable['output_type'] = 'display_data';\n",
              "          await google.colab.output.renderOutput(dataTable, element);\n",
              "          const docLink = document.createElement('div');\n",
              "          docLink.innerHTML = docLinkHtml;\n",
              "          element.appendChild(docLink);\n",
              "        }\n",
              "      </script>\n",
              "    </div>\n",
              "  </div>\n",
              "  "
            ]
          },
          "metadata": {},
          "execution_count": 26
        }
      ]
    },
    {
      "cell_type": "code",
      "source": [
        "import torch\n",
        "import torchvision\n",
        "from torchvision import transforms\n",
        "import torch.nn.functional as F\n",
        "import torch.nn as nn\n",
        "import torch.optim as optim\n",
        "import matplotlib.pyplot as plt\n",
        "from torch.utils.data import DataLoader, Dataset\n",
        "\n",
        "from sklearn.model_selection import train_test_split\n",
        "\n",
        "\n",
        "device = torch.device('cuda:0' if torch.cuda.is_available() else 'cpu')"
      ],
      "metadata": {
        "id": "LaelutSLRXNg"
      },
      "execution_count": null,
      "outputs": []
    },
    {
      "cell_type": "code",
      "source": [
        "# 사용자 인덱스 모음\n",
        "custs = processed_df.index.unique()\n",
        "\n",
        "features = [col for col in format_df.columns if col not in [\"rct_no\", \"cust\", \"datetime\"]] + [\"date_interval\", \"date_from\"] + list(clac_mcls_df.columns)\n",
        "print(*custs[:400])\n",
        "print(*features)"
      ],
      "metadata": {
        "colab": {
          "base_uri": "https://localhost:8080/"
        },
        "id": "OfBPRxHcRd5r",
        "outputId": "130ed309-dee4-4f2d-91dd-4c57b60f1a05"
      },
      "execution_count": null,
      "outputs": [
        {
          "output_type": "stream",
          "name": "stdout",
          "text": [
            "M430112881 M646853852 M669384418 M886923095 M707991383 M117855953 M641274652 M625839441 M284446967 M401266932 M860973355 M686795542 M878181490 M704866277 M942878878 M174599398 M651841347 M577884977 M511106441 M531271959 M422047369 M234266219 M049345995 M497989990 M009032626 M931922533 M165312283 M996518031 M705629628 M184969427 M741760270 M243577483 M558692172 M377967939 M838446773 M506355556 M879094374 M732600894 M856124318 M263574190 M157204685 M650733020 M017256273 M641186030 M986125865 M232573809 M268811651 M162681947 M163175113 M440960058 M502480776 M191537184 M030477840 M690898061 M506965359 M725878700 M840551273 M746428121 M334943764 M561787985 M982559329 M807374636 M676262214 M988646555 M530294706 M900002349 M694209751 M123475113 M318802112 M038801652 M517637921 M539562667 M615380326 M609491987 M259613010 M338310215 M156930891 M419249862 M474747127 M624588650 M083434555 M049216782 M897579293 M316171414 M583031784 M370732403 M336360825 M835554931 M456838034 M586590453 M618317251 M956523130 M125895076 M053988830 M135902971 M331473499 M590533132 M977958641 M080584695 M048866855 M544570827 M752234615 M503639362 M397267143 M361261196 M781690028 M400682924 M819510622 M690515737 M366378636 M781279343 M238272817 M283308210 M289433991 M889933238 M891510784 M557567409 M467972035 M307151561 M567053439 M542006779 M538975514 M751728576 M471430471 M740718660 M970944841 M063704872 M736347559 M081078897 M478445642 M277171255 M555439355 M041303212 M867122864 M291380287 M355489415 M374870930 M966247621 M685408649 M849831487 M134888191 M436594332 M245811064 M207638686 M411045461 M062661758 M640653493 M072419092 M142311429 M056621722 M081569058 M501683336 M701304871 M398872489 M858126924 M013285074 M896896560 M533330698 M661395471 M594992791 M263406446 M182645944 M311201219 M593107613 M350838042 M298972946 M179653812 M263888884 M448609005 M282287857 M185122523 M185111231 M123783273 M953537328 M330277227 M991142381 M576689847 M738189511 M143027432 M153728920 M645976443 M762374565 M662330091 M577654091 M164780413 M544201308 M085265637 M732454229 M027441945 M519427263 M070544564 M226332649 M633282276 M205363338 M962965060 M984043972 M205485737 M117809504 M598228720 M183680726 M811221360 M830841749 M736029357 M201766112 M695297284 M863620095 M046113622 M038025013 M131789394 M526195887 M018184823 M317849762 M282651149 M686992522 M769600155 M729284172 M325661634 M702291596 M648254795 M253642334 M372939322 M088827294 M455824780 M642054815 M740316079 M281834288 M323702255 M589321117 M154631657 M910235569 M426611726 M321170502 M671806083 M596502154 M326503256 M696696054 M992067686 M523038535 M193455495 M985499664 M819862062 M024101254 M349334435 M083270072 M163037071 M744087833 M963110512 M927459944 M050037422 M540285266 M473840199 M098691956 M638623920 M716420925 M886716967 M743162991 M113763811 M565268465 M206689995 M881295041 M796142629 M463646981 M241023449 M915705833 M624880671 M851088731 M300709577 M138404016 M528097150 M148171146 M783908672 M688055546 M227598269 M994408992 M230976524 M855865931 M973279178 M955472914 M159375452 M588861009 M014339861 M425442290 M293971269 M763821861 M639610559 M790389301 M156626330 M691001733 M137293709 M768886877 M906632032 M962168384 M256210228 M848484390 M910085650 M479079032 M382044219 M408121877 M686863232 M671280935 M358798958 M012936022 M939459373 M228934898 M453663197 M586645156 M773977093 M329379634 M385378751 M943231214 M868511118 M652409781 M144266465 M946555429 M155118619 M172530920 M724735320 M118705305 M523807626 M545634703 M473125141 M567331707 M839993508 M153301641 M837797129 M668130552 M591942182 M830396092 M075995202 M681527141 M142065131 M794513392 M740635403 M876101498 M180581027 M938305951 M676674347 M941739760 M639909786 M805001563 M139230976 M199918823 M837947257 M439565447 M380362011 M675461091 M682413497 M410974362 M116478829 M320474582 M222290281 M402794395 M472417736 M749486808 M975646754 M511952367 M471728550 M111934771 M020136767 M656737591 M023577934 M009731870 M680825569 M852720148 M490359476 M512121304 M493122026 M789404870 M065151598 M348056935 M051581833 M496844384 M941198920 M979862567 M678205637 M546798182 M567637265 M323773246 M464594888 M232452691 M660057347 M635243433 M716073127 M649268943 M270037733 M209483390 M183296106 M236433557 M109733557 M254848060 M064408352 M228124869 M370260069 M812923328 M317778161 M310879031 M420179972 M239456864 M260108058 M205853827\n",
            "ma_fem_dv chnl_dv ages_0 ages_1 ages_2 ages_3 ages_4 ages_5 zon_hlv_Z01 zon_hlv_Z02 zon_hlv_Z03 zon_hlv_Z04 zon_hlv_Z05 zon_hlv_Z06 zon_hlv_Z07 zon_hlv_Z08 zon_hlv_Z09 zon_hlv_Z10 zon_hlv_Z11 zon_hlv_Z12 zon_hlv_Z13 zon_hlv_Z14 zon_hlv_Z15 zon_hlv_Z16 zon_hlv_Z17 cop_c_A01 cop_c_A02 cop_c_A03 cop_c_A04 cop_c_A05 cop_c_A06 month_1 month_2 month_3 month_4 month_5 month_6 month_7 month_8 month_9 month_10 month_11 month_12 dayofweek_0 dayofweek_1 dayofweek_2 dayofweek_3 dayofweek_4 dayofweek_5 dayofweek_6 date_interval date_from DVD/홈시어터 TV 가공유 가방세트 간식/안주형과자 간편조리 갑각류 거실가구 건강가전 건강관리용품 건강보조식품 건강진액 건강측정용품 건과일 건면 건어물 건해산물선물세트 격투기 견과류 계란류 고양이용품 골프 공구 공기청정/가습/제습 과일선물세트 과자세트 과채음료 교육보조재 교육완구 교환/정비용품 구강케어 국산과일 국산돼지고기 국산소고기 그릇/식기 기능성음료 기타 기타가구 기타고기류 기타구기/필드스포츠 기타국소고기 기타시즌스포츠 기타아웃도어/레저 기타애완동물 기타지갑 기프트 껌 꿀 나물류 낚시 난방가전 남성가방 남성골프의류 남성등산/아웃도어의류 남성속옷 남성스포츠화 남성양말류 남성의류상의 남성의류세트 남성의류아우터 남성의류전신 남성의류하의 남성일반스포츠의류 남성지갑 남성케어 남성특수목적의류 남성특수소재의류 남성패션액세서리 남성화 남아완구 남아의류상의 남아의류세트 남아의류아우터 남아의류전신 남아의류하의 남아특수목적의류 남아특수소재의류 냉동간편식 냉동과일 냉동포장생선류 냉방가전 냉장/냉동고 냉장간편식 냉장음료 냉장조리 노트 농구 농산물병통조림 닭고기류 동물병원 두부/콩나물류 두유 등산 디저트 떡 레토르트 렌탈서비스 렌탈수수료 맥주 메이크업 면도용품 모바일기기 모바일상품권 모바일액세서리 모자 미국산소고기 미술용품 미용소품 밀폐/보관용기 바디케어 반건생선 방향/제습/탈취제 배구 배드민턴 버섯류 베이커리 벨트 벽면/바닥용품 병통조림선물세트 보석 보수용품 보험 봉지라면 분말류 분말조리식 비스킷류 비식품테넌트 빵 뿌리채소 사무기기 사무용/학생용가구 사무용지/서식지 사탕/캔디 살충/방충제 생선회 생수 생활가전 생활서비스 생활요금상품판매/충전 서적 선식류 선케어 성인침구 세차용품 세탁/건조용품 세탁기 세탁세제 소모품 소스류 소주 소형디지털가전 속옷/양말/홈웨어세트 수납가구 수산물통조림 수산선물세트 수영/물놀이 수예소품 수예시즌소품 수예용품 수유/이유용품 수입과일 수입돼지고기 스낵류 스케이트/썰매 스키/보드 스킨케어 스포츠댄스 스포츠잡화 승용완구 시계 시공/DIY가구 시리얼 시트/쿠션/매트 식당 식용유류 실외놀이/스포츠완구 쌀 아이스크림 악기 안경/선글라스 안마/찜질용품 안전보호용품 안전용품 애견용품 액세서리편의용품 야구 야외용가구 양곡선물세트 양념육 양주 양채류 어류 어묵/맛살 여성가방 여성골프의류 여성등산/아웃도어의류 여성속옷 여성스포츠화 여성양말류 여성위생용품 여성의류상의 여성의류세트 여성의류아우터 여성의류전신 여성의류하의 여성일반스포츠의류 여성지갑 여성특수목적의류 여성특수소재의류 여성화 여아완구 여아의류상의 여아의류세트 여아의류아우터 여아의류전신 여아의류특수목적의류 여아의류하의 여아특수소재의류 여행/레저 여행용가방류 연체류 열매채소 영양제 오디오 오토바이 온장조리 와인 요구르트 욕실용품 용기라면 용기보증금 우산/양산류 우유 원두커피 원예 원예용품 웨이트 유가공품 유아간식 유아동가구 유아동속옷 유아동스포츠화 유아동식기 유아동양말류 유아동일반스포츠의류 유아동침구 유아동화 유아발육용품 유아스킨/바디케어 유아식 유아안전용품 유아위생용품 유아의류상의 유아의류세트 유아의류아우터 유아의류전신 유아의류하의 유아특수목적의류 육가공품 음료세트 음반/영상물 이미용가전 이용권/입장권 인라인/스케이트보드/킥보드 인스턴트커피 일반담배 일반문구/사무용품 일반의약외품 일반의약품 임대매출 임산부케어용품 잎채소 자동차음향/가전기기 자전거 잡곡 잡화균일가 장갑 장류 장식용품 잼 전기용품 전자/비디오게임 전자담배 전통과자류 전통주 전화기 정리용품 조개류 조리기구 조리도구 조명용품 조미료류 조미료세트 주류세트 주방가구 주방가전 주방세제 주방일회용품 주방정리용품/소모품 즉석반찬 즉석음료류 지류상품권 차류 차음료 채소선물세트 청소기 청소세제 청소용품 초콜릿 축구 축산물통조림 축산선물세트 침실가구 카메라/캠코더 카페트/러그/매트류 캐쥬얼가방 캠핑 커튼/블라인드류 커피/차세트 커피음료 컴퓨터/노트북 컴퓨터주변기기 탁구 탄산음료 테니스 특수담배 특수위생용품 특판 파이류 파티/팬시용품 패션액세서리 포장반찬 푸드코트 프리믹스 피트니스 필기도구 한방약재 해조류 해초류 핸드/풋케어 햄/소시지 향수 향신료 헤어액세서리 헤어케어 호주산소고기 홈웨어 홍삼/인삼가공식품 화장지/티슈\n"
          ]
        }
      ]
    },
    {
      "cell_type": "code",
      "source": [
        "# 사람 별 영수증 묶음을 만드는 함수.\n",
        "# 사람을 입력하면 영수증 묶음 값이 출력되는 함수.\n",
        "# window = 영수증 묶음 개수, slide = 묶음별로 겹치는 개수\n",
        "def make_rct_tensor_by_cust(cust_idx, features=features, window=10, slide=5, dtype=torch.int16, drop=True):\n",
        "    global processed_df\n",
        "\n",
        "    cust_df = processed_df.loc[cust_idx]\n",
        "    rct_tensor_by_cust = []\n",
        "    rct_nos =[]\n",
        "    rct_length = len(cust_df)\n",
        "\n",
        "    if rct_length < window or not isinstance(cust_df, pd.core.frame.DataFrame): # 길이가 1인 시리즈는 None 반환\n",
        "        return None\n",
        "\n",
        "    # cust index는 버려진다. rct_no도 index가 되면서 버려질 것.\n",
        "    # 구입일 간격에 대한 feature들을 생성하기 위해 sorting한다.\n",
        "    cust_df = cust_df.set_index(\"datetime\").sort_values(\"datetime\") \\\n",
        "                 .reset_index().set_index(\"rct_no\")\n",
        "    cust_df[\"date_interval\"] = (cust_df.datetime - cust_df.datetime.shift(-1)).dt.days.fillna(-1) # 몇일만에 새로운 구입을 하였는지\n",
        "\n",
        "    cust_rcts = list(range(rct_length))\n",
        "    for i in cust_rcts[::slide]:\n",
        "        if rct_length-window < i: # 고객의 남은 영수증이 window개 이하인 경우 break\n",
        "            break\n",
        "        else:\n",
        "            temp = cust_df.iloc[i : i+window]\n",
        "            temp[\"date_from\"] = (temp.datetime.iloc[0] - temp.datetime).dt.days # 최근 구입일로부터 몇일만에 구입한 영수증인지.  ex) [2]: 01/22, [1]: 02/11, [0]: 02/13 \n",
        "                                                                                                                                # => [2]: 22,    [1]: 20,    [0]: 0\n",
        "            if not drop:\n",
        "                rct_no = list(temp.index)\n",
        "                rct_nos.append(rct_no)\n",
        "\n",
        "            temp = temp[features] # 피쳐 집합으로 원하는 피쳐를 골라 저장\n",
        "            temp = torch.tensor(temp.values, dtype=dtype) # window x features\n",
        "\n",
        "            rct_tensor_by_cust.append(temp)\n",
        "\n",
        "        \n",
        "    rct_tensor_by_cust = torch.stack(rct_tensor_by_cust, dim=0) # cust's rcts x window x features\n",
        "    if not drop:\n",
        "        return rct_tensor_by_cust, rct_nos\n",
        "    else:\n",
        "        return rct_tensor_by_cust"
      ],
      "metadata": {
        "id": "u3pWjtT4RgUt"
      },
      "execution_count": null,
      "outputs": []
    },
    {
      "cell_type": "code",
      "source": [
        "len(custs)"
      ],
      "metadata": {
        "colab": {
          "base_uri": "https://localhost:8080/"
        },
        "id": "OSVDST9HR0Y4",
        "outputId": "3ffc2819-4962-4ebd-ba3e-5f6804de5cc4"
      },
      "execution_count": null,
      "outputs": [
        {
          "output_type": "execute_result",
          "data": {
            "text/plain": [
              "26917"
            ]
          },
          "metadata": {},
          "execution_count": 30
        }
      ]
    },
    {
      "cell_type": "code",
      "source": [
        "window = 10 # 한 텐서 안에 들어갈 \"최근 영수증 개수\"\n",
        "slide = 5 # 한 고객의 영수증 기록에서 window로 스캔 시의 간격\n",
        "chunk_num = 16 \n",
        "sample_size = 26912 # 26912\n",
        "rct_tensors = []\n",
        "sampled_custs = np.random.choice(list(custs), size=sample_size)\n",
        "\n",
        "# 램 초과 방지 위해 분할작업.\n",
        "for j in tqdm(range(sample_size//chunk_num), position=0, desc=\"making_data...\", leave=None):\n",
        "    if j == sample_size//chunk_num-1:\n",
        "        rct_chunk_tensors = Parallel(n_jobs=num_cores)(delayed(make_rct_tensor_by_cust)(cust_idx, features=features, window=window, slide=10, dtype=torch.int16) for cust_idx in sampled_custs[j*chunk_num:])\n",
        "    else:\n",
        "        rct_chunk_tensors = Parallel(n_jobs=num_cores)(delayed(make_rct_tensor_by_cust)(cust_idx, features=features, window=window, slide=10, dtype=torch.int16) for cust_idx in sampled_custs[j*chunk_num : (j+1)*chunk_num])\n",
        "    rct_chunk_tensors = [t for t in rct_chunk_tensors if t is not None] # None을 없앤다.\n",
        "    rct_chunk_tensors = torch.cat(rct_chunk_tensors, dim=0)\n",
        "\n",
        "    print(f\"{j}번째 chunk의 Tensor Shape : \", rct_chunk_tensors.shape)\n",
        "    rct_tensors.append(rct_chunk_tensors) # 전체 tensor에 추가\n",
        "    del rct_chunk_tensors\n",
        "\n",
        "rct_tensors = torch.cat(rct_tensors, dim = 0)\n",
        "rct_tensors.shape\n",
        "# 최종 데이터 전처리 후 데이터 중간저장\n",
        "torch.save(rct_tensors, path + \"LPOINT_BIG_COMP_RCT_TENSORS26912.pt\")"
      ],
      "metadata": {
        "colab": {
          "base_uri": "https://localhost:8080/"
        },
        "id": "BjBGGzWwR3jH",
        "outputId": "f0758a1a-492d-44bc-e78a-af520a6c78f2"
      },
      "execution_count": null,
      "outputs": [
        {
          "output_type": "stream",
          "name": "stderr",
          "text": [
            "making_data...:   0%|          | 1/1682 [00:09<4:38:52,  9.95s/it]"
          ]
        },
        {
          "output_type": "stream",
          "name": "stdout",
          "text": [
            "0번째 chunk의 Tensor Shape :  torch.Size([55, 10, 401])\n"
          ]
        },
        {
          "output_type": "stream",
          "name": "stderr",
          "text": [
            "\rmaking_data...:   0%|          | 2/1682 [00:18<4:07:57,  8.86s/it]"
          ]
        },
        {
          "output_type": "stream",
          "name": "stdout",
          "text": [
            "1번째 chunk의 Tensor Shape :  torch.Size([85, 10, 401])\n"
          ]
        },
        {
          "output_type": "stream",
          "name": "stderr",
          "text": [
            "\rmaking_data...:   0%|          | 3/1682 [00:27<4:11:40,  8.99s/it]"
          ]
        },
        {
          "output_type": "stream",
          "name": "stdout",
          "text": [
            "2번째 chunk의 Tensor Shape :  torch.Size([36, 10, 401])\n"
          ]
        },
        {
          "output_type": "stream",
          "name": "stderr",
          "text": [
            "\rmaking_data...:   0%|          | 4/1682 [00:37<4:26:53,  9.54s/it]"
          ]
        },
        {
          "output_type": "stream",
          "name": "stdout",
          "text": [
            "3번째 chunk의 Tensor Shape :  torch.Size([65, 10, 401])\n"
          ]
        },
        {
          "output_type": "stream",
          "name": "stderr",
          "text": [
            "\rmaking_data...:   0%|          | 5/1682 [00:48<4:40:20, 10.03s/it]"
          ]
        },
        {
          "output_type": "stream",
          "name": "stdout",
          "text": [
            "4번째 chunk의 Tensor Shape :  torch.Size([78, 10, 401])\n"
          ]
        },
        {
          "output_type": "stream",
          "name": "stderr",
          "text": [
            "\rmaking_data...:   0%|          | 6/1682 [00:57<4:34:15,  9.82s/it]"
          ]
        },
        {
          "output_type": "stream",
          "name": "stdout",
          "text": [
            "5번째 chunk의 Tensor Shape :  torch.Size([61, 10, 401])\n"
          ]
        },
        {
          "output_type": "stream",
          "name": "stderr",
          "text": [
            "\rmaking_data...:   0%|          | 7/1682 [01:07<4:30:03,  9.67s/it]"
          ]
        },
        {
          "output_type": "stream",
          "name": "stdout",
          "text": [
            "6번째 chunk의 Tensor Shape :  torch.Size([55, 10, 401])\n"
          ]
        },
        {
          "output_type": "stream",
          "name": "stderr",
          "text": [
            "\rmaking_data...:   0%|          | 8/1682 [01:15<4:15:32,  9.16s/it]"
          ]
        },
        {
          "output_type": "stream",
          "name": "stdout",
          "text": [
            "7번째 chunk의 Tensor Shape :  torch.Size([78, 10, 401])\n"
          ]
        },
        {
          "output_type": "stream",
          "name": "stderr",
          "text": [
            "\rmaking_data...:   1%|          | 9/1682 [01:23<4:06:56,  8.86s/it]"
          ]
        },
        {
          "output_type": "stream",
          "name": "stdout",
          "text": [
            "8번째 chunk의 Tensor Shape :  torch.Size([74, 10, 401])\n"
          ]
        },
        {
          "output_type": "stream",
          "name": "stderr",
          "text": [
            "\rmaking_data...:   1%|          | 10/1682 [01:32<4:05:31,  8.81s/it]"
          ]
        },
        {
          "output_type": "stream",
          "name": "stdout",
          "text": [
            "9번째 chunk의 Tensor Shape :  torch.Size([68, 10, 401])\n"
          ]
        },
        {
          "output_type": "stream",
          "name": "stderr",
          "text": [
            "\rmaking_data...:   1%|          | 11/1682 [01:40<3:59:20,  8.59s/it]"
          ]
        },
        {
          "output_type": "stream",
          "name": "stdout",
          "text": [
            "10번째 chunk의 Tensor Shape :  torch.Size([90, 10, 401])\n"
          ]
        },
        {
          "output_type": "stream",
          "name": "stderr",
          "text": [
            "\rmaking_data...:   1%|          | 12/1682 [01:48<3:55:28,  8.46s/it]"
          ]
        },
        {
          "output_type": "stream",
          "name": "stdout",
          "text": [
            "11번째 chunk의 Tensor Shape :  torch.Size([76, 10, 401])\n"
          ]
        },
        {
          "output_type": "stream",
          "name": "stderr",
          "text": [
            "\rmaking_data...:   1%|          | 13/1682 [01:56<3:53:54,  8.41s/it]"
          ]
        },
        {
          "output_type": "stream",
          "name": "stdout",
          "text": [
            "12번째 chunk의 Tensor Shape :  torch.Size([65, 10, 401])\n"
          ]
        },
        {
          "output_type": "stream",
          "name": "stderr",
          "text": [
            "\rmaking_data...:   1%|          | 14/1682 [02:04<3:51:17,  8.32s/it]"
          ]
        },
        {
          "output_type": "stream",
          "name": "stdout",
          "text": [
            "13번째 chunk의 Tensor Shape :  torch.Size([104, 10, 401])\n"
          ]
        },
        {
          "output_type": "stream",
          "name": "stderr",
          "text": [
            "\rmaking_data...:   1%|          | 15/1682 [02:13<3:50:04,  8.28s/it]"
          ]
        },
        {
          "output_type": "stream",
          "name": "stdout",
          "text": [
            "14번째 chunk의 Tensor Shape :  torch.Size([89, 10, 401])\n"
          ]
        },
        {
          "output_type": "stream",
          "name": "stderr",
          "text": [
            "\rmaking_data...:   1%|          | 16/1682 [02:21<3:47:21,  8.19s/it]"
          ]
        },
        {
          "output_type": "stream",
          "name": "stdout",
          "text": [
            "15번째 chunk의 Tensor Shape :  torch.Size([92, 10, 401])\n"
          ]
        },
        {
          "output_type": "stream",
          "name": "stderr",
          "text": [
            "\rmaking_data...:   1%|          | 17/1682 [02:29<3:53:09,  8.40s/it]"
          ]
        },
        {
          "output_type": "stream",
          "name": "stdout",
          "text": [
            "16번째 chunk의 Tensor Shape :  torch.Size([43, 10, 401])\n"
          ]
        },
        {
          "output_type": "stream",
          "name": "stderr",
          "text": [
            "\rmaking_data...:   1%|          | 18/1682 [02:38<3:50:58,  8.33s/it]"
          ]
        },
        {
          "output_type": "stream",
          "name": "stdout",
          "text": [
            "17번째 chunk의 Tensor Shape :  torch.Size([96, 10, 401])\n"
          ]
        },
        {
          "output_type": "stream",
          "name": "stderr",
          "text": [
            "\rmaking_data...:   1%|          | 19/1682 [02:46<3:49:23,  8.28s/it]"
          ]
        },
        {
          "output_type": "stream",
          "name": "stdout",
          "text": [
            "18번째 chunk의 Tensor Shape :  torch.Size([98, 10, 401])\n"
          ]
        },
        {
          "output_type": "stream",
          "name": "stderr",
          "text": [
            "\rmaking_data...:   1%|          | 20/1682 [02:54<3:47:42,  8.22s/it]"
          ]
        },
        {
          "output_type": "stream",
          "name": "stdout",
          "text": [
            "19번째 chunk의 Tensor Shape :  torch.Size([55, 10, 401])\n"
          ]
        },
        {
          "output_type": "stream",
          "name": "stderr",
          "text": [
            "\rmaking_data...:   1%|          | 21/1682 [03:02<3:46:37,  8.19s/it]"
          ]
        },
        {
          "output_type": "stream",
          "name": "stdout",
          "text": [
            "20번째 chunk의 Tensor Shape :  torch.Size([43, 10, 401])\n"
          ]
        },
        {
          "output_type": "stream",
          "name": "stderr",
          "text": [
            "\rmaking_data...:   1%|▏         | 22/1682 [03:10<3:44:58,  8.13s/it]"
          ]
        },
        {
          "output_type": "stream",
          "name": "stdout",
          "text": [
            "21번째 chunk의 Tensor Shape :  torch.Size([51, 10, 401])\n"
          ]
        },
        {
          "output_type": "stream",
          "name": "stderr",
          "text": [
            "\rmaking_data...:   1%|▏         | 23/1682 [03:18<3:45:21,  8.15s/it]"
          ]
        },
        {
          "output_type": "stream",
          "name": "stdout",
          "text": [
            "22번째 chunk의 Tensor Shape :  torch.Size([69, 10, 401])\n"
          ]
        },
        {
          "output_type": "stream",
          "name": "stderr",
          "text": [
            "\rmaking_data...:   1%|▏         | 24/1682 [03:26<3:45:07,  8.15s/it]"
          ]
        },
        {
          "output_type": "stream",
          "name": "stdout",
          "text": [
            "23번째 chunk의 Tensor Shape :  torch.Size([53, 10, 401])\n"
          ]
        },
        {
          "output_type": "stream",
          "name": "stderr",
          "text": [
            "\rmaking_data...:   1%|▏         | 25/1682 [03:35<3:53:06,  8.44s/it]"
          ]
        },
        {
          "output_type": "stream",
          "name": "stdout",
          "text": [
            "24번째 chunk의 Tensor Shape :  torch.Size([68, 10, 401])\n"
          ]
        },
        {
          "output_type": "stream",
          "name": "stderr",
          "text": [
            "\rmaking_data...:   2%|▏         | 26/1682 [03:45<4:03:40,  8.83s/it]"
          ]
        },
        {
          "output_type": "stream",
          "name": "stdout",
          "text": [
            "25번째 chunk의 Tensor Shape :  torch.Size([95, 10, 401])\n"
          ]
        },
        {
          "output_type": "stream",
          "name": "stderr",
          "text": [
            "\rmaking_data...:   2%|▏         | 27/1682 [03:53<3:58:33,  8.65s/it]"
          ]
        },
        {
          "output_type": "stream",
          "name": "stdout",
          "text": [
            "26번째 chunk의 Tensor Shape :  torch.Size([79, 10, 401])\n"
          ]
        },
        {
          "output_type": "stream",
          "name": "stderr",
          "text": [
            "\rmaking_data...:   2%|▏         | 28/1682 [04:02<3:56:17,  8.57s/it]"
          ]
        },
        {
          "output_type": "stream",
          "name": "stdout",
          "text": [
            "27번째 chunk의 Tensor Shape :  torch.Size([66, 10, 401])\n"
          ]
        },
        {
          "output_type": "stream",
          "name": "stderr",
          "text": [
            "\rmaking_data...:   2%|▏         | 29/1682 [04:10<3:51:55,  8.42s/it]"
          ]
        },
        {
          "output_type": "stream",
          "name": "stdout",
          "text": [
            "28번째 chunk의 Tensor Shape :  torch.Size([52, 10, 401])\n"
          ]
        },
        {
          "output_type": "stream",
          "name": "stderr",
          "text": [
            "\rmaking_data...:   2%|▏         | 30/1682 [04:18<3:50:05,  8.36s/it]"
          ]
        },
        {
          "output_type": "stream",
          "name": "stdout",
          "text": [
            "29번째 chunk의 Tensor Shape :  torch.Size([115, 10, 401])\n"
          ]
        },
        {
          "output_type": "stream",
          "name": "stderr",
          "text": [
            "\rmaking_data...:   2%|▏         | 31/1682 [04:27<3:54:15,  8.51s/it]"
          ]
        },
        {
          "output_type": "stream",
          "name": "stdout",
          "text": [
            "30번째 chunk의 Tensor Shape :  torch.Size([56, 10, 401])\n"
          ]
        },
        {
          "output_type": "stream",
          "name": "stderr",
          "text": [
            "\rmaking_data...:   2%|▏         | 32/1682 [04:36<3:57:37,  8.64s/it]"
          ]
        },
        {
          "output_type": "stream",
          "name": "stdout",
          "text": [
            "31번째 chunk의 Tensor Shape :  torch.Size([72, 10, 401])\n"
          ]
        },
        {
          "output_type": "stream",
          "name": "stderr",
          "text": [
            "\rmaking_data...:   2%|▏         | 33/1682 [04:44<3:53:07,  8.48s/it]"
          ]
        },
        {
          "output_type": "stream",
          "name": "stdout",
          "text": [
            "32번째 chunk의 Tensor Shape :  torch.Size([50, 10, 401])\n"
          ]
        },
        {
          "output_type": "stream",
          "name": "stderr",
          "text": [
            "\rmaking_data...:   2%|▏         | 34/1682 [04:52<3:50:54,  8.41s/it]"
          ]
        },
        {
          "output_type": "stream",
          "name": "stdout",
          "text": [
            "33번째 chunk의 Tensor Shape :  torch.Size([113, 10, 401])\n"
          ]
        },
        {
          "output_type": "stream",
          "name": "stderr",
          "text": [
            "\rmaking_data...:   2%|▏         | 35/1682 [05:00<3:47:15,  8.28s/it]"
          ]
        },
        {
          "output_type": "stream",
          "name": "stdout",
          "text": [
            "34번째 chunk의 Tensor Shape :  torch.Size([71, 10, 401])\n"
          ]
        }
      ]
    },
    {
      "cell_type": "markdown",
      "source": [
        "# 오토인토더 모델링"
      ],
      "metadata": {
        "id": "jE1rdx-2USjL"
      }
    },
    {
      "cell_type": "code",
      "source": [
        "# 저장한 전처리 데이터 불러오기\n",
        "# 데이터 파일이 존재한다면 불러와서 모델링 부터 진행 가능\n",
        "rct_tensors = torch.load(path + \"LPOINT_BIG_COMP_RCT_TENSORS26912.pt\")\n",
        "rct_tensors.shape"
      ],
      "metadata": {
        "id": "c5LAiAr0S08r",
        "colab": {
          "base_uri": "https://localhost:8080/"
        },
        "outputId": "d3beefaa-5ce3-4489-f7f8-dbaae6ec6788"
      },
      "execution_count": null,
      "outputs": [
        {
          "output_type": "execute_result",
          "data": {
            "text/plain": [
              "torch.Size([112953, 10, 401])"
            ]
          },
          "metadata": {},
          "execution_count": 214
        }
      ]
    },
    {
      "cell_type": "code",
      "source": [
        "# 50 이상 열에 대해 로그 스케일과 min-max 스케일 적용\n",
        "tem = rct_tensors[:,:, 50:]\n",
        "tem = torch.log1p(tem)\n",
        "\n",
        "for i in range(351):\n",
        "    maxs = tem[:,:,i].max()\n",
        "    if maxs == 0:\n",
        "        continue\n",
        "    tem[:,:,i] = tem[:,:,i] / maxs\n",
        "\n",
        "rct_tensors = torch.cat((rct_tensors[:,:,:50], tem), dim = 2)\n",
        "\n",
        "\n",
        "# -1 값인경우 로그 스케일 진행시 -Inf로 값이 바뀜. 후처리해줌. \n",
        "idx_1, idx_2, idx_3 = np.where(rct_tensors.detach().numpy() == -np.Inf)\n",
        "print(np.unique(idx_2))\n",
        "print(np.unique(idx_3))\n",
        "rct_tensors[idx_1,9,50] = -1"
      ],
      "metadata": {
        "colab": {
          "base_uri": "https://localhost:8080/"
        },
        "id": "sFjoXtmOk-j0",
        "outputId": "b0303f0b-310c-49ac-a07e-ca6001d5b736"
      },
      "execution_count": null,
      "outputs": [
        {
          "output_type": "stream",
          "name": "stdout",
          "text": [
            "[9]\n",
            "[50]\n"
          ]
        }
      ]
    },
    {
      "cell_type": "code",
      "source": [
        "class CustomDataset(Dataset):\n",
        "    def __init__(self, rct_tensors = None, cust_idx = None, train_mode=True, transforms = None):\n",
        "        self.transforms = transforms\n",
        "        self.rct_tensors = rct_tensors\n",
        "        self.train_mode = train_mode\n",
        "        if not self.train_mode:\n",
        "            if (make_rct_tensor_by_cust(cust_idx, drop=False) is None):\n",
        "                self.tensors = []\n",
        "            else:\n",
        "                # 테스트 모드에서 데이터를 새로 불러옴.\n",
        "                self.tensors, self.rct_nos = make_rct_tensor_by_cust(cust_idx, drop=False)\n",
        "\n",
        "    def __len__(self):\n",
        "        if self.train_mode :\n",
        "            return self.rct_tensors.shape[0]\n",
        "        else: \n",
        "            return len(self.tensors)\n",
        "\n",
        "    def __getitem__(self, idx):\n",
        "        \n",
        "        if self.train_mode:\n",
        "            input = self.rct_tensors[idx]\n",
        "            if self.transforms is not None:\n",
        "                input = self.transforms(input)[0]\n",
        "            return input, input[:,52:]\n",
        "        else:\n",
        "            return self.tensors[idx], self.rct_nos[idx][0]"
      ],
      "metadata": {
        "id": "dHPhrJmmTblW"
      },
      "execution_count": null,
      "outputs": []
    },
    {
      "cell_type": "code",
      "source": [
        "class TimeDistributed(nn.Module):\n",
        "    def __init__(self, module, batch_first=False):\n",
        "        super(TimeDistributed, self).__init__()\n",
        "        self.module = module\n",
        "        self.batch_first = batch_first\n",
        "\n",
        "    def forward(self, x):\n",
        "        if len(x.size()) <= 2:\n",
        "            return self.module(x)\n",
        "        # Squash samples and timesteps into a single axis\n",
        "        x_reshape = x.contiguous().view(-1, x.size(-1))  # (samples * timesteps, input_size)\n",
        "        y = self.module(x_reshape)\n",
        "        # We have to reshape Y\n",
        "        if self.batch_first:\n",
        "            y = y.contiguous().view(x.size(0), -1, y.size(-1))  # (samples, timesteps, output_size)\n",
        "        else:\n",
        "            y = y.view(-1, x.size(1), y.size(-1))  # (timesteps, samples, output_size)\n",
        "        return y"
      ],
      "metadata": {
        "id": "M9hCvhPSck6Y"
      },
      "execution_count": null,
      "outputs": []
    },
    {
      "cell_type": "code",
      "source": [
        "class Encoder(nn.Module):\n",
        "    def __init__(self, seq_len, n_features, embedding_dim=64):\n",
        "        super(Encoder, self).__init__()\n",
        "        self.seq_len, self.n_features = seq_len, n_features\n",
        "        self.embedding_dim, self.hidden_dim = (\n",
        "            embedding_dim, 2 * embedding_dim\n",
        "        )\n",
        "        self.rnn1 = nn.LSTM(\n",
        "          input_size=n_features,\n",
        "          hidden_size=self.hidden_dim,\n",
        "          num_layers=1,\n",
        "          batch_first=True\n",
        "        )\n",
        "        self.rnn2 = nn.LSTM(\n",
        "          input_size=self.hidden_dim,\n",
        "          hidden_size=embedding_dim,\n",
        "          num_layers=1,\n",
        "          batch_first=True\n",
        "        )\n",
        "    def forward(self, x):\n",
        "        x, (_, _) = self.rnn1(x)\n",
        "        x, (hidden_n, _) = self.rnn2(x)\n",
        "        return  x[:,-1,:]"
      ],
      "metadata": {
        "id": "2_gwjY7BUZRy"
      },
      "execution_count": null,
      "outputs": []
    },
    {
      "cell_type": "code",
      "source": [
        "class Decoder(nn.Module):\n",
        "    def __init__(self, seq_len, input_dim=64, n_features=1):\n",
        "        super(Decoder, self).__init__()\n",
        "        self.seq_len, self.input_dim = seq_len, input_dim\n",
        "        self.hidden_dim, self.n_features = 2 * input_dim, n_features\n",
        "        self.rnn1 = nn.LSTM(\n",
        "          input_size=input_dim,\n",
        "          hidden_size=input_dim,\n",
        "          num_layers=1,\n",
        "          batch_first=True\n",
        "        )\n",
        "        self.rnn2 = nn.LSTM(\n",
        "          input_size=input_dim,\n",
        "          hidden_size=self.hidden_dim,\n",
        "          num_layers=1,\n",
        "          batch_first=True\n",
        "        )\n",
        "        self.output_layer = torch.nn.Linear(self.hidden_dim, n_features)\n",
        "        self.timedist = TimeDistributed(self.output_layer)\n",
        "        \n",
        "    def forward(self, x):\n",
        "        x=x.reshape(-1,1,self.input_dim).repeat(1,self.seq_len,1)       \n",
        "        x, (hidden_n, cell_n) = self.rnn1(x)\n",
        "        x, (hidden_n, cell_n) = self.rnn2(x)\n",
        "        return self.timedist(x)"
      ],
      "metadata": {
        "id": "wGbpr98fUmm-"
      },
      "execution_count": null,
      "outputs": []
    },
    {
      "cell_type": "code",
      "source": [
        "class RecurrentAutoencoder(nn.Module):\n",
        "    def __init__(self, seq_len, n_features, embedding_dim=64):\n",
        "        super(RecurrentAutoencoder, self).__init__()\n",
        "        self.encoder = Encoder(seq_len, n_features, embedding_dim)#.to(device)\n",
        "        self.decoder = Decoder(seq_len, embedding_dim, n_features-52)#.to(device)\n",
        "\n",
        "    def forward(self, x, train_mode = True):\n",
        "        if train_mode:\n",
        "            x = self.encoder(x)\n",
        "            x = self.decoder(x)\n",
        "        else:\n",
        "            x = self.encoder(x)\n",
        "        return x"
      ],
      "metadata": {
        "id": "-UDEGC6PYFA1"
      },
      "execution_count": null,
      "outputs": []
    },
    {
      "cell_type": "code",
      "source": [
        "device = torch.device('cuda') if torch.cuda.is_available() else torch.device('cpu')\n",
        "\n",
        "model = RecurrentAutoencoder(window, 401, 5)\n",
        "model = model.to(device)\n",
        "\n",
        "batch_size = 512"
      ],
      "metadata": {
        "id": "c3ZwJa4mYOzJ"
      },
      "execution_count": null,
      "outputs": []
    },
    {
      "cell_type": "code",
      "source": [
        "#train_id, test_id = train_test_split(range(rct_tensors.shape[0]), test_size = 300, random_state = 42)\n",
        "train_id, valid_id = train_test_split(range(rct_tensors.shape[0]), test_size = 0.2, random_state = 42)"
      ],
      "metadata": {
        "id": "e7a3ZXKdYbUX"
      },
      "execution_count": null,
      "outputs": []
    },
    {
      "cell_type": "code",
      "source": [
        "train_dataset = CustomDataset(rct_tensors[train_id], train_mode = True)\n",
        "train_loader = DataLoader(train_dataset, batch_size = batch_size, shuffle=True, num_workers=0)\n",
        "\n",
        "valid_dataset = CustomDataset(rct_tensors[valid_id], train_mode = True)\n",
        "valid_loader = DataLoader(valid_dataset, batch_size = batch_size, shuffle=False, num_workers=0)"
      ],
      "metadata": {
        "id": "D8CKe91zYpex"
      },
      "execution_count": null,
      "outputs": []
    },
    {
      "cell_type": "code",
      "source": [
        "optimizer = torch.optim.Adam(model.parameters(), lr=5e-5)\n",
        "# Loss Function\n",
        "criterion = nn.L1Loss(reduction='sum').to(device)"
      ],
      "metadata": {
        "id": "raAaGlN9Yu4w"
      },
      "execution_count": null,
      "outputs": []
    },
    {
      "cell_type": "code",
      "source": [
        "def train(model, optimizer, train_loader, vali_loader, scheduler, device):\n",
        "\n",
        "    best_mse = 9999\n",
        "    \n",
        "    for epoch in range(60):\n",
        "        model.train()\n",
        "        train_loss = []\n",
        "        for idx, batch in tqdm(enumerate(train_loader)):\n",
        "            x, y = batch[0].float().to(device), batch[1].float().to(device)\n",
        "            optimizer.zero_grad()\n",
        "            # Data -> Model -> Output\n",
        "            pred = model(x)\n",
        "            \n",
        "            # Calc loss\n",
        "            loss = criterion(pred, y)\n",
        "\n",
        "            # backpropagation\n",
        "            loss.backward()\n",
        "            optimizer.step()\n",
        "\n",
        "            train_loss.append(loss.item()/batch_size)\n",
        "                        \n",
        "        # Evaluation Validation set\n",
        "        vali_mse = validation(model, valid_loader, criterion, device)\n",
        "        if vali_mse < best_mse:\n",
        "            torch.save(model, 'model.pt')\n",
        "        \n",
        "        print(f'Epoch [{epoch}] Train MSE : [{np.mean(train_loss):.5f}] Validation MSE : [{vali_mse:.5f}]\\n')"
      ],
      "metadata": {
        "id": "KgVUDHuGY23P"
      },
      "execution_count": null,
      "outputs": []
    },
    {
      "cell_type": "code",
      "source": [
        "def validation(model, vali_loader, criterion, device):\n",
        "    model.eval() # Evaluation\n",
        "    vali_loss = []\n",
        "    with torch.no_grad():\n",
        "        for idx, batch in enumerate(valid_loader):\n",
        "            x, y = batch[0].float().to(device), batch[1].float().to(device)\n",
        "\n",
        "            pred = model(x)\n",
        "            loss = criterion(pred, y)\n",
        "            \n",
        "            vali_loss.append(loss.item()/batch_size)\n",
        "\n",
        "    vali_mae_loss = np.mean(vali_loss)\n",
        "    return vali_mae_loss"
      ],
      "metadata": {
        "id": "6NWtLER7rDuA"
      },
      "execution_count": null,
      "outputs": []
    },
    {
      "cell_type": "code",
      "source": [
        "train(model, optimizer, train_loader,valid_loader, None, device)"
      ],
      "metadata": {
        "colab": {
          "base_uri": "https://localhost:8080/",
          "height": 1000
        },
        "id": "WZ0Zid4YY7pA",
        "outputId": "cd815c93-bcb3-49c1-945d-7649e3d70aed"
      },
      "execution_count": null,
      "outputs": [
        {
          "output_type": "stream",
          "name": "stderr",
          "text": [
            "177it [00:03, 47.09it/s]\n"
          ]
        },
        {
          "output_type": "stream",
          "name": "stdout",
          "text": [
            "Epoch [0] Train MSE : [584.36792] Validation MSE : [539.40944]\n",
            "\n"
          ]
        },
        {
          "output_type": "stream",
          "name": "stderr",
          "text": [
            "177it [00:03, 45.89it/s]\n"
          ]
        },
        {
          "output_type": "stream",
          "name": "stdout",
          "text": [
            "Epoch [1] Train MSE : [516.66198] Validation MSE : [476.92420]\n",
            "\n"
          ]
        },
        {
          "output_type": "stream",
          "name": "stderr",
          "text": [
            "177it [00:03, 47.72it/s]\n"
          ]
        },
        {
          "output_type": "stream",
          "name": "stdout",
          "text": [
            "Epoch [2] Train MSE : [454.25582] Validation MSE : [416.00328]\n",
            "\n"
          ]
        },
        {
          "output_type": "stream",
          "name": "stderr",
          "text": [
            "177it [00:03, 47.46it/s]\n"
          ]
        },
        {
          "output_type": "stream",
          "name": "stdout",
          "text": [
            "Epoch [3] Train MSE : [392.97063] Validation MSE : [356.17094]\n",
            "\n"
          ]
        },
        {
          "output_type": "stream",
          "name": "stderr",
          "text": [
            "177it [00:04, 41.82it/s]\n"
          ]
        },
        {
          "output_type": "stream",
          "name": "stdout",
          "text": [
            "Epoch [4] Train MSE : [333.44067] Validation MSE : [300.12227]\n",
            "\n"
          ]
        },
        {
          "output_type": "stream",
          "name": "stderr",
          "text": [
            "177it [00:03, 46.36it/s]\n"
          ]
        },
        {
          "output_type": "stream",
          "name": "stdout",
          "text": [
            "Epoch [5] Train MSE : [280.36516] Validation MSE : [251.22145]\n",
            "\n"
          ]
        },
        {
          "output_type": "stream",
          "name": "stderr",
          "text": [
            "177it [00:03, 48.78it/s]\n"
          ]
        },
        {
          "output_type": "stream",
          "name": "stdout",
          "text": [
            "Epoch [6] Train MSE : [232.34950] Validation MSE : [205.95388]\n",
            "\n"
          ]
        },
        {
          "output_type": "stream",
          "name": "stderr",
          "text": [
            "177it [00:03, 46.85it/s]\n"
          ]
        },
        {
          "output_type": "stream",
          "name": "stdout",
          "text": [
            "Epoch [7] Train MSE : [188.80078] Validation MSE : [165.69649]\n",
            "\n"
          ]
        },
        {
          "output_type": "stream",
          "name": "stderr",
          "text": [
            "177it [00:03, 46.29it/s]\n"
          ]
        },
        {
          "output_type": "stream",
          "name": "stdout",
          "text": [
            "Epoch [8] Train MSE : [149.79876] Validation MSE : [129.26637]\n",
            "\n"
          ]
        },
        {
          "output_type": "stream",
          "name": "stderr",
          "text": [
            "177it [00:03, 46.63it/s]\n"
          ]
        },
        {
          "output_type": "stream",
          "name": "stdout",
          "text": [
            "Epoch [9] Train MSE : [115.87124] Validation MSE : [99.24168]\n",
            "\n"
          ]
        },
        {
          "output_type": "stream",
          "name": "stderr",
          "text": [
            "177it [00:03, 48.41it/s]\n"
          ]
        },
        {
          "output_type": "stream",
          "name": "stdout",
          "text": [
            "Epoch [10] Train MSE : [88.68966] Validation MSE : [76.44065]\n",
            "\n"
          ]
        },
        {
          "output_type": "stream",
          "name": "stderr",
          "text": [
            "177it [00:04, 39.84it/s]\n"
          ]
        },
        {
          "output_type": "stream",
          "name": "stdout",
          "text": [
            "Epoch [11] Train MSE : [69.22651] Validation MSE : [60.36798]\n",
            "\n"
          ]
        },
        {
          "output_type": "stream",
          "name": "stderr",
          "text": [
            "177it [00:03, 46.41it/s]\n"
          ]
        },
        {
          "output_type": "stream",
          "name": "stdout",
          "text": [
            "Epoch [12] Train MSE : [55.03805] Validation MSE : [48.17663]\n",
            "\n"
          ]
        },
        {
          "output_type": "stream",
          "name": "stderr",
          "text": [
            "177it [00:03, 47.28it/s]\n"
          ]
        },
        {
          "output_type": "stream",
          "name": "stdout",
          "text": [
            "Epoch [13] Train MSE : [43.55738] Validation MSE : [37.61073]\n",
            "\n"
          ]
        },
        {
          "output_type": "stream",
          "name": "stderr",
          "text": [
            "177it [00:03, 48.82it/s]\n"
          ]
        },
        {
          "output_type": "stream",
          "name": "stdout",
          "text": [
            "Epoch [14] Train MSE : [33.94254] Validation MSE : [29.58559]\n",
            "\n"
          ]
        },
        {
          "output_type": "stream",
          "name": "stderr",
          "text": [
            "177it [00:03, 46.36it/s]\n"
          ]
        },
        {
          "output_type": "stream",
          "name": "stdout",
          "text": [
            "Epoch [15] Train MSE : [27.18963] Validation MSE : [23.94519]\n",
            "\n"
          ]
        },
        {
          "output_type": "stream",
          "name": "stderr",
          "text": [
            "177it [00:03, 47.04it/s]\n"
          ]
        },
        {
          "output_type": "stream",
          "name": "stdout",
          "text": [
            "Epoch [16] Train MSE : [21.98854] Validation MSE : [19.43201]\n",
            "\n"
          ]
        },
        {
          "output_type": "stream",
          "name": "stderr",
          "text": [
            "177it [00:03, 47.04it/s]\n"
          ]
        },
        {
          "output_type": "stream",
          "name": "stdout",
          "text": [
            "Epoch [17] Train MSE : [18.01760] Validation MSE : [15.97886]\n",
            "\n"
          ]
        },
        {
          "output_type": "stream",
          "name": "stderr",
          "text": [
            "177it [00:03, 49.49it/s]\n"
          ]
        },
        {
          "output_type": "stream",
          "name": "stdout",
          "text": [
            "Epoch [18] Train MSE : [14.83190] Validation MSE : [13.27380]\n",
            "\n"
          ]
        },
        {
          "output_type": "stream",
          "name": "stderr",
          "text": [
            "177it [00:03, 48.06it/s]\n"
          ]
        },
        {
          "output_type": "stream",
          "name": "stdout",
          "text": [
            "Epoch [19] Train MSE : [12.39979] Validation MSE : [11.09362]\n",
            "\n"
          ]
        },
        {
          "output_type": "stream",
          "name": "stderr",
          "text": [
            "177it [00:03, 46.50it/s]\n"
          ]
        },
        {
          "output_type": "stream",
          "name": "stdout",
          "text": [
            "Epoch [20] Train MSE : [10.30017] Validation MSE : [9.19692]\n",
            "\n"
          ]
        },
        {
          "output_type": "stream",
          "name": "stderr",
          "text": [
            "177it [00:03, 47.40it/s]\n"
          ]
        },
        {
          "output_type": "stream",
          "name": "stdout",
          "text": [
            "Epoch [21] Train MSE : [8.67047] Validation MSE : [7.92659]\n",
            "\n"
          ]
        },
        {
          "output_type": "stream",
          "name": "stderr",
          "text": [
            "177it [00:03, 49.27it/s]\n"
          ]
        },
        {
          "output_type": "stream",
          "name": "stdout",
          "text": [
            "Epoch [22] Train MSE : [7.70861] Validation MSE : [7.30816]\n",
            "\n"
          ]
        },
        {
          "output_type": "stream",
          "name": "stderr",
          "text": [
            "177it [00:03, 46.66it/s]\n"
          ]
        },
        {
          "output_type": "stream",
          "name": "stdout",
          "text": [
            "Epoch [23] Train MSE : [7.29591] Validation MSE : [7.04648]\n",
            "\n"
          ]
        },
        {
          "output_type": "stream",
          "name": "stderr",
          "text": [
            "177it [00:03, 46.97it/s]\n"
          ]
        },
        {
          "output_type": "stream",
          "name": "stdout",
          "text": [
            "Epoch [24] Train MSE : [7.13096] Validation MSE : [6.95273]\n",
            "\n"
          ]
        },
        {
          "output_type": "stream",
          "name": "stderr",
          "text": [
            "177it [00:03, 46.44it/s]\n"
          ]
        },
        {
          "output_type": "stream",
          "name": "stdout",
          "text": [
            "Epoch [25] Train MSE : [7.04775] Validation MSE : [6.87945]\n",
            "\n"
          ]
        },
        {
          "output_type": "stream",
          "name": "stderr",
          "text": [
            "177it [00:03, 48.39it/s]\n"
          ]
        },
        {
          "output_type": "stream",
          "name": "stdout",
          "text": [
            "Epoch [26] Train MSE : [6.98362] Validation MSE : [6.82505]\n",
            "\n"
          ]
        },
        {
          "output_type": "stream",
          "name": "stderr",
          "text": [
            "177it [00:03, 48.64it/s]\n"
          ]
        },
        {
          "output_type": "stream",
          "name": "stdout",
          "text": [
            "Epoch [27] Train MSE : [6.93149] Validation MSE : [6.77446]\n",
            "\n"
          ]
        },
        {
          "output_type": "stream",
          "name": "stderr",
          "text": [
            "177it [00:03, 46.52it/s]\n"
          ]
        },
        {
          "output_type": "stream",
          "name": "stdout",
          "text": [
            "Epoch [28] Train MSE : [6.88706] Validation MSE : [6.73480]\n",
            "\n"
          ]
        },
        {
          "output_type": "stream",
          "name": "stderr",
          "text": [
            "177it [00:03, 46.39it/s]\n"
          ]
        },
        {
          "output_type": "stream",
          "name": "stdout",
          "text": [
            "Epoch [29] Train MSE : [6.84920] Validation MSE : [6.70247]\n",
            "\n"
          ]
        },
        {
          "output_type": "stream",
          "name": "stderr",
          "text": [
            "177it [00:03, 48.83it/s]\n"
          ]
        },
        {
          "output_type": "stream",
          "name": "stdout",
          "text": [
            "Epoch [30] Train MSE : [6.81637] Validation MSE : [6.67068]\n",
            "\n"
          ]
        },
        {
          "output_type": "stream",
          "name": "stderr",
          "text": [
            "177it [00:03, 46.34it/s]\n"
          ]
        },
        {
          "output_type": "stream",
          "name": "stdout",
          "text": [
            "Epoch [31] Train MSE : [6.78697] Validation MSE : [6.64804]\n",
            "\n"
          ]
        },
        {
          "output_type": "stream",
          "name": "stderr",
          "text": [
            "177it [00:03, 46.37it/s]\n"
          ]
        },
        {
          "output_type": "stream",
          "name": "stdout",
          "text": [
            "Epoch [32] Train MSE : [6.76142] Validation MSE : [6.62253]\n",
            "\n"
          ]
        },
        {
          "output_type": "stream",
          "name": "stderr",
          "text": [
            "177it [00:03, 46.86it/s]\n"
          ]
        },
        {
          "output_type": "stream",
          "name": "stdout",
          "text": [
            "Epoch [33] Train MSE : [6.73851] Validation MSE : [6.59865]\n",
            "\n"
          ]
        },
        {
          "output_type": "stream",
          "name": "stderr",
          "text": [
            "177it [00:03, 48.79it/s]\n"
          ]
        },
        {
          "output_type": "stream",
          "name": "stdout",
          "text": [
            "Epoch [34] Train MSE : [6.71733] Validation MSE : [6.58478]\n",
            "\n"
          ]
        },
        {
          "output_type": "stream",
          "name": "stderr",
          "text": [
            "177it [00:03, 48.57it/s]\n"
          ]
        },
        {
          "output_type": "stream",
          "name": "stdout",
          "text": [
            "Epoch [35] Train MSE : [6.69898] Validation MSE : [6.56460]\n",
            "\n"
          ]
        },
        {
          "output_type": "stream",
          "name": "stderr",
          "text": [
            "177it [00:03, 46.32it/s]\n"
          ]
        },
        {
          "output_type": "stream",
          "name": "stdout",
          "text": [
            "Epoch [36] Train MSE : [6.68208] Validation MSE : [6.54617]\n",
            "\n"
          ]
        },
        {
          "output_type": "stream",
          "name": "stderr",
          "text": [
            "177it [00:03, 45.94it/s]\n"
          ]
        },
        {
          "output_type": "stream",
          "name": "stdout",
          "text": [
            "Epoch [37] Train MSE : [6.66654] Validation MSE : [6.53658]\n",
            "\n"
          ]
        },
        {
          "output_type": "stream",
          "name": "stderr",
          "text": [
            "177it [00:03, 47.97it/s]\n"
          ]
        },
        {
          "output_type": "stream",
          "name": "stdout",
          "text": [
            "Epoch [38] Train MSE : [6.65311] Validation MSE : [6.52131]\n",
            "\n"
          ]
        },
        {
          "output_type": "stream",
          "name": "stderr",
          "text": [
            "177it [00:03, 46.39it/s]\n"
          ]
        },
        {
          "output_type": "stream",
          "name": "stdout",
          "text": [
            "Epoch [39] Train MSE : [6.64214] Validation MSE : [6.51306]\n",
            "\n"
          ]
        },
        {
          "output_type": "stream",
          "name": "stderr",
          "text": [
            "177it [00:03, 46.69it/s]\n"
          ]
        },
        {
          "output_type": "stream",
          "name": "stdout",
          "text": [
            "Epoch [40] Train MSE : [6.63100] Validation MSE : [6.50589]\n",
            "\n"
          ]
        },
        {
          "output_type": "stream",
          "name": "stderr",
          "text": [
            "177it [00:03, 46.15it/s]\n"
          ]
        },
        {
          "output_type": "stream",
          "name": "stdout",
          "text": [
            "Epoch [41] Train MSE : [6.62096] Validation MSE : [6.48899]\n",
            "\n"
          ]
        },
        {
          "output_type": "stream",
          "name": "stderr",
          "text": [
            "177it [00:03, 45.97it/s]\n"
          ]
        },
        {
          "output_type": "stream",
          "name": "stdout",
          "text": [
            "Epoch [42] Train MSE : [6.61355] Validation MSE : [6.48415]\n",
            "\n"
          ]
        },
        {
          "output_type": "stream",
          "name": "stderr",
          "text": [
            "177it [00:03, 46.39it/s]\n"
          ]
        },
        {
          "output_type": "stream",
          "name": "stdout",
          "text": [
            "Epoch [43] Train MSE : [6.60615] Validation MSE : [6.47714]\n",
            "\n"
          ]
        },
        {
          "output_type": "stream",
          "name": "stderr",
          "text": [
            "177it [00:03, 47.09it/s]\n"
          ]
        },
        {
          "output_type": "stream",
          "name": "stdout",
          "text": [
            "Epoch [44] Train MSE : [6.59977] Validation MSE : [6.47356]\n",
            "\n"
          ]
        },
        {
          "output_type": "stream",
          "name": "stderr",
          "text": [
            "177it [00:03, 47.00it/s]\n"
          ]
        },
        {
          "output_type": "stream",
          "name": "stdout",
          "text": [
            "Epoch [45] Train MSE : [6.59533] Validation MSE : [6.46852]\n",
            "\n"
          ]
        },
        {
          "output_type": "stream",
          "name": "stderr",
          "text": [
            "177it [00:03, 48.55it/s]\n"
          ]
        },
        {
          "output_type": "stream",
          "name": "stdout",
          "text": [
            "Epoch [46] Train MSE : [6.59073] Validation MSE : [6.46267]\n",
            "\n"
          ]
        },
        {
          "output_type": "stream",
          "name": "stderr",
          "text": [
            "177it [00:03, 46.59it/s]\n"
          ]
        },
        {
          "output_type": "stream",
          "name": "stdout",
          "text": [
            "Epoch [47] Train MSE : [6.58703] Validation MSE : [6.45988]\n",
            "\n"
          ]
        },
        {
          "output_type": "stream",
          "name": "stderr",
          "text": [
            "177it [00:03, 46.32it/s]\n"
          ]
        },
        {
          "output_type": "stream",
          "name": "stdout",
          "text": [
            "Epoch [48] Train MSE : [6.58470] Validation MSE : [6.46206]\n",
            "\n"
          ]
        },
        {
          "output_type": "stream",
          "name": "stderr",
          "text": [
            "177it [00:03, 46.83it/s]\n"
          ]
        },
        {
          "output_type": "stream",
          "name": "stdout",
          "text": [
            "Epoch [49] Train MSE : [6.58459] Validation MSE : [6.45635]\n",
            "\n"
          ]
        },
        {
          "output_type": "stream",
          "name": "stderr",
          "text": [
            "177it [00:03, 47.78it/s]\n"
          ]
        },
        {
          "output_type": "stream",
          "name": "stdout",
          "text": [
            "Epoch [50] Train MSE : [6.58116] Validation MSE : [6.45788]\n",
            "\n"
          ]
        },
        {
          "output_type": "stream",
          "name": "stderr",
          "text": [
            "177it [00:03, 48.07it/s]\n"
          ]
        },
        {
          "output_type": "stream",
          "name": "stdout",
          "text": [
            "Epoch [51] Train MSE : [6.57998] Validation MSE : [6.46073]\n",
            "\n"
          ]
        },
        {
          "output_type": "stream",
          "name": "stderr",
          "text": [
            "177it [00:03, 45.82it/s]\n"
          ]
        },
        {
          "output_type": "stream",
          "name": "stdout",
          "text": [
            "Epoch [52] Train MSE : [6.57902] Validation MSE : [6.45381]\n",
            "\n"
          ]
        },
        {
          "output_type": "stream",
          "name": "stderr",
          "text": [
            "177it [00:03, 46.91it/s]\n"
          ]
        },
        {
          "output_type": "stream",
          "name": "stdout",
          "text": [
            "Epoch [53] Train MSE : [6.57848] Validation MSE : [6.45404]\n",
            "\n"
          ]
        },
        {
          "output_type": "stream",
          "name": "stderr",
          "text": [
            "53it [00:01, 47.22it/s]\n"
          ]
        },
        {
          "output_type": "error",
          "ename": "KeyboardInterrupt",
          "evalue": "ignored",
          "traceback": [
            "\u001b[0;31m---------------------------------------------------------------------------\u001b[0m",
            "\u001b[0;31mKeyboardInterrupt\u001b[0m                         Traceback (most recent call last)",
            "\u001b[0;32m<ipython-input-227-5765d1c66594>\u001b[0m in \u001b[0;36m<module>\u001b[0;34m()\u001b[0m\n\u001b[0;32m----> 1\u001b[0;31m \u001b[0mtrain\u001b[0m\u001b[0;34m(\u001b[0m\u001b[0mmodel\u001b[0m\u001b[0;34m,\u001b[0m \u001b[0moptimizer\u001b[0m\u001b[0;34m,\u001b[0m \u001b[0mtrain_loader\u001b[0m\u001b[0;34m,\u001b[0m\u001b[0mvalid_loader\u001b[0m\u001b[0;34m,\u001b[0m \u001b[0;32mNone\u001b[0m\u001b[0;34m,\u001b[0m \u001b[0mdevice\u001b[0m\u001b[0;34m)\u001b[0m\u001b[0;34m\u001b[0m\u001b[0;34m\u001b[0m\u001b[0m\n\u001b[0m",
            "\u001b[0;32m<ipython-input-225-4d9ff7c51978>\u001b[0m in \u001b[0;36mtrain\u001b[0;34m(model, optimizer, train_loader, vali_loader, scheduler, device)\u001b[0m\n\u001b[1;32m     16\u001b[0m \u001b[0;34m\u001b[0m\u001b[0m\n\u001b[1;32m     17\u001b[0m             \u001b[0;31m# backpropagation\u001b[0m\u001b[0;34m\u001b[0m\u001b[0;34m\u001b[0m\u001b[0;34m\u001b[0m\u001b[0m\n\u001b[0;32m---> 18\u001b[0;31m             \u001b[0mloss\u001b[0m\u001b[0;34m.\u001b[0m\u001b[0mbackward\u001b[0m\u001b[0;34m(\u001b[0m\u001b[0;34m)\u001b[0m\u001b[0;34m\u001b[0m\u001b[0;34m\u001b[0m\u001b[0m\n\u001b[0m\u001b[1;32m     19\u001b[0m             \u001b[0moptimizer\u001b[0m\u001b[0;34m.\u001b[0m\u001b[0mstep\u001b[0m\u001b[0;34m(\u001b[0m\u001b[0;34m)\u001b[0m\u001b[0;34m\u001b[0m\u001b[0;34m\u001b[0m\u001b[0m\n\u001b[1;32m     20\u001b[0m \u001b[0;34m\u001b[0m\u001b[0m\n",
            "\u001b[0;32m/usr/local/lib/python3.7/dist-packages/torch/_tensor.py\u001b[0m in \u001b[0;36mbackward\u001b[0;34m(self, gradient, retain_graph, create_graph, inputs)\u001b[0m\n\u001b[1;32m    394\u001b[0m                 \u001b[0mcreate_graph\u001b[0m\u001b[0;34m=\u001b[0m\u001b[0mcreate_graph\u001b[0m\u001b[0;34m,\u001b[0m\u001b[0;34m\u001b[0m\u001b[0;34m\u001b[0m\u001b[0m\n\u001b[1;32m    395\u001b[0m                 inputs=inputs)\n\u001b[0;32m--> 396\u001b[0;31m         \u001b[0mtorch\u001b[0m\u001b[0;34m.\u001b[0m\u001b[0mautograd\u001b[0m\u001b[0;34m.\u001b[0m\u001b[0mbackward\u001b[0m\u001b[0;34m(\u001b[0m\u001b[0mself\u001b[0m\u001b[0;34m,\u001b[0m \u001b[0mgradient\u001b[0m\u001b[0;34m,\u001b[0m \u001b[0mretain_graph\u001b[0m\u001b[0;34m,\u001b[0m \u001b[0mcreate_graph\u001b[0m\u001b[0;34m,\u001b[0m \u001b[0minputs\u001b[0m\u001b[0;34m=\u001b[0m\u001b[0minputs\u001b[0m\u001b[0;34m)\u001b[0m\u001b[0;34m\u001b[0m\u001b[0;34m\u001b[0m\u001b[0m\n\u001b[0m\u001b[1;32m    397\u001b[0m \u001b[0;34m\u001b[0m\u001b[0m\n\u001b[1;32m    398\u001b[0m     \u001b[0;32mdef\u001b[0m \u001b[0mregister_hook\u001b[0m\u001b[0;34m(\u001b[0m\u001b[0mself\u001b[0m\u001b[0;34m,\u001b[0m \u001b[0mhook\u001b[0m\u001b[0;34m)\u001b[0m\u001b[0;34m:\u001b[0m\u001b[0;34m\u001b[0m\u001b[0;34m\u001b[0m\u001b[0m\n",
            "\u001b[0;32m/usr/local/lib/python3.7/dist-packages/torch/autograd/__init__.py\u001b[0m in \u001b[0;36mbackward\u001b[0;34m(tensors, grad_tensors, retain_graph, create_graph, grad_variables, inputs)\u001b[0m\n\u001b[1;32m    173\u001b[0m     Variable._execution_engine.run_backward(  # Calls into the C++ engine to run the backward pass\n\u001b[1;32m    174\u001b[0m         \u001b[0mtensors\u001b[0m\u001b[0;34m,\u001b[0m \u001b[0mgrad_tensors_\u001b[0m\u001b[0;34m,\u001b[0m \u001b[0mretain_graph\u001b[0m\u001b[0;34m,\u001b[0m \u001b[0mcreate_graph\u001b[0m\u001b[0;34m,\u001b[0m \u001b[0minputs\u001b[0m\u001b[0;34m,\u001b[0m\u001b[0;34m\u001b[0m\u001b[0;34m\u001b[0m\u001b[0m\n\u001b[0;32m--> 175\u001b[0;31m         allow_unreachable=True, accumulate_grad=True)  # Calls into the C++ engine to run the backward pass\n\u001b[0m\u001b[1;32m    176\u001b[0m \u001b[0;34m\u001b[0m\u001b[0m\n\u001b[1;32m    177\u001b[0m def grad(\n",
            "\u001b[0;31mKeyboardInterrupt\u001b[0m: "
          ]
        }
      ]
    },
    {
      "cell_type": "code",
      "source": [
        "model = torch.load(\"model.pt\")"
      ],
      "metadata": {
        "id": "gSdpNZSYUYtM"
      },
      "execution_count": null,
      "outputs": []
    },
    {
      "cell_type": "markdown",
      "source": [
        "# 군집화"
      ],
      "metadata": {
        "id": "0vcs5IAa4RCH"
      }
    },
    {
      "cell_type": "code",
      "source": [
        "df = pd.DataFrame()\n",
        "for i in tqdm(range(26917)):    \n",
        "    cust_idx = custs[i]  #1234가 안되는거\n",
        "    test_dataset = CustomDataset(rct_tensors = None, cust_idx = cust_idx, train_mode = False, transforms = None) # 어떤 고객은 데이터셋이 없을 수 있음.\n",
        "    if test_dataset.__len__() == 0:\n",
        "        continue\n",
        "    test_loader = DataLoader(test_dataset, batch_size=1000, shuffle=False, num_workers=0)\n",
        "\n",
        "    model.eval() # Evaluation\n",
        "    results = pd.DataFrame()\n",
        "    with torch.no_grad():\n",
        "        for idx, batch in enumerate(test_loader):\n",
        "            x, rct_no = batch[0].float().to(device), batch[1]\n",
        "\n",
        "            pred = model(x, train_mode = False).to(\"cpu\").detach().numpy()\n",
        "            result = pd.DataFrame(pred)\n",
        "            result = pd.concat((pdde_cust_df.loc[list(rct_no)].reset_index(), result), axis=1)\n",
        "            \n",
        "            results = pd.concat((results, result), axis=0)\n",
        "            # break\n",
        "\n",
        "    df = pd.concat((df, result), axis=0)\n",
        "df"
      ],
      "metadata": {
        "colab": {
          "base_uri": "https://localhost:8080/",
          "height": 486
        },
        "id": "I5WWHZufXp2-",
        "outputId": "3b9d0fc0-c57e-4f1f-fad0-d74a691988f6"
      },
      "execution_count": null,
      "outputs": [
        {
          "output_type": "stream",
          "name": "stderr",
          "text": [
            "100%|██████████| 26917/26917 [52:53<00:00,  8.48it/s]\n"
          ]
        },
        {
          "output_type": "execute_result",
          "data": {
            "text/plain": [
              "          rct_no  ma_fem_dv  ages  chnl_dv zon_hlv cop_c         0         1  \\\n",
              "0   A01000001113          1     3        0     Z17   A01 -0.875327  0.749697   \n",
              "1   A01000007648          1     3        0     Z17   A01 -0.258074  0.035256   \n",
              "2   A03104921319          1     3        0     Z17   A03 -0.341924  0.050866   \n",
              "3   A03104969721          1     3        0     Z17   A03 -0.419069  0.124873   \n",
              "4   A03089375637          1     3        0     Z17   A03 -0.219258 -0.009472   \n",
              "..           ...        ...   ...      ...     ...   ...       ...       ...   \n",
              "4   E06043646151          1     2        1     Z17   A06 -0.243524  0.001610   \n",
              "5   E06045000396          1     2        1     Z17   A06 -0.185293 -0.065875   \n",
              "6   E06047254820          1     2        1     Z17   A06 -0.185614 -0.056340   \n",
              "0   E06043099892          0     2        1     Z10   A06 -0.164147 -0.081122   \n",
              "1   E06046190490          0     2        1     Z10   A06 -0.164193 -0.078292   \n",
              "\n",
              "           2         3         4  \n",
              "0  -0.799011  0.764606 -0.725992  \n",
              "1   0.128591  0.085433 -0.148208  \n",
              "2   0.099332  0.166484  0.067953  \n",
              "3  -0.153551  0.184719 -0.220108  \n",
              "4   0.168269  0.056567 -0.084262  \n",
              "..       ...       ...       ...  \n",
              "4   0.149039  0.090350 -0.087709  \n",
              "5   0.184559  0.043331 -0.107194  \n",
              "6   0.191060  0.044220 -0.111981  \n",
              "0   0.193445  0.034761 -0.113489  \n",
              "1   0.191027  0.038166 -0.112214  \n",
              "\n",
              "[219753 rows x 11 columns]"
            ],
            "text/html": [
              "\n",
              "  <div id=\"df-93a1a400-1f12-4fb3-8dab-7f4c507b4768\">\n",
              "    <div class=\"colab-df-container\">\n",
              "      <div>\n",
              "<style scoped>\n",
              "    .dataframe tbody tr th:only-of-type {\n",
              "        vertical-align: middle;\n",
              "    }\n",
              "\n",
              "    .dataframe tbody tr th {\n",
              "        vertical-align: top;\n",
              "    }\n",
              "\n",
              "    .dataframe thead th {\n",
              "        text-align: right;\n",
              "    }\n",
              "</style>\n",
              "<table border=\"1\" class=\"dataframe\">\n",
              "  <thead>\n",
              "    <tr style=\"text-align: right;\">\n",
              "      <th></th>\n",
              "      <th>rct_no</th>\n",
              "      <th>ma_fem_dv</th>\n",
              "      <th>ages</th>\n",
              "      <th>chnl_dv</th>\n",
              "      <th>zon_hlv</th>\n",
              "      <th>cop_c</th>\n",
              "      <th>0</th>\n",
              "      <th>1</th>\n",
              "      <th>2</th>\n",
              "      <th>3</th>\n",
              "      <th>4</th>\n",
              "    </tr>\n",
              "  </thead>\n",
              "  <tbody>\n",
              "    <tr>\n",
              "      <th>0</th>\n",
              "      <td>A01000001113</td>\n",
              "      <td>1</td>\n",
              "      <td>3</td>\n",
              "      <td>0</td>\n",
              "      <td>Z17</td>\n",
              "      <td>A01</td>\n",
              "      <td>-0.875327</td>\n",
              "      <td>0.749697</td>\n",
              "      <td>-0.799011</td>\n",
              "      <td>0.764606</td>\n",
              "      <td>-0.725992</td>\n",
              "    </tr>\n",
              "    <tr>\n",
              "      <th>1</th>\n",
              "      <td>A01000007648</td>\n",
              "      <td>1</td>\n",
              "      <td>3</td>\n",
              "      <td>0</td>\n",
              "      <td>Z17</td>\n",
              "      <td>A01</td>\n",
              "      <td>-0.258074</td>\n",
              "      <td>0.035256</td>\n",
              "      <td>0.128591</td>\n",
              "      <td>0.085433</td>\n",
              "      <td>-0.148208</td>\n",
              "    </tr>\n",
              "    <tr>\n",
              "      <th>2</th>\n",
              "      <td>A03104921319</td>\n",
              "      <td>1</td>\n",
              "      <td>3</td>\n",
              "      <td>0</td>\n",
              "      <td>Z17</td>\n",
              "      <td>A03</td>\n",
              "      <td>-0.341924</td>\n",
              "      <td>0.050866</td>\n",
              "      <td>0.099332</td>\n",
              "      <td>0.166484</td>\n",
              "      <td>0.067953</td>\n",
              "    </tr>\n",
              "    <tr>\n",
              "      <th>3</th>\n",
              "      <td>A03104969721</td>\n",
              "      <td>1</td>\n",
              "      <td>3</td>\n",
              "      <td>0</td>\n",
              "      <td>Z17</td>\n",
              "      <td>A03</td>\n",
              "      <td>-0.419069</td>\n",
              "      <td>0.124873</td>\n",
              "      <td>-0.153551</td>\n",
              "      <td>0.184719</td>\n",
              "      <td>-0.220108</td>\n",
              "    </tr>\n",
              "    <tr>\n",
              "      <th>4</th>\n",
              "      <td>A03089375637</td>\n",
              "      <td>1</td>\n",
              "      <td>3</td>\n",
              "      <td>0</td>\n",
              "      <td>Z17</td>\n",
              "      <td>A03</td>\n",
              "      <td>-0.219258</td>\n",
              "      <td>-0.009472</td>\n",
              "      <td>0.168269</td>\n",
              "      <td>0.056567</td>\n",
              "      <td>-0.084262</td>\n",
              "    </tr>\n",
              "    <tr>\n",
              "      <th>...</th>\n",
              "      <td>...</td>\n",
              "      <td>...</td>\n",
              "      <td>...</td>\n",
              "      <td>...</td>\n",
              "      <td>...</td>\n",
              "      <td>...</td>\n",
              "      <td>...</td>\n",
              "      <td>...</td>\n",
              "      <td>...</td>\n",
              "      <td>...</td>\n",
              "      <td>...</td>\n",
              "    </tr>\n",
              "    <tr>\n",
              "      <th>4</th>\n",
              "      <td>E06043646151</td>\n",
              "      <td>1</td>\n",
              "      <td>2</td>\n",
              "      <td>1</td>\n",
              "      <td>Z17</td>\n",
              "      <td>A06</td>\n",
              "      <td>-0.243524</td>\n",
              "      <td>0.001610</td>\n",
              "      <td>0.149039</td>\n",
              "      <td>0.090350</td>\n",
              "      <td>-0.087709</td>\n",
              "    </tr>\n",
              "    <tr>\n",
              "      <th>5</th>\n",
              "      <td>E06045000396</td>\n",
              "      <td>1</td>\n",
              "      <td>2</td>\n",
              "      <td>1</td>\n",
              "      <td>Z17</td>\n",
              "      <td>A06</td>\n",
              "      <td>-0.185293</td>\n",
              "      <td>-0.065875</td>\n",
              "      <td>0.184559</td>\n",
              "      <td>0.043331</td>\n",
              "      <td>-0.107194</td>\n",
              "    </tr>\n",
              "    <tr>\n",
              "      <th>6</th>\n",
              "      <td>E06047254820</td>\n",
              "      <td>1</td>\n",
              "      <td>2</td>\n",
              "      <td>1</td>\n",
              "      <td>Z17</td>\n",
              "      <td>A06</td>\n",
              "      <td>-0.185614</td>\n",
              "      <td>-0.056340</td>\n",
              "      <td>0.191060</td>\n",
              "      <td>0.044220</td>\n",
              "      <td>-0.111981</td>\n",
              "    </tr>\n",
              "    <tr>\n",
              "      <th>0</th>\n",
              "      <td>E06043099892</td>\n",
              "      <td>0</td>\n",
              "      <td>2</td>\n",
              "      <td>1</td>\n",
              "      <td>Z10</td>\n",
              "      <td>A06</td>\n",
              "      <td>-0.164147</td>\n",
              "      <td>-0.081122</td>\n",
              "      <td>0.193445</td>\n",
              "      <td>0.034761</td>\n",
              "      <td>-0.113489</td>\n",
              "    </tr>\n",
              "    <tr>\n",
              "      <th>1</th>\n",
              "      <td>E06046190490</td>\n",
              "      <td>0</td>\n",
              "      <td>2</td>\n",
              "      <td>1</td>\n",
              "      <td>Z10</td>\n",
              "      <td>A06</td>\n",
              "      <td>-0.164193</td>\n",
              "      <td>-0.078292</td>\n",
              "      <td>0.191027</td>\n",
              "      <td>0.038166</td>\n",
              "      <td>-0.112214</td>\n",
              "    </tr>\n",
              "  </tbody>\n",
              "</table>\n",
              "<p>219753 rows × 11 columns</p>\n",
              "</div>\n",
              "      <button class=\"colab-df-convert\" onclick=\"convertToInteractive('df-93a1a400-1f12-4fb3-8dab-7f4c507b4768')\"\n",
              "              title=\"Convert this dataframe to an interactive table.\"\n",
              "              style=\"display:none;\">\n",
              "        \n",
              "  <svg xmlns=\"http://www.w3.org/2000/svg\" height=\"24px\"viewBox=\"0 0 24 24\"\n",
              "       width=\"24px\">\n",
              "    <path d=\"M0 0h24v24H0V0z\" fill=\"none\"/>\n",
              "    <path d=\"M18.56 5.44l.94 2.06.94-2.06 2.06-.94-2.06-.94-.94-2.06-.94 2.06-2.06.94zm-11 1L8.5 8.5l.94-2.06 2.06-.94-2.06-.94L8.5 2.5l-.94 2.06-2.06.94zm10 10l.94 2.06.94-2.06 2.06-.94-2.06-.94-.94-2.06-.94 2.06-2.06.94z\"/><path d=\"M17.41 7.96l-1.37-1.37c-.4-.4-.92-.59-1.43-.59-.52 0-1.04.2-1.43.59L10.3 9.45l-7.72 7.72c-.78.78-.78 2.05 0 2.83L4 21.41c.39.39.9.59 1.41.59.51 0 1.02-.2 1.41-.59l7.78-7.78 2.81-2.81c.8-.78.8-2.07 0-2.86zM5.41 20L4 18.59l7.72-7.72 1.47 1.35L5.41 20z\"/>\n",
              "  </svg>\n",
              "      </button>\n",
              "      \n",
              "  <style>\n",
              "    .colab-df-container {\n",
              "      display:flex;\n",
              "      flex-wrap:wrap;\n",
              "      gap: 12px;\n",
              "    }\n",
              "\n",
              "    .colab-df-convert {\n",
              "      background-color: #E8F0FE;\n",
              "      border: none;\n",
              "      border-radius: 50%;\n",
              "      cursor: pointer;\n",
              "      display: none;\n",
              "      fill: #1967D2;\n",
              "      height: 32px;\n",
              "      padding: 0 0 0 0;\n",
              "      width: 32px;\n",
              "    }\n",
              "\n",
              "    .colab-df-convert:hover {\n",
              "      background-color: #E2EBFA;\n",
              "      box-shadow: 0px 1px 2px rgba(60, 64, 67, 0.3), 0px 1px 3px 1px rgba(60, 64, 67, 0.15);\n",
              "      fill: #174EA6;\n",
              "    }\n",
              "\n",
              "    [theme=dark] .colab-df-convert {\n",
              "      background-color: #3B4455;\n",
              "      fill: #D2E3FC;\n",
              "    }\n",
              "\n",
              "    [theme=dark] .colab-df-convert:hover {\n",
              "      background-color: #434B5C;\n",
              "      box-shadow: 0px 1px 3px 1px rgba(0, 0, 0, 0.15);\n",
              "      filter: drop-shadow(0px 1px 2px rgba(0, 0, 0, 0.3));\n",
              "      fill: #FFFFFF;\n",
              "    }\n",
              "  </style>\n",
              "\n",
              "      <script>\n",
              "        const buttonEl =\n",
              "          document.querySelector('#df-93a1a400-1f12-4fb3-8dab-7f4c507b4768 button.colab-df-convert');\n",
              "        buttonEl.style.display =\n",
              "          google.colab.kernel.accessAllowed ? 'block' : 'none';\n",
              "\n",
              "        async function convertToInteractive(key) {\n",
              "          const element = document.querySelector('#df-93a1a400-1f12-4fb3-8dab-7f4c507b4768');\n",
              "          const dataTable =\n",
              "            await google.colab.kernel.invokeFunction('convertToInteractive',\n",
              "                                                     [key], {});\n",
              "          if (!dataTable) return;\n",
              "\n",
              "          const docLinkHtml = 'Like what you see? Visit the ' +\n",
              "            '<a target=\"_blank\" href=https://colab.research.google.com/notebooks/data_table.ipynb>data table notebook</a>'\n",
              "            + ' to learn more about interactive tables.';\n",
              "          element.innerHTML = '';\n",
              "          dataTable['output_type'] = 'display_data';\n",
              "          await google.colab.output.renderOutput(dataTable, element);\n",
              "          const docLink = document.createElement('div');\n",
              "          docLink.innerHTML = docLinkHtml;\n",
              "          element.appendChild(docLink);\n",
              "        }\n",
              "      </script>\n",
              "    </div>\n",
              "  </div>\n",
              "  "
            ]
          },
          "metadata": {},
          "execution_count": 230
        }
      ]
    },
    {
      "cell_type": "code",
      "source": [
        "summary = df.iloc[:,6:]\n",
        "fcm = FCM(n_clusters=20, random_state= 0)\n",
        "fcm.fit(summary.to_numpy())\n",
        "\n",
        "fcm_labels = fcm.predict(summary.to_numpy())\n",
        "new_df = pd.DataFrame(fcm.u)\n",
        "new_df['rct_no'] = df['rct_no'].reset_index(drop = True)\n",
        "new_df"
      ],
      "metadata": {
        "colab": {
          "base_uri": "https://localhost:8080/",
          "height": 661
        },
        "id": "PgMucX0qxQru",
        "outputId": "7a64917d-e6d0-4391-a130-29c490ed8f83"
      },
      "execution_count": null,
      "outputs": [
        {
          "output_type": "execute_result",
          "data": {
            "text/plain": [
              "              0         1         2         3         4         5         6   \\\n",
              "0       0.061704  0.018176  0.179670  0.171544  0.006814  0.192833  0.013966   \n",
              "1       0.000027  0.000048  0.000013  0.000020  0.000154  0.000015  0.000060   \n",
              "2       0.000844  0.389793  0.000114  0.000303  0.000472  0.000156  0.006416   \n",
              "3       0.000762  0.001940  0.000288  0.000487  0.035211  0.000340  0.003043   \n",
              "4       0.000007  0.000016  0.000003  0.000005  0.000144  0.000003  0.000023   \n",
              "...          ...       ...       ...       ...       ...       ...       ...   \n",
              "219748  0.000018  0.000032  0.000009  0.000013  0.000102  0.000010  0.000040   \n",
              "219749  0.000080  0.000304  0.000006  0.000021  0.000013  0.000009  0.000075   \n",
              "219750  0.000114  0.000431  0.000009  0.000029  0.000019  0.000013  0.000107   \n",
              "219751  0.000053  0.000198  0.000004  0.000014  0.000009  0.000006  0.000049   \n",
              "219752  0.000026  0.000100  0.000002  0.000007  0.000004  0.000003  0.000025   \n",
              "\n",
              "              7         8         9         10        11        12        13  \\\n",
              "0       0.063156  0.003107  0.159941  0.004790  0.010691  0.004790  0.025136   \n",
              "1       0.000012  0.995351  0.000023  0.000433  0.000079  0.000433  0.000039   \n",
              "2       0.000094  0.000095  0.000444  0.000211  0.001881  0.000211  0.006927   \n",
              "3       0.000250  0.003074  0.000596  0.040295  0.005372  0.040098  0.001351   \n",
              "4       0.000003  0.000066  0.000006  0.328252  0.000036  0.670190  0.000012   \n",
              "...          ...       ...       ...       ...       ...       ...       ...   \n",
              "219748  0.000008  0.996977  0.000015  0.000287  0.000052  0.000287  0.000026   \n",
              "219749  0.000005  0.000003  0.000032  0.000007  0.000036  0.000007  0.998968   \n",
              "219750  0.000007  0.000005  0.000046  0.000010  0.000051  0.000010  0.998540   \n",
              "219751  0.000003  0.000002  0.000021  0.000004  0.000024  0.000004  0.999327   \n",
              "219752  0.000002  0.000001  0.000011  0.000002  0.000012  0.000002  0.999662   \n",
              "\n",
              "              14            15        16        17        18        19  \n",
              "0       0.004090  2.759869e-03  0.044186  0.018242  0.008685  0.005718  \n",
              "1       0.000976  1.894549e-03  0.000031  0.000048  0.000103  0.000242  \n",
              "2       0.000155  7.591839e-05  0.001211  0.589574  0.000720  0.000304  \n",
              "3       0.011390  1.944036e-03  0.000971  0.001943  0.010143  0.840504  \n",
              "4       0.000562  3.407693e-05  0.000009  0.000016  0.000054  0.000560  \n",
              "...          ...           ...       ...       ...       ...       ...  \n",
              "219748  0.000648  1.197294e-03  0.000021  0.000032  0.000068  0.000160  \n",
              "219749  0.000005  2.747963e-06  0.000092  0.000304  0.000019  0.000009  \n",
              "219750  0.000007  3.887079e-06  0.000130  0.000430  0.000026  0.000013  \n",
              "219751  0.000003  1.810845e-06  0.000059  0.000197  0.000012  0.000006  \n",
              "219752  0.000002  9.090124e-07  0.000030  0.000099  0.000006  0.000003  \n",
              "\n",
              "[219753 rows x 20 columns]"
            ],
            "text/html": [
              "\n",
              "  <div id=\"df-54a1418b-8898-48eb-8268-361af9a3e070\">\n",
              "    <div class=\"colab-df-container\">\n",
              "      <div>\n",
              "<style scoped>\n",
              "    .dataframe tbody tr th:only-of-type {\n",
              "        vertical-align: middle;\n",
              "    }\n",
              "\n",
              "    .dataframe tbody tr th {\n",
              "        vertical-align: top;\n",
              "    }\n",
              "\n",
              "    .dataframe thead th {\n",
              "        text-align: right;\n",
              "    }\n",
              "</style>\n",
              "<table border=\"1\" class=\"dataframe\">\n",
              "  <thead>\n",
              "    <tr style=\"text-align: right;\">\n",
              "      <th></th>\n",
              "      <th>0</th>\n",
              "      <th>1</th>\n",
              "      <th>2</th>\n",
              "      <th>3</th>\n",
              "      <th>4</th>\n",
              "      <th>5</th>\n",
              "      <th>6</th>\n",
              "      <th>7</th>\n",
              "      <th>8</th>\n",
              "      <th>9</th>\n",
              "      <th>10</th>\n",
              "      <th>11</th>\n",
              "      <th>12</th>\n",
              "      <th>13</th>\n",
              "      <th>14</th>\n",
              "      <th>15</th>\n",
              "      <th>16</th>\n",
              "      <th>17</th>\n",
              "      <th>18</th>\n",
              "      <th>19</th>\n",
              "    </tr>\n",
              "  </thead>\n",
              "  <tbody>\n",
              "    <tr>\n",
              "      <th>0</th>\n",
              "      <td>0.061704</td>\n",
              "      <td>0.018176</td>\n",
              "      <td>0.179670</td>\n",
              "      <td>0.171544</td>\n",
              "      <td>0.006814</td>\n",
              "      <td>0.192833</td>\n",
              "      <td>0.013966</td>\n",
              "      <td>0.063156</td>\n",
              "      <td>0.003107</td>\n",
              "      <td>0.159941</td>\n",
              "      <td>0.004790</td>\n",
              "      <td>0.010691</td>\n",
              "      <td>0.004790</td>\n",
              "      <td>0.025136</td>\n",
              "      <td>0.004090</td>\n",
              "      <td>2.759869e-03</td>\n",
              "      <td>0.044186</td>\n",
              "      <td>0.018242</td>\n",
              "      <td>0.008685</td>\n",
              "      <td>0.005718</td>\n",
              "    </tr>\n",
              "    <tr>\n",
              "      <th>1</th>\n",
              "      <td>0.000027</td>\n",
              "      <td>0.000048</td>\n",
              "      <td>0.000013</td>\n",
              "      <td>0.000020</td>\n",
              "      <td>0.000154</td>\n",
              "      <td>0.000015</td>\n",
              "      <td>0.000060</td>\n",
              "      <td>0.000012</td>\n",
              "      <td>0.995351</td>\n",
              "      <td>0.000023</td>\n",
              "      <td>0.000433</td>\n",
              "      <td>0.000079</td>\n",
              "      <td>0.000433</td>\n",
              "      <td>0.000039</td>\n",
              "      <td>0.000976</td>\n",
              "      <td>1.894549e-03</td>\n",
              "      <td>0.000031</td>\n",
              "      <td>0.000048</td>\n",
              "      <td>0.000103</td>\n",
              "      <td>0.000242</td>\n",
              "    </tr>\n",
              "    <tr>\n",
              "      <th>2</th>\n",
              "      <td>0.000844</td>\n",
              "      <td>0.389793</td>\n",
              "      <td>0.000114</td>\n",
              "      <td>0.000303</td>\n",
              "      <td>0.000472</td>\n",
              "      <td>0.000156</td>\n",
              "      <td>0.006416</td>\n",
              "      <td>0.000094</td>\n",
              "      <td>0.000095</td>\n",
              "      <td>0.000444</td>\n",
              "      <td>0.000211</td>\n",
              "      <td>0.001881</td>\n",
              "      <td>0.000211</td>\n",
              "      <td>0.006927</td>\n",
              "      <td>0.000155</td>\n",
              "      <td>7.591839e-05</td>\n",
              "      <td>0.001211</td>\n",
              "      <td>0.589574</td>\n",
              "      <td>0.000720</td>\n",
              "      <td>0.000304</td>\n",
              "    </tr>\n",
              "    <tr>\n",
              "      <th>3</th>\n",
              "      <td>0.000762</td>\n",
              "      <td>0.001940</td>\n",
              "      <td>0.000288</td>\n",
              "      <td>0.000487</td>\n",
              "      <td>0.035211</td>\n",
              "      <td>0.000340</td>\n",
              "      <td>0.003043</td>\n",
              "      <td>0.000250</td>\n",
              "      <td>0.003074</td>\n",
              "      <td>0.000596</td>\n",
              "      <td>0.040295</td>\n",
              "      <td>0.005372</td>\n",
              "      <td>0.040098</td>\n",
              "      <td>0.001351</td>\n",
              "      <td>0.011390</td>\n",
              "      <td>1.944036e-03</td>\n",
              "      <td>0.000971</td>\n",
              "      <td>0.001943</td>\n",
              "      <td>0.010143</td>\n",
              "      <td>0.840504</td>\n",
              "    </tr>\n",
              "    <tr>\n",
              "      <th>4</th>\n",
              "      <td>0.000007</td>\n",
              "      <td>0.000016</td>\n",
              "      <td>0.000003</td>\n",
              "      <td>0.000005</td>\n",
              "      <td>0.000144</td>\n",
              "      <td>0.000003</td>\n",
              "      <td>0.000023</td>\n",
              "      <td>0.000003</td>\n",
              "      <td>0.000066</td>\n",
              "      <td>0.000006</td>\n",
              "      <td>0.328252</td>\n",
              "      <td>0.000036</td>\n",
              "      <td>0.670190</td>\n",
              "      <td>0.000012</td>\n",
              "      <td>0.000562</td>\n",
              "      <td>3.407693e-05</td>\n",
              "      <td>0.000009</td>\n",
              "      <td>0.000016</td>\n",
              "      <td>0.000054</td>\n",
              "      <td>0.000560</td>\n",
              "    </tr>\n",
              "    <tr>\n",
              "      <th>...</th>\n",
              "      <td>...</td>\n",
              "      <td>...</td>\n",
              "      <td>...</td>\n",
              "      <td>...</td>\n",
              "      <td>...</td>\n",
              "      <td>...</td>\n",
              "      <td>...</td>\n",
              "      <td>...</td>\n",
              "      <td>...</td>\n",
              "      <td>...</td>\n",
              "      <td>...</td>\n",
              "      <td>...</td>\n",
              "      <td>...</td>\n",
              "      <td>...</td>\n",
              "      <td>...</td>\n",
              "      <td>...</td>\n",
              "      <td>...</td>\n",
              "      <td>...</td>\n",
              "      <td>...</td>\n",
              "      <td>...</td>\n",
              "    </tr>\n",
              "    <tr>\n",
              "      <th>219748</th>\n",
              "      <td>0.000018</td>\n",
              "      <td>0.000032</td>\n",
              "      <td>0.000009</td>\n",
              "      <td>0.000013</td>\n",
              "      <td>0.000102</td>\n",
              "      <td>0.000010</td>\n",
              "      <td>0.000040</td>\n",
              "      <td>0.000008</td>\n",
              "      <td>0.996977</td>\n",
              "      <td>0.000015</td>\n",
              "      <td>0.000287</td>\n",
              "      <td>0.000052</td>\n",
              "      <td>0.000287</td>\n",
              "      <td>0.000026</td>\n",
              "      <td>0.000648</td>\n",
              "      <td>1.197294e-03</td>\n",
              "      <td>0.000021</td>\n",
              "      <td>0.000032</td>\n",
              "      <td>0.000068</td>\n",
              "      <td>0.000160</td>\n",
              "    </tr>\n",
              "    <tr>\n",
              "      <th>219749</th>\n",
              "      <td>0.000080</td>\n",
              "      <td>0.000304</td>\n",
              "      <td>0.000006</td>\n",
              "      <td>0.000021</td>\n",
              "      <td>0.000013</td>\n",
              "      <td>0.000009</td>\n",
              "      <td>0.000075</td>\n",
              "      <td>0.000005</td>\n",
              "      <td>0.000003</td>\n",
              "      <td>0.000032</td>\n",
              "      <td>0.000007</td>\n",
              "      <td>0.000036</td>\n",
              "      <td>0.000007</td>\n",
              "      <td>0.998968</td>\n",
              "      <td>0.000005</td>\n",
              "      <td>2.747963e-06</td>\n",
              "      <td>0.000092</td>\n",
              "      <td>0.000304</td>\n",
              "      <td>0.000019</td>\n",
              "      <td>0.000009</td>\n",
              "    </tr>\n",
              "    <tr>\n",
              "      <th>219750</th>\n",
              "      <td>0.000114</td>\n",
              "      <td>0.000431</td>\n",
              "      <td>0.000009</td>\n",
              "      <td>0.000029</td>\n",
              "      <td>0.000019</td>\n",
              "      <td>0.000013</td>\n",
              "      <td>0.000107</td>\n",
              "      <td>0.000007</td>\n",
              "      <td>0.000005</td>\n",
              "      <td>0.000046</td>\n",
              "      <td>0.000010</td>\n",
              "      <td>0.000051</td>\n",
              "      <td>0.000010</td>\n",
              "      <td>0.998540</td>\n",
              "      <td>0.000007</td>\n",
              "      <td>3.887079e-06</td>\n",
              "      <td>0.000130</td>\n",
              "      <td>0.000430</td>\n",
              "      <td>0.000026</td>\n",
              "      <td>0.000013</td>\n",
              "    </tr>\n",
              "    <tr>\n",
              "      <th>219751</th>\n",
              "      <td>0.000053</td>\n",
              "      <td>0.000198</td>\n",
              "      <td>0.000004</td>\n",
              "      <td>0.000014</td>\n",
              "      <td>0.000009</td>\n",
              "      <td>0.000006</td>\n",
              "      <td>0.000049</td>\n",
              "      <td>0.000003</td>\n",
              "      <td>0.000002</td>\n",
              "      <td>0.000021</td>\n",
              "      <td>0.000004</td>\n",
              "      <td>0.000024</td>\n",
              "      <td>0.000004</td>\n",
              "      <td>0.999327</td>\n",
              "      <td>0.000003</td>\n",
              "      <td>1.810845e-06</td>\n",
              "      <td>0.000059</td>\n",
              "      <td>0.000197</td>\n",
              "      <td>0.000012</td>\n",
              "      <td>0.000006</td>\n",
              "    </tr>\n",
              "    <tr>\n",
              "      <th>219752</th>\n",
              "      <td>0.000026</td>\n",
              "      <td>0.000100</td>\n",
              "      <td>0.000002</td>\n",
              "      <td>0.000007</td>\n",
              "      <td>0.000004</td>\n",
              "      <td>0.000003</td>\n",
              "      <td>0.000025</td>\n",
              "      <td>0.000002</td>\n",
              "      <td>0.000001</td>\n",
              "      <td>0.000011</td>\n",
              "      <td>0.000002</td>\n",
              "      <td>0.000012</td>\n",
              "      <td>0.000002</td>\n",
              "      <td>0.999662</td>\n",
              "      <td>0.000002</td>\n",
              "      <td>9.090124e-07</td>\n",
              "      <td>0.000030</td>\n",
              "      <td>0.000099</td>\n",
              "      <td>0.000006</td>\n",
              "      <td>0.000003</td>\n",
              "    </tr>\n",
              "  </tbody>\n",
              "</table>\n",
              "<p>219753 rows × 20 columns</p>\n",
              "</div>\n",
              "      <button class=\"colab-df-convert\" onclick=\"convertToInteractive('df-54a1418b-8898-48eb-8268-361af9a3e070')\"\n",
              "              title=\"Convert this dataframe to an interactive table.\"\n",
              "              style=\"display:none;\">\n",
              "        \n",
              "  <svg xmlns=\"http://www.w3.org/2000/svg\" height=\"24px\"viewBox=\"0 0 24 24\"\n",
              "       width=\"24px\">\n",
              "    <path d=\"M0 0h24v24H0V0z\" fill=\"none\"/>\n",
              "    <path d=\"M18.56 5.44l.94 2.06.94-2.06 2.06-.94-2.06-.94-.94-2.06-.94 2.06-2.06.94zm-11 1L8.5 8.5l.94-2.06 2.06-.94-2.06-.94L8.5 2.5l-.94 2.06-2.06.94zm10 10l.94 2.06.94-2.06 2.06-.94-2.06-.94-.94-2.06-.94 2.06-2.06.94z\"/><path d=\"M17.41 7.96l-1.37-1.37c-.4-.4-.92-.59-1.43-.59-.52 0-1.04.2-1.43.59L10.3 9.45l-7.72 7.72c-.78.78-.78 2.05 0 2.83L4 21.41c.39.39.9.59 1.41.59.51 0 1.02-.2 1.41-.59l7.78-7.78 2.81-2.81c.8-.78.8-2.07 0-2.86zM5.41 20L4 18.59l7.72-7.72 1.47 1.35L5.41 20z\"/>\n",
              "  </svg>\n",
              "      </button>\n",
              "      \n",
              "  <style>\n",
              "    .colab-df-container {\n",
              "      display:flex;\n",
              "      flex-wrap:wrap;\n",
              "      gap: 12px;\n",
              "    }\n",
              "\n",
              "    .colab-df-convert {\n",
              "      background-color: #E8F0FE;\n",
              "      border: none;\n",
              "      border-radius: 50%;\n",
              "      cursor: pointer;\n",
              "      display: none;\n",
              "      fill: #1967D2;\n",
              "      height: 32px;\n",
              "      padding: 0 0 0 0;\n",
              "      width: 32px;\n",
              "    }\n",
              "\n",
              "    .colab-df-convert:hover {\n",
              "      background-color: #E2EBFA;\n",
              "      box-shadow: 0px 1px 2px rgba(60, 64, 67, 0.3), 0px 1px 3px 1px rgba(60, 64, 67, 0.15);\n",
              "      fill: #174EA6;\n",
              "    }\n",
              "\n",
              "    [theme=dark] .colab-df-convert {\n",
              "      background-color: #3B4455;\n",
              "      fill: #D2E3FC;\n",
              "    }\n",
              "\n",
              "    [theme=dark] .colab-df-convert:hover {\n",
              "      background-color: #434B5C;\n",
              "      box-shadow: 0px 1px 3px 1px rgba(0, 0, 0, 0.15);\n",
              "      filter: drop-shadow(0px 1px 2px rgba(0, 0, 0, 0.3));\n",
              "      fill: #FFFFFF;\n",
              "    }\n",
              "  </style>\n",
              "\n",
              "      <script>\n",
              "        const buttonEl =\n",
              "          document.querySelector('#df-54a1418b-8898-48eb-8268-361af9a3e070 button.colab-df-convert');\n",
              "        buttonEl.style.display =\n",
              "          google.colab.kernel.accessAllowed ? 'block' : 'none';\n",
              "\n",
              "        async function convertToInteractive(key) {\n",
              "          const element = document.querySelector('#df-54a1418b-8898-48eb-8268-361af9a3e070');\n",
              "          const dataTable =\n",
              "            await google.colab.kernel.invokeFunction('convertToInteractive',\n",
              "                                                     [key], {});\n",
              "          if (!dataTable) return;\n",
              "\n",
              "          const docLinkHtml = 'Like what you see? Visit the ' +\n",
              "            '<a target=\"_blank\" href=https://colab.research.google.com/notebooks/data_table.ipynb>data table notebook</a>'\n",
              "            + ' to learn more about interactive tables.';\n",
              "          element.innerHTML = '';\n",
              "          dataTable['output_type'] = 'display_data';\n",
              "          await google.colab.output.renderOutput(dataTable, element);\n",
              "          const docLink = document.createElement('div');\n",
              "          docLink.innerHTML = docLinkHtml;\n",
              "          element.appendChild(docLink);\n",
              "        }\n",
              "      </script>\n",
              "    </div>\n",
              "  </div>\n",
              "  "
            ]
          },
          "metadata": {},
          "execution_count": 239
        }
      ]
    },
    {
      "cell_type": "code",
      "source": [
        "df['pred'] = fcm_labels\n",
        "df['pred'].value_counts()"
      ],
      "metadata": {
        "colab": {
          "base_uri": "https://localhost:8080/"
        },
        "id": "f63M5L8dxVKi",
        "outputId": "f9775a63-e8b4-4f0d-f414-b20d37c6c4e0"
      },
      "execution_count": null,
      "outputs": [
        {
          "output_type": "execute_result",
          "data": {
            "text/plain": [
              "3     24116\n",
              "11    23524\n",
              "4     22577\n",
              "1     18177\n",
              "5     13731\n",
              "9     12675\n",
              "10    12657\n",
              "17    12155\n",
              "13    11415\n",
              "15    11197\n",
              "19     9581\n",
              "8      8310\n",
              "6      6796\n",
              "18     6639\n",
              "2      5237\n",
              "14     4635\n",
              "16     4362\n",
              "0      4223\n",
              "7      3873\n",
              "12     3873\n",
              "Name: pred, dtype: int64"
            ]
          },
          "metadata": {},
          "execution_count": 237
        }
      ]
    },
    {
      "cell_type": "code",
      "source": [
        "new_df"
      ],
      "metadata": {
        "colab": {
          "base_uri": "https://localhost:8080/",
          "height": 661
        },
        "id": "EHx8NehTAIDm",
        "outputId": "92c74ec3-d482-4080-a7e4-b1290dd00639"
      },
      "execution_count": null,
      "outputs": [
        {
          "output_type": "execute_result",
          "data": {
            "text/plain": [
              "               0         1         2         3         4         5         6  \\\n",
              "0       0.061704  0.018176  0.179670  0.171544  0.006814  0.192833  0.013966   \n",
              "1       0.000027  0.000048  0.000013  0.000020  0.000154  0.000015  0.000060   \n",
              "2       0.000844  0.389793  0.000114  0.000303  0.000472  0.000156  0.006416   \n",
              "3       0.000762  0.001940  0.000288  0.000487  0.035211  0.000340  0.003043   \n",
              "4       0.000007  0.000016  0.000003  0.000005  0.000144  0.000003  0.000023   \n",
              "...          ...       ...       ...       ...       ...       ...       ...   \n",
              "219748  0.000018  0.000032  0.000009  0.000013  0.000102  0.000010  0.000040   \n",
              "219749  0.000080  0.000304  0.000006  0.000021  0.000013  0.000009  0.000075   \n",
              "219750  0.000114  0.000431  0.000009  0.000029  0.000019  0.000013  0.000107   \n",
              "219751  0.000053  0.000198  0.000004  0.000014  0.000009  0.000006  0.000049   \n",
              "219752  0.000026  0.000100  0.000002  0.000007  0.000004  0.000003  0.000025   \n",
              "\n",
              "               7         8         9  ...        11        12        13  \\\n",
              "0       0.063156  0.003107  0.159941  ...  0.010691  0.004790  0.025136   \n",
              "1       0.000012  0.995351  0.000023  ...  0.000079  0.000433  0.000039   \n",
              "2       0.000094  0.000095  0.000444  ...  0.001881  0.000211  0.006927   \n",
              "3       0.000250  0.003074  0.000596  ...  0.005372  0.040098  0.001351   \n",
              "4       0.000003  0.000066  0.000006  ...  0.000036  0.670190  0.000012   \n",
              "...          ...       ...       ...  ...       ...       ...       ...   \n",
              "219748  0.000008  0.996977  0.000015  ...  0.000052  0.000287  0.000026   \n",
              "219749  0.000005  0.000003  0.000032  ...  0.000036  0.000007  0.998968   \n",
              "219750  0.000007  0.000005  0.000046  ...  0.000051  0.000010  0.998540   \n",
              "219751  0.000003  0.000002  0.000021  ...  0.000024  0.000004  0.999327   \n",
              "219752  0.000002  0.000001  0.000011  ...  0.000012  0.000002  0.999662   \n",
              "\n",
              "              14            15        16        17        18        19  \\\n",
              "0       0.004090  2.759869e-03  0.044186  0.018242  0.008685  0.005718   \n",
              "1       0.000976  1.894549e-03  0.000031  0.000048  0.000103  0.000242   \n",
              "2       0.000155  7.591839e-05  0.001211  0.589574  0.000720  0.000304   \n",
              "3       0.011390  1.944036e-03  0.000971  0.001943  0.010143  0.840504   \n",
              "4       0.000562  3.407693e-05  0.000009  0.000016  0.000054  0.000560   \n",
              "...          ...           ...       ...       ...       ...       ...   \n",
              "219748  0.000648  1.197294e-03  0.000021  0.000032  0.000068  0.000160   \n",
              "219749  0.000005  2.747963e-06  0.000092  0.000304  0.000019  0.000009   \n",
              "219750  0.000007  3.887079e-06  0.000130  0.000430  0.000026  0.000013   \n",
              "219751  0.000003  1.810845e-06  0.000059  0.000197  0.000012  0.000006   \n",
              "219752  0.000002  9.090124e-07  0.000030  0.000099  0.000006  0.000003   \n",
              "\n",
              "              rct_no  \n",
              "0       A01000001113  \n",
              "1       A01000007648  \n",
              "2       A03104921319  \n",
              "3       A03104969721  \n",
              "4       A03089375637  \n",
              "...              ...  \n",
              "219748  E06043646151  \n",
              "219749  E06045000396  \n",
              "219750  E06047254820  \n",
              "219751  E06043099892  \n",
              "219752  E06046190490  \n",
              "\n",
              "[219753 rows x 21 columns]"
            ],
            "text/html": [
              "\n",
              "  <div id=\"df-fe9ac3d0-5af3-4bd6-8ede-024ffcaf9223\">\n",
              "    <div class=\"colab-df-container\">\n",
              "      <div>\n",
              "<style scoped>\n",
              "    .dataframe tbody tr th:only-of-type {\n",
              "        vertical-align: middle;\n",
              "    }\n",
              "\n",
              "    .dataframe tbody tr th {\n",
              "        vertical-align: top;\n",
              "    }\n",
              "\n",
              "    .dataframe thead th {\n",
              "        text-align: right;\n",
              "    }\n",
              "</style>\n",
              "<table border=\"1\" class=\"dataframe\">\n",
              "  <thead>\n",
              "    <tr style=\"text-align: right;\">\n",
              "      <th></th>\n",
              "      <th>0</th>\n",
              "      <th>1</th>\n",
              "      <th>2</th>\n",
              "      <th>3</th>\n",
              "      <th>4</th>\n",
              "      <th>5</th>\n",
              "      <th>6</th>\n",
              "      <th>7</th>\n",
              "      <th>8</th>\n",
              "      <th>9</th>\n",
              "      <th>...</th>\n",
              "      <th>11</th>\n",
              "      <th>12</th>\n",
              "      <th>13</th>\n",
              "      <th>14</th>\n",
              "      <th>15</th>\n",
              "      <th>16</th>\n",
              "      <th>17</th>\n",
              "      <th>18</th>\n",
              "      <th>19</th>\n",
              "      <th>rct_no</th>\n",
              "    </tr>\n",
              "  </thead>\n",
              "  <tbody>\n",
              "    <tr>\n",
              "      <th>0</th>\n",
              "      <td>0.061704</td>\n",
              "      <td>0.018176</td>\n",
              "      <td>0.179670</td>\n",
              "      <td>0.171544</td>\n",
              "      <td>0.006814</td>\n",
              "      <td>0.192833</td>\n",
              "      <td>0.013966</td>\n",
              "      <td>0.063156</td>\n",
              "      <td>0.003107</td>\n",
              "      <td>0.159941</td>\n",
              "      <td>...</td>\n",
              "      <td>0.010691</td>\n",
              "      <td>0.004790</td>\n",
              "      <td>0.025136</td>\n",
              "      <td>0.004090</td>\n",
              "      <td>2.759869e-03</td>\n",
              "      <td>0.044186</td>\n",
              "      <td>0.018242</td>\n",
              "      <td>0.008685</td>\n",
              "      <td>0.005718</td>\n",
              "      <td>A01000001113</td>\n",
              "    </tr>\n",
              "    <tr>\n",
              "      <th>1</th>\n",
              "      <td>0.000027</td>\n",
              "      <td>0.000048</td>\n",
              "      <td>0.000013</td>\n",
              "      <td>0.000020</td>\n",
              "      <td>0.000154</td>\n",
              "      <td>0.000015</td>\n",
              "      <td>0.000060</td>\n",
              "      <td>0.000012</td>\n",
              "      <td>0.995351</td>\n",
              "      <td>0.000023</td>\n",
              "      <td>...</td>\n",
              "      <td>0.000079</td>\n",
              "      <td>0.000433</td>\n",
              "      <td>0.000039</td>\n",
              "      <td>0.000976</td>\n",
              "      <td>1.894549e-03</td>\n",
              "      <td>0.000031</td>\n",
              "      <td>0.000048</td>\n",
              "      <td>0.000103</td>\n",
              "      <td>0.000242</td>\n",
              "      <td>A01000007648</td>\n",
              "    </tr>\n",
              "    <tr>\n",
              "      <th>2</th>\n",
              "      <td>0.000844</td>\n",
              "      <td>0.389793</td>\n",
              "      <td>0.000114</td>\n",
              "      <td>0.000303</td>\n",
              "      <td>0.000472</td>\n",
              "      <td>0.000156</td>\n",
              "      <td>0.006416</td>\n",
              "      <td>0.000094</td>\n",
              "      <td>0.000095</td>\n",
              "      <td>0.000444</td>\n",
              "      <td>...</td>\n",
              "      <td>0.001881</td>\n",
              "      <td>0.000211</td>\n",
              "      <td>0.006927</td>\n",
              "      <td>0.000155</td>\n",
              "      <td>7.591839e-05</td>\n",
              "      <td>0.001211</td>\n",
              "      <td>0.589574</td>\n",
              "      <td>0.000720</td>\n",
              "      <td>0.000304</td>\n",
              "      <td>A03104921319</td>\n",
              "    </tr>\n",
              "    <tr>\n",
              "      <th>3</th>\n",
              "      <td>0.000762</td>\n",
              "      <td>0.001940</td>\n",
              "      <td>0.000288</td>\n",
              "      <td>0.000487</td>\n",
              "      <td>0.035211</td>\n",
              "      <td>0.000340</td>\n",
              "      <td>0.003043</td>\n",
              "      <td>0.000250</td>\n",
              "      <td>0.003074</td>\n",
              "      <td>0.000596</td>\n",
              "      <td>...</td>\n",
              "      <td>0.005372</td>\n",
              "      <td>0.040098</td>\n",
              "      <td>0.001351</td>\n",
              "      <td>0.011390</td>\n",
              "      <td>1.944036e-03</td>\n",
              "      <td>0.000971</td>\n",
              "      <td>0.001943</td>\n",
              "      <td>0.010143</td>\n",
              "      <td>0.840504</td>\n",
              "      <td>A03104969721</td>\n",
              "    </tr>\n",
              "    <tr>\n",
              "      <th>4</th>\n",
              "      <td>0.000007</td>\n",
              "      <td>0.000016</td>\n",
              "      <td>0.000003</td>\n",
              "      <td>0.000005</td>\n",
              "      <td>0.000144</td>\n",
              "      <td>0.000003</td>\n",
              "      <td>0.000023</td>\n",
              "      <td>0.000003</td>\n",
              "      <td>0.000066</td>\n",
              "      <td>0.000006</td>\n",
              "      <td>...</td>\n",
              "      <td>0.000036</td>\n",
              "      <td>0.670190</td>\n",
              "      <td>0.000012</td>\n",
              "      <td>0.000562</td>\n",
              "      <td>3.407693e-05</td>\n",
              "      <td>0.000009</td>\n",
              "      <td>0.000016</td>\n",
              "      <td>0.000054</td>\n",
              "      <td>0.000560</td>\n",
              "      <td>A03089375637</td>\n",
              "    </tr>\n",
              "    <tr>\n",
              "      <th>...</th>\n",
              "      <td>...</td>\n",
              "      <td>...</td>\n",
              "      <td>...</td>\n",
              "      <td>...</td>\n",
              "      <td>...</td>\n",
              "      <td>...</td>\n",
              "      <td>...</td>\n",
              "      <td>...</td>\n",
              "      <td>...</td>\n",
              "      <td>...</td>\n",
              "      <td>...</td>\n",
              "      <td>...</td>\n",
              "      <td>...</td>\n",
              "      <td>...</td>\n",
              "      <td>...</td>\n",
              "      <td>...</td>\n",
              "      <td>...</td>\n",
              "      <td>...</td>\n",
              "      <td>...</td>\n",
              "      <td>...</td>\n",
              "      <td>...</td>\n",
              "    </tr>\n",
              "    <tr>\n",
              "      <th>219748</th>\n",
              "      <td>0.000018</td>\n",
              "      <td>0.000032</td>\n",
              "      <td>0.000009</td>\n",
              "      <td>0.000013</td>\n",
              "      <td>0.000102</td>\n",
              "      <td>0.000010</td>\n",
              "      <td>0.000040</td>\n",
              "      <td>0.000008</td>\n",
              "      <td>0.996977</td>\n",
              "      <td>0.000015</td>\n",
              "      <td>...</td>\n",
              "      <td>0.000052</td>\n",
              "      <td>0.000287</td>\n",
              "      <td>0.000026</td>\n",
              "      <td>0.000648</td>\n",
              "      <td>1.197294e-03</td>\n",
              "      <td>0.000021</td>\n",
              "      <td>0.000032</td>\n",
              "      <td>0.000068</td>\n",
              "      <td>0.000160</td>\n",
              "      <td>E06043646151</td>\n",
              "    </tr>\n",
              "    <tr>\n",
              "      <th>219749</th>\n",
              "      <td>0.000080</td>\n",
              "      <td>0.000304</td>\n",
              "      <td>0.000006</td>\n",
              "      <td>0.000021</td>\n",
              "      <td>0.000013</td>\n",
              "      <td>0.000009</td>\n",
              "      <td>0.000075</td>\n",
              "      <td>0.000005</td>\n",
              "      <td>0.000003</td>\n",
              "      <td>0.000032</td>\n",
              "      <td>...</td>\n",
              "      <td>0.000036</td>\n",
              "      <td>0.000007</td>\n",
              "      <td>0.998968</td>\n",
              "      <td>0.000005</td>\n",
              "      <td>2.747963e-06</td>\n",
              "      <td>0.000092</td>\n",
              "      <td>0.000304</td>\n",
              "      <td>0.000019</td>\n",
              "      <td>0.000009</td>\n",
              "      <td>E06045000396</td>\n",
              "    </tr>\n",
              "    <tr>\n",
              "      <th>219750</th>\n",
              "      <td>0.000114</td>\n",
              "      <td>0.000431</td>\n",
              "      <td>0.000009</td>\n",
              "      <td>0.000029</td>\n",
              "      <td>0.000019</td>\n",
              "      <td>0.000013</td>\n",
              "      <td>0.000107</td>\n",
              "      <td>0.000007</td>\n",
              "      <td>0.000005</td>\n",
              "      <td>0.000046</td>\n",
              "      <td>...</td>\n",
              "      <td>0.000051</td>\n",
              "      <td>0.000010</td>\n",
              "      <td>0.998540</td>\n",
              "      <td>0.000007</td>\n",
              "      <td>3.887079e-06</td>\n",
              "      <td>0.000130</td>\n",
              "      <td>0.000430</td>\n",
              "      <td>0.000026</td>\n",
              "      <td>0.000013</td>\n",
              "      <td>E06047254820</td>\n",
              "    </tr>\n",
              "    <tr>\n",
              "      <th>219751</th>\n",
              "      <td>0.000053</td>\n",
              "      <td>0.000198</td>\n",
              "      <td>0.000004</td>\n",
              "      <td>0.000014</td>\n",
              "      <td>0.000009</td>\n",
              "      <td>0.000006</td>\n",
              "      <td>0.000049</td>\n",
              "      <td>0.000003</td>\n",
              "      <td>0.000002</td>\n",
              "      <td>0.000021</td>\n",
              "      <td>...</td>\n",
              "      <td>0.000024</td>\n",
              "      <td>0.000004</td>\n",
              "      <td>0.999327</td>\n",
              "      <td>0.000003</td>\n",
              "      <td>1.810845e-06</td>\n",
              "      <td>0.000059</td>\n",
              "      <td>0.000197</td>\n",
              "      <td>0.000012</td>\n",
              "      <td>0.000006</td>\n",
              "      <td>E06043099892</td>\n",
              "    </tr>\n",
              "    <tr>\n",
              "      <th>219752</th>\n",
              "      <td>0.000026</td>\n",
              "      <td>0.000100</td>\n",
              "      <td>0.000002</td>\n",
              "      <td>0.000007</td>\n",
              "      <td>0.000004</td>\n",
              "      <td>0.000003</td>\n",
              "      <td>0.000025</td>\n",
              "      <td>0.000002</td>\n",
              "      <td>0.000001</td>\n",
              "      <td>0.000011</td>\n",
              "      <td>...</td>\n",
              "      <td>0.000012</td>\n",
              "      <td>0.000002</td>\n",
              "      <td>0.999662</td>\n",
              "      <td>0.000002</td>\n",
              "      <td>9.090124e-07</td>\n",
              "      <td>0.000030</td>\n",
              "      <td>0.000099</td>\n",
              "      <td>0.000006</td>\n",
              "      <td>0.000003</td>\n",
              "      <td>E06046190490</td>\n",
              "    </tr>\n",
              "  </tbody>\n",
              "</table>\n",
              "<p>219753 rows × 21 columns</p>\n",
              "</div>\n",
              "      <button class=\"colab-df-convert\" onclick=\"convertToInteractive('df-fe9ac3d0-5af3-4bd6-8ede-024ffcaf9223')\"\n",
              "              title=\"Convert this dataframe to an interactive table.\"\n",
              "              style=\"display:none;\">\n",
              "        \n",
              "  <svg xmlns=\"http://www.w3.org/2000/svg\" height=\"24px\"viewBox=\"0 0 24 24\"\n",
              "       width=\"24px\">\n",
              "    <path d=\"M0 0h24v24H0V0z\" fill=\"none\"/>\n",
              "    <path d=\"M18.56 5.44l.94 2.06.94-2.06 2.06-.94-2.06-.94-.94-2.06-.94 2.06-2.06.94zm-11 1L8.5 8.5l.94-2.06 2.06-.94-2.06-.94L8.5 2.5l-.94 2.06-2.06.94zm10 10l.94 2.06.94-2.06 2.06-.94-2.06-.94-.94-2.06-.94 2.06-2.06.94z\"/><path d=\"M17.41 7.96l-1.37-1.37c-.4-.4-.92-.59-1.43-.59-.52 0-1.04.2-1.43.59L10.3 9.45l-7.72 7.72c-.78.78-.78 2.05 0 2.83L4 21.41c.39.39.9.59 1.41.59.51 0 1.02-.2 1.41-.59l7.78-7.78 2.81-2.81c.8-.78.8-2.07 0-2.86zM5.41 20L4 18.59l7.72-7.72 1.47 1.35L5.41 20z\"/>\n",
              "  </svg>\n",
              "      </button>\n",
              "      \n",
              "  <style>\n",
              "    .colab-df-container {\n",
              "      display:flex;\n",
              "      flex-wrap:wrap;\n",
              "      gap: 12px;\n",
              "    }\n",
              "\n",
              "    .colab-df-convert {\n",
              "      background-color: #E8F0FE;\n",
              "      border: none;\n",
              "      border-radius: 50%;\n",
              "      cursor: pointer;\n",
              "      display: none;\n",
              "      fill: #1967D2;\n",
              "      height: 32px;\n",
              "      padding: 0 0 0 0;\n",
              "      width: 32px;\n",
              "    }\n",
              "\n",
              "    .colab-df-convert:hover {\n",
              "      background-color: #E2EBFA;\n",
              "      box-shadow: 0px 1px 2px rgba(60, 64, 67, 0.3), 0px 1px 3px 1px rgba(60, 64, 67, 0.15);\n",
              "      fill: #174EA6;\n",
              "    }\n",
              "\n",
              "    [theme=dark] .colab-df-convert {\n",
              "      background-color: #3B4455;\n",
              "      fill: #D2E3FC;\n",
              "    }\n",
              "\n",
              "    [theme=dark] .colab-df-convert:hover {\n",
              "      background-color: #434B5C;\n",
              "      box-shadow: 0px 1px 3px 1px rgba(0, 0, 0, 0.15);\n",
              "      filter: drop-shadow(0px 1px 2px rgba(0, 0, 0, 0.3));\n",
              "      fill: #FFFFFF;\n",
              "    }\n",
              "  </style>\n",
              "\n",
              "      <script>\n",
              "        const buttonEl =\n",
              "          document.querySelector('#df-fe9ac3d0-5af3-4bd6-8ede-024ffcaf9223 button.colab-df-convert');\n",
              "        buttonEl.style.display =\n",
              "          google.colab.kernel.accessAllowed ? 'block' : 'none';\n",
              "\n",
              "        async function convertToInteractive(key) {\n",
              "          const element = document.querySelector('#df-fe9ac3d0-5af3-4bd6-8ede-024ffcaf9223');\n",
              "          const dataTable =\n",
              "            await google.colab.kernel.invokeFunction('convertToInteractive',\n",
              "                                                     [key], {});\n",
              "          if (!dataTable) return;\n",
              "\n",
              "          const docLinkHtml = 'Like what you see? Visit the ' +\n",
              "            '<a target=\"_blank\" href=https://colab.research.google.com/notebooks/data_table.ipynb>data table notebook</a>'\n",
              "            + ' to learn more about interactive tables.';\n",
              "          element.innerHTML = '';\n",
              "          dataTable['output_type'] = 'display_data';\n",
              "          await google.colab.output.renderOutput(dataTable, element);\n",
              "          const docLink = document.createElement('div');\n",
              "          docLink.innerHTML = docLinkHtml;\n",
              "          element.appendChild(docLink);\n",
              "        }\n",
              "      </script>\n",
              "    </div>\n",
              "  </div>\n",
              "  "
            ]
          },
          "metadata": {},
          "execution_count": 257
        }
      ]
    },
    {
      "cell_type": "markdown",
      "source": [
        "# 추천시스템 적용"
      ],
      "metadata": {
        "id": "29s5xSqcbQgb"
      }
    },
    {
      "cell_type": "code",
      "source": [
        "from sklearn.metrics.pairwise import cosine_similarity\n",
        "\n",
        "DEMO = pd.read_csv(path + 'LPOINT_BIG_COMP_01_DEMO.csv')\n",
        "PDDE = pd.read_csv(path + 'LPOINT_BIG_COMP_02_PDDE.csv')\n",
        "COP_U = pd.read_csv(path + 'LPOINT_BIG_COMP_03_COP_U.csv')\n",
        "PD_CLAC = pd.read_csv(path + 'LPOINT_BIG_COMP_04_PD_CLAC.csv')\n",
        "BR = pd.read_csv(path + 'LPOINT_BIG_COMP_05_BR.csv')\n",
        "LPAY = pd.read_csv(path + 'LPOINT_BIG_COMP_06_LPAY.csv')\n",
        "\n",
        "def recommend(rct_num, similar = True):\n",
        "    receipt = new_df[new_df['rct_no'] == rct_num] # receipt : 영수증\n",
        "    tem = new_df.copy()\n",
        "    tem['cosine'] = cosine_similarity(receipt.iloc[:,:20].to_numpy().reshape(1,-1), new_df.iloc[:,:20].to_numpy()).T\n",
        "    \n",
        "    tem = tem[['rct_no', 'cosine']]\n",
        "    tem = tem.sort_values(by = ['cosine'], ascending = False)\n",
        "    #tem = tem.reset_index()\n",
        "    tem = tem['rct_no'][1:6].values\n",
        "    people = []\n",
        "\n",
        "    # 코사인 유사도가 높은 상위 5명(tem[0]은 본인이 나옴)\n",
        "    for i in tem:\n",
        "        # 영수증에 맞는 사람 찾기\n",
        "        people.append(PDDE[PDDE['rct_no'] == i]['cust'].values[0])\n",
        "    \n",
        "    product = [] # 같은 영수증 집합 내 상품 뽑기\n",
        "    product2 = [] # 집합 외 같은 사람이 산 상품 뽑기\n",
        "    for i in range(5):\n",
        "        reco = PDDE[PDDE['cust'] == people[i]].sort_values(by = ['de_dt'], ascending = False)\n",
        "        reco.reset_index(drop=True, inplace=True)\n",
        "        idx = reco.index[reco['rct_no'] == tem[i]][0]\n",
        "        rand = random.randint(0, 9)\n",
        "        num = tem[i]\n",
        "        \n",
        "        # 영수증 그룹 내 랜덤상품 추출\n",
        "        for k in range(10):\n",
        "            #idx += 1\n",
        "            while (True):\n",
        "                if reco.iloc[idx,1] == num:\n",
        "                    idx = idx - 1\n",
        "                else:\n",
        "                    break\n",
        "            num = reco.iloc[idx,1]\n",
        "            if k == rand:\n",
        "                product.append(reco.iloc[idx,5])\n",
        "\n",
        "        # 영수증의 사람 내 랜덤상품 추출(같은 영수증 그룹x)\n",
        "        # eidx : 끝 인덱스, idx는 영수증 그룹 첫 인덱스\n",
        "        eidx = reco.index[reco['rct_no'] == tem[i]][0] \n",
        "        # 전체 테이블 길이\n",
        "        lens = len(reco)\n",
        "        tnum = lens - eidx + idx - 1\n",
        "\n",
        "        if tnum <= 1: # 별로 가능성 없지만 딱 10개 산 고객인 경우\n",
        "            product2.append(reco.iloc[0,5]) # 가장 최근에 구매한 상품 추천\n",
        "        else:\n",
        "            rand = random.randint(0, tnum-1)\n",
        "            if rand >= idx: # 만약 같은 영수증 그룹 이상 값이 나온다면\n",
        "                rand += (eidx - idx + 1)\n",
        "            product2.append(reco.iloc[rand,5])    \n",
        "    \n",
        "\n",
        "    # 본인 선택 상품과 일치 여부(성능평가)\n",
        "    myname = PDDE[PDDE['rct_no'] == rct_num]['cust'][:1].values[0]\n",
        "    myproduct = set(PDDE[PDDE['cust'] == myname]['pd_c'])\n",
        "    mycnt = len(myproduct)\n",
        "\n",
        "    # 상품 이름 출력 위해\n",
        "    names = []\n",
        "    overlap = 0\n",
        "    for i in product:\n",
        "        if i in myproduct: # 이미 산 제품이라면\n",
        "            overlap += 1\n",
        "        else:\n",
        "            names.append(PD_CLAC[PD_CLAC['pd_c'] == i]['pd_nm'].values[0])\n",
        "    #print(*names) \n",
        "    #print(mycnt, '개 제품 구매했는데,', overlap, '개 겹치게 추천')\n",
        "\n",
        "\n",
        "    names2 = []\n",
        "    overlap2 = 0\n",
        "    for i in product2:\n",
        "        if i in myproduct: # 이미 산 제품이라면\n",
        "            overlap2 += 1\n",
        "        else:\n",
        "            names2.append(PD_CLAC[PD_CLAC['pd_c'] == i]['pd_nm'].values[0])\n",
        "    #print(*names2) \n",
        "    #print(mycnt, '개 제품 구매했는데,', overlap2, '개 겹치게 추천')\n",
        "    if similar:\n",
        "        return overlap / mycnt\n",
        "    \n",
        "    else:\n",
        "        return overlap2 / mycnt\n",
        "\n",
        "recommend('A03089375637')"
      ],
      "metadata": {
        "colab": {
          "base_uri": "https://localhost:8080/"
        },
        "id": "ZqjWkwarzgyV",
        "outputId": "8553789e-34bb-42ae-cc33-f4c228c2f616"
      },
      "execution_count": null,
      "outputs": [
        {
          "output_type": "execute_result",
          "data": {
            "text/plain": [
              "0.023809523809523808"
            ]
          },
          "metadata": {},
          "execution_count": 267
        }
      ]
    },
    {
      "cell_type": "code",
      "source": [
        "def randomrecommend(rct_num):\n",
        "    myname = PDDE[PDDE['rct_no'] == rct_num]['cust'][:1].values[0]\n",
        "    myproduct = set(PDDE[PDDE['cust'] == myname]['pd_c'])\n",
        "    mycnt = len(myproduct)\n",
        "\n",
        "    overlap = 0\n",
        "    for i in PD_CLAC['pd_c'].sample(n = 5).values:\n",
        "        if i in myproduct: # 이미 산 제품이라면\n",
        "            overlap += 1\n",
        "\n",
        "    return overlap / mycnt\n",
        "\n",
        "randomrecommend('A03089375637')"
      ],
      "metadata": {
        "colab": {
          "base_uri": "https://localhost:8080/"
        },
        "id": "hIF-VleO4whv",
        "outputId": "bcc75bbc-a89b-4483-bb84-feb4384dd33c"
      },
      "execution_count": null,
      "outputs": [
        {
          "output_type": "execute_result",
          "data": {
            "text/plain": [
              "0.0"
            ]
          },
          "metadata": {},
          "execution_count": 261
        }
      ]
    },
    {
      "cell_type": "code",
      "source": [
        "score1 = 0\n",
        "score2 = 0\n",
        "score3 = 0\n",
        "for i in tqdm(new_df['rct_no'].sample(n = 300).values):\n",
        "    score1 += recommend(i)\n",
        "    score2 += recommend(i, False)\n",
        "    score3 += randomrecommend(i)\n",
        "\n",
        "print(score1,score2,score3)"
      ],
      "metadata": {
        "colab": {
          "base_uri": "https://localhost:8080/"
        },
        "id": "94eVM8vN8Wyf",
        "outputId": "08d82684-58c7-4e02-e842-5d892fa929bd"
      },
      "execution_count": null,
      "outputs": [
        {
          "output_type": "stream",
          "name": "stderr",
          "text": [
            "100%|██████████| 300/300 [34:21<00:00,  6.87s/it]"
          ]
        },
        {
          "output_type": "stream",
          "name": "stdout",
          "text": [
            "4.4894647988910155 4.778259644577935 0.6820823564789319\n"
          ]
        },
        {
          "output_type": "stream",
          "name": "stderr",
          "text": [
            "\n"
          ]
        }
      ]
    },
    {
      "cell_type": "code",
      "source": [
        "print(score1,score2,score3)"
      ],
      "metadata": {
        "colab": {
          "base_uri": "https://localhost:8080/"
        },
        "id": "g1jO6TDa8sop",
        "outputId": "6c3f860e-e55a-4ec4-eadd-8050a807cee8"
      },
      "execution_count": null,
      "outputs": [
        {
          "output_type": "stream",
          "name": "stdout",
          "text": [
            "4.4894647988910155 4.778259644577935 0.6820823564789319\n"
          ]
        }
      ]
    },
    {
      "cell_type": "code",
      "source": [
        ""
      ],
      "metadata": {
        "id": "vWHY36feeyFR"
      },
      "execution_count": null,
      "outputs": []
    }
  ]
}