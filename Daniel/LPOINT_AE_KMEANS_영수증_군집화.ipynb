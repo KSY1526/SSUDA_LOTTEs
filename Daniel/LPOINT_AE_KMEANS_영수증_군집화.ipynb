{
  "nbformat": 4,
  "nbformat_minor": 0,
  "metadata": {
    "colab": {
      "name": "LPOINT_AE_KMEANS_영수증 군집화.ipynb",
      "provenance": [],
      "collapsed_sections": [],
      "machine_shape": "hm",
      "authorship_tag": "ABX9TyMt1/Dcle6Djtf/4bOJqAz6",
      "include_colab_link": true
    },
    "kernelspec": {
      "name": "python3",
      "display_name": "Python 3"
    },
    "language_info": {
      "name": "python"
    },
    "gpuClass": "standard",
    "accelerator": "GPU"
  },
  "cells": [
    {
      "cell_type": "markdown",
      "metadata": {
        "id": "view-in-github",
        "colab_type": "text"
      },
      "source": [
        "<a href=\"https://colab.research.google.com/github/KSY1526/SSUDA_LOTTEs/blob/main/Daniel/LPOINT_AE_KMEANS_%EC%98%81%EC%88%98%EC%A6%9D_%EA%B5%B0%EC%A7%91%ED%99%94.ipynb\" target=\"_parent\"><img src=\"https://colab.research.google.com/assets/colab-badge.svg\" alt=\"Open In Colab\"/></a>"
      ]
    },
    {
      "cell_type": "code",
      "execution_count": 1,
      "metadata": {
        "colab": {
          "base_uri": "https://localhost:8080/"
        },
        "id": "o71xo7Hp_eCq",
        "outputId": "fc68dd03-b178-4ee1-bb8d-aec3c0179364"
      },
      "outputs": [
        {
          "output_type": "stream",
          "name": "stdout",
          "text": [
            "Tue Jul 19 07:39:10 2022       \n",
            "+-----------------------------------------------------------------------------+\n",
            "| NVIDIA-SMI 460.32.03    Driver Version: 460.32.03    CUDA Version: 11.2     |\n",
            "|-------------------------------+----------------------+----------------------+\n",
            "| GPU  Name        Persistence-M| Bus-Id        Disp.A | Volatile Uncorr. ECC |\n",
            "| Fan  Temp  Perf  Pwr:Usage/Cap|         Memory-Usage | GPU-Util  Compute M. |\n",
            "|                               |                      |               MIG M. |\n",
            "|===============================+======================+======================|\n",
            "|   0  Tesla T4            Off  | 00000000:00:04.0 Off |                    0 |\n",
            "| N/A   40C    P8    11W /  70W |      0MiB / 15109MiB |      0%      Default |\n",
            "|                               |                      |                  N/A |\n",
            "+-------------------------------+----------------------+----------------------+\n",
            "                                                                               \n",
            "+-----------------------------------------------------------------------------+\n",
            "| Processes:                                                                  |\n",
            "|  GPU   GI   CI        PID   Type   Process name                  GPU Memory |\n",
            "|        ID   ID                                                   Usage      |\n",
            "|=============================================================================|\n",
            "|  No running processes found                                                 |\n",
            "+-----------------------------------------------------------------------------+\n",
            "processor\t: 0\n",
            "vendor_id\t: GenuineIntel\n",
            "cpu family\t: 6\n",
            "model\t\t: 85\n",
            "model name\t: Intel(R) Xeon(R) CPU @ 2.00GHz\n",
            "stepping\t: 3\n",
            "microcode\t: 0x1\n",
            "cpu MHz\t\t: 2000.174\n",
            "cache size\t: 39424 KB\n",
            "physical id\t: 0\n",
            "MemTotal:       26692024 kB\n",
            "MemFree:        23969772 kB\n",
            "MemAvailable:   25737772 kB\n"
          ]
        }
      ],
      "source": [
        "!nvidia-smi\n",
        "!head /proc/cpuinfo\n",
        "!head -n 3 /proc/meminfo"
      ]
    },
    {
      "cell_type": "code",
      "source": [
        "from google.colab import drive\n",
        "drive.mount(\"/content/drive\")"
      ],
      "metadata": {
        "colab": {
          "base_uri": "https://localhost:8080/"
        },
        "id": "gksjzTk4_ikn",
        "outputId": "af5d9755-37dc-4e96-9691-6a89ac6a922b"
      },
      "execution_count": 2,
      "outputs": [
        {
          "output_type": "stream",
          "name": "stdout",
          "text": [
            "Mounted at /content/drive\n"
          ]
        }
      ]
    },
    {
      "cell_type": "code",
      "source": [
        "from tqdm import tqdm\n",
        "import pandas as pd\n",
        "import warnings; warnings.filterwarnings(\"ignore\")\n",
        "import numpy as np\n",
        "\n",
        "path = \"/content/drive/MyDrive/my_data/LPOINT/\""
      ],
      "metadata": {
        "id": "jmc8LcW7_j2R"
      },
      "execution_count": 3,
      "outputs": []
    },
    {
      "cell_type": "code",
      "source": [
        "pdde_cust = pd.read_csv(path+\"/LPOINT_BIG_COMP_PDDE_CUST.csv\", header=0,encoding=\"utf-8\")"
      ],
      "metadata": {
        "id": "KIV-lJQB_rmy"
      },
      "execution_count": 4,
      "outputs": []
    },
    {
      "cell_type": "code",
      "source": [
        "pdde_cust"
      ],
      "metadata": {
        "colab": {
          "base_uri": "https://localhost:8080/",
          "height": 641
        },
        "id": "_KGaLkZn_t8R",
        "outputId": "8aa7cc72-5e38-4fad-adf6-5f03578b0857"
      },
      "execution_count": 5,
      "outputs": [
        {
          "output_type": "execute_result",
          "data": {
            "text/plain": [
              "         Unnamed: 0        cust ma_fem_dv ages zon_hlv     de_dt  de_hr  \\\n",
              "0                 0  M430112881        여성  50대     Z17  20210101     10   \n",
              "1                 1  M430112881        여성  50대     Z17  20210101     10   \n",
              "2                 2  M430112881        여성  50대     Z17  20210101     10   \n",
              "3                 3  M430112881        여성  50대     Z17  20210101     10   \n",
              "4                 4  M430112881        여성  50대     Z17  20210101     10   \n",
              "...             ...         ...       ...  ...     ...       ...    ...   \n",
              "4381738     4381738  M498069014        여성  40대     Z14  20211227     16   \n",
              "4381739     4381739  M498069014        여성  40대     Z14  20211227     16   \n",
              "4381740     4381740  M498069014        여성  40대     Z14  20211227     16   \n",
              "4381741     4381741  M498069014        여성  40대     Z14  20211227     16   \n",
              "4381742     4381742  M866900192        여성  50대     Z10  20211231     13   \n",
              "\n",
              "         chnl_dv br_zon_hlv br_zon_mcls cop_c     br_c clac_hlv_nm  \\\n",
              "0              1        Z10      Z10042   A01  A010039        남성의류   \n",
              "1              1        Z10      Z10042   A01  A010039        남성의류   \n",
              "2              1        Z10      Z10042   A01  A010039        남성의류   \n",
              "3              1        Z10      Z10042   A01  A010039        남성의류   \n",
              "4              1        Z10      Z10042   A01  A010039     테넌트/음식점   \n",
              "...          ...        ...         ...   ...      ...         ...   \n",
              "4381738        2        NaN         NaN   A06      NaN         상품권   \n",
              "4381739        2        NaN         NaN   A06      NaN         상품권   \n",
              "4381740        2        NaN         NaN   A06      NaN         상품권   \n",
              "4381741        2        NaN         NaN   A06      NaN         상품권   \n",
              "4381742        2        NaN         NaN   A06      NaN        여성의류   \n",
              "\n",
              "        clac_mcls_nm         pd_nm    pd_c  buy_ct    buy_am        rct_no  \n",
              "0             남성의류상의         남성티셔츠  PD0290       1   15000.0  A01000001113  \n",
              "1             남성의류상의         남성티셔츠  PD0290       1   19000.0  A01000003148  \n",
              "2             남성의류상의         남성티셔츠  PD0290       1   19000.0  A01000003148  \n",
              "3             남성의류상의         남성티셔츠  PD0290       1   19000.0  A01000004946  \n",
              "4                 식당         커피/음료  PD1692       1    9900.0  A01000005297  \n",
              "...              ...           ...     ...     ...       ...           ...  \n",
              "4381738       모바일상품권  백화점/마트모바일상품권  PD0507       1  100000.0  E06052019590  \n",
              "4381739       모바일상품권  백화점/마트모바일상품권  PD0507       1  100000.0  E06052019590  \n",
              "4381740       모바일상품권  백화점/마트모바일상품권  PD0507       1  100000.0  E06052019590  \n",
              "4381741       모바일상품권  백화점/마트모바일상품권  PD0507       1  100000.0  E06052019590  \n",
              "4381742       여성의류하의         여성청바지  PD0969       1   80100.0  E06052003637  \n",
              "\n",
              "[4381743 rows x 19 columns]"
            ],
            "text/html": [
              "\n",
              "  <div id=\"df-3d0d4732-9a35-43d4-951b-fb2909e10e3d\">\n",
              "    <div class=\"colab-df-container\">\n",
              "      <div>\n",
              "<style scoped>\n",
              "    .dataframe tbody tr th:only-of-type {\n",
              "        vertical-align: middle;\n",
              "    }\n",
              "\n",
              "    .dataframe tbody tr th {\n",
              "        vertical-align: top;\n",
              "    }\n",
              "\n",
              "    .dataframe thead th {\n",
              "        text-align: right;\n",
              "    }\n",
              "</style>\n",
              "<table border=\"1\" class=\"dataframe\">\n",
              "  <thead>\n",
              "    <tr style=\"text-align: right;\">\n",
              "      <th></th>\n",
              "      <th>Unnamed: 0</th>\n",
              "      <th>cust</th>\n",
              "      <th>ma_fem_dv</th>\n",
              "      <th>ages</th>\n",
              "      <th>zon_hlv</th>\n",
              "      <th>de_dt</th>\n",
              "      <th>de_hr</th>\n",
              "      <th>chnl_dv</th>\n",
              "      <th>br_zon_hlv</th>\n",
              "      <th>br_zon_mcls</th>\n",
              "      <th>cop_c</th>\n",
              "      <th>br_c</th>\n",
              "      <th>clac_hlv_nm</th>\n",
              "      <th>clac_mcls_nm</th>\n",
              "      <th>pd_nm</th>\n",
              "      <th>pd_c</th>\n",
              "      <th>buy_ct</th>\n",
              "      <th>buy_am</th>\n",
              "      <th>rct_no</th>\n",
              "    </tr>\n",
              "  </thead>\n",
              "  <tbody>\n",
              "    <tr>\n",
              "      <th>0</th>\n",
              "      <td>0</td>\n",
              "      <td>M430112881</td>\n",
              "      <td>여성</td>\n",
              "      <td>50대</td>\n",
              "      <td>Z17</td>\n",
              "      <td>20210101</td>\n",
              "      <td>10</td>\n",
              "      <td>1</td>\n",
              "      <td>Z10</td>\n",
              "      <td>Z10042</td>\n",
              "      <td>A01</td>\n",
              "      <td>A010039</td>\n",
              "      <td>남성의류</td>\n",
              "      <td>남성의류상의</td>\n",
              "      <td>남성티셔츠</td>\n",
              "      <td>PD0290</td>\n",
              "      <td>1</td>\n",
              "      <td>15000.0</td>\n",
              "      <td>A01000001113</td>\n",
              "    </tr>\n",
              "    <tr>\n",
              "      <th>1</th>\n",
              "      <td>1</td>\n",
              "      <td>M430112881</td>\n",
              "      <td>여성</td>\n",
              "      <td>50대</td>\n",
              "      <td>Z17</td>\n",
              "      <td>20210101</td>\n",
              "      <td>10</td>\n",
              "      <td>1</td>\n",
              "      <td>Z10</td>\n",
              "      <td>Z10042</td>\n",
              "      <td>A01</td>\n",
              "      <td>A010039</td>\n",
              "      <td>남성의류</td>\n",
              "      <td>남성의류상의</td>\n",
              "      <td>남성티셔츠</td>\n",
              "      <td>PD0290</td>\n",
              "      <td>1</td>\n",
              "      <td>19000.0</td>\n",
              "      <td>A01000003148</td>\n",
              "    </tr>\n",
              "    <tr>\n",
              "      <th>2</th>\n",
              "      <td>2</td>\n",
              "      <td>M430112881</td>\n",
              "      <td>여성</td>\n",
              "      <td>50대</td>\n",
              "      <td>Z17</td>\n",
              "      <td>20210101</td>\n",
              "      <td>10</td>\n",
              "      <td>1</td>\n",
              "      <td>Z10</td>\n",
              "      <td>Z10042</td>\n",
              "      <td>A01</td>\n",
              "      <td>A010039</td>\n",
              "      <td>남성의류</td>\n",
              "      <td>남성의류상의</td>\n",
              "      <td>남성티셔츠</td>\n",
              "      <td>PD0290</td>\n",
              "      <td>1</td>\n",
              "      <td>19000.0</td>\n",
              "      <td>A01000003148</td>\n",
              "    </tr>\n",
              "    <tr>\n",
              "      <th>3</th>\n",
              "      <td>3</td>\n",
              "      <td>M430112881</td>\n",
              "      <td>여성</td>\n",
              "      <td>50대</td>\n",
              "      <td>Z17</td>\n",
              "      <td>20210101</td>\n",
              "      <td>10</td>\n",
              "      <td>1</td>\n",
              "      <td>Z10</td>\n",
              "      <td>Z10042</td>\n",
              "      <td>A01</td>\n",
              "      <td>A010039</td>\n",
              "      <td>남성의류</td>\n",
              "      <td>남성의류상의</td>\n",
              "      <td>남성티셔츠</td>\n",
              "      <td>PD0290</td>\n",
              "      <td>1</td>\n",
              "      <td>19000.0</td>\n",
              "      <td>A01000004946</td>\n",
              "    </tr>\n",
              "    <tr>\n",
              "      <th>4</th>\n",
              "      <td>4</td>\n",
              "      <td>M430112881</td>\n",
              "      <td>여성</td>\n",
              "      <td>50대</td>\n",
              "      <td>Z17</td>\n",
              "      <td>20210101</td>\n",
              "      <td>10</td>\n",
              "      <td>1</td>\n",
              "      <td>Z10</td>\n",
              "      <td>Z10042</td>\n",
              "      <td>A01</td>\n",
              "      <td>A010039</td>\n",
              "      <td>테넌트/음식점</td>\n",
              "      <td>식당</td>\n",
              "      <td>커피/음료</td>\n",
              "      <td>PD1692</td>\n",
              "      <td>1</td>\n",
              "      <td>9900.0</td>\n",
              "      <td>A01000005297</td>\n",
              "    </tr>\n",
              "    <tr>\n",
              "      <th>...</th>\n",
              "      <td>...</td>\n",
              "      <td>...</td>\n",
              "      <td>...</td>\n",
              "      <td>...</td>\n",
              "      <td>...</td>\n",
              "      <td>...</td>\n",
              "      <td>...</td>\n",
              "      <td>...</td>\n",
              "      <td>...</td>\n",
              "      <td>...</td>\n",
              "      <td>...</td>\n",
              "      <td>...</td>\n",
              "      <td>...</td>\n",
              "      <td>...</td>\n",
              "      <td>...</td>\n",
              "      <td>...</td>\n",
              "      <td>...</td>\n",
              "      <td>...</td>\n",
              "      <td>...</td>\n",
              "    </tr>\n",
              "    <tr>\n",
              "      <th>4381738</th>\n",
              "      <td>4381738</td>\n",
              "      <td>M498069014</td>\n",
              "      <td>여성</td>\n",
              "      <td>40대</td>\n",
              "      <td>Z14</td>\n",
              "      <td>20211227</td>\n",
              "      <td>16</td>\n",
              "      <td>2</td>\n",
              "      <td>NaN</td>\n",
              "      <td>NaN</td>\n",
              "      <td>A06</td>\n",
              "      <td>NaN</td>\n",
              "      <td>상품권</td>\n",
              "      <td>모바일상품권</td>\n",
              "      <td>백화점/마트모바일상품권</td>\n",
              "      <td>PD0507</td>\n",
              "      <td>1</td>\n",
              "      <td>100000.0</td>\n",
              "      <td>E06052019590</td>\n",
              "    </tr>\n",
              "    <tr>\n",
              "      <th>4381739</th>\n",
              "      <td>4381739</td>\n",
              "      <td>M498069014</td>\n",
              "      <td>여성</td>\n",
              "      <td>40대</td>\n",
              "      <td>Z14</td>\n",
              "      <td>20211227</td>\n",
              "      <td>16</td>\n",
              "      <td>2</td>\n",
              "      <td>NaN</td>\n",
              "      <td>NaN</td>\n",
              "      <td>A06</td>\n",
              "      <td>NaN</td>\n",
              "      <td>상품권</td>\n",
              "      <td>모바일상품권</td>\n",
              "      <td>백화점/마트모바일상품권</td>\n",
              "      <td>PD0507</td>\n",
              "      <td>1</td>\n",
              "      <td>100000.0</td>\n",
              "      <td>E06052019590</td>\n",
              "    </tr>\n",
              "    <tr>\n",
              "      <th>4381740</th>\n",
              "      <td>4381740</td>\n",
              "      <td>M498069014</td>\n",
              "      <td>여성</td>\n",
              "      <td>40대</td>\n",
              "      <td>Z14</td>\n",
              "      <td>20211227</td>\n",
              "      <td>16</td>\n",
              "      <td>2</td>\n",
              "      <td>NaN</td>\n",
              "      <td>NaN</td>\n",
              "      <td>A06</td>\n",
              "      <td>NaN</td>\n",
              "      <td>상품권</td>\n",
              "      <td>모바일상품권</td>\n",
              "      <td>백화점/마트모바일상품권</td>\n",
              "      <td>PD0507</td>\n",
              "      <td>1</td>\n",
              "      <td>100000.0</td>\n",
              "      <td>E06052019590</td>\n",
              "    </tr>\n",
              "    <tr>\n",
              "      <th>4381741</th>\n",
              "      <td>4381741</td>\n",
              "      <td>M498069014</td>\n",
              "      <td>여성</td>\n",
              "      <td>40대</td>\n",
              "      <td>Z14</td>\n",
              "      <td>20211227</td>\n",
              "      <td>16</td>\n",
              "      <td>2</td>\n",
              "      <td>NaN</td>\n",
              "      <td>NaN</td>\n",
              "      <td>A06</td>\n",
              "      <td>NaN</td>\n",
              "      <td>상품권</td>\n",
              "      <td>모바일상품권</td>\n",
              "      <td>백화점/마트모바일상품권</td>\n",
              "      <td>PD0507</td>\n",
              "      <td>1</td>\n",
              "      <td>100000.0</td>\n",
              "      <td>E06052019590</td>\n",
              "    </tr>\n",
              "    <tr>\n",
              "      <th>4381742</th>\n",
              "      <td>4381742</td>\n",
              "      <td>M866900192</td>\n",
              "      <td>여성</td>\n",
              "      <td>50대</td>\n",
              "      <td>Z10</td>\n",
              "      <td>20211231</td>\n",
              "      <td>13</td>\n",
              "      <td>2</td>\n",
              "      <td>NaN</td>\n",
              "      <td>NaN</td>\n",
              "      <td>A06</td>\n",
              "      <td>NaN</td>\n",
              "      <td>여성의류</td>\n",
              "      <td>여성의류하의</td>\n",
              "      <td>여성청바지</td>\n",
              "      <td>PD0969</td>\n",
              "      <td>1</td>\n",
              "      <td>80100.0</td>\n",
              "      <td>E06052003637</td>\n",
              "    </tr>\n",
              "  </tbody>\n",
              "</table>\n",
              "<p>4381743 rows × 19 columns</p>\n",
              "</div>\n",
              "      <button class=\"colab-df-convert\" onclick=\"convertToInteractive('df-3d0d4732-9a35-43d4-951b-fb2909e10e3d')\"\n",
              "              title=\"Convert this dataframe to an interactive table.\"\n",
              "              style=\"display:none;\">\n",
              "        \n",
              "  <svg xmlns=\"http://www.w3.org/2000/svg\" height=\"24px\"viewBox=\"0 0 24 24\"\n",
              "       width=\"24px\">\n",
              "    <path d=\"M0 0h24v24H0V0z\" fill=\"none\"/>\n",
              "    <path d=\"M18.56 5.44l.94 2.06.94-2.06 2.06-.94-2.06-.94-.94-2.06-.94 2.06-2.06.94zm-11 1L8.5 8.5l.94-2.06 2.06-.94-2.06-.94L8.5 2.5l-.94 2.06-2.06.94zm10 10l.94 2.06.94-2.06 2.06-.94-2.06-.94-.94-2.06-.94 2.06-2.06.94z\"/><path d=\"M17.41 7.96l-1.37-1.37c-.4-.4-.92-.59-1.43-.59-.52 0-1.04.2-1.43.59L10.3 9.45l-7.72 7.72c-.78.78-.78 2.05 0 2.83L4 21.41c.39.39.9.59 1.41.59.51 0 1.02-.2 1.41-.59l7.78-7.78 2.81-2.81c.8-.78.8-2.07 0-2.86zM5.41 20L4 18.59l7.72-7.72 1.47 1.35L5.41 20z\"/>\n",
              "  </svg>\n",
              "      </button>\n",
              "      \n",
              "  <style>\n",
              "    .colab-df-container {\n",
              "      display:flex;\n",
              "      flex-wrap:wrap;\n",
              "      gap: 12px;\n",
              "    }\n",
              "\n",
              "    .colab-df-convert {\n",
              "      background-color: #E8F0FE;\n",
              "      border: none;\n",
              "      border-radius: 50%;\n",
              "      cursor: pointer;\n",
              "      display: none;\n",
              "      fill: #1967D2;\n",
              "      height: 32px;\n",
              "      padding: 0 0 0 0;\n",
              "      width: 32px;\n",
              "    }\n",
              "\n",
              "    .colab-df-convert:hover {\n",
              "      background-color: #E2EBFA;\n",
              "      box-shadow: 0px 1px 2px rgba(60, 64, 67, 0.3), 0px 1px 3px 1px rgba(60, 64, 67, 0.15);\n",
              "      fill: #174EA6;\n",
              "    }\n",
              "\n",
              "    [theme=dark] .colab-df-convert {\n",
              "      background-color: #3B4455;\n",
              "      fill: #D2E3FC;\n",
              "    }\n",
              "\n",
              "    [theme=dark] .colab-df-convert:hover {\n",
              "      background-color: #434B5C;\n",
              "      box-shadow: 0px 1px 3px 1px rgba(0, 0, 0, 0.15);\n",
              "      filter: drop-shadow(0px 1px 2px rgba(0, 0, 0, 0.3));\n",
              "      fill: #FFFFFF;\n",
              "    }\n",
              "  </style>\n",
              "\n",
              "      <script>\n",
              "        const buttonEl =\n",
              "          document.querySelector('#df-3d0d4732-9a35-43d4-951b-fb2909e10e3d button.colab-df-convert');\n",
              "        buttonEl.style.display =\n",
              "          google.colab.kernel.accessAllowed ? 'block' : 'none';\n",
              "\n",
              "        async function convertToInteractive(key) {\n",
              "          const element = document.querySelector('#df-3d0d4732-9a35-43d4-951b-fb2909e10e3d');\n",
              "          const dataTable =\n",
              "            await google.colab.kernel.invokeFunction('convertToInteractive',\n",
              "                                                     [key], {});\n",
              "          if (!dataTable) return;\n",
              "\n",
              "          const docLinkHtml = 'Like what you see? Visit the ' +\n",
              "            '<a target=\"_blank\" href=https://colab.research.google.com/notebooks/data_table.ipynb>data table notebook</a>'\n",
              "            + ' to learn more about interactive tables.';\n",
              "          element.innerHTML = '';\n",
              "          dataTable['output_type'] = 'display_data';\n",
              "          await google.colab.output.renderOutput(dataTable, element);\n",
              "          const docLink = document.createElement('div');\n",
              "          docLink.innerHTML = docLinkHtml;\n",
              "          element.appendChild(docLink);\n",
              "        }\n",
              "      </script>\n",
              "    </div>\n",
              "  </div>\n",
              "  "
            ]
          },
          "metadata": {},
          "execution_count": 5
        }
      ]
    },
    {
      "cell_type": "code",
      "source": [
        "# 모델 : 영수증 to 고객\n",
        "\n",
        "# step1. 유사한 영수증 추출\n",
        "# # 구매중 입력된 영수증과의 \"유사도가 높은 최근 한 달 이내 결제된 영수증\"을 충분한 크기로 추출(약 300개)\n",
        "\n",
        "# step2. 유사한 영수증을 가진 고객 추출\n",
        "# # 추출된 영수증을 가진 고객들을 추출(약 10~60명)\n",
        "\n",
        "# step3. 그들을 구매중인 고객과의 유사도를 기준으로 정렬\n",
        "# # 추출된 고객을 구매중인 고객과의 유사도(코사인 유사도 등)를 기준으로 정렬\n",
        "\n",
        "# step4. 구매중인 고객에게 노출\n",
        "# # 유사도가 높은 고객 상위 5명을 구매중인 고객에게 노출"
      ],
      "metadata": {
        "id": "YbV0JsAbDr3m"
      },
      "execution_count": null,
      "outputs": []
    },
    {
      "cell_type": "code",
      "source": [
        "test_PC_C_SUMS = pd.read_csv(path+\"/LPOINT_BIG_COMP_PC_C_SUMS_8.csv\", header=0,encoding=\"utf-8\")"
      ],
      "metadata": {
        "id": "X_xB3pR4PsPs"
      },
      "execution_count": 5,
      "outputs": []
    },
    {
      "cell_type": "code",
      "source": [
        "test_PC_C_SUMS.set_index(\"rct_no\", inplace = True)"
      ],
      "metadata": {
        "id": "3HG4qMPnQObv"
      },
      "execution_count": 9,
      "outputs": []
    },
    {
      "cell_type": "code",
      "source": [
        "import torch\n",
        "import torchvision\n",
        "from torchvision import transforms\n",
        "import torch.nn.functional as F\n",
        "import torch.nn as nn\n",
        "import torch.optim as optim\n",
        "import numpy as np\n",
        "import matplotlib.pyplot as plt\n",
        "from torch.utils.data import DataLoader, Dataset\n",
        " \n",
        "device = torch.device('cuda:0' if torch.cuda.is_available() else 'cpu')"
      ],
      "metadata": {
        "id": "P-LNDGlzZTxM"
      },
      "execution_count": 7,
      "outputs": []
    },
    {
      "cell_type": "code",
      "source": [
        "class CustomDataset(Dataset):\n",
        "\n",
        "    def __init__(self, x):\n",
        "        self.xx = x.copy().values.astype(np.float32)\n",
        "\n",
        "    def __len__(self):\n",
        "        # 길이 출력\n",
        "        return len(self.xx)\n",
        "\n",
        "    def __getitem__(self, idx):\n",
        "        # 특정 1개 샘플 가져오는 곳\n",
        "        return self.xx[idx]"
      ],
      "metadata": {
        "id": "EV2si1-MZsUe"
      },
      "execution_count": 8,
      "outputs": []
    },
    {
      "cell_type": "code",
      "source": [
        "datas = CustomDataset(test_PC_C_SUMS)\n",
        "dataL = DataLoader(datas, batch_size = 32)"
      ],
      "metadata": {
        "id": "SlZhUpBaZ-_g"
      },
      "execution_count": 12,
      "outputs": []
    },
    {
      "cell_type": "code",
      "source": [
        "class Autoencoder(nn.Module):\n",
        "    def __init__(self):\n",
        "        super(Autoencoder, self).__init__()\n",
        "        self.encoder = nn.Sequential(\n",
        "            nn.Linear(1933, 512),\n",
        "            nn.BatchNorm1d(512),\n",
        "            nn.ReLU(),\n",
        "            nn.Linear(512,64),\n",
        "            nn.BatchNorm1d(64),\n",
        "            nn.ReLU(),\n",
        "            nn.Linear(64,10),\n",
        "            nn.BatchNorm1d(10),\n",
        "            nn.ReLU()\n",
        "        )\n",
        "    \n",
        "        self.decoder = nn.Sequential(\n",
        "            nn.Linear(10,64),\n",
        "            nn.BatchNorm1d(64),\n",
        "            nn.ReLU(),\n",
        "            nn.Linear(64,512),\n",
        "            nn.BatchNorm1d(512),\n",
        "            nn.ReLU(),\n",
        "            nn.Linear(512, 1933), #처음 입력된 크기와 같은 크기로 나와야 한다 \n",
        "            #nn.Sigmoid()\n",
        "        )\n",
        "    \n",
        "  #인코더와 디코더 연산을 차례대로 수행하도록 설정 \n",
        "    def forward(self, x):\n",
        "        encoded = self.encoder(x)\n",
        "        decoded = self.decoder(encoded)\n",
        "        return decoded, encoded"
      ],
      "metadata": {
        "id": "FVEiUCvvapil"
      },
      "execution_count": 18,
      "outputs": []
    },
    {
      "cell_type": "code",
      "source": [
        "model = Autoencoder().to(device)\n",
        "critertion = nn.MSELoss()\n",
        "optimizer = optim.Adam(model.parameters(), lr=1e-4)"
      ],
      "metadata": {
        "id": "0pqf1R_Earjd"
      },
      "execution_count": 19,
      "outputs": []
    },
    {
      "cell_type": "code",
      "source": [
        "for epoch in range(3):\n",
        "    running_loss = 0\n",
        "    for data in dataL:\n",
        "        inputs = data.to(device)\n",
        "        optimizer.zero_grad()\n",
        "        outputs = model(inputs)[0]#.view(-1, 3820)) #이미지를 일렬로 펴서 넣기 \n",
        "        #outputs = outputs.view(-1, 1, 28, 28) #나온 이미지를 다시 정가각형 형태로 변환 \n",
        "        loss = critertion(inputs, outputs)\n",
        "        loss.backward()\n",
        "        optimizer.step()\n",
        "        running_loss += loss.item()\n",
        "    cost = running_loss / len(dataL)\n",
        "    print('[%d] loss : %.3f' %(epoch +1, cost))"
      ],
      "metadata": {
        "colab": {
          "base_uri": "https://localhost:8080/"
        },
        "id": "wsWYczlaauH9",
        "outputId": "3413359b-9599-46cb-c9fd-16ba567ebc58"
      },
      "execution_count": 20,
      "outputs": [
        {
          "output_type": "stream",
          "name": "stdout",
          "text": [
            "[1] loss : 0.022\n",
            "[2] loss : 0.017\n",
            "[3] loss : 0.016\n"
          ]
        }
      ]
    },
    {
      "cell_type": "code",
      "source": [
        "torch.tensor(test_PC_C_SUMS.to_numpy(), dtype=torch.float32)"
      ],
      "metadata": {
        "colab": {
          "base_uri": "https://localhost:8080/"
        },
        "id": "xskACCaEb1i7",
        "outputId": "cd71111a-cf27-4b14-a749-fef88873bdb5"
      },
      "execution_count": 26,
      "outputs": [
        {
          "output_type": "execute_result",
          "data": {
            "text/plain": [
              "tensor(617276.)"
            ]
          },
          "metadata": {},
          "execution_count": 26
        }
      ]
    },
    {
      "cell_type": "code",
      "source": [
        "with torch.no_grad():\n",
        "    temT = torch.from_numpy(test_PC_C_SUMS.to_numpy()).to(device, dtype=torch.float32)\n",
        "    decoders, encoders = model(temT)\n",
        "    encoders"
      ],
      "metadata": {
        "id": "ieHNmUmFbDFl"
      },
      "execution_count": 29,
      "outputs": []
    },
    {
      "cell_type": "code",
      "source": [
        "summarys = pd.DataFrame(encoders.cpu().numpy())\n",
        "summarys.head(10)"
      ],
      "metadata": {
        "colab": {
          "base_uri": "https://localhost:8080/",
          "height": 363
        },
        "id": "mjmKwnrvbE8N",
        "outputId": "c592c283-a536-4493-84a3-96a804aa0f85"
      },
      "execution_count": 32,
      "outputs": [
        {
          "output_type": "execute_result",
          "data": {
            "text/plain": [
              "          0         1         2         3         4         5         6  \\\n",
              "0  0.359313  0.000000  0.583578  0.380244  0.000000  0.516933  0.488912   \n",
              "1  0.000000  0.000000  0.000000  0.000000  0.000000  0.000000  0.000000   \n",
              "2  0.000000  0.293385  0.000000  0.000000  0.524679  0.000000  0.000000   \n",
              "3  0.620108  0.000000  0.877698  0.798076  0.000000  0.776015  0.794277   \n",
              "4  1.368329  0.000000  1.921201  2.016083  0.000000  1.620319  0.482006   \n",
              "5  1.001782  0.000000  0.910185  0.577820  0.000000  0.714968  1.048162   \n",
              "6  2.149601  0.000000  1.900857  1.407674  0.000000  1.936324  1.718551   \n",
              "7  0.000000  0.147525  0.022622  0.000000  0.213867  0.000000  0.000000   \n",
              "8  0.000000  0.000000  0.000000  0.005085  0.000000  0.000000  0.000000   \n",
              "9  0.000000  0.000000  0.000000  0.000000  0.000000  0.000000  0.000000   \n",
              "\n",
              "          7         8         9  \n",
              "0  0.527413  0.000000  0.371171  \n",
              "1  0.000000  0.521815  0.000000  \n",
              "2  0.000000  0.111725  0.000000  \n",
              "3  0.711164  0.000000  0.615905  \n",
              "4  2.189893  0.000000  1.374157  \n",
              "5  0.910767  0.000000  0.611074  \n",
              "6  1.714048  0.000000  1.484590  \n",
              "7  0.138890  0.053427  0.000000  \n",
              "8  0.101831  0.551523  0.026024  \n",
              "9  0.000000  0.533081  0.000000  "
            ],
            "text/html": [
              "\n",
              "  <div id=\"df-8d6262d9-5dae-489c-9127-7840bf865c88\">\n",
              "    <div class=\"colab-df-container\">\n",
              "      <div>\n",
              "<style scoped>\n",
              "    .dataframe tbody tr th:only-of-type {\n",
              "        vertical-align: middle;\n",
              "    }\n",
              "\n",
              "    .dataframe tbody tr th {\n",
              "        vertical-align: top;\n",
              "    }\n",
              "\n",
              "    .dataframe thead th {\n",
              "        text-align: right;\n",
              "    }\n",
              "</style>\n",
              "<table border=\"1\" class=\"dataframe\">\n",
              "  <thead>\n",
              "    <tr style=\"text-align: right;\">\n",
              "      <th></th>\n",
              "      <th>0</th>\n",
              "      <th>1</th>\n",
              "      <th>2</th>\n",
              "      <th>3</th>\n",
              "      <th>4</th>\n",
              "      <th>5</th>\n",
              "      <th>6</th>\n",
              "      <th>7</th>\n",
              "      <th>8</th>\n",
              "      <th>9</th>\n",
              "    </tr>\n",
              "  </thead>\n",
              "  <tbody>\n",
              "    <tr>\n",
              "      <th>0</th>\n",
              "      <td>0.359313</td>\n",
              "      <td>0.000000</td>\n",
              "      <td>0.583578</td>\n",
              "      <td>0.380244</td>\n",
              "      <td>0.000000</td>\n",
              "      <td>0.516933</td>\n",
              "      <td>0.488912</td>\n",
              "      <td>0.527413</td>\n",
              "      <td>0.000000</td>\n",
              "      <td>0.371171</td>\n",
              "    </tr>\n",
              "    <tr>\n",
              "      <th>1</th>\n",
              "      <td>0.000000</td>\n",
              "      <td>0.000000</td>\n",
              "      <td>0.000000</td>\n",
              "      <td>0.000000</td>\n",
              "      <td>0.000000</td>\n",
              "      <td>0.000000</td>\n",
              "      <td>0.000000</td>\n",
              "      <td>0.000000</td>\n",
              "      <td>0.521815</td>\n",
              "      <td>0.000000</td>\n",
              "    </tr>\n",
              "    <tr>\n",
              "      <th>2</th>\n",
              "      <td>0.000000</td>\n",
              "      <td>0.293385</td>\n",
              "      <td>0.000000</td>\n",
              "      <td>0.000000</td>\n",
              "      <td>0.524679</td>\n",
              "      <td>0.000000</td>\n",
              "      <td>0.000000</td>\n",
              "      <td>0.000000</td>\n",
              "      <td>0.111725</td>\n",
              "      <td>0.000000</td>\n",
              "    </tr>\n",
              "    <tr>\n",
              "      <th>3</th>\n",
              "      <td>0.620108</td>\n",
              "      <td>0.000000</td>\n",
              "      <td>0.877698</td>\n",
              "      <td>0.798076</td>\n",
              "      <td>0.000000</td>\n",
              "      <td>0.776015</td>\n",
              "      <td>0.794277</td>\n",
              "      <td>0.711164</td>\n",
              "      <td>0.000000</td>\n",
              "      <td>0.615905</td>\n",
              "    </tr>\n",
              "    <tr>\n",
              "      <th>4</th>\n",
              "      <td>1.368329</td>\n",
              "      <td>0.000000</td>\n",
              "      <td>1.921201</td>\n",
              "      <td>2.016083</td>\n",
              "      <td>0.000000</td>\n",
              "      <td>1.620319</td>\n",
              "      <td>0.482006</td>\n",
              "      <td>2.189893</td>\n",
              "      <td>0.000000</td>\n",
              "      <td>1.374157</td>\n",
              "    </tr>\n",
              "    <tr>\n",
              "      <th>5</th>\n",
              "      <td>1.001782</td>\n",
              "      <td>0.000000</td>\n",
              "      <td>0.910185</td>\n",
              "      <td>0.577820</td>\n",
              "      <td>0.000000</td>\n",
              "      <td>0.714968</td>\n",
              "      <td>1.048162</td>\n",
              "      <td>0.910767</td>\n",
              "      <td>0.000000</td>\n",
              "      <td>0.611074</td>\n",
              "    </tr>\n",
              "    <tr>\n",
              "      <th>6</th>\n",
              "      <td>2.149601</td>\n",
              "      <td>0.000000</td>\n",
              "      <td>1.900857</td>\n",
              "      <td>1.407674</td>\n",
              "      <td>0.000000</td>\n",
              "      <td>1.936324</td>\n",
              "      <td>1.718551</td>\n",
              "      <td>1.714048</td>\n",
              "      <td>0.000000</td>\n",
              "      <td>1.484590</td>\n",
              "    </tr>\n",
              "    <tr>\n",
              "      <th>7</th>\n",
              "      <td>0.000000</td>\n",
              "      <td>0.147525</td>\n",
              "      <td>0.022622</td>\n",
              "      <td>0.000000</td>\n",
              "      <td>0.213867</td>\n",
              "      <td>0.000000</td>\n",
              "      <td>0.000000</td>\n",
              "      <td>0.138890</td>\n",
              "      <td>0.053427</td>\n",
              "      <td>0.000000</td>\n",
              "    </tr>\n",
              "    <tr>\n",
              "      <th>8</th>\n",
              "      <td>0.000000</td>\n",
              "      <td>0.000000</td>\n",
              "      <td>0.000000</td>\n",
              "      <td>0.005085</td>\n",
              "      <td>0.000000</td>\n",
              "      <td>0.000000</td>\n",
              "      <td>0.000000</td>\n",
              "      <td>0.101831</td>\n",
              "      <td>0.551523</td>\n",
              "      <td>0.026024</td>\n",
              "    </tr>\n",
              "    <tr>\n",
              "      <th>9</th>\n",
              "      <td>0.000000</td>\n",
              "      <td>0.000000</td>\n",
              "      <td>0.000000</td>\n",
              "      <td>0.000000</td>\n",
              "      <td>0.000000</td>\n",
              "      <td>0.000000</td>\n",
              "      <td>0.000000</td>\n",
              "      <td>0.000000</td>\n",
              "      <td>0.533081</td>\n",
              "      <td>0.000000</td>\n",
              "    </tr>\n",
              "  </tbody>\n",
              "</table>\n",
              "</div>\n",
              "      <button class=\"colab-df-convert\" onclick=\"convertToInteractive('df-8d6262d9-5dae-489c-9127-7840bf865c88')\"\n",
              "              title=\"Convert this dataframe to an interactive table.\"\n",
              "              style=\"display:none;\">\n",
              "        \n",
              "  <svg xmlns=\"http://www.w3.org/2000/svg\" height=\"24px\"viewBox=\"0 0 24 24\"\n",
              "       width=\"24px\">\n",
              "    <path d=\"M0 0h24v24H0V0z\" fill=\"none\"/>\n",
              "    <path d=\"M18.56 5.44l.94 2.06.94-2.06 2.06-.94-2.06-.94-.94-2.06-.94 2.06-2.06.94zm-11 1L8.5 8.5l.94-2.06 2.06-.94-2.06-.94L8.5 2.5l-.94 2.06-2.06.94zm10 10l.94 2.06.94-2.06 2.06-.94-2.06-.94-.94-2.06-.94 2.06-2.06.94z\"/><path d=\"M17.41 7.96l-1.37-1.37c-.4-.4-.92-.59-1.43-.59-.52 0-1.04.2-1.43.59L10.3 9.45l-7.72 7.72c-.78.78-.78 2.05 0 2.83L4 21.41c.39.39.9.59 1.41.59.51 0 1.02-.2 1.41-.59l7.78-7.78 2.81-2.81c.8-.78.8-2.07 0-2.86zM5.41 20L4 18.59l7.72-7.72 1.47 1.35L5.41 20z\"/>\n",
              "  </svg>\n",
              "      </button>\n",
              "      \n",
              "  <style>\n",
              "    .colab-df-container {\n",
              "      display:flex;\n",
              "      flex-wrap:wrap;\n",
              "      gap: 12px;\n",
              "    }\n",
              "\n",
              "    .colab-df-convert {\n",
              "      background-color: #E8F0FE;\n",
              "      border: none;\n",
              "      border-radius: 50%;\n",
              "      cursor: pointer;\n",
              "      display: none;\n",
              "      fill: #1967D2;\n",
              "      height: 32px;\n",
              "      padding: 0 0 0 0;\n",
              "      width: 32px;\n",
              "    }\n",
              "\n",
              "    .colab-df-convert:hover {\n",
              "      background-color: #E2EBFA;\n",
              "      box-shadow: 0px 1px 2px rgba(60, 64, 67, 0.3), 0px 1px 3px 1px rgba(60, 64, 67, 0.15);\n",
              "      fill: #174EA6;\n",
              "    }\n",
              "\n",
              "    [theme=dark] .colab-df-convert {\n",
              "      background-color: #3B4455;\n",
              "      fill: #D2E3FC;\n",
              "    }\n",
              "\n",
              "    [theme=dark] .colab-df-convert:hover {\n",
              "      background-color: #434B5C;\n",
              "      box-shadow: 0px 1px 3px 1px rgba(0, 0, 0, 0.15);\n",
              "      filter: drop-shadow(0px 1px 2px rgba(0, 0, 0, 0.3));\n",
              "      fill: #FFFFFF;\n",
              "    }\n",
              "  </style>\n",
              "\n",
              "      <script>\n",
              "        const buttonEl =\n",
              "          document.querySelector('#df-8d6262d9-5dae-489c-9127-7840bf865c88 button.colab-df-convert');\n",
              "        buttonEl.style.display =\n",
              "          google.colab.kernel.accessAllowed ? 'block' : 'none';\n",
              "\n",
              "        async function convertToInteractive(key) {\n",
              "          const element = document.querySelector('#df-8d6262d9-5dae-489c-9127-7840bf865c88');\n",
              "          const dataTable =\n",
              "            await google.colab.kernel.invokeFunction('convertToInteractive',\n",
              "                                                     [key], {});\n",
              "          if (!dataTable) return;\n",
              "\n",
              "          const docLinkHtml = 'Like what you see? Visit the ' +\n",
              "            '<a target=\"_blank\" href=https://colab.research.google.com/notebooks/data_table.ipynb>data table notebook</a>'\n",
              "            + ' to learn more about interactive tables.';\n",
              "          element.innerHTML = '';\n",
              "          dataTable['output_type'] = 'display_data';\n",
              "          await google.colab.output.renderOutput(dataTable, element);\n",
              "          const docLink = document.createElement('div');\n",
              "          docLink.innerHTML = docLinkHtml;\n",
              "          element.appendChild(docLink);\n",
              "        }\n",
              "      </script>\n",
              "    </div>\n",
              "  </div>\n",
              "  "
            ]
          },
          "metadata": {},
          "execution_count": 32
        }
      ]
    },
    {
      "cell_type": "code",
      "source": [
        "summarys.shape"
      ],
      "metadata": {
        "colab": {
          "base_uri": "https://localhost:8080/"
        },
        "id": "uAAaJL46dD0S",
        "outputId": "133ec7f4-d783-4ef9-ec36-7ca3bca0a098"
      },
      "execution_count": 34,
      "outputs": [
        {
          "output_type": "execute_result",
          "data": {
            "text/plain": [
              "(86019, 10)"
            ]
          },
          "metadata": {},
          "execution_count": 34
        }
      ]
    },
    {
      "cell_type": "code",
      "source": [
        "from sklearn.cluster import KMeans\n",
        "# 적절한 군집수 찾기\n",
        "# Inertia(군집 내 거리제곱합의 합) value (적정 군집수)\n",
        "\n",
        "ks = range(10,30,1)\n",
        "inertias = []\n",
        "\n",
        "for k in ks:\n",
        "    model = KMeans(n_clusters=k)\n",
        "    model.fit(summarys)\n",
        "    inertias.append(model.inertia_)\n",
        "\n",
        "# Plot ks vs inertias\n",
        "plt.figure(figsize=(4, 4))\n",
        "\n",
        "plt.plot(ks, inertias, '-o')\n",
        "plt.xticks(ks)\n",
        "plt.show()"
      ],
      "metadata": {
        "colab": {
          "base_uri": "https://localhost:8080/",
          "height": 265
        },
        "id": "GKi2YabZdEuk",
        "outputId": "752cc024-017c-4bf0-b11f-e41e271bcbc2"
      },
      "execution_count": 35,
      "outputs": [
        {
          "output_type": "display_data",
          "data": {
            "text/plain": [
              "<Figure size 288x288 with 1 Axes>"
            ],
            "image/png": "[encoded data removed]"
          },
          "metadata": {
            "needs_background": "light"
          }
        }
      ]
    },
    {
      "cell_type": "code",
      "source": [
        "clust_model = KMeans(n_clusters = 10)\n",
        "clust_model.fit(summarys)\n",
        "pred = clust_model.predict(summarys)\n",
        "pred[:10]"
      ],
      "metadata": {
        "colab": {
          "base_uri": "https://localhost:8080/"
        },
        "id": "L7EKROCmdKsu",
        "outputId": "8ff074a0-b43d-4ed0-9259-ffe76599e621"
      },
      "execution_count": 36,
      "outputs": [
        {
          "output_type": "execute_result",
          "data": {
            "text/plain": [
              "array([5, 0, 0, 5, 2, 2, 3, 0, 0, 0], dtype=int32)"
            ]
          },
          "metadata": {},
          "execution_count": 36
        }
      ]
    },
    {
      "cell_type": "code",
      "source": [
        "test_PC_C_SUMS['pred'] = pred\n",
        "test_PC_C_SUMS['pred'].value_counts()"
      ],
      "metadata": {
        "colab": {
          "base_uri": "https://localhost:8080/"
        },
        "id": "dyDlJpl9eJMj",
        "outputId": "f48653dc-5b24-4ae7-e3b6-b0ec9e1e199c"
      },
      "execution_count": 37,
      "outputs": [
        {
          "output_type": "execute_result",
          "data": {
            "text/plain": [
              "0    67445\n",
              "5     8458\n",
              "2     5293\n",
              "3     2881\n",
              "1     1233\n",
              "8      439\n",
              "7      143\n",
              "6       72\n",
              "9       52\n",
              "4        3\n",
              "Name: pred, dtype: int64"
            ]
          },
          "metadata": {},
          "execution_count": 37
        }
      ]
    },
    {
      "cell_type": "markdown",
      "source": [
        "https://www.dlology.com/blog/how-to-do-unsupervised-clustering-with-keras/"
      ],
      "metadata": {
        "id": "Uv-2QHw9emKH"
      }
    }
  ]
}