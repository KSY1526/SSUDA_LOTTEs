{
  "cells": [
    {
      "cell_type": "markdown",
      "metadata": {
        "id": "view-in-github",
        "colab_type": "text"
      },
      "source": [
        "<a href=\"https://colab.research.google.com/github/KSY1526/SSUDA_LOTTEs/blob/main/Daniel/LPOINT_%EB%8D%B0%EC%9D%B4%ED%84%B0_%EB%AA%A8%EB%8D%B8%EB%A7%81.ipynb\" target=\"_parent\"><img src=\"https://colab.research.google.com/assets/colab-badge.svg\" alt=\"Open In Colab\"/></a>"
      ]
    },
    {
      "cell_type": "code",
      "source": [
        "# '''\n",
        "# function ClickConnect(){\n",
        "#     console.log(\"코랩 연결 끊김 방지\"); \n",
        "#     document.querySelector(\"colab-toolbar-button#connect\").click() \n",
        "# }\n",
        "# setInterval(ClickConnect, 60 * 1000)\n",
        "# '''"
      ],
      "metadata": {
        "id": "VDX4XwJRuQgP"
      },
      "execution_count": null,
      "outputs": []
    },
    {
      "cell_type": "code",
      "source": [
        "!pip install fastpivot\n",
        "!pip install pyarrow"
      ],
      "metadata": {
        "colab": {
          "base_uri": "https://localhost:8080/"
        },
        "id": "x0AhTunZTz7J",
        "outputId": "fe582299-3bcb-4968-ea01-45a41d4d999d"
      },
      "execution_count": 65,
      "outputs": [
        {
          "output_type": "stream",
          "name": "stdout",
          "text": [
            "Looking in indexes: https://pypi.org/simple, https://us-python.pkg.dev/colab-wheels/public/simple/\n",
            "Requirement already satisfied: fastpivot in /usr/local/lib/python3.7/dist-packages (0.1.12)\n",
            "Requirement already satisfied: scipy>=1.6.0 in /usr/local/lib/python3.7/dist-packages (from fastpivot) (1.7.3)\n",
            "Requirement already satisfied: pandas>=1.0.0 in /usr/local/lib/python3.7/dist-packages (from fastpivot) (1.3.5)\n",
            "Requirement already satisfied: numpy>=1.19.0 in /usr/local/lib/python3.7/dist-packages (from fastpivot) (1.21.6)\n",
            "Requirement already satisfied: python-dateutil>=2.7.3 in /usr/local/lib/python3.7/dist-packages (from pandas>=1.0.0->fastpivot) (2.8.2)\n",
            "Requirement already satisfied: pytz>=2017.3 in /usr/local/lib/python3.7/dist-packages (from pandas>=1.0.0->fastpivot) (2022.1)\n",
            "Requirement already satisfied: six>=1.5 in /usr/local/lib/python3.7/dist-packages (from python-dateutil>=2.7.3->pandas>=1.0.0->fastpivot) (1.15.0)\n",
            "Looking in indexes: https://pypi.org/simple, https://us-python.pkg.dev/colab-wheels/public/simple/\n",
            "Requirement already satisfied: pyarrow in /usr/local/lib/python3.7/dist-packages (6.0.1)\n",
            "Requirement already satisfied: numpy>=1.16.6 in /usr/local/lib/python3.7/dist-packages (from pyarrow) (1.21.6)\n"
          ]
        }
      ]
    },
    {
      "cell_type": "code",
      "source": [
        "!nvidia-smi\n",
        "!head /proc/cpuinfo\n",
        "!head -n 3 /proc/meminfo"
      ],
      "metadata": {
        "colab": {
          "base_uri": "https://localhost:8080/"
        },
        "id": "G9fVA5MkiHzz",
        "outputId": "00910826-755b-41b5-8c11-0aa367eae776"
      },
      "execution_count": null,
      "outputs": [
        {
          "output_type": "stream",
          "name": "stdout",
          "text": [
            "NVIDIA-SMI has failed because it couldn't communicate with the NVIDIA driver. Make sure that the latest NVIDIA driver is installed and running.\n",
            "\n",
            "processor\t: 0\n",
            "vendor_id\t: GenuineIntel\n",
            "cpu family\t: 6\n",
            "model\t\t: 79\n",
            "model name\t: Intel(R) Xeon(R) CPU @ 2.20GHz\n",
            "stepping\t: 0\n",
            "microcode\t: 0x1\n",
            "cpu MHz\t\t: 2199.998\n",
            "cache size\t: 56320 KB\n",
            "physical id\t: 0\n",
            "MemTotal:       26692024 kB\n",
            "MemFree:        24361264 kB\n",
            "MemAvailable:   25103316 kB\n"
          ]
        }
      ]
    },
    {
      "cell_type": "code",
      "execution_count": null,
      "metadata": {
        "colab": {
          "base_uri": "https://localhost:8080/"
        },
        "id": "cApyckYiMgB7",
        "outputId": "84409a2a-f065-4158-e830-d344291dc13c"
      },
      "outputs": [
        {
          "output_type": "stream",
          "name": "stdout",
          "text": [
            "Drive already mounted at /content/drive; to attempt to forcibly remount, call drive.mount(\"/content/drive\", force_remount=True).\n"
          ]
        }
      ],
      "source": [
        "from google.colab import drive\n",
        "drive.mount(\"/content/drive\")"
      ]
    },
    {
      "cell_type": "code",
      "execution_count": null,
      "metadata": {
        "id": "zetut1ZNMh8G"
      },
      "outputs": [],
      "source": [
        "from tqdm import tqdm\n",
        "import warnings; warnings.filterwarnings(\"ignore\")\n",
        "import pandas as pd\n",
        "import numpy as np\n",
        "import pyarrow as pa\n",
        "# import pyarrow.csv as csv\n",
        "from fastpivot import pivot_table\n",
        "\n",
        "def class_mapping(df, col, verbose=True):\n",
        "    class_map = {lbl:idx for idx, lbl in enumerate(sorted(df[col].unique()))}\n",
        "    if verbose : print(class_map)\n",
        "    return df[col].map(class_map)\n",
        "\n",
        "path = \"/content/drive/MyDrive/my_data/LPOINT/\""
      ]
    },
    {
      "cell_type": "code",
      "source": [
        "from joblib import Parallel, delayed\n",
        "import multiprocessing\n",
        "# what are your inputs, and what operation do you want to\n",
        "# perform on each input. For example...\n",
        "inputs = range(10)\n",
        "def processInput(i):\n",
        "    return i * i\n",
        "num_cores = multiprocessing.cpu_count()\n",
        "results = Parallel(n_jobs=num_cores)(delayed(processInput)(i) for i in inputs)"
      ],
      "metadata": {
        "id": "rlPsxOLnRBuB"
      },
      "execution_count": null,
      "outputs": []
    },
    {
      "cell_type": "code",
      "source": [
        "print(pd.__version__) # 1.3.5\n",
        "print(pa.__version__) # 6.0.1"
      ],
      "metadata": {
        "colab": {
          "base_uri": "https://localhost:8080/"
        },
        "id": "ASbOcyBelydb",
        "outputId": "625c360a-3c1d-4133-b020-1fa570161d07"
      },
      "execution_count": null,
      "outputs": [
        {
          "output_type": "stream",
          "name": "stdout",
          "text": [
            "1.3.5\n",
            "6.0.1\n"
          ]
        }
      ]
    },
    {
      "cell_type": "code",
      "execution_count": null,
      "metadata": {
        "id": "Jwa4G24iMNaD"
      },
      "outputs": [],
      "source": [
        "pdde_cust = pd.read_csv(path+\"/LPOINT_BIG_COMP_PDDE_CUST.csv\", header=0, encoding=\"utf-8\") # 고객정보까지 다 가져옴\n",
        "# pdde_cust = pd.read_csv(path+\"/LPOINT_BIG_COMP_PDDE.csv\", header=0, encoding=\"utf-8\") # 상품 구매정보만 가져옴"
      ]
    },
    {
      "cell_type": "code",
      "source": [
        "def make_rct_parquet(i):    \n",
        "    # chunk 단위로 고객 영수증 인덱스 추출\n",
        "    if i != len(custs)//chunk_num:\n",
        "        temp = pdde_cust.loc[pdde_cust[\"cust\"].isin(custs[i*chunk_num : (i+1)*chunk_num])]\n",
        "    else:\n",
        "        temp = pdde_cust.loc[pdde_cust[\"cust\"].isin(custs[(i+1)*chunk_num:])]\n",
        "\n",
        "    pd_c_df = pivot_table(temp,\n",
        "                          index=\"rct_no\", columns=\"pd_c\", values=\"buy_ct\",\n",
        "                          aggfunc='sum', fill_value=0).astype(\"uint16\").reset_index() # 20sec ~ 40sec\n",
        "    del temp\n",
        "    pd_c_df = pd.concat((df, pd_c_df), axis=0)\n",
        "    pd_c_df.values[pd_c_df.isna()] = 0 # fast fillna 30sec\n",
        "\n",
        "    pd_c_df.to_parquet(path + f\"LPOINT_BIG_COMP_PC_C_SUMS_{i}.parquet\",\n",
        "                       index=False,\n",
        "                       engine=\"pyarrow\", compression=None,\n",
        "                       ) # 저장 시간: 20sec ~ 30sec\n",
        "\n",
        "chunk_num = 1000\n",
        "custs = pdde_cust.cust.unique()\n",
        "df = pd.DataFrame(columns=[\"rct_no\"]+[f\"PD{str(i).zfill(4)}\" for i in range(1,1934)])\n",
        "\n",
        "_ = Parallel(n_jobs=num_cores)(delayed(make_rct_parquet)(i) for i in tqdm(range(len(custs)//chunk_num + 1)))"
      ],
      "metadata": {
        "id": "x_HxnwT5bzc-"
      },
      "execution_count": null,
      "outputs": []
    },
    {
      "cell_type": "code",
      "source": [
        "additional_data = pdde_cust.loc[:, [\"rct_no\", \"cust\", \"de_dt\", \"de_hr\", \"ma_fem_dv\", \"ages\", \"chnl_dv\", \"zon_hlv\", \"cop_c\"]]\\\n",
        "                           .drop_duplicates(\"rct_no\", keep=\"first\")\n",
        "\n",
        "additional_data[\"chnl_dv\"] = class_mapping(additional_data, \"chnl_dv\")\n",
        "additional_data[\"ma_fem_dv\"] = class_mapping(additional_data, \"ma_fem_dv\")\n",
        "additional_data[\"ages\"] = class_mapping(additional_data, \"ages\")\n",
        "\n",
        "additional_data[\"datetime\"] = additional_data[\"de_dt\"].apply(str).str[:4] \\\n",
        "                                + \"-\" + additional_data[\"de_dt\"].apply(str).str[4:6] \\\n",
        "                                + \"-\" + additional_data[\"de_dt\"].apply(str).str[6:8] \\\n",
        "                                + \" \" + additional_data[\"de_hr\"].apply(lambda x: str(x).zfill(2))\n",
        "additional_data[\"datetime\"] = pd.to_datetime(additional_data[\"datetime\"])\n",
        "additional_data = additional_data.drop([\"de_dt\", \"de_hr\"], axis=1)\n",
        "\n",
        "additional_data[\"month\"] = additional_data.datetime.dt.month\n",
        "additional_data[\"dayofweek\"] = additional_data.datetime.dt.dayofweek\n",
        "additional_data = pd.get_dummies(data=additional_data.loc[:, [\"rct_no\", \"cust\", \"datetime\", \"ma_fem_dv\", \"chnl_dv\", \"ages\", \"zon_hlv\", \"cop_c\", \"month\", \"dayofweek\"]],\n",
        "                                 columns=[\"ages\", \"zon_hlv\", \"cop_c\", \"month\", \"dayofweek\"])\n",
        "\n",
        "\n",
        "additional_data = additional_data.set_index(\"rct_no\")\n",
        "additional_data.head(3)"
      ],
      "metadata": {
        "colab": {
          "base_uri": "https://localhost:8080/",
          "height": 427
        },
        "id": "I5DGg5z4bHWs",
        "outputId": "afbcb5ce-ff6e-424a-c686-0a15047f9f92"
      },
      "execution_count": null,
      "outputs": [
        {
          "output_type": "stream",
          "name": "stdout",
          "text": [
            "{1: 0, 2: 1}\n",
            "{'남성': 0, '여성': 1}\n",
            "{'20대': 0, '30대': 1, '40대': 2, '50대': 3, '60대': 4, '70대': 5}\n"
          ]
        },
        {
          "output_type": "execute_result",
          "data": {
            "text/plain": [
              "                    cust            datetime  ma_fem_dv  chnl_dv  ages_0  \\\n",
              "rct_no                                                                     \n",
              "A01000001113  M430112881 2021-01-01 10:00:00          1        0       0   \n",
              "A01000003148  M430112881 2021-01-01 10:00:00          1        0       0   \n",
              "A01000004946  M430112881 2021-01-01 10:00:00          1        0       0   \n",
              "\n",
              "              ages_1  ages_2  ages_3  ages_4  ages_5  ...  month_10  month_11  \\\n",
              "rct_no                                                ...                       \n",
              "A01000001113       0       0       1       0       0  ...         0         0   \n",
              "A01000003148       0       0       1       0       0  ...         0         0   \n",
              "A01000004946       0       0       1       0       0  ...         0         0   \n",
              "\n",
              "              month_12  dayofweek_0  dayofweek_1  dayofweek_2  dayofweek_3  \\\n",
              "rct_no                                                                       \n",
              "A01000001113         0            0            0            0            0   \n",
              "A01000003148         0            0            0            0            0   \n",
              "A01000004946         0            0            0            0            0   \n",
              "\n",
              "              dayofweek_4  dayofweek_5  dayofweek_6  \n",
              "rct_no                                               \n",
              "A01000001113            1            0            0  \n",
              "A01000003148            1            0            0  \n",
              "A01000004946            1            0            0  \n",
              "\n",
              "[3 rows x 52 columns]"
            ],
            "text/html": [
              "\n",
              "  <div id=\"df-6483b52a-e33f-44d7-9b16-bbf521439f01\">\n",
              "    <div class=\"colab-df-container\">\n",
              "      <div>\n",
              "<style scoped>\n",
              "    .dataframe tbody tr th:only-of-type {\n",
              "        vertical-align: middle;\n",
              "    }\n",
              "\n",
              "    .dataframe tbody tr th {\n",
              "        vertical-align: top;\n",
              "    }\n",
              "\n",
              "    .dataframe thead th {\n",
              "        text-align: right;\n",
              "    }\n",
              "</style>\n",
              "<table border=\"1\" class=\"dataframe\">\n",
              "  <thead>\n",
              "    <tr style=\"text-align: right;\">\n",
              "      <th></th>\n",
              "      <th>cust</th>\n",
              "      <th>datetime</th>\n",
              "      <th>ma_fem_dv</th>\n",
              "      <th>chnl_dv</th>\n",
              "      <th>ages_0</th>\n",
              "      <th>ages_1</th>\n",
              "      <th>ages_2</th>\n",
              "      <th>ages_3</th>\n",
              "      <th>ages_4</th>\n",
              "      <th>ages_5</th>\n",
              "      <th>...</th>\n",
              "      <th>month_10</th>\n",
              "      <th>month_11</th>\n",
              "      <th>month_12</th>\n",
              "      <th>dayofweek_0</th>\n",
              "      <th>dayofweek_1</th>\n",
              "      <th>dayofweek_2</th>\n",
              "      <th>dayofweek_3</th>\n",
              "      <th>dayofweek_4</th>\n",
              "      <th>dayofweek_5</th>\n",
              "      <th>dayofweek_6</th>\n",
              "    </tr>\n",
              "    <tr>\n",
              "      <th>rct_no</th>\n",
              "      <th></th>\n",
              "      <th></th>\n",
              "      <th></th>\n",
              "      <th></th>\n",
              "      <th></th>\n",
              "      <th></th>\n",
              "      <th></th>\n",
              "      <th></th>\n",
              "      <th></th>\n",
              "      <th></th>\n",
              "      <th></th>\n",
              "      <th></th>\n",
              "      <th></th>\n",
              "      <th></th>\n",
              "      <th></th>\n",
              "      <th></th>\n",
              "      <th></th>\n",
              "      <th></th>\n",
              "      <th></th>\n",
              "      <th></th>\n",
              "      <th></th>\n",
              "    </tr>\n",
              "  </thead>\n",
              "  <tbody>\n",
              "    <tr>\n",
              "      <th>A01000001113</th>\n",
              "      <td>M430112881</td>\n",
              "      <td>2021-01-01 10:00:00</td>\n",
              "      <td>1</td>\n",
              "      <td>0</td>\n",
              "      <td>0</td>\n",
              "      <td>0</td>\n",
              "      <td>0</td>\n",
              "      <td>1</td>\n",
              "      <td>0</td>\n",
              "      <td>0</td>\n",
              "      <td>...</td>\n",
              "      <td>0</td>\n",
              "      <td>0</td>\n",
              "      <td>0</td>\n",
              "      <td>0</td>\n",
              "      <td>0</td>\n",
              "      <td>0</td>\n",
              "      <td>0</td>\n",
              "      <td>1</td>\n",
              "      <td>0</td>\n",
              "      <td>0</td>\n",
              "    </tr>\n",
              "    <tr>\n",
              "      <th>A01000003148</th>\n",
              "      <td>M430112881</td>\n",
              "      <td>2021-01-01 10:00:00</td>\n",
              "      <td>1</td>\n",
              "      <td>0</td>\n",
              "      <td>0</td>\n",
              "      <td>0</td>\n",
              "      <td>0</td>\n",
              "      <td>1</td>\n",
              "      <td>0</td>\n",
              "      <td>0</td>\n",
              "      <td>...</td>\n",
              "      <td>0</td>\n",
              "      <td>0</td>\n",
              "      <td>0</td>\n",
              "      <td>0</td>\n",
              "      <td>0</td>\n",
              "      <td>0</td>\n",
              "      <td>0</td>\n",
              "      <td>1</td>\n",
              "      <td>0</td>\n",
              "      <td>0</td>\n",
              "    </tr>\n",
              "    <tr>\n",
              "      <th>A01000004946</th>\n",
              "      <td>M430112881</td>\n",
              "      <td>2021-01-01 10:00:00</td>\n",
              "      <td>1</td>\n",
              "      <td>0</td>\n",
              "      <td>0</td>\n",
              "      <td>0</td>\n",
              "      <td>0</td>\n",
              "      <td>1</td>\n",
              "      <td>0</td>\n",
              "      <td>0</td>\n",
              "      <td>...</td>\n",
              "      <td>0</td>\n",
              "      <td>0</td>\n",
              "      <td>0</td>\n",
              "      <td>0</td>\n",
              "      <td>0</td>\n",
              "      <td>0</td>\n",
              "      <td>0</td>\n",
              "      <td>1</td>\n",
              "      <td>0</td>\n",
              "      <td>0</td>\n",
              "    </tr>\n",
              "  </tbody>\n",
              "</table>\n",
              "<p>3 rows × 52 columns</p>\n",
              "</div>\n",
              "      <button class=\"colab-df-convert\" onclick=\"convertToInteractive('df-6483b52a-e33f-44d7-9b16-bbf521439f01')\"\n",
              "              title=\"Convert this dataframe to an interactive table.\"\n",
              "              style=\"display:none;\">\n",
              "        \n",
              "  <svg xmlns=\"http://www.w3.org/2000/svg\" height=\"24px\"viewBox=\"0 0 24 24\"\n",
              "       width=\"24px\">\n",
              "    <path d=\"M0 0h24v24H0V0z\" fill=\"none\"/>\n",
              "    <path d=\"M18.56 5.44l.94 2.06.94-2.06 2.06-.94-2.06-.94-.94-2.06-.94 2.06-2.06.94zm-11 1L8.5 8.5l.94-2.06 2.06-.94-2.06-.94L8.5 2.5l-.94 2.06-2.06.94zm10 10l.94 2.06.94-2.06 2.06-.94-2.06-.94-.94-2.06-.94 2.06-2.06.94z\"/><path d=\"M17.41 7.96l-1.37-1.37c-.4-.4-.92-.59-1.43-.59-.52 0-1.04.2-1.43.59L10.3 9.45l-7.72 7.72c-.78.78-.78 2.05 0 2.83L4 21.41c.39.39.9.59 1.41.59.51 0 1.02-.2 1.41-.59l7.78-7.78 2.81-2.81c.8-.78.8-2.07 0-2.86zM5.41 20L4 18.59l7.72-7.72 1.47 1.35L5.41 20z\"/>\n",
              "  </svg>\n",
              "      </button>\n",
              "      \n",
              "  <style>\n",
              "    .colab-df-container {\n",
              "      display:flex;\n",
              "      flex-wrap:wrap;\n",
              "      gap: 12px;\n",
              "    }\n",
              "\n",
              "    .colab-df-convert {\n",
              "      background-color: #E8F0FE;\n",
              "      border: none;\n",
              "      border-radius: 50%;\n",
              "      cursor: pointer;\n",
              "      display: none;\n",
              "      fill: #1967D2;\n",
              "      height: 32px;\n",
              "      padding: 0 0 0 0;\n",
              "      width: 32px;\n",
              "    }\n",
              "\n",
              "    .colab-df-convert:hover {\n",
              "      background-color: #E2EBFA;\n",
              "      box-shadow: 0px 1px 2px rgba(60, 64, 67, 0.3), 0px 1px 3px 1px rgba(60, 64, 67, 0.15);\n",
              "      fill: #174EA6;\n",
              "    }\n",
              "\n",
              "    [theme=dark] .colab-df-convert {\n",
              "      background-color: #3B4455;\n",
              "      fill: #D2E3FC;\n",
              "    }\n",
              "\n",
              "    [theme=dark] .colab-df-convert:hover {\n",
              "      background-color: #434B5C;\n",
              "      box-shadow: 0px 1px 3px 1px rgba(0, 0, 0, 0.15);\n",
              "      filter: drop-shadow(0px 1px 2px rgba(0, 0, 0, 0.3));\n",
              "      fill: #FFFFFF;\n",
              "    }\n",
              "  </style>\n",
              "\n",
              "      <script>\n",
              "        const buttonEl =\n",
              "          document.querySelector('#df-6483b52a-e33f-44d7-9b16-bbf521439f01 button.colab-df-convert');\n",
              "        buttonEl.style.display =\n",
              "          google.colab.kernel.accessAllowed ? 'block' : 'none';\n",
              "\n",
              "        async function convertToInteractive(key) {\n",
              "          const element = document.querySelector('#df-6483b52a-e33f-44d7-9b16-bbf521439f01');\n",
              "          const dataTable =\n",
              "            await google.colab.kernel.invokeFunction('convertToInteractive',\n",
              "                                                     [key], {});\n",
              "          if (!dataTable) return;\n",
              "\n",
              "          const docLinkHtml = 'Like what you see? Visit the ' +\n",
              "            '<a target=\"_blank\" href=https://colab.research.google.com/notebooks/data_table.ipynb>data table notebook</a>'\n",
              "            + ' to learn more about interactive tables.';\n",
              "          element.innerHTML = '';\n",
              "          dataTable['output_type'] = 'display_data';\n",
              "          await google.colab.output.renderOutput(dataTable, element);\n",
              "          const docLink = document.createElement('div');\n",
              "          docLink.innerHTML = docLinkHtml;\n",
              "          element.appendChild(docLink);\n",
              "        }\n",
              "      </script>\n",
              "    </div>\n",
              "  </div>\n",
              "  "
            ]
          },
          "metadata": {},
          "execution_count": 36
        }
      ]
    },
    {
      "cell_type": "code",
      "source": [
        "i = 0\n",
        "df = pd.read_parquet(path+f\"/LPOINT_BIG_COMP_PC_C_SUMS_{i}.parquet\", engine=\"pyarrow\")\\\n",
        "                     .set_index(\"rct_no\")\\\n",
        "                     .join(additional_data)\n",
        "len(df.cust.unique())\n",
        "# 1000"
      ],
      "metadata": {
        "colab": {
          "base_uri": "https://localhost:8080/"
        },
        "id": "g_qVhbTirVYY",
        "outputId": "88e05cee-52f3-4827-a67d-81719e26e827"
      },
      "execution_count": null,
      "outputs": [
        {
          "output_type": "execute_result",
          "data": {
            "text/plain": [
              "1000"
            ]
          },
          "metadata": {},
          "execution_count": 37
        }
      ]
    },
    {
      "cell_type": "code",
      "source": [
        "import torch\n",
        "import torchvision\n",
        "from torchvision import transforms\n",
        "import torch.nn.functional as F\n",
        "import torch.nn as nn\n",
        "import torch.optim as optim\n",
        "import numpy as np\n",
        "import matplotlib.pyplot as plt\n",
        "from torch.utils.data import DataLoader, Dataset\n",
        "device = torch.device('cuda:0' if torch.cuda.is_available() else 'cpu')"
      ],
      "metadata": {
        "id": "VLbDsdMl0n9G"
      },
      "execution_count": null,
      "outputs": []
    },
    {
      "cell_type": "code",
      "source": [
        "def make_rct_tensor(i, recent_rcts, cust_df):\n",
        "    global features\n",
        "\n",
        "    if len(cust_df) > i+1: # 고객의 남은 영수증이 1개 이하인 경우 None 반환\n",
        "        temp = cust_df.iloc[i : i+recent_rcts].copy()\n",
        "        temp[\"date_from\"] = (temp.datetime.iloc[0] - temp.datetime).dt.days # 최근 구입일로부터 몇일만에 구입한 영수증인지. ex) [0]: 01/22, [1]: 02/11, [2]: 02/13 => [0]: 0, [1]: 20, [2]: 22\n",
        "        temp = temp[features] # 피쳐 집합으로 원하는 피쳐를 골라 저장\n",
        "\n",
        "        if 1 < temp.shape[0] < recent_rcts: # 고객의 남은 영수증이 2개 이상, 지정된 \"최근 영수증 개수\" 미만인 경우\n",
        "            # \"영수증 텐서\" 생성, 부족한 영수증 데이터는 -1로 채움.\n",
        "            temp = np.concatenate((temp.values,\n",
        "                            -np.ones((recent_rcts - temp.shape[0], temp.shape[1]))),\n",
        "                            axis=0,\n",
        "                            dtype=np.int16,\n",
        "                            casting=\"unsafe\",\n",
        "                            )\n",
        "    \n",
        "        else : # 고객의 받아온 영수증이 지정된 \"최근 영수증 개수\"인 경우\n",
        "            # \"영수증 텐서\" 생성\n",
        "            temp = temp.values.astype(np.int16)\n",
        "        return  temp\n",
        "    else:\n",
        "        return None"
      ],
      "metadata": {
        "id": "cKGWoLopw93q"
      },
      "execution_count": null,
      "outputs": []
    },
    {
      "cell_type": "code",
      "source": [
        "recent_rcts = 10 # 한 텐서 안에 들어갈 \"최근 영수증 개수\"\n",
        "\n",
        "for j in range(len(custs)//chunk_num + 1):\n",
        "    print(\"=\"*50+\"\\n\"+\"=\"*50)\n",
        "    print(f\"{j}번째 데이터셋을 생성중입니다.\")\n",
        "\n",
        "    # j번째 parquet 불러오기\n",
        "    df = pd.read_parquet(path+f\"/LPOINT_BIG_COMP_PC_C_SUMS_{j}.parquet\", engine=\"pyarrow\")\\\n",
        "                        .set_index(\"rct_no\")\\\n",
        "                        .join(additional_data)\n",
        "\n",
        "    # 피쳐 집합 생성\n",
        "    features = [col for col in df.columns if col not in [\"rct_no\", \"cust\", \"datetime\"]] + [\"date_interval\", \"date_from\"]\n",
        "\n",
        "    # 데이터셋 생성\n",
        "    tensor_data = [] # stack할 후보군을 담을 리스트\n",
        "\n",
        "    # 고객, 시간별 \"영수증 텐서\" 생성\n",
        "    for cust_idx in tqdm(df.cust.unique()): # 데이터 프레임 내 모든 고객들에 대하여\n",
        "        cust_df = df.loc[df.cust.isin([cust_idx])].sort_values(by=\"datetime\", ascending=False).reset_index() # 고객별 시간순서대로 정렬\n",
        "        cust_df[\"date_interval\"] = (cust_df.datetime - cust_df.datetime.shift(-1)).dt.days.fillna(-1) # 몇일만에 새로운 구입을 하였는지\n",
        "\n",
        "        results = Parallel(n_jobs=num_cores)(delayed(make_rct_tensor)(i, recent_rcts, cust_df) for i in range(len(cust_df)))\n",
        "        tensor_data += [t for t in results if t is not None]\n",
        "            \n",
        "        # break\n",
        "    tensor_data = np.stack(tensor_data, axis=0) # 한 csv내 \"영수증 텐서\"를 array 로 Stack\n",
        "    print(f\"{j}번째 영수증 텐서의 Shape : {tensor_data.shape}\")\n",
        "    np.save(path+f\"/LPOINT_BIG_COMP_TORCH_np{j}.npy\", tensor_data)\n",
        "    # del tensor_data\n",
        "\n",
        "# # data_len * recent_rcts * (1933 + K)"
      ],
      "metadata": {
        "colab": {
          "base_uri": "https://localhost:8080/"
        },
        "id": "9Z1xnSiJx3Ux",
        "outputId": "5ff99f35-5cd4-479b-ef12-c8dfef1ec7f7"
      },
      "execution_count": null,
      "outputs": [
        {
          "output_type": "stream",
          "name": "stdout",
          "text": [
            "==================================================\n",
            "==================================================\n",
            "0번째 데이터셋을 생성중입니다.\n"
          ]
        },
        {
          "output_type": "stream",
          "name": "stderr",
          "text": [
            "100%|██████████| 1000/1000 [10:33<00:00,  1.58it/s]\n"
          ]
        },
        {
          "output_type": "stream",
          "name": "stdout",
          "text": [
            "0번째 영수증 텐서의 Shape : (31904, 10, 1985)\n",
            "==================================================\n",
            "==================================================\n",
            "1번째 데이터셋을 생성중입니다.\n"
          ]
        },
        {
          "output_type": "stream",
          "name": "stderr",
          "text": [
            "100%|██████████| 1000/1000 [10:06<00:00,  1.65it/s]\n"
          ]
        },
        {
          "output_type": "stream",
          "name": "stdout",
          "text": [
            "1번째 영수증 텐서의 Shape : (29861, 10, 1985)\n",
            "==================================================\n",
            "==================================================\n",
            "2번째 데이터셋을 생성중입니다.\n"
          ]
        },
        {
          "output_type": "stream",
          "name": "stderr",
          "text": [
            "100%|██████████| 1000/1000 [10:00<00:00,  1.67it/s]\n"
          ]
        },
        {
          "output_type": "stream",
          "name": "stdout",
          "text": [
            "2번째 영수증 텐서의 Shape : (29203, 10, 1985)\n",
            "==================================================\n",
            "==================================================\n",
            "3번째 데이터셋을 생성중입니다.\n"
          ]
        },
        {
          "output_type": "stream",
          "name": "stderr",
          "text": [
            "100%|██████████| 1000/1000 [08:26<00:00,  1.98it/s]\n"
          ]
        },
        {
          "output_type": "stream",
          "name": "stdout",
          "text": [
            "3번째 영수증 텐서의 Shape : (23380, 10, 1985)\n",
            "==================================================\n",
            "==================================================\n",
            "4번째 데이터셋을 생성중입니다.\n"
          ]
        },
        {
          "output_type": "stream",
          "name": "stderr",
          "text": [
            "100%|██████████| 1000/1000 [08:07<00:00,  2.05it/s]\n"
          ]
        },
        {
          "output_type": "stream",
          "name": "stdout",
          "text": [
            "4번째 영수증 텐서의 Shape : (21980, 10, 1985)\n",
            "==================================================\n",
            "==================================================\n",
            "5번째 데이터셋을 생성중입니다.\n"
          ]
        },
        {
          "output_type": "stream",
          "name": "stderr",
          "text": [
            "100%|██████████| 1000/1000 [07:50<00:00,  2.12it/s]\n"
          ]
        },
        {
          "output_type": "stream",
          "name": "stdout",
          "text": [
            "5번째 영수증 텐서의 Shape : (20804, 10, 1985)\n",
            "==================================================\n",
            "==================================================\n",
            "6번째 데이터셋을 생성중입니다.\n"
          ]
        },
        {
          "output_type": "stream",
          "name": "stderr",
          "text": [
            "100%|██████████| 1000/1000 [07:10<00:00,  2.32it/s]\n"
          ]
        },
        {
          "output_type": "stream",
          "name": "stdout",
          "text": [
            "6번째 영수증 텐서의 Shape : (18562, 10, 1985)\n",
            "==================================================\n",
            "==================================================\n",
            "7번째 데이터셋을 생성중입니다.\n"
          ]
        },
        {
          "output_type": "stream",
          "name": "stderr",
          "text": [
            "100%|██████████| 1000/1000 [07:19<00:00,  2.27it/s]\n"
          ]
        },
        {
          "output_type": "stream",
          "name": "stdout",
          "text": [
            "7번째 영수증 텐서의 Shape : (19066, 10, 1985)\n",
            "==================================================\n",
            "==================================================\n",
            "8번째 데이터셋을 생성중입니다.\n"
          ]
        },
        {
          "output_type": "stream",
          "name": "stderr",
          "text": [
            "100%|██████████| 1000/1000 [06:45<00:00,  2.47it/s]\n"
          ]
        },
        {
          "output_type": "stream",
          "name": "stdout",
          "text": [
            "8번째 영수증 텐서의 Shape : (17002, 10, 1985)\n",
            "==================================================\n",
            "==================================================\n",
            "9번째 데이터셋을 생성중입니다.\n"
          ]
        },
        {
          "output_type": "stream",
          "name": "stderr",
          "text": [
            "100%|██████████| 1000/1000 [06:33<00:00,  2.54it/s]\n"
          ]
        },
        {
          "output_type": "stream",
          "name": "stdout",
          "text": [
            "9번째 영수증 텐서의 Shape : (16216, 10, 1985)\n",
            "==================================================\n",
            "==================================================\n",
            "10번째 데이터셋을 생성중입니다.\n"
          ]
        },
        {
          "output_type": "stream",
          "name": "stderr",
          "text": [
            "100%|██████████| 1000/1000 [06:19<00:00,  2.63it/s]\n"
          ]
        },
        {
          "output_type": "stream",
          "name": "stdout",
          "text": [
            "10번째 영수증 텐서의 Shape : (15850, 10, 1985)\n",
            "==================================================\n",
            "==================================================\n",
            "11번째 데이터셋을 생성중입니다.\n"
          ]
        },
        {
          "output_type": "stream",
          "name": "stderr",
          "text": [
            "100%|██████████| 1000/1000 [05:59<00:00,  2.78it/s]\n"
          ]
        },
        {
          "output_type": "stream",
          "name": "stdout",
          "text": [
            "11번째 영수증 텐서의 Shape : (15008, 10, 1985)\n",
            "==================================================\n",
            "==================================================\n",
            "12번째 데이터셋을 생성중입니다.\n"
          ]
        },
        {
          "output_type": "stream",
          "name": "stderr",
          "text": [
            "100%|██████████| 1000/1000 [05:49<00:00,  2.86it/s]\n"
          ]
        },
        {
          "output_type": "stream",
          "name": "stdout",
          "text": [
            "12번째 영수증 텐서의 Shape : (14048, 10, 1985)\n",
            "==================================================\n",
            "==================================================\n",
            "13번째 데이터셋을 생성중입니다.\n"
          ]
        },
        {
          "output_type": "stream",
          "name": "stderr",
          "text": [
            "100%|██████████| 1000/1000 [05:33<00:00,  3.00it/s]\n"
          ]
        },
        {
          "output_type": "stream",
          "name": "stdout",
          "text": [
            "13번째 영수증 텐서의 Shape : (13559, 10, 1985)\n",
            "==================================================\n",
            "==================================================\n",
            "14번째 데이터셋을 생성중입니다.\n"
          ]
        },
        {
          "output_type": "stream",
          "name": "stderr",
          "text": [
            " 67%|██████▋   | 674/1000 [03:44<01:36,  3.37it/s]"
          ]
        }
      ]
    },
    {
      "cell_type": "code",
      "source": [
        "# 위의 루프에서 하면 너무 오래걸려서 추가로 시행한 부분\n",
        "\n",
        "np_tensor_data = [] # np자료끼리 묶을 리스트\n",
        "for j in range(len(custs)//chunk_num + 1):\n",
        "    tensor_data = np.load(path+f\"/LPOINT_BIG_COMP_TORCH_np{j}.npy\")\n",
        "    np_tensor_data += tensor_data\n",
        "    print(f\"{j}번째 영수증 텐서의 Shape : {tensor_data.shape}\")\n",
        "np_tensor_data = np.stack(np_tensor_data, axis=0)\n",
        "np.save(path+f\"/LPOINT_BIG_COMP_TORCH_np_Total.npy\", np_tensor_data)\n",
        "# np_tensor_data = np.load(path+f\"/LPOINT_BIG_COMP_TORCH_np{j}.npy\")"
      ],
      "metadata": {
        "id": "x4QeEEIJkib0"
      },
      "execution_count": null,
      "outputs": []
    },
    {
      "cell_type": "markdown",
      "source": [
        "# 이후 수정 예정"
      ],
      "metadata": {
        "id": "I_l7eKSXrSHy"
      }
    },
    {
      "cell_type": "code",
      "source": [
        "class CustomDataset(Dataset):\n",
        "    def __init__(self, df, id, train_mode = True, transforms = None, n = None):\n",
        "        self.transforms = transforms\n",
        "        self.train_mode = train_mode\n",
        "        self.df = df\n",
        "        self.id = id\n",
        "        self.n = n\n",
        "\n",
        "    def __len__(self):\n",
        "        return len(self.id)\n",
        "\n",
        "    def __getitem__(self, idx):\n",
        "        id = self.id[idx]\n",
        "        input = self.df.loc[list(map(lambda tmp : (id in tmp), tmp_list)),:]\n",
        "\n",
        "        if self.train_mode:\n",
        "            output = input.iloc[:,:-4]\n",
        "            return torch.tensor(np.array(input)), torch.tensor(np.array(output))\n",
        "\n",
        "        else:\n",
        "            return torch.tensor(np.array(input))"
      ],
      "metadata": {
        "id": "sJlxdvYNnpw7"
      },
      "execution_count": null,
      "outputs": []
    }
  ],
  "metadata": {
    "colab": {
      "collapsed_sections": [],
      "name": "LPOINT 데이터 모델링.ipynb",
      "provenance": [],
      "machine_shape": "hm",
      "authorship_tag": "ABX9TyOaQYkEXTvK1jhqjwYMm6f6",
      "include_colab_link": true
    },
    "gpuClass": "standard",
    "kernelspec": {
      "display_name": "Python 3",
      "name": "python3"
    },
    "language_info": {
      "name": "python"
    }
  },
  "nbformat": 4,
  "nbformat_minor": 0
}