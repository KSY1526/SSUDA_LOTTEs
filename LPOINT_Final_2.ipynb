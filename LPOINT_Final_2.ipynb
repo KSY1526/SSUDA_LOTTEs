{
  "nbformat": 4,
  "nbformat_minor": 0,
  "metadata": {
    "colab": {
      "name": "LPOINT_Final_2.ipynb",
      "provenance": [],
      "collapsed_sections": [],
      "machine_shape": "hm",
      "toc_visible": true,
      "include_colab_link": true
    },
    "kernelspec": {
      "name": "python3",
      "display_name": "Python 3"
    },
    "language_info": {
      "name": "python"
    },
    "gpuClass": "standard",
    "accelerator": "GPU"
  },
  "cells": [
    {
      "cell_type": "markdown",
      "metadata": {
        "id": "view-in-github",
        "colab_type": "text"
      },
      "source": [
        "<a href=\"https://colab.research.google.com/github/KSY1526/SSUDA_LOTTEs/blob/main/LPOINT_Final_2.ipynb\" target=\"_parent\"><img src=\"https://colab.research.google.com/assets/colab-badge.svg\" alt=\"Open In Colab\"/></a>"
      ]
    },
    {
      "cell_type": "code",
      "execution_count": null,
      "metadata": {
        "id": "KX3Kx0LmRFk7"
      },
      "outputs": [],
      "source": [
        "# '''\n",
        "# function ClickConnect(){\n",
        "#     console.log(\"코랩 연결 끊김 방지\"); \n",
        "#     document.querySelector(\"colab-toolbar-button#connect\").click() \n",
        "# }\n",
        "# setInterval(ClickConnect, 60 * 1000)\n",
        "# '''"
      ]
    },
    {
      "cell_type": "code",
      "source": [
        "!pip install fastpivot\n",
        "!pip install pyarrow\n",
        "\n",
        "!nvidia-smi\n",
        "!head /proc/cpuinfo\n",
        "!head -n 3 /proc/meminfo"
      ],
      "metadata": {
        "id": "RJCYruoVRK9-",
        "colab": {
          "base_uri": "https://localhost:8080/"
        },
        "outputId": "2c84e48f-1880-4913-c03f-10a8b8adca2f"
      },
      "execution_count": 2,
      "outputs": [
        {
          "output_type": "stream",
          "name": "stdout",
          "text": [
            "Looking in indexes: https://pypi.org/simple, https://us-python.pkg.dev/colab-wheels/public/simple/\n",
            "Requirement already satisfied: fastpivot in /usr/local/lib/python3.7/dist-packages (0.1.12)\n",
            "Requirement already satisfied: scipy>=1.6.0 in /usr/local/lib/python3.7/dist-packages (from fastpivot) (1.7.3)\n",
            "Requirement already satisfied: pandas>=1.0.0 in /usr/local/lib/python3.7/dist-packages (from fastpivot) (1.3.5)\n",
            "Requirement already satisfied: numpy>=1.19.0 in /usr/local/lib/python3.7/dist-packages (from fastpivot) (1.21.6)\n",
            "Requirement already satisfied: python-dateutil>=2.7.3 in /usr/local/lib/python3.7/dist-packages (from pandas>=1.0.0->fastpivot) (2.8.2)\n",
            "Requirement already satisfied: pytz>=2017.3 in /usr/local/lib/python3.7/dist-packages (from pandas>=1.0.0->fastpivot) (2022.1)\n",
            "Requirement already satisfied: six>=1.5 in /usr/local/lib/python3.7/dist-packages (from python-dateutil>=2.7.3->pandas>=1.0.0->fastpivot) (1.15.0)\n",
            "Looking in indexes: https://pypi.org/simple, https://us-python.pkg.dev/colab-wheels/public/simple/\n",
            "Requirement already satisfied: pyarrow in /usr/local/lib/python3.7/dist-packages (6.0.1)\n",
            "Requirement already satisfied: numpy>=1.16.6 in /usr/local/lib/python3.7/dist-packages (from pyarrow) (1.21.6)\n",
            "Sun Aug  7 07:24:29 2022       \n",
            "+-----------------------------------------------------------------------------+\n",
            "| NVIDIA-SMI 460.32.03    Driver Version: 460.32.03    CUDA Version: 11.2     |\n",
            "|-------------------------------+----------------------+----------------------+\n",
            "| GPU  Name        Persistence-M| Bus-Id        Disp.A | Volatile Uncorr. ECC |\n",
            "| Fan  Temp  Perf  Pwr:Usage/Cap|         Memory-Usage | GPU-Util  Compute M. |\n",
            "|                               |                      |               MIG M. |\n",
            "|===============================+======================+======================|\n",
            "|   0  Tesla T4            Off  | 00000000:00:04.0 Off |                    0 |\n",
            "| N/A   54C    P8    10W /  70W |      3MiB / 15109MiB |      0%      Default |\n",
            "|                               |                      |                  N/A |\n",
            "+-------------------------------+----------------------+----------------------+\n",
            "                                                                               \n",
            "+-----------------------------------------------------------------------------+\n",
            "| Processes:                                                                  |\n",
            "|  GPU   GI   CI        PID   Type   Process name                  GPU Memory |\n",
            "|        ID   ID                                                   Usage      |\n",
            "|=============================================================================|\n",
            "|  No running processes found                                                 |\n",
            "+-----------------------------------------------------------------------------+\n",
            "processor\t: 0\n",
            "vendor_id\t: GenuineIntel\n",
            "cpu family\t: 6\n",
            "model\t\t: 79\n",
            "model name\t: Intel(R) Xeon(R) CPU @ 2.20GHz\n",
            "stepping\t: 0\n",
            "microcode\t: 0x1\n",
            "cpu MHz\t\t: 2199.998\n",
            "cache size\t: 56320 KB\n",
            "physical id\t: 0\n",
            "MemTotal:       13298572 kB\n",
            "MemFree:        10971704 kB\n",
            "MemAvailable:   11957980 kB\n"
          ]
        }
      ]
    },
    {
      "cell_type": "code",
      "source": [
        "from google.colab import drive\n",
        "drive.mount(\"/content/drive\")\n",
        "\n",
        "import os\n",
        "import warnings; warnings.filterwarnings(\"ignore\")\n",
        "import numpy as np\n",
        "import pandas as pd\n",
        "import pyarrow as pa\n",
        "from fastpivot import pivot_table\n",
        "from tqdm import tqdm\n",
        "\n",
        "from joblib import Parallel, delayed\n",
        "import multiprocessing\n",
        "num_cores = multiprocessing.cpu_count()\n",
        "\n",
        "print(\"Usable Core : \", num_cores)\n",
        "print(\"Pandas Version : \", pd.__version__) # 1.3.5\n",
        "print(\"Pyarrow Version : \", pa.__version__) # 6.0.1\n",
        "\n",
        "path = \"/content/drive/MyDrive/lotte/\""
      ],
      "metadata": {
        "colab": {
          "base_uri": "https://localhost:8080/"
        },
        "id": "jX5ZLDs0RMP-",
        "outputId": "ee67e5f4-8c02-46e2-e16c-82e6b4d206aa"
      },
      "execution_count": 3,
      "outputs": [
        {
          "output_type": "stream",
          "name": "stdout",
          "text": [
            "Drive already mounted at /content/drive; to attempt to forcibly remount, call drive.mount(\"/content/drive\", force_remount=True).\n",
            "Usable Core :  2\n",
            "Pandas Version :  1.3.5\n",
            "Pyarrow Version :  6.0.1\n"
          ]
        }
      ]
    },
    {
      "cell_type": "markdown",
      "source": [
        "# 데이터 생성\n"
      ],
      "metadata": {
        "id": "xQTwcduYzr2U"
      }
    },
    {
      "cell_type": "code",
      "source": [
        "def make_datetime(df, drop=True):\n",
        "    df[\"datetime\"] = df[\"de_dt\"].apply(str).str[:4] \\\n",
        "                                    + \"-\" + df[\"de_dt\"].apply(str).str[4:6] \\\n",
        "                                    + \"-\" + df[\"de_dt\"].apply(str).str[6:8] \\\n",
        "                                    + \" \" + df[\"de_hr\"].apply(lambda x: str(x).zfill(2))\n",
        "    df[\"datetime\"] = pd.to_datetime(df[\"datetime\"])\n",
        "    if drop : df = df.drop([\"de_dt\", \"de_hr\"], axis=1)\n",
        "    return df\n",
        "\n",
        "\n",
        "def class_mapping(df, col, verbose=True):\n",
        "    class_map = {lbl:idx for idx, lbl in enumerate(sorted(df[col].unique()))}\n",
        "    if verbose : print(class_map)\n",
        "    return df[col].map(class_map)"
      ],
      "metadata": {
        "id": "OqWdkZxBauWH"
      },
      "execution_count": 5,
      "outputs": []
    },
    {
      "cell_type": "code",
      "source": [
        "format_df = pd.read_parquet(path+\"/LPOINT_BIG_COMP_PDDE_CUST.parquet\", columns=[\"cust\", \"rct_no\", \"de_dt\", \"de_hr\"], engine=\"pyarrow\").drop_duplicates(\"rct_no\", keep=\"first\")\n",
        "format_df = make_datetime(format_df, drop=True)\n",
        "# format_df = format_df.set_index(\"datetime\").sort_values(\"datetime\").reset_index().set_index(\"rct_no\") # 뒤에서 어차피 순서 바뀌어서 하지 않음..\n",
        "format_df = format_df.set_index(\"rct_no\")\n",
        "print(format_df.head(5))\n",
        "\n",
        "\n",
        "pdde_cust_df = pd.read_parquet(path+\"/LPOINT_BIG_COMP_PDDE_CUST.parquet\", columns=[\"rct_no\", \"ma_fem_dv\", \"ages\", \"chnl_dv\", \"zon_hlv\", \"cop_c\"], engine=\"pyarrow\").drop_duplicates(\"rct_no\", keep=\"first\").set_index(\"rct_no\")\n",
        "pdde_cust_df[\"ma_fem_dv\"] = class_mapping(pdde_cust_df, \"ma_fem_dv\")\n",
        "pdde_cust_df[\"chnl_dv\"] = class_mapping(pdde_cust_df, \"chnl_dv\")\n",
        "pdde_cust_df[\"ages\"] = class_mapping(pdde_cust_df, \"ages\")\n",
        "print(pdde_cust_df.head(5))\n",
        "\n",
        "\n",
        "\n",
        "format_df = format_df.join(pdde_cust_df)\n",
        "format_df[\"month\"] = format_df.datetime.dt.month\n",
        "format_df[\"dayofweek\"] = format_df.datetime.dt.dayofweek\n",
        "format_df = pd.get_dummies(format_df,\n",
        "                           columns=[\"ages\", \"zon_hlv\", \"cop_c\", \"month\", \"dayofweek\"])\n",
        "\n",
        "format_df.head(5)"
      ],
      "metadata": {
        "id": "dN1Xs2zTRMLV",
        "colab": {
          "base_uri": "https://localhost:8080/",
          "height": 813
        },
        "outputId": "de35f525-460f-4119-83fc-71cf108321ef"
      },
      "execution_count": 6,
      "outputs": [
        {
          "output_type": "stream",
          "name": "stdout",
          "text": [
            "                    cust            datetime\n",
            "rct_no                                      \n",
            "A01000001113  M430112881 2021-01-01 10:00:00\n",
            "A01000003148  M430112881 2021-01-01 10:00:00\n",
            "A01000004946  M430112881 2021-01-01 10:00:00\n",
            "A01000005297  M430112881 2021-01-01 10:00:00\n",
            "A01000006470  M430112881 2021-01-01 11:00:00\n",
            "{'남성': 0, '여성': 1}\n",
            "{1: 0, 2: 1}\n",
            "{'20대': 0, '30대': 1, '40대': 2, '50대': 3, '60대': 4, '70대': 5}\n",
            "              ma_fem_dv  ages  chnl_dv zon_hlv cop_c\n",
            "rct_no                                              \n",
            "A01000001113          1     3        0     Z17   A01\n",
            "A01000003148          1     3        0     Z17   A01\n",
            "A01000004946          1     3        0     Z17   A01\n",
            "A01000005297          1     3        0     Z17   A01\n",
            "A01000006470          1     3        0     Z17   A01\n"
          ]
        },
        {
          "output_type": "execute_result",
          "data": {
            "text/plain": [
              "                    cust            datetime  ma_fem_dv  chnl_dv  ages_0  \\\n",
              "rct_no                                                                     \n",
              "A01000001113  M430112881 2021-01-01 10:00:00          1        0       0   \n",
              "A01000003148  M430112881 2021-01-01 10:00:00          1        0       0   \n",
              "A01000004946  M430112881 2021-01-01 10:00:00          1        0       0   \n",
              "A01000005297  M430112881 2021-01-01 10:00:00          1        0       0   \n",
              "A01000006470  M430112881 2021-01-01 11:00:00          1        0       0   \n",
              "\n",
              "              ages_1  ages_2  ages_3  ages_4  ages_5  ...  month_10  month_11  \\\n",
              "rct_no                                                ...                       \n",
              "A01000001113       0       0       1       0       0  ...         0         0   \n",
              "A01000003148       0       0       1       0       0  ...         0         0   \n",
              "A01000004946       0       0       1       0       0  ...         0         0   \n",
              "A01000005297       0       0       1       0       0  ...         0         0   \n",
              "A01000006470       0       0       1       0       0  ...         0         0   \n",
              "\n",
              "              month_12  dayofweek_0  dayofweek_1  dayofweek_2  dayofweek_3  \\\n",
              "rct_no                                                                       \n",
              "A01000001113         0            0            0            0            0   \n",
              "A01000003148         0            0            0            0            0   \n",
              "A01000004946         0            0            0            0            0   \n",
              "A01000005297         0            0            0            0            0   \n",
              "A01000006470         0            0            0            0            0   \n",
              "\n",
              "              dayofweek_4  dayofweek_5  dayofweek_6  \n",
              "rct_no                                               \n",
              "A01000001113            1            0            0  \n",
              "A01000003148            1            0            0  \n",
              "A01000004946            1            0            0  \n",
              "A01000005297            1            0            0  \n",
              "A01000006470            1            0            0  \n",
              "\n",
              "[5 rows x 52 columns]"
            ],
            "text/html": [
              "\n",
              "  <div id=\"df-bd5914eb-2349-4c43-8e3e-6cdb74b64acd\">\n",
              "    <div class=\"colab-df-container\">\n",
              "      <div>\n",
              "<style scoped>\n",
              "    .dataframe tbody tr th:only-of-type {\n",
              "        vertical-align: middle;\n",
              "    }\n",
              "\n",
              "    .dataframe tbody tr th {\n",
              "        vertical-align: top;\n",
              "    }\n",
              "\n",
              "    .dataframe thead th {\n",
              "        text-align: right;\n",
              "    }\n",
              "</style>\n",
              "<table border=\"1\" class=\"dataframe\">\n",
              "  <thead>\n",
              "    <tr style=\"text-align: right;\">\n",
              "      <th></th>\n",
              "      <th>cust</th>\n",
              "      <th>datetime</th>\n",
              "      <th>ma_fem_dv</th>\n",
              "      <th>chnl_dv</th>\n",
              "      <th>ages_0</th>\n",
              "      <th>ages_1</th>\n",
              "      <th>ages_2</th>\n",
              "      <th>ages_3</th>\n",
              "      <th>ages_4</th>\n",
              "      <th>ages_5</th>\n",
              "      <th>...</th>\n",
              "      <th>month_10</th>\n",
              "      <th>month_11</th>\n",
              "      <th>month_12</th>\n",
              "      <th>dayofweek_0</th>\n",
              "      <th>dayofweek_1</th>\n",
              "      <th>dayofweek_2</th>\n",
              "      <th>dayofweek_3</th>\n",
              "      <th>dayofweek_4</th>\n",
              "      <th>dayofweek_5</th>\n",
              "      <th>dayofweek_6</th>\n",
              "    </tr>\n",
              "    <tr>\n",
              "      <th>rct_no</th>\n",
              "      <th></th>\n",
              "      <th></th>\n",
              "      <th></th>\n",
              "      <th></th>\n",
              "      <th></th>\n",
              "      <th></th>\n",
              "      <th></th>\n",
              "      <th></th>\n",
              "      <th></th>\n",
              "      <th></th>\n",
              "      <th></th>\n",
              "      <th></th>\n",
              "      <th></th>\n",
              "      <th></th>\n",
              "      <th></th>\n",
              "      <th></th>\n",
              "      <th></th>\n",
              "      <th></th>\n",
              "      <th></th>\n",
              "      <th></th>\n",
              "      <th></th>\n",
              "    </tr>\n",
              "  </thead>\n",
              "  <tbody>\n",
              "    <tr>\n",
              "      <th>A01000001113</th>\n",
              "      <td>M430112881</td>\n",
              "      <td>2021-01-01 10:00:00</td>\n",
              "      <td>1</td>\n",
              "      <td>0</td>\n",
              "      <td>0</td>\n",
              "      <td>0</td>\n",
              "      <td>0</td>\n",
              "      <td>1</td>\n",
              "      <td>0</td>\n",
              "      <td>0</td>\n",
              "      <td>...</td>\n",
              "      <td>0</td>\n",
              "      <td>0</td>\n",
              "      <td>0</td>\n",
              "      <td>0</td>\n",
              "      <td>0</td>\n",
              "      <td>0</td>\n",
              "      <td>0</td>\n",
              "      <td>1</td>\n",
              "      <td>0</td>\n",
              "      <td>0</td>\n",
              "    </tr>\n",
              "    <tr>\n",
              "      <th>A01000003148</th>\n",
              "      <td>M430112881</td>\n",
              "      <td>2021-01-01 10:00:00</td>\n",
              "      <td>1</td>\n",
              "      <td>0</td>\n",
              "      <td>0</td>\n",
              "      <td>0</td>\n",
              "      <td>0</td>\n",
              "      <td>1</td>\n",
              "      <td>0</td>\n",
              "      <td>0</td>\n",
              "      <td>...</td>\n",
              "      <td>0</td>\n",
              "      <td>0</td>\n",
              "      <td>0</td>\n",
              "      <td>0</td>\n",
              "      <td>0</td>\n",
              "      <td>0</td>\n",
              "      <td>0</td>\n",
              "      <td>1</td>\n",
              "      <td>0</td>\n",
              "      <td>0</td>\n",
              "    </tr>\n",
              "    <tr>\n",
              "      <th>A01000004946</th>\n",
              "      <td>M430112881</td>\n",
              "      <td>2021-01-01 10:00:00</td>\n",
              "      <td>1</td>\n",
              "      <td>0</td>\n",
              "      <td>0</td>\n",
              "      <td>0</td>\n",
              "      <td>0</td>\n",
              "      <td>1</td>\n",
              "      <td>0</td>\n",
              "      <td>0</td>\n",
              "      <td>...</td>\n",
              "      <td>0</td>\n",
              "      <td>0</td>\n",
              "      <td>0</td>\n",
              "      <td>0</td>\n",
              "      <td>0</td>\n",
              "      <td>0</td>\n",
              "      <td>0</td>\n",
              "      <td>1</td>\n",
              "      <td>0</td>\n",
              "      <td>0</td>\n",
              "    </tr>\n",
              "    <tr>\n",
              "      <th>A01000005297</th>\n",
              "      <td>M430112881</td>\n",
              "      <td>2021-01-01 10:00:00</td>\n",
              "      <td>1</td>\n",
              "      <td>0</td>\n",
              "      <td>0</td>\n",
              "      <td>0</td>\n",
              "      <td>0</td>\n",
              "      <td>1</td>\n",
              "      <td>0</td>\n",
              "      <td>0</td>\n",
              "      <td>...</td>\n",
              "      <td>0</td>\n",
              "      <td>0</td>\n",
              "      <td>0</td>\n",
              "      <td>0</td>\n",
              "      <td>0</td>\n",
              "      <td>0</td>\n",
              "      <td>0</td>\n",
              "      <td>1</td>\n",
              "      <td>0</td>\n",
              "      <td>0</td>\n",
              "    </tr>\n",
              "    <tr>\n",
              "      <th>A01000006470</th>\n",
              "      <td>M430112881</td>\n",
              "      <td>2021-01-01 11:00:00</td>\n",
              "      <td>1</td>\n",
              "      <td>0</td>\n",
              "      <td>0</td>\n",
              "      <td>0</td>\n",
              "      <td>0</td>\n",
              "      <td>1</td>\n",
              "      <td>0</td>\n",
              "      <td>0</td>\n",
              "      <td>...</td>\n",
              "      <td>0</td>\n",
              "      <td>0</td>\n",
              "      <td>0</td>\n",
              "      <td>0</td>\n",
              "      <td>0</td>\n",
              "      <td>0</td>\n",
              "      <td>0</td>\n",
              "      <td>1</td>\n",
              "      <td>0</td>\n",
              "      <td>0</td>\n",
              "    </tr>\n",
              "  </tbody>\n",
              "</table>\n",
              "<p>5 rows × 52 columns</p>\n",
              "</div>\n",
              "      <button class=\"colab-df-convert\" onclick=\"convertToInteractive('df-bd5914eb-2349-4c43-8e3e-6cdb74b64acd')\"\n",
              "              title=\"Convert this dataframe to an interactive table.\"\n",
              "              style=\"display:none;\">\n",
              "        \n",
              "  <svg xmlns=\"http://www.w3.org/2000/svg\" height=\"24px\"viewBox=\"0 0 24 24\"\n",
              "       width=\"24px\">\n",
              "    <path d=\"M0 0h24v24H0V0z\" fill=\"none\"/>\n",
              "    <path d=\"M18.56 5.44l.94 2.06.94-2.06 2.06-.94-2.06-.94-.94-2.06-.94 2.06-2.06.94zm-11 1L8.5 8.5l.94-2.06 2.06-.94-2.06-.94L8.5 2.5l-.94 2.06-2.06.94zm10 10l.94 2.06.94-2.06 2.06-.94-2.06-.94-.94-2.06-.94 2.06-2.06.94z\"/><path d=\"M17.41 7.96l-1.37-1.37c-.4-.4-.92-.59-1.43-.59-.52 0-1.04.2-1.43.59L10.3 9.45l-7.72 7.72c-.78.78-.78 2.05 0 2.83L4 21.41c.39.39.9.59 1.41.59.51 0 1.02-.2 1.41-.59l7.78-7.78 2.81-2.81c.8-.78.8-2.07 0-2.86zM5.41 20L4 18.59l7.72-7.72 1.47 1.35L5.41 20z\"/>\n",
              "  </svg>\n",
              "      </button>\n",
              "      \n",
              "  <style>\n",
              "    .colab-df-container {\n",
              "      display:flex;\n",
              "      flex-wrap:wrap;\n",
              "      gap: 12px;\n",
              "    }\n",
              "\n",
              "    .colab-df-convert {\n",
              "      background-color: #E8F0FE;\n",
              "      border: none;\n",
              "      border-radius: 50%;\n",
              "      cursor: pointer;\n",
              "      display: none;\n",
              "      fill: #1967D2;\n",
              "      height: 32px;\n",
              "      padding: 0 0 0 0;\n",
              "      width: 32px;\n",
              "    }\n",
              "\n",
              "    .colab-df-convert:hover {\n",
              "      background-color: #E2EBFA;\n",
              "      box-shadow: 0px 1px 2px rgba(60, 64, 67, 0.3), 0px 1px 3px 1px rgba(60, 64, 67, 0.15);\n",
              "      fill: #174EA6;\n",
              "    }\n",
              "\n",
              "    [theme=dark] .colab-df-convert {\n",
              "      background-color: #3B4455;\n",
              "      fill: #D2E3FC;\n",
              "    }\n",
              "\n",
              "    [theme=dark] .colab-df-convert:hover {\n",
              "      background-color: #434B5C;\n",
              "      box-shadow: 0px 1px 3px 1px rgba(0, 0, 0, 0.15);\n",
              "      filter: drop-shadow(0px 1px 2px rgba(0, 0, 0, 0.3));\n",
              "      fill: #FFFFFF;\n",
              "    }\n",
              "  </style>\n",
              "\n",
              "      <script>\n",
              "        const buttonEl =\n",
              "          document.querySelector('#df-bd5914eb-2349-4c43-8e3e-6cdb74b64acd button.colab-df-convert');\n",
              "        buttonEl.style.display =\n",
              "          google.colab.kernel.accessAllowed ? 'block' : 'none';\n",
              "\n",
              "        async function convertToInteractive(key) {\n",
              "          const element = document.querySelector('#df-bd5914eb-2349-4c43-8e3e-6cdb74b64acd');\n",
              "          const dataTable =\n",
              "            await google.colab.kernel.invokeFunction('convertToInteractive',\n",
              "                                                     [key], {});\n",
              "          if (!dataTable) return;\n",
              "\n",
              "          const docLinkHtml = 'Like what you see? Visit the ' +\n",
              "            '<a target=\"_blank\" href=https://colab.research.google.com/notebooks/data_table.ipynb>data table notebook</a>'\n",
              "            + ' to learn more about interactive tables.';\n",
              "          element.innerHTML = '';\n",
              "          dataTable['output_type'] = 'display_data';\n",
              "          await google.colab.output.renderOutput(dataTable, element);\n",
              "          const docLink = document.createElement('div');\n",
              "          docLink.innerHTML = docLinkHtml;\n",
              "          element.appendChild(docLink);\n",
              "        }\n",
              "      </script>\n",
              "    </div>\n",
              "  </div>\n",
              "  "
            ]
          },
          "metadata": {},
          "execution_count": 6
        }
      ]
    },
    {
      "cell_type": "code",
      "source": [
        "clac_mcls_df = pd.read_parquet(path+\"/LPOINT_BIG_COMP_PDDE_CUST.parquet\", columns=[\"rct_no\", \"clac_mcls_nm\", \"buy_ct\"],engine=\"pyarrow\")\n",
        "clac_mcls_df = pivot_table(clac_mcls_df, index=\"rct_no\", columns=\"clac_mcls_nm\", values=\"buy_ct\", aggfunc='sum', fill_value=0).astype(\"uint16\")\n",
        "clac_mcls_df.head(5)"
      ],
      "metadata": {
        "colab": {
          "base_uri": "https://localhost:8080/",
          "height": 346
        },
        "id": "b3sc2kk-SfLM",
        "outputId": "64d5c112-23f6-43b2-948b-7602ad9d994b"
      },
      "execution_count": 7,
      "outputs": [
        {
          "output_type": "execute_result",
          "data": {
            "text/plain": [
              "clac_mcls_nm  DVD/홈시어터  TV  가공유  가방세트  간식/안주형과자  간편조리  갑각류  거실가구  건강가전  \\\n",
              "rct_no                                                                   \n",
              "A01000001113         0   0    0     0         0     0    0     0     0   \n",
              "A01000002265         0   0    0     0         0     0    0     0     0   \n",
              "A01000003148         0   0    0     0         0     0    0     0     0   \n",
              "A01000004946         0   0    0     0         0     0    0     0     0   \n",
              "A01000005297         0   0    0     0         0     0    0     0     0   \n",
              "\n",
              "clac_mcls_nm  건강관리용품  ...  핸드/풋케어  햄/소시지  향수  향신료  헤어액세서리  헤어케어  호주산소고기  홈웨어  \\\n",
              "rct_no                ...                                                      \n",
              "A01000001113       0  ...       0      0   0    0       0     0       0    0   \n",
              "A01000002265       0  ...       0      0   0    0       0     0       0    0   \n",
              "A01000003148       0  ...       0      0   0    0       0     0       0    0   \n",
              "A01000004946       0  ...       0      0   0    0       0     0       0    0   \n",
              "A01000005297       0  ...       0      0   0    0       0     0       0    0   \n",
              "\n",
              "clac_mcls_nm  홍삼/인삼가공식품  화장지/티슈  \n",
              "rct_no                           \n",
              "A01000001113          0       0  \n",
              "A01000002265          0       0  \n",
              "A01000003148          0       0  \n",
              "A01000004946          0       0  \n",
              "A01000005297          0       0  \n",
              "\n",
              "[5 rows x 349 columns]"
            ],
            "text/html": [
              "\n",
              "  <div id=\"df-7ae3ef07-3465-4a35-9375-f1c2974a3915\">\n",
              "    <div class=\"colab-df-container\">\n",
              "      <div>\n",
              "<style scoped>\n",
              "    .dataframe tbody tr th:only-of-type {\n",
              "        vertical-align: middle;\n",
              "    }\n",
              "\n",
              "    .dataframe tbody tr th {\n",
              "        vertical-align: top;\n",
              "    }\n",
              "\n",
              "    .dataframe thead th {\n",
              "        text-align: right;\n",
              "    }\n",
              "</style>\n",
              "<table border=\"1\" class=\"dataframe\">\n",
              "  <thead>\n",
              "    <tr style=\"text-align: right;\">\n",
              "      <th>clac_mcls_nm</th>\n",
              "      <th>DVD/홈시어터</th>\n",
              "      <th>TV</th>\n",
              "      <th>가공유</th>\n",
              "      <th>가방세트</th>\n",
              "      <th>간식/안주형과자</th>\n",
              "      <th>간편조리</th>\n",
              "      <th>갑각류</th>\n",
              "      <th>거실가구</th>\n",
              "      <th>건강가전</th>\n",
              "      <th>건강관리용품</th>\n",
              "      <th>...</th>\n",
              "      <th>핸드/풋케어</th>\n",
              "      <th>햄/소시지</th>\n",
              "      <th>향수</th>\n",
              "      <th>향신료</th>\n",
              "      <th>헤어액세서리</th>\n",
              "      <th>헤어케어</th>\n",
              "      <th>호주산소고기</th>\n",
              "      <th>홈웨어</th>\n",
              "      <th>홍삼/인삼가공식품</th>\n",
              "      <th>화장지/티슈</th>\n",
              "    </tr>\n",
              "    <tr>\n",
              "      <th>rct_no</th>\n",
              "      <th></th>\n",
              "      <th></th>\n",
              "      <th></th>\n",
              "      <th></th>\n",
              "      <th></th>\n",
              "      <th></th>\n",
              "      <th></th>\n",
              "      <th></th>\n",
              "      <th></th>\n",
              "      <th></th>\n",
              "      <th></th>\n",
              "      <th></th>\n",
              "      <th></th>\n",
              "      <th></th>\n",
              "      <th></th>\n",
              "      <th></th>\n",
              "      <th></th>\n",
              "      <th></th>\n",
              "      <th></th>\n",
              "      <th></th>\n",
              "      <th></th>\n",
              "    </tr>\n",
              "  </thead>\n",
              "  <tbody>\n",
              "    <tr>\n",
              "      <th>A01000001113</th>\n",
              "      <td>0</td>\n",
              "      <td>0</td>\n",
              "      <td>0</td>\n",
              "      <td>0</td>\n",
              "      <td>0</td>\n",
              "      <td>0</td>\n",
              "      <td>0</td>\n",
              "      <td>0</td>\n",
              "      <td>0</td>\n",
              "      <td>0</td>\n",
              "      <td>...</td>\n",
              "      <td>0</td>\n",
              "      <td>0</td>\n",
              "      <td>0</td>\n",
              "      <td>0</td>\n",
              "      <td>0</td>\n",
              "      <td>0</td>\n",
              "      <td>0</td>\n",
              "      <td>0</td>\n",
              "      <td>0</td>\n",
              "      <td>0</td>\n",
              "    </tr>\n",
              "    <tr>\n",
              "      <th>A01000002265</th>\n",
              "      <td>0</td>\n",
              "      <td>0</td>\n",
              "      <td>0</td>\n",
              "      <td>0</td>\n",
              "      <td>0</td>\n",
              "      <td>0</td>\n",
              "      <td>0</td>\n",
              "      <td>0</td>\n",
              "      <td>0</td>\n",
              "      <td>0</td>\n",
              "      <td>...</td>\n",
              "      <td>0</td>\n",
              "      <td>0</td>\n",
              "      <td>0</td>\n",
              "      <td>0</td>\n",
              "      <td>0</td>\n",
              "      <td>0</td>\n",
              "      <td>0</td>\n",
              "      <td>0</td>\n",
              "      <td>0</td>\n",
              "      <td>0</td>\n",
              "    </tr>\n",
              "    <tr>\n",
              "      <th>A01000003148</th>\n",
              "      <td>0</td>\n",
              "      <td>0</td>\n",
              "      <td>0</td>\n",
              "      <td>0</td>\n",
              "      <td>0</td>\n",
              "      <td>0</td>\n",
              "      <td>0</td>\n",
              "      <td>0</td>\n",
              "      <td>0</td>\n",
              "      <td>0</td>\n",
              "      <td>...</td>\n",
              "      <td>0</td>\n",
              "      <td>0</td>\n",
              "      <td>0</td>\n",
              "      <td>0</td>\n",
              "      <td>0</td>\n",
              "      <td>0</td>\n",
              "      <td>0</td>\n",
              "      <td>0</td>\n",
              "      <td>0</td>\n",
              "      <td>0</td>\n",
              "    </tr>\n",
              "    <tr>\n",
              "      <th>A01000004946</th>\n",
              "      <td>0</td>\n",
              "      <td>0</td>\n",
              "      <td>0</td>\n",
              "      <td>0</td>\n",
              "      <td>0</td>\n",
              "      <td>0</td>\n",
              "      <td>0</td>\n",
              "      <td>0</td>\n",
              "      <td>0</td>\n",
              "      <td>0</td>\n",
              "      <td>...</td>\n",
              "      <td>0</td>\n",
              "      <td>0</td>\n",
              "      <td>0</td>\n",
              "      <td>0</td>\n",
              "      <td>0</td>\n",
              "      <td>0</td>\n",
              "      <td>0</td>\n",
              "      <td>0</td>\n",
              "      <td>0</td>\n",
              "      <td>0</td>\n",
              "    </tr>\n",
              "    <tr>\n",
              "      <th>A01000005297</th>\n",
              "      <td>0</td>\n",
              "      <td>0</td>\n",
              "      <td>0</td>\n",
              "      <td>0</td>\n",
              "      <td>0</td>\n",
              "      <td>0</td>\n",
              "      <td>0</td>\n",
              "      <td>0</td>\n",
              "      <td>0</td>\n",
              "      <td>0</td>\n",
              "      <td>...</td>\n",
              "      <td>0</td>\n",
              "      <td>0</td>\n",
              "      <td>0</td>\n",
              "      <td>0</td>\n",
              "      <td>0</td>\n",
              "      <td>0</td>\n",
              "      <td>0</td>\n",
              "      <td>0</td>\n",
              "      <td>0</td>\n",
              "      <td>0</td>\n",
              "    </tr>\n",
              "  </tbody>\n",
              "</table>\n",
              "<p>5 rows × 349 columns</p>\n",
              "</div>\n",
              "      <button class=\"colab-df-convert\" onclick=\"convertToInteractive('df-7ae3ef07-3465-4a35-9375-f1c2974a3915')\"\n",
              "              title=\"Convert this dataframe to an interactive table.\"\n",
              "              style=\"display:none;\">\n",
              "        \n",
              "  <svg xmlns=\"http://www.w3.org/2000/svg\" height=\"24px\"viewBox=\"0 0 24 24\"\n",
              "       width=\"24px\">\n",
              "    <path d=\"M0 0h24v24H0V0z\" fill=\"none\"/>\n",
              "    <path d=\"M18.56 5.44l.94 2.06.94-2.06 2.06-.94-2.06-.94-.94-2.06-.94 2.06-2.06.94zm-11 1L8.5 8.5l.94-2.06 2.06-.94-2.06-.94L8.5 2.5l-.94 2.06-2.06.94zm10 10l.94 2.06.94-2.06 2.06-.94-2.06-.94-.94-2.06-.94 2.06-2.06.94z\"/><path d=\"M17.41 7.96l-1.37-1.37c-.4-.4-.92-.59-1.43-.59-.52 0-1.04.2-1.43.59L10.3 9.45l-7.72 7.72c-.78.78-.78 2.05 0 2.83L4 21.41c.39.39.9.59 1.41.59.51 0 1.02-.2 1.41-.59l7.78-7.78 2.81-2.81c.8-.78.8-2.07 0-2.86zM5.41 20L4 18.59l7.72-7.72 1.47 1.35L5.41 20z\"/>\n",
              "  </svg>\n",
              "      </button>\n",
              "      \n",
              "  <style>\n",
              "    .colab-df-container {\n",
              "      display:flex;\n",
              "      flex-wrap:wrap;\n",
              "      gap: 12px;\n",
              "    }\n",
              "\n",
              "    .colab-df-convert {\n",
              "      background-color: #E8F0FE;\n",
              "      border: none;\n",
              "      border-radius: 50%;\n",
              "      cursor: pointer;\n",
              "      display: none;\n",
              "      fill: #1967D2;\n",
              "      height: 32px;\n",
              "      padding: 0 0 0 0;\n",
              "      width: 32px;\n",
              "    }\n",
              "\n",
              "    .colab-df-convert:hover {\n",
              "      background-color: #E2EBFA;\n",
              "      box-shadow: 0px 1px 2px rgba(60, 64, 67, 0.3), 0px 1px 3px 1px rgba(60, 64, 67, 0.15);\n",
              "      fill: #174EA6;\n",
              "    }\n",
              "\n",
              "    [theme=dark] .colab-df-convert {\n",
              "      background-color: #3B4455;\n",
              "      fill: #D2E3FC;\n",
              "    }\n",
              "\n",
              "    [theme=dark] .colab-df-convert:hover {\n",
              "      background-color: #434B5C;\n",
              "      box-shadow: 0px 1px 3px 1px rgba(0, 0, 0, 0.15);\n",
              "      filter: drop-shadow(0px 1px 2px rgba(0, 0, 0, 0.3));\n",
              "      fill: #FFFFFF;\n",
              "    }\n",
              "  </style>\n",
              "\n",
              "      <script>\n",
              "        const buttonEl =\n",
              "          document.querySelector('#df-7ae3ef07-3465-4a35-9375-f1c2974a3915 button.colab-df-convert');\n",
              "        buttonEl.style.display =\n",
              "          google.colab.kernel.accessAllowed ? 'block' : 'none';\n",
              "\n",
              "        async function convertToInteractive(key) {\n",
              "          const element = document.querySelector('#df-7ae3ef07-3465-4a35-9375-f1c2974a3915');\n",
              "          const dataTable =\n",
              "            await google.colab.kernel.invokeFunction('convertToInteractive',\n",
              "                                                     [key], {});\n",
              "          if (!dataTable) return;\n",
              "\n",
              "          const docLinkHtml = 'Like what you see? Visit the ' +\n",
              "            '<a target=\"_blank\" href=https://colab.research.google.com/notebooks/data_table.ipynb>data table notebook</a>'\n",
              "            + ' to learn more about interactive tables.';\n",
              "          element.innerHTML = '';\n",
              "          dataTable['output_type'] = 'display_data';\n",
              "          await google.colab.output.renderOutput(dataTable, element);\n",
              "          const docLink = document.createElement('div');\n",
              "          docLink.innerHTML = docLinkHtml;\n",
              "          element.appendChild(docLink);\n",
              "        }\n",
              "      </script>\n",
              "    </div>\n",
              "  </div>\n",
              "  "
            ]
          },
          "metadata": {},
          "execution_count": 7
        }
      ]
    },
    {
      "cell_type": "code",
      "source": [
        "# 저장\n",
        "processed_df = format_df.reset_index().set_index(\"rct_no\").join(clac_mcls_df)\n",
        "processed_df.to_parquet(path + \"LPOINT_BIG_COMP_CLAC_MCLS_SUM.parquet\", index=True, engine=\"pyarrow\", compression=None)"
      ],
      "metadata": {
        "id": "zrn2-9vThOdh"
      },
      "execution_count": 8,
      "outputs": []
    },
    {
      "cell_type": "code",
      "source": [
        "# 로드\n",
        "processed_df = pd.read_parquet(path + \"LPOINT_BIG_COMP_CLAC_MCLS_SUM.parquet\", engine=\"pyarrow\")\n",
        "processed_df = processed_df.reset_index().set_index(\"cust\")\n",
        "processed_df.head(3)"
      ],
      "metadata": {
        "id": "ZkFtHW2toN8Y",
        "colab": {
          "base_uri": "https://localhost:8080/",
          "height": 494
        },
        "outputId": "f8a419da-8a2c-4175-b835-82c57bb6b405"
      },
      "execution_count": 9,
      "outputs": [
        {
          "output_type": "execute_result",
          "data": {
            "text/plain": [
              "                  rct_no            datetime  ma_fem_dv  chnl_dv  ages_0  \\\n",
              "cust                                                                       \n",
              "M430112881  A01000001113 2021-01-01 10:00:00          1        0       0   \n",
              "M430112881  A01000003148 2021-01-01 10:00:00          1        0       0   \n",
              "M430112881  A01000004946 2021-01-01 10:00:00          1        0       0   \n",
              "\n",
              "            ages_1  ages_2  ages_3  ages_4  ages_5  ...  핸드/풋케어  햄/소시지  향수  \\\n",
              "cust                                                ...                      \n",
              "M430112881       0       0       1       0       0  ...       0      0   0   \n",
              "M430112881       0       0       1       0       0  ...       0      0   0   \n",
              "M430112881       0       0       1       0       0  ...       0      0   0   \n",
              "\n",
              "            향신료  헤어액세서리  헤어케어  호주산소고기  홈웨어  홍삼/인삼가공식품  화장지/티슈  \n",
              "cust                                                           \n",
              "M430112881    0       0     0       0    0          0       0  \n",
              "M430112881    0       0     0       0    0          0       0  \n",
              "M430112881    0       0     0       0    0          0       0  \n",
              "\n",
              "[3 rows x 401 columns]"
            ],
            "text/html": [
              "\n",
              "  <div id=\"df-10737263-d403-4898-b29b-186f260a4c00\">\n",
              "    <div class=\"colab-df-container\">\n",
              "      <div>\n",
              "<style scoped>\n",
              "    .dataframe tbody tr th:only-of-type {\n",
              "        vertical-align: middle;\n",
              "    }\n",
              "\n",
              "    .dataframe tbody tr th {\n",
              "        vertical-align: top;\n",
              "    }\n",
              "\n",
              "    .dataframe thead th {\n",
              "        text-align: right;\n",
              "    }\n",
              "</style>\n",
              "<table border=\"1\" class=\"dataframe\">\n",
              "  <thead>\n",
              "    <tr style=\"text-align: right;\">\n",
              "      <th></th>\n",
              "      <th>rct_no</th>\n",
              "      <th>datetime</th>\n",
              "      <th>ma_fem_dv</th>\n",
              "      <th>chnl_dv</th>\n",
              "      <th>ages_0</th>\n",
              "      <th>ages_1</th>\n",
              "      <th>ages_2</th>\n",
              "      <th>ages_3</th>\n",
              "      <th>ages_4</th>\n",
              "      <th>ages_5</th>\n",
              "      <th>...</th>\n",
              "      <th>핸드/풋케어</th>\n",
              "      <th>햄/소시지</th>\n",
              "      <th>향수</th>\n",
              "      <th>향신료</th>\n",
              "      <th>헤어액세서리</th>\n",
              "      <th>헤어케어</th>\n",
              "      <th>호주산소고기</th>\n",
              "      <th>홈웨어</th>\n",
              "      <th>홍삼/인삼가공식품</th>\n",
              "      <th>화장지/티슈</th>\n",
              "    </tr>\n",
              "    <tr>\n",
              "      <th>cust</th>\n",
              "      <th></th>\n",
              "      <th></th>\n",
              "      <th></th>\n",
              "      <th></th>\n",
              "      <th></th>\n",
              "      <th></th>\n",
              "      <th></th>\n",
              "      <th></th>\n",
              "      <th></th>\n",
              "      <th></th>\n",
              "      <th></th>\n",
              "      <th></th>\n",
              "      <th></th>\n",
              "      <th></th>\n",
              "      <th></th>\n",
              "      <th></th>\n",
              "      <th></th>\n",
              "      <th></th>\n",
              "      <th></th>\n",
              "      <th></th>\n",
              "      <th></th>\n",
              "    </tr>\n",
              "  </thead>\n",
              "  <tbody>\n",
              "    <tr>\n",
              "      <th>M430112881</th>\n",
              "      <td>A01000001113</td>\n",
              "      <td>2021-01-01 10:00:00</td>\n",
              "      <td>1</td>\n",
              "      <td>0</td>\n",
              "      <td>0</td>\n",
              "      <td>0</td>\n",
              "      <td>0</td>\n",
              "      <td>1</td>\n",
              "      <td>0</td>\n",
              "      <td>0</td>\n",
              "      <td>...</td>\n",
              "      <td>0</td>\n",
              "      <td>0</td>\n",
              "      <td>0</td>\n",
              "      <td>0</td>\n",
              "      <td>0</td>\n",
              "      <td>0</td>\n",
              "      <td>0</td>\n",
              "      <td>0</td>\n",
              "      <td>0</td>\n",
              "      <td>0</td>\n",
              "    </tr>\n",
              "    <tr>\n",
              "      <th>M430112881</th>\n",
              "      <td>A01000003148</td>\n",
              "      <td>2021-01-01 10:00:00</td>\n",
              "      <td>1</td>\n",
              "      <td>0</td>\n",
              "      <td>0</td>\n",
              "      <td>0</td>\n",
              "      <td>0</td>\n",
              "      <td>1</td>\n",
              "      <td>0</td>\n",
              "      <td>0</td>\n",
              "      <td>...</td>\n",
              "      <td>0</td>\n",
              "      <td>0</td>\n",
              "      <td>0</td>\n",
              "      <td>0</td>\n",
              "      <td>0</td>\n",
              "      <td>0</td>\n",
              "      <td>0</td>\n",
              "      <td>0</td>\n",
              "      <td>0</td>\n",
              "      <td>0</td>\n",
              "    </tr>\n",
              "    <tr>\n",
              "      <th>M430112881</th>\n",
              "      <td>A01000004946</td>\n",
              "      <td>2021-01-01 10:00:00</td>\n",
              "      <td>1</td>\n",
              "      <td>0</td>\n",
              "      <td>0</td>\n",
              "      <td>0</td>\n",
              "      <td>0</td>\n",
              "      <td>1</td>\n",
              "      <td>0</td>\n",
              "      <td>0</td>\n",
              "      <td>...</td>\n",
              "      <td>0</td>\n",
              "      <td>0</td>\n",
              "      <td>0</td>\n",
              "      <td>0</td>\n",
              "      <td>0</td>\n",
              "      <td>0</td>\n",
              "      <td>0</td>\n",
              "      <td>0</td>\n",
              "      <td>0</td>\n",
              "      <td>0</td>\n",
              "    </tr>\n",
              "  </tbody>\n",
              "</table>\n",
              "<p>3 rows × 401 columns</p>\n",
              "</div>\n",
              "      <button class=\"colab-df-convert\" onclick=\"convertToInteractive('df-10737263-d403-4898-b29b-186f260a4c00')\"\n",
              "              title=\"Convert this dataframe to an interactive table.\"\n",
              "              style=\"display:none;\">\n",
              "        \n",
              "  <svg xmlns=\"http://www.w3.org/2000/svg\" height=\"24px\"viewBox=\"0 0 24 24\"\n",
              "       width=\"24px\">\n",
              "    <path d=\"M0 0h24v24H0V0z\" fill=\"none\"/>\n",
              "    <path d=\"M18.56 5.44l.94 2.06.94-2.06 2.06-.94-2.06-.94-.94-2.06-.94 2.06-2.06.94zm-11 1L8.5 8.5l.94-2.06 2.06-.94-2.06-.94L8.5 2.5l-.94 2.06-2.06.94zm10 10l.94 2.06.94-2.06 2.06-.94-2.06-.94-.94-2.06-.94 2.06-2.06.94z\"/><path d=\"M17.41 7.96l-1.37-1.37c-.4-.4-.92-.59-1.43-.59-.52 0-1.04.2-1.43.59L10.3 9.45l-7.72 7.72c-.78.78-.78 2.05 0 2.83L4 21.41c.39.39.9.59 1.41.59.51 0 1.02-.2 1.41-.59l7.78-7.78 2.81-2.81c.8-.78.8-2.07 0-2.86zM5.41 20L4 18.59l7.72-7.72 1.47 1.35L5.41 20z\"/>\n",
              "  </svg>\n",
              "      </button>\n",
              "      \n",
              "  <style>\n",
              "    .colab-df-container {\n",
              "      display:flex;\n",
              "      flex-wrap:wrap;\n",
              "      gap: 12px;\n",
              "    }\n",
              "\n",
              "    .colab-df-convert {\n",
              "      background-color: #E8F0FE;\n",
              "      border: none;\n",
              "      border-radius: 50%;\n",
              "      cursor: pointer;\n",
              "      display: none;\n",
              "      fill: #1967D2;\n",
              "      height: 32px;\n",
              "      padding: 0 0 0 0;\n",
              "      width: 32px;\n",
              "    }\n",
              "\n",
              "    .colab-df-convert:hover {\n",
              "      background-color: #E2EBFA;\n",
              "      box-shadow: 0px 1px 2px rgba(60, 64, 67, 0.3), 0px 1px 3px 1px rgba(60, 64, 67, 0.15);\n",
              "      fill: #174EA6;\n",
              "    }\n",
              "\n",
              "    [theme=dark] .colab-df-convert {\n",
              "      background-color: #3B4455;\n",
              "      fill: #D2E3FC;\n",
              "    }\n",
              "\n",
              "    [theme=dark] .colab-df-convert:hover {\n",
              "      background-color: #434B5C;\n",
              "      box-shadow: 0px 1px 3px 1px rgba(0, 0, 0, 0.15);\n",
              "      filter: drop-shadow(0px 1px 2px rgba(0, 0, 0, 0.3));\n",
              "      fill: #FFFFFF;\n",
              "    }\n",
              "  </style>\n",
              "\n",
              "      <script>\n",
              "        const buttonEl =\n",
              "          document.querySelector('#df-10737263-d403-4898-b29b-186f260a4c00 button.colab-df-convert');\n",
              "        buttonEl.style.display =\n",
              "          google.colab.kernel.accessAllowed ? 'block' : 'none';\n",
              "\n",
              "        async function convertToInteractive(key) {\n",
              "          const element = document.querySelector('#df-10737263-d403-4898-b29b-186f260a4c00');\n",
              "          const dataTable =\n",
              "            await google.colab.kernel.invokeFunction('convertToInteractive',\n",
              "                                                     [key], {});\n",
              "          if (!dataTable) return;\n",
              "\n",
              "          const docLinkHtml = 'Like what you see? Visit the ' +\n",
              "            '<a target=\"_blank\" href=https://colab.research.google.com/notebooks/data_table.ipynb>data table notebook</a>'\n",
              "            + ' to learn more about interactive tables.';\n",
              "          element.innerHTML = '';\n",
              "          dataTable['output_type'] = 'display_data';\n",
              "          await google.colab.output.renderOutput(dataTable, element);\n",
              "          const docLink = document.createElement('div');\n",
              "          docLink.innerHTML = docLinkHtml;\n",
              "          element.appendChild(docLink);\n",
              "        }\n",
              "      </script>\n",
              "    </div>\n",
              "  </div>\n",
              "  "
            ]
          },
          "metadata": {},
          "execution_count": 9
        }
      ]
    },
    {
      "cell_type": "code",
      "source": [
        "processed_df.info()"
      ],
      "metadata": {
        "colab": {
          "base_uri": "https://localhost:8080/"
        },
        "id": "Im_1O3nOS_-N",
        "outputId": "d131f901-d93b-4cb2-b1a9-ec459774b40e"
      },
      "execution_count": 10,
      "outputs": [
        {
          "output_type": "stream",
          "name": "stdout",
          "text": [
            "<class 'pandas.core.frame.DataFrame'>\n",
            "Index: 1266589 entries, M430112881 to M866900192\n",
            "Columns: 401 entries, rct_no to 화장지/티슈\n",
            "dtypes: datetime64[ns](1), int64(2), object(1), uint16(349), uint8(48)\n",
            "memory usage: 949.4+ MB\n"
          ]
        }
      ]
    },
    {
      "cell_type": "code",
      "source": [
        "import torch\n",
        "import torchvision\n",
        "from torchvision import transforms\n",
        "import torch.nn.functional as F\n",
        "import torch.nn as nn\n",
        "import torch.optim as optim\n",
        "import matplotlib.pyplot as plt\n",
        "from torch.utils.data import DataLoader, Dataset\n",
        "from torchvision import datasets, transforms\n",
        "\n",
        "from sklearn.model_selection import train_test_split\n",
        "\n",
        "\n",
        "device = torch.device('cuda:0' if torch.cuda.is_available() else 'cpu')"
      ],
      "metadata": {
        "id": "M8-7EwbbS_7v"
      },
      "execution_count": 11,
      "outputs": []
    },
    {
      "cell_type": "code",
      "source": [
        "custs = processed_df.index.unique()\n",
        "features = [col for col in format_df.columns if col not in [\"rct_no\", \"cust\", \"datetime\"]] + [\"date_interval\", \"date_from\"] + list(clac_mcls_df.columns)\n",
        "print(*custs[:400])\n",
        "print(*features)"
      ],
      "metadata": {
        "colab": {
          "base_uri": "https://localhost:8080/"
        },
        "id": "GfShwvx7mF5w",
        "outputId": "0615260e-3374-433d-e642-4685e50994ba"
      },
      "execution_count": 12,
      "outputs": [
        {
          "output_type": "stream",
          "name": "stdout",
          "text": [
            "M430112881 M646853852 M669384418 M886923095 M707991383 M117855953 M641274652 M625839441 M284446967 M401266932 M860973355 M686795542 M878181490 M704866277 M942878878 M174599398 M651841347 M577884977 M511106441 M531271959 M422047369 M234266219 M049345995 M497989990 M009032626 M931922533 M165312283 M996518031 M705629628 M184969427 M741760270 M243577483 M558692172 M377967939 M838446773 M506355556 M879094374 M732600894 M856124318 M263574190 M157204685 M650733020 M017256273 M641186030 M986125865 M232573809 M268811651 M162681947 M163175113 M440960058 M502480776 M191537184 M030477840 M690898061 M506965359 M725878700 M840551273 M746428121 M334943764 M561787985 M982559329 M807374636 M676262214 M988646555 M530294706 M900002349 M694209751 M123475113 M318802112 M038801652 M517637921 M539562667 M615380326 M609491987 M259613010 M338310215 M156930891 M419249862 M474747127 M624588650 M083434555 M049216782 M897579293 M316171414 M583031784 M370732403 M336360825 M835554931 M456838034 M586590453 M618317251 M956523130 M125895076 M053988830 M135902971 M331473499 M590533132 M977958641 M080584695 M048866855 M544570827 M752234615 M503639362 M397267143 M361261196 M781690028 M400682924 M819510622 M690515737 M366378636 M781279343 M238272817 M283308210 M289433991 M889933238 M891510784 M557567409 M467972035 M307151561 M567053439 M542006779 M538975514 M751728576 M471430471 M740718660 M970944841 M063704872 M736347559 M081078897 M478445642 M277171255 M555439355 M041303212 M867122864 M291380287 M355489415 M374870930 M966247621 M685408649 M849831487 M134888191 M436594332 M245811064 M207638686 M411045461 M062661758 M640653493 M072419092 M142311429 M056621722 M081569058 M501683336 M701304871 M398872489 M858126924 M013285074 M896896560 M533330698 M661395471 M594992791 M263406446 M182645944 M311201219 M593107613 M350838042 M298972946 M179653812 M263888884 M448609005 M282287857 M185122523 M185111231 M123783273 M953537328 M330277227 M991142381 M576689847 M738189511 M143027432 M153728920 M645976443 M762374565 M662330091 M577654091 M164780413 M544201308 M085265637 M732454229 M027441945 M519427263 M070544564 M226332649 M633282276 M205363338 M962965060 M984043972 M205485737 M117809504 M598228720 M183680726 M811221360 M830841749 M736029357 M201766112 M695297284 M863620095 M046113622 M038025013 M131789394 M526195887 M018184823 M317849762 M282651149 M686992522 M769600155 M729284172 M325661634 M702291596 M648254795 M253642334 M372939322 M088827294 M455824780 M642054815 M740316079 M281834288 M323702255 M589321117 M154631657 M910235569 M426611726 M321170502 M671806083 M596502154 M326503256 M696696054 M992067686 M523038535 M193455495 M985499664 M819862062 M024101254 M349334435 M083270072 M163037071 M744087833 M963110512 M927459944 M050037422 M540285266 M473840199 M098691956 M638623920 M716420925 M886716967 M743162991 M113763811 M565268465 M206689995 M881295041 M796142629 M463646981 M241023449 M915705833 M624880671 M851088731 M300709577 M138404016 M528097150 M148171146 M783908672 M688055546 M227598269 M994408992 M230976524 M855865931 M973279178 M955472914 M159375452 M588861009 M014339861 M425442290 M293971269 M763821861 M639610559 M790389301 M156626330 M691001733 M137293709 M768886877 M906632032 M962168384 M256210228 M848484390 M910085650 M479079032 M382044219 M408121877 M686863232 M671280935 M358798958 M012936022 M939459373 M228934898 M453663197 M586645156 M773977093 M329379634 M385378751 M943231214 M868511118 M652409781 M144266465 M946555429 M155118619 M172530920 M724735320 M118705305 M523807626 M545634703 M473125141 M567331707 M839993508 M153301641 M837797129 M668130552 M591942182 M830396092 M075995202 M681527141 M142065131 M794513392 M740635403 M876101498 M180581027 M938305951 M676674347 M941739760 M639909786 M805001563 M139230976 M199918823 M837947257 M439565447 M380362011 M675461091 M682413497 M410974362 M116478829 M320474582 M222290281 M402794395 M472417736 M749486808 M975646754 M511952367 M471728550 M111934771 M020136767 M656737591 M023577934 M009731870 M680825569 M852720148 M490359476 M512121304 M493122026 M789404870 M065151598 M348056935 M051581833 M496844384 M941198920 M979862567 M678205637 M546798182 M567637265 M323773246 M464594888 M232452691 M660057347 M635243433 M716073127 M649268943 M270037733 M209483390 M183296106 M236433557 M109733557 M254848060 M064408352 M228124869 M370260069 M812923328 M317778161 M310879031 M420179972 M239456864 M260108058 M205853827\n",
            "ma_fem_dv chnl_dv ages_0 ages_1 ages_2 ages_3 ages_4 ages_5 zon_hlv_Z01 zon_hlv_Z02 zon_hlv_Z03 zon_hlv_Z04 zon_hlv_Z05 zon_hlv_Z06 zon_hlv_Z07 zon_hlv_Z08 zon_hlv_Z09 zon_hlv_Z10 zon_hlv_Z11 zon_hlv_Z12 zon_hlv_Z13 zon_hlv_Z14 zon_hlv_Z15 zon_hlv_Z16 zon_hlv_Z17 cop_c_A01 cop_c_A02 cop_c_A03 cop_c_A04 cop_c_A05 cop_c_A06 month_1 month_2 month_3 month_4 month_5 month_6 month_7 month_8 month_9 month_10 month_11 month_12 dayofweek_0 dayofweek_1 dayofweek_2 dayofweek_3 dayofweek_4 dayofweek_5 dayofweek_6 date_interval date_from DVD/홈시어터 TV 가공유 가방세트 간식/안주형과자 간편조리 갑각류 거실가구 건강가전 건강관리용품 건강보조식품 건강진액 건강측정용품 건과일 건면 건어물 건해산물선물세트 격투기 견과류 계란류 고양이용품 골프 공구 공기청정/가습/제습 과일선물세트 과자세트 과채음료 교육보조재 교육완구 교환/정비용품 구강케어 국산과일 국산돼지고기 국산소고기 그릇/식기 기능성음료 기타 기타가구 기타고기류 기타구기/필드스포츠 기타국소고기 기타시즌스포츠 기타아웃도어/레저 기타애완동물 기타지갑 기프트 껌 꿀 나물류 낚시 난방가전 남성가방 남성골프의류 남성등산/아웃도어의류 남성속옷 남성스포츠화 남성양말류 남성의류상의 남성의류세트 남성의류아우터 남성의류전신 남성의류하의 남성일반스포츠의류 남성지갑 남성케어 남성특수목적의류 남성특수소재의류 남성패션액세서리 남성화 남아완구 남아의류상의 남아의류세트 남아의류아우터 남아의류전신 남아의류하의 남아특수목적의류 남아특수소재의류 냉동간편식 냉동과일 냉동포장생선류 냉방가전 냉장/냉동고 냉장간편식 냉장음료 냉장조리 노트 농구 농산물병통조림 닭고기류 동물병원 두부/콩나물류 두유 등산 디저트 떡 레토르트 렌탈서비스 렌탈수수료 맥주 메이크업 면도용품 모바일기기 모바일상품권 모바일액세서리 모자 미국산소고기 미술용품 미용소품 밀폐/보관용기 바디케어 반건생선 방향/제습/탈취제 배구 배드민턴 버섯류 베이커리 벨트 벽면/바닥용품 병통조림선물세트 보석 보수용품 보험 봉지라면 분말류 분말조리식 비스킷류 비식품테넌트 빵 뿌리채소 사무기기 사무용/학생용가구 사무용지/서식지 사탕/캔디 살충/방충제 생선회 생수 생활가전 생활서비스 생활요금상품판매/충전 서적 선식류 선케어 성인침구 세차용품 세탁/건조용품 세탁기 세탁세제 소모품 소스류 소주 소형디지털가전 속옷/양말/홈웨어세트 수납가구 수산물통조림 수산선물세트 수영/물놀이 수예소품 수예시즌소품 수예용품 수유/이유용품 수입과일 수입돼지고기 스낵류 스케이트/썰매 스키/보드 스킨케어 스포츠댄스 스포츠잡화 승용완구 시계 시공/DIY가구 시리얼 시트/쿠션/매트 식당 식용유류 실외놀이/스포츠완구 쌀 아이스크림 악기 안경/선글라스 안마/찜질용품 안전보호용품 안전용품 애견용품 액세서리편의용품 야구 야외용가구 양곡선물세트 양념육 양주 양채류 어류 어묵/맛살 여성가방 여성골프의류 여성등산/아웃도어의류 여성속옷 여성스포츠화 여성양말류 여성위생용품 여성의류상의 여성의류세트 여성의류아우터 여성의류전신 여성의류하의 여성일반스포츠의류 여성지갑 여성특수목적의류 여성특수소재의류 여성화 여아완구 여아의류상의 여아의류세트 여아의류아우터 여아의류전신 여아의류특수목적의류 여아의류하의 여아특수소재의류 여행/레저 여행용가방류 연체류 열매채소 영양제 오디오 오토바이 온장조리 와인 요구르트 욕실용품 용기라면 용기보증금 우산/양산류 우유 원두커피 원예 원예용품 웨이트 유가공품 유아간식 유아동가구 유아동속옷 유아동스포츠화 유아동식기 유아동양말류 유아동일반스포츠의류 유아동침구 유아동화 유아발육용품 유아스킨/바디케어 유아식 유아안전용품 유아위생용품 유아의류상의 유아의류세트 유아의류아우터 유아의류전신 유아의류하의 유아특수목적의류 육가공품 음료세트 음반/영상물 이미용가전 이용권/입장권 인라인/스케이트보드/킥보드 인스턴트커피 일반담배 일반문구/사무용품 일반의약외품 일반의약품 임대매출 임산부케어용품 잎채소 자동차음향/가전기기 자전거 잡곡 잡화균일가 장갑 장류 장식용품 잼 전기용품 전자/비디오게임 전자담배 전통과자류 전통주 전화기 정리용품 조개류 조리기구 조리도구 조명용품 조미료류 조미료세트 주류세트 주방가구 주방가전 주방세제 주방일회용품 주방정리용품/소모품 즉석반찬 즉석음료류 지류상품권 차류 차음료 채소선물세트 청소기 청소세제 청소용품 초콜릿 축구 축산물통조림 축산선물세트 침실가구 카메라/캠코더 카페트/러그/매트류 캐쥬얼가방 캠핑 커튼/블라인드류 커피/차세트 커피음료 컴퓨터/노트북 컴퓨터주변기기 탁구 탄산음료 테니스 특수담배 특수위생용품 특판 파이류 파티/팬시용품 패션액세서리 포장반찬 푸드코트 프리믹스 피트니스 필기도구 한방약재 해조류 해초류 핸드/풋케어 햄/소시지 향수 향신료 헤어액세서리 헤어케어 호주산소고기 홈웨어 홍삼/인삼가공식품 화장지/티슈\n"
          ]
        }
      ]
    },
    {
      "cell_type": "code",
      "source": [
        "# def make_rct_tensor_by_cust(cust_idx, features=features, window=20, slide=10, dtype=torch.int16, drop=True):\n",
        "#     global processed_df\n",
        "\n",
        "#     cust_df = processed_df.loc[cust_idx]\n",
        "#     rct_tensor_by_cust = []\n",
        "#     rct_nos =[]\n",
        "#     rct_length = len(cust_df)\n",
        "\n",
        "#     if rct_length==1 or not isinstance(cust_df, pd.core.frame.DataFrame): # 길이가 1인 시리즈는 None 반환\n",
        "#         return None\n",
        "\n",
        "#     # cust index는 버려진다. rct_no도 index가 되면서 버려질 것.\n",
        "#     # 구입일 간격에 대한 feature들을 생성하기 위해 sorting한다.\n",
        "#     cust_df = cust_df.set_index(\"datetime\").sort_values(\"datetime\") \\\n",
        "#                  .reset_index().set_index(\"rct_no\")\n",
        "#     cust_df[\"date_interval\"] = (cust_df.datetime - cust_df.datetime.shift(-1)).dt.days.fillna(-1) # 몇일만에 새로운 구입을 하였는지\n",
        "\n",
        "#     cust_rcts = list(range(rct_length))\n",
        "#     for i in cust_rcts[::slide]:\n",
        "#         if rct_length-1 <= i: # 고객의 남은 영수증이 1개 이하인 경우 break\n",
        "#             break\n",
        "#         else:\n",
        "#             temp = cust_df.iloc[i : i+window]\n",
        "#             temp[\"date_from\"] = (temp.datetime.iloc[0] - temp.datetime).dt.days # 최근 구입일로부터 몇일만에 구입한 영수증인지.  ex) [2]: 01/22, [1]: 02/11, [0]: 02/13 \n",
        "#                                                                                                                                 # => [2]: 22,    [1]: 20,    [0]: 0\n",
        "#             if not drop:\n",
        "#                 rct_no = list(temp.index)\n",
        "#                 rct_nos.append(rct_no)\n",
        "\n",
        "#             temp = temp[features] # 피쳐 집합으로 원하는 피쳐를 골라 저장\n",
        "#             temp = torch.tensor(temp.values, dtype=dtype) # window x features\n",
        "\n",
        "#             if 1 < temp.shape[0] < window: # 고객의 남은 영수증이 2개 이상, 지정된 \"최근 영수증 개수\" 미만인 경우\n",
        "#                 ones = torch.ones((window-temp.shape[0], temp.shape[1]), dtype=dtype) # \"영수증 텐서\" 생성, 부족한 영수증 데이터는 -1로 채움.\n",
        "#                 temp = torch.cat((temp, -ones), dim=0)\n",
        "\n",
        "#             rct_tensor_by_cust.append(temp)\n",
        "\n",
        "        \n",
        "#     rct_tensor_by_cust = torch.stack(rct_tensor_by_cust, dim=0) # cust's rcts x window x features\n",
        "#     if not drop:\n",
        "#         return rct_tensor_by_cust, rct_nos\n",
        "#     else:\n",
        "#         return rct_tensor_by_cust"
      ],
      "metadata": {
        "id": "KHRmpYtMkpHT"
      },
      "execution_count": 13,
      "outputs": []
    },
    {
      "cell_type": "code",
      "source": [
        "def make_rct_tensor_by_cust(cust_idx, features=features, window=10, slide=5, dtype=torch.int16, drop=True):\n",
        "    global processed_df\n",
        "\n",
        "    cust_df = processed_df.loc[cust_idx]\n",
        "    rct_tensor_by_cust = []\n",
        "    rct_nos =[]\n",
        "    rct_length = len(cust_df)\n",
        "\n",
        "    if rct_length < window or not isinstance(cust_df, pd.core.frame.DataFrame): # 길이가 1인 시리즈는 None 반환\n",
        "        return None\n",
        "\n",
        "    # cust index는 버려진다. rct_no도 index가 되면서 버려질 것.\n",
        "    # 구입일 간격에 대한 feature들을 생성하기 위해 sorting한다.\n",
        "    cust_df = cust_df.set_index(\"datetime\").sort_values(\"datetime\") \\\n",
        "                 .reset_index().set_index(\"rct_no\")\n",
        "    cust_df[\"date_interval\"] = (cust_df.datetime - cust_df.datetime.shift(-1)).dt.days.fillna(-1) # 몇일만에 새로운 구입을 하였는지\n",
        "\n",
        "    cust_rcts = list(range(rct_length))\n",
        "    for i in cust_rcts[::slide]:\n",
        "        if rct_length-window < i: # 고객의 남은 영수증이 window개 이하인 경우 break\n",
        "            break\n",
        "        else:\n",
        "            temp = cust_df.iloc[i : i+window]\n",
        "            temp[\"date_from\"] = (temp.datetime.iloc[0] - temp.datetime).dt.days # 최근 구입일로부터 몇일만에 구입한 영수증인지.  ex) [2]: 01/22, [1]: 02/11, [0]: 02/13 \n",
        "                                                                                                                                # => [2]: 22,    [1]: 20,    [0]: 0\n",
        "            if not drop:\n",
        "                rct_no = list(temp.index)\n",
        "                rct_nos.append(rct_no)\n",
        "\n",
        "            temp = temp[features] # 피쳐 집합으로 원하는 피쳐를 골라 저장\n",
        "            temp = torch.tensor(temp.values, dtype=dtype) # window x features\n",
        "\n",
        "            rct_tensor_by_cust.append(temp)\n",
        "\n",
        "        \n",
        "    rct_tensor_by_cust = torch.stack(rct_tensor_by_cust, dim=0) # cust's rcts x window x features\n",
        "    if not drop:\n",
        "        return rct_tensor_by_cust, rct_nos\n",
        "    else:\n",
        "        return rct_tensor_by_cust"
      ],
      "metadata": {
        "id": "OzyaZhuslQw_"
      },
      "execution_count": 14,
      "outputs": []
    },
    {
      "cell_type": "code",
      "source": [
        "# cust_idx = custs[0]\n",
        "# tens, nos = make_rct_tensor_by_cust(cust_idx, drop=False)\n",
        "# nos[0]\n",
        "\n",
        "# processed_df.loc[cust_idx].sort_values(by=\"datetime\")[:20].rct_no"
      ],
      "metadata": {
        "id": "6HsHAoFZRpkd"
      },
      "execution_count": 15,
      "outputs": []
    },
    {
      "cell_type": "code",
      "source": [
        "len(custs)"
      ],
      "metadata": {
        "colab": {
          "base_uri": "https://localhost:8080/"
        },
        "id": "ZYcwOswACZv5",
        "outputId": "26117d36-2d57-4525-a9a6-4bac8e93c59e"
      },
      "execution_count": 16,
      "outputs": [
        {
          "output_type": "execute_result",
          "data": {
            "text/plain": [
              "26917"
            ]
          },
          "metadata": {},
          "execution_count": 16
        }
      ]
    },
    {
      "cell_type": "code",
      "source": [
        "# window = 20 # 한 텐서 안에 들어갈 \"최근 영수증 개수\"\n",
        "# slide = 10 # 한 고객의 영수증 기록에서 window로 스캔 시의 간격\n",
        "# chunk_num = 10\n",
        "# sample_size = 1000"
      ],
      "metadata": {
        "id": "Qx2RBDliWd7Q"
      },
      "execution_count": 17,
      "outputs": []
    },
    {
      "cell_type": "code",
      "source": [
        "window = 10 # 한 텐서 안에 들어갈 \"최근 영수증 개수\"\n",
        "slide = 5 # 한 고객의 영수증 기록에서 window로 스캔 시의 간격\n",
        "chunk_num = 16\n",
        "sample_size = 26912 # 26912\n",
        "# rct_tensors = []\n",
        "# sampled_custs = np.random.choice(list(custs), size=sample_size)\n",
        "\n",
        "# for j in tqdm(range(sample_size//chunk_num), position=0, desc=\"making_data...\", leave=None):\n",
        "#     if j == sample_size//chunk_num-1:\n",
        "#         rct_chunk_tensors = Parallel(n_jobs=num_cores)(delayed(make_rct_tensor_by_cust)(cust_idx, features=features, window=window, slide=10, dtype=torch.int16) for cust_idx in sampled_custs[j*chunk_num:])\n",
        "#     else:\n",
        "#         rct_chunk_tensors = Parallel(n_jobs=num_cores)(delayed(make_rct_tensor_by_cust)(cust_idx, features=features, window=window, slide=10, dtype=torch.int16) for cust_idx in sampled_custs[j*chunk_num : (j+1)*chunk_num])\n",
        "#     rct_chunk_tensors = [t for t in rct_chunk_tensors if t is not None] # None을 없앤다.\n",
        "#     rct_chunk_tensors = torch.cat(rct_chunk_tensors, dim=0)\n",
        "\n",
        "#     print(f\"{j}번째 chunk의 Tensor Shape : \", rct_chunk_tensors.shape)\n",
        "#     rct_tensors.append(rct_chunk_tensors) # 전체 tensor에 추가\n",
        "#     del rct_chunk_tensors\n",
        "\n",
        "# rct_tensors = torch.cat(rct_tensors, dim = 0)\n",
        "# rct_tensors.shape"
      ],
      "metadata": {
        "id": "1Hb4LE0o_hY0"
      },
      "execution_count": 18,
      "outputs": []
    },
    {
      "cell_type": "markdown",
      "source": [
        "# 모델링"
      ],
      "metadata": {
        "id": "lVTR9wtzzyKG"
      }
    },
    {
      "cell_type": "code",
      "source": [
        "import torch\n",
        "import torchvision\n",
        "from torchvision import transforms\n",
        "import torch.nn.functional as F\n",
        "import torch.nn as nn\n",
        "import torch.optim as optim\n",
        "import matplotlib.pyplot as plt\n",
        "from torch.utils.data import DataLoader, Dataset\n",
        "from torchvision import datasets, transforms\n",
        "\n",
        "from sklearn.model_selection import train_test_split\n",
        "\n",
        "\n",
        "device = torch.device('cuda:0' if torch.cuda.is_available() else 'cpu')"
      ],
      "metadata": {
        "id": "j7cba5Kyzxsw"
      },
      "execution_count": 19,
      "outputs": []
    },
    {
      "cell_type": "code",
      "source": [
        "# torch.save(rct_tensors, path + \"LPOINT_BIG_COMP_RCT_TENSORS.pt\")\n",
        "rct_tensors = torch.load(path + \"LPOINT_BIG_COMP_RCT_TENSORS8000.pt\")"
      ],
      "metadata": {
        "id": "lXDBkIdnDxVW"
      },
      "execution_count": 20,
      "outputs": []
    },
    {
      "cell_type": "code",
      "source": [
        "rct_tensors.shape"
      ],
      "metadata": {
        "id": "99s8xtLKZozj"
      },
      "execution_count": null,
      "outputs": []
    },
    {
      "cell_type": "code",
      "source": [
        "class CustomDataset(Dataset):\n",
        "    def __init__(self, rct_tensors = None, cust_idx = None, train_mode=True, transforms = None):\n",
        "        self.transforms = transforms\n",
        "        self.rct_tensors = rct_tensors\n",
        "        self.train_mode = train_mode\n",
        "        if not self.train_mode:\n",
        "            if (make_rct_tensor_by_cust(cust_idx, drop=False) is None):\n",
        "                self.tensors = []\n",
        "            else:\n",
        "                self.tensors, self.rct_nos = make_rct_tensor_by_cust(cust_idx, drop=False)\n",
        "\n",
        "    def __len__(self):\n",
        "        if self.train_mode :\n",
        "            return self.rct_tensors.shape[0]\n",
        "        else: \n",
        "            return len(self.tensors)\n",
        "\n",
        "    def __getitem__(self, idx):\n",
        "        \n",
        "        if self.train_mode:\n",
        "            input = self.rct_tensors[idx]\n",
        "            if self.transforms is not None:\n",
        "                input = self.transforms(input)[0]\n",
        "            return input, input[:,52:]\n",
        "        else:\n",
        "            return self.tensors[idx], self.rct_nos[idx][0]\n"
      ],
      "metadata": {
        "id": "_GTTX7OTF2np"
      },
      "execution_count": 61,
      "outputs": []
    },
    {
      "cell_type": "code",
      "source": [
        "class Encoder(nn.Module):\n",
        "    def __init__(self, seq_len, n_features, embedding_dim=64):\n",
        "        super(Encoder, self).__init__()\n",
        "        self.seq_len, self.n_features = seq_len, n_features\n",
        "        self.embedding_dim, self.hidden_dim = (\n",
        "            embedding_dim, 2 * embedding_dim\n",
        "        )\n",
        "        self.rnn1 = nn.LSTM(\n",
        "          input_size=n_features,\n",
        "          hidden_size=self.hidden_dim,\n",
        "          num_layers=1,\n",
        "          batch_first=True\n",
        "        )\n",
        "        self.rnn2 = nn.LSTM(\n",
        "          input_size=self.hidden_dim,\n",
        "          hidden_size=embedding_dim,\n",
        "          num_layers=1,\n",
        "          batch_first=True\n",
        "        )\n",
        "    def forward(self, x):\n",
        "        x, (_, _) = self.rnn1(x)\n",
        "        x, (hidden_n, _) = self.rnn2(x)\n",
        "        return  x[:,-1,:]"
      ],
      "metadata": {
        "id": "EQ-7v863ZK-P"
      },
      "execution_count": 22,
      "outputs": []
    },
    {
      "cell_type": "code",
      "source": [
        "class Decoder(nn.Module):\n",
        "    def __init__(self, input_dim=64, n_features=1):\n",
        "        super(Decoder, self).__init__()\n",
        "        self.dropout_prob = 0.2\n",
        "        self.decoder_lin = nn.Sequential(\n",
        "            nn.Linear(input_dim, 128, bias = True),\n",
        "            nn.BatchNorm1d(128),\n",
        "            nn.ReLU(True),\n",
        "            nn.Dropout(self.dropout_prob),\n",
        "            \n",
        "            nn.Linear(128, 512, bias = True),\n",
        "            nn.BatchNorm1d(512),\n",
        "            nn.ReLU(True),\n",
        "            nn.Dropout(self.dropout_prob),\n",
        "\n",
        "            nn.Linear(512, 1024, bias = True),\n",
        "            nn.BatchNorm1d(1024),\n",
        "            nn.ReLU(True),\n",
        "            nn.Dropout(self.dropout_prob),\n",
        "\n",
        "            nn.Linear(1024, (n_features-52) * window, bias = True),\n",
        "            nn.ReLU(True)\n",
        "        )\n",
        "        self.unflatten = nn.Unflatten(dim=1, unflattened_size=(window, n_features - 52))\n",
        "        \n",
        "        \n",
        "    def forward(self, x):\n",
        "        x = self.decoder_lin(x)\n",
        "        x = self.unflatten(x) - 1\n",
        "\n",
        "        return x"
      ],
      "metadata": {
        "id": "GsT5xiGAZMKt"
      },
      "execution_count": 23,
      "outputs": []
    },
    {
      "cell_type": "code",
      "source": [
        "class RecurrentAutoencoder(nn.Module):\n",
        "    def __init__(self, seq_len, n_features, embedding_dim=64):\n",
        "        super(RecurrentAutoencoder, self).__init__()\n",
        "        self.encoder = Encoder(seq_len, n_features, embedding_dim)#.to(device)\n",
        "        self.decoder = Decoder(embedding_dim, n_features)#.to(device)\n",
        "\n",
        "    def forward(self, x, train_mode = True):\n",
        "        if train_mode:\n",
        "            x = self.encoder(x)\n",
        "            x = self.decoder(x)\n",
        "        else:\n",
        "            x = self.encoder(x)\n",
        "        return x"
      ],
      "metadata": {
        "id": "Z05b_Nj2ZOWm"
      },
      "execution_count": 24,
      "outputs": []
    },
    {
      "cell_type": "code",
      "source": [
        "from torchvision.transforms import Lambda\n",
        "\n",
        "def lambda_function(x):\n",
        "    y = x[:, :, 50:]\n",
        "    y = torch.log1p(y)\n",
        "    y = torch.nn.functional.normalize(y, dim=1)\n",
        "    x = torch.cat((x[:, :, :50], y), dim = 2)\n",
        "    return x\n",
        "\n",
        "transform = transforms.Compose([\n",
        "    # 0~1의 범위를 가지도록 정규화\n",
        "    transforms.ToTensor(),\n",
        "    # transforms.Normalize((0.485), (0.229))\n",
        "    ])\n",
        "\n",
        "# transform = transforms.Compose([\n",
        "#     Lambda(lambda_function)\n",
        "#     ])\n",
        "\n",
        "window = 10 # 한 텐서 안에 들어갈 \"최근 영수증 개수\"\n",
        "slide = 5 # 한 고객의 영수증 기록에서 window로 스캔 시의 간격"
      ],
      "metadata": {
        "id": "2iC0u6Yyp0B1"
      },
      "execution_count": 25,
      "outputs": []
    },
    {
      "cell_type": "code",
      "source": [
        "#n X n_features  시계열 데이터를 1 X 128 형태로 변환\n",
        "device = torch.device('cuda') if torch.cuda.is_available() else torch.device('cpu')\n",
        "\n",
        "model = RecurrentAutoencoder(window, 401, 10)\n",
        "model = model.to(device)\n",
        "\n",
        "batch_size = 512"
      ],
      "metadata": {
        "id": "nT8RXHIpZQcH"
      },
      "execution_count": 26,
      "outputs": []
    },
    {
      "cell_type": "code",
      "source": [
        "train_id, valid_id = train_test_split(range(rct_tensors.shape[0]), test_size = 0.4, random_state = 42)\n",
        "valid_id, test_id = train_test_split(valid_id, test_size = 0.5, random_state = 42)"
      ],
      "metadata": {
        "id": "Y-BCJw2rZRww"
      },
      "execution_count": 27,
      "outputs": []
    },
    {
      "cell_type": "code",
      "source": [
        "# log를 취해도 np.uint8 떄문에 소용 없어진다.\n",
        "train_dataset = CustomDataset(rct_tensors.detach().numpy().astype(np.uint8)[train_id], \n",
        "                              train_mode = True, transforms = transform)\n",
        "train_loader = DataLoader(train_dataset, batch_size = batch_size, shuffle=False, num_workers=0)\n",
        "\n",
        "valid_dataset = CustomDataset(rct_tensors.detach().numpy().astype(np.uint8)[valid_id], \n",
        "                              train_mode = True, transforms = transform)\n",
        "valid_loader = DataLoader(train_dataset, batch_size = batch_size, shuffle=False, num_workers=0)"
      ],
      "metadata": {
        "id": "j9C1C4-PZTgk"
      },
      "execution_count": 28,
      "outputs": []
    },
    {
      "cell_type": "code",
      "source": [
        "rct_tensors.detach().numpy().astype(np.uint8)[valid_id].shape"
      ],
      "metadata": {
        "colab": {
          "base_uri": "https://localhost:8080/"
        },
        "id": "9Uyu7DKM4yIh",
        "outputId": "9d46b6f2-4848-4785-90b2-6a2ca8883f11"
      },
      "execution_count": 24,
      "outputs": [
        {
          "output_type": "execute_result",
          "data": {
            "text/plain": [
              "(6981, 10, 401)"
            ]
          },
          "metadata": {},
          "execution_count": 24
        }
      ]
    },
    {
      "cell_type": "code",
      "source": [
        "for idx, batch in enumerate(valid_loader):\n",
        "    x, y = batch[0].float().to(device), batch[1].float().to(device)\n",
        "    break"
      ],
      "metadata": {
        "id": "HejxqtBe56nx"
      },
      "execution_count": 29,
      "outputs": []
    },
    {
      "cell_type": "code",
      "source": [
        "np.max(x.detach().numpy())"
      ],
      "metadata": {
        "colab": {
          "base_uri": "https://localhost:8080/",
          "height": 172
        },
        "id": "YLvKVy1lRidC",
        "outputId": "6565e46b-cb45-4ea1-8bde-97db6f5b3b64"
      },
      "execution_count": 35,
      "outputs": [
        {
          "output_type": "error",
          "ename": "TypeError",
          "evalue": "ignored",
          "traceback": [
            "\u001b[0;31m---------------------------------------------------------------------------\u001b[0m",
            "\u001b[0;31mTypeError\u001b[0m                                 Traceback (most recent call last)",
            "\u001b[0;32m<ipython-input-35-38afa2c39d65>\u001b[0m in \u001b[0;36m<module>\u001b[0;34m()\u001b[0m\n\u001b[0;32m----> 1\u001b[0;31m \u001b[0mnp\u001b[0m\u001b[0;34m.\u001b[0m\u001b[0mmax\u001b[0m\u001b[0;34m(\u001b[0m\u001b[0mx\u001b[0m\u001b[0;34m.\u001b[0m\u001b[0mdetach\u001b[0m\u001b[0;34m(\u001b[0m\u001b[0;34m)\u001b[0m\u001b[0;34m.\u001b[0m\u001b[0mnumpy\u001b[0m\u001b[0;34m(\u001b[0m\u001b[0;34m)\u001b[0m\u001b[0;34m)\u001b[0m\u001b[0;34m\u001b[0m\u001b[0;34m\u001b[0m\u001b[0m\n\u001b[0m",
            "\u001b[0;31mTypeError\u001b[0m: can't convert cuda:0 device type tensor to numpy. Use Tensor.cpu() to copy the tensor to host memory first."
          ]
        }
      ]
    },
    {
      "cell_type": "code",
      "source": [
        "def validation(model, vali_loader, criterion, device):\n",
        "    model.eval() # Evaluation\n",
        "    vali_loss = []\n",
        "    with torch.no_grad():\n",
        "        for idx, batch in enumerate(vali_loader):\n",
        "            x, y = batch[0].float().to(device), batch[1].float().to(device)\n",
        "\n",
        "            pred = model(x)\n",
        "            loss = criterion(pred, y)\n",
        "            \n",
        "            vali_loss.append(loss.item()/batch_size)\n",
        "\n",
        "    vali_mae_loss = np.mean(vali_loss)\n",
        "    return vali_mae_loss"
      ],
      "metadata": {
        "id": "KKqUwEVOZVru"
      },
      "execution_count": 30,
      "outputs": []
    },
    {
      "cell_type": "code",
      "source": [
        "optimizer = torch.optim.Adam(model.parameters(), lr=1e-3)\n",
        "# Loss Function\n",
        "criterion = nn.L1Loss(reduction='sum').to(device)"
      ],
      "metadata": {
        "id": "wp8nukrrbfX4"
      },
      "execution_count": 31,
      "outputs": []
    },
    {
      "cell_type": "code",
      "source": [
        "def train(model, optimizer, train_loader, vali_loader, scheduler, device):\n",
        "\n",
        "    best_mae = 9999\n",
        "    \n",
        "    for epoch in range(500):\n",
        "        model.train()\n",
        "        train_loss = []\n",
        "        for idx, batch in tqdm(enumerate(train_loader)):\n",
        "            x, y = batch[0].float().to(device), batch[1].float().to(device)\n",
        "            optimizer.zero_grad()\n",
        "            # Data -> Model -> Output\n",
        "            pred = model(x)\n",
        "            \n",
        "            # Calc loss\n",
        "            loss = criterion(pred, y)\n",
        "\n",
        "            # backpropagation\n",
        "            loss.backward()\n",
        "            optimizer.step()\n",
        "\n",
        "            train_loss.append(loss.item()/batch_size)\n",
        "                        \n",
        "        # Evaluation Validation set\n",
        "        vali_mae = validation(model, valid_loader, criterion, device)\n",
        "        \n",
        "        print(f'Epoch [{epoch}] Train MAE : [{np.mean(train_loss):.5f}] Validation MAE : [{vali_mae:.5f}]\\n')"
      ],
      "metadata": {
        "id": "PgKKwXxVbqdw"
      },
      "execution_count": 32,
      "outputs": []
    },
    {
      "cell_type": "code",
      "source": [
        "train(model, optimizer, train_loader,valid_loader, None, device)"
      ],
      "metadata": {
        "id": "16CO2qmJbi_-",
        "colab": {
          "base_uri": "https://localhost:8080/",
          "height": 1000
        },
        "outputId": "c9e10fa5-8b58-4e48-d632-5fc262ed5441"
      },
      "execution_count": 33,
      "outputs": [
        {
          "output_type": "stream",
          "name": "stderr",
          "text": [
            "41it [00:02, 15.08it/s]\n"
          ]
        },
        {
          "output_type": "stream",
          "name": "stdout",
          "text": [
            "Epoch [0] Train MAE : [775.51662] Validation MAE : [486.44196]\n",
            "\n"
          ]
        },
        {
          "output_type": "stream",
          "name": "stderr",
          "text": [
            "41it [00:01, 24.63it/s]\n"
          ]
        },
        {
          "output_type": "stream",
          "name": "stdout",
          "text": [
            "Epoch [1] Train MAE : [358.85300] Validation MAE : [190.51990]\n",
            "\n"
          ]
        },
        {
          "output_type": "stream",
          "name": "stderr",
          "text": [
            "41it [00:01, 24.91it/s]\n"
          ]
        },
        {
          "output_type": "stream",
          "name": "stdout",
          "text": [
            "Epoch [2] Train MAE : [311.44938] Validation MAE : [327.16799]\n",
            "\n"
          ]
        },
        {
          "output_type": "stream",
          "name": "stderr",
          "text": [
            "41it [00:01, 24.69it/s]\n"
          ]
        },
        {
          "output_type": "stream",
          "name": "stdout",
          "text": [
            "Epoch [3] Train MAE : [272.38361] Validation MAE : [400.61737]\n",
            "\n"
          ]
        },
        {
          "output_type": "stream",
          "name": "stderr",
          "text": [
            "41it [00:01, 24.70it/s]\n"
          ]
        },
        {
          "output_type": "stream",
          "name": "stdout",
          "text": [
            "Epoch [4] Train MAE : [247.75482] Validation MAE : [496.82932]\n",
            "\n"
          ]
        },
        {
          "output_type": "stream",
          "name": "stderr",
          "text": [
            "41it [00:01, 24.61it/s]\n"
          ]
        },
        {
          "output_type": "stream",
          "name": "stdout",
          "text": [
            "Epoch [5] Train MAE : [244.89996] Validation MAE : [1724.12284]\n",
            "\n"
          ]
        },
        {
          "output_type": "stream",
          "name": "stderr",
          "text": [
            "41it [00:01, 24.52it/s]\n"
          ]
        },
        {
          "output_type": "stream",
          "name": "stdout",
          "text": [
            "Epoch [6] Train MAE : [212.22347] Validation MAE : [774.62225]\n",
            "\n"
          ]
        },
        {
          "output_type": "stream",
          "name": "stderr",
          "text": [
            "41it [00:03, 12.42it/s]\n"
          ]
        },
        {
          "output_type": "stream",
          "name": "stdout",
          "text": [
            "Epoch [7] Train MAE : [207.38229] Validation MAE : [557.15312]\n",
            "\n"
          ]
        },
        {
          "output_type": "stream",
          "name": "stderr",
          "text": [
            "41it [00:01, 23.18it/s]\n"
          ]
        },
        {
          "output_type": "stream",
          "name": "stdout",
          "text": [
            "Epoch [8] Train MAE : [200.95074] Validation MAE : [768.58596]\n",
            "\n"
          ]
        },
        {
          "output_type": "stream",
          "name": "stderr",
          "text": [
            "41it [00:01, 24.70it/s]\n"
          ]
        },
        {
          "output_type": "stream",
          "name": "stdout",
          "text": [
            "Epoch [9] Train MAE : [184.13115] Validation MAE : [456.49325]\n",
            "\n"
          ]
        },
        {
          "output_type": "stream",
          "name": "stderr",
          "text": [
            "41it [00:03, 11.60it/s]\n"
          ]
        },
        {
          "output_type": "stream",
          "name": "stdout",
          "text": [
            "Epoch [10] Train MAE : [167.10330] Validation MAE : [385.34255]\n",
            "\n"
          ]
        },
        {
          "output_type": "stream",
          "name": "stderr",
          "text": [
            "41it [00:02, 17.14it/s]\n"
          ]
        },
        {
          "output_type": "stream",
          "name": "stdout",
          "text": [
            "Epoch [11] Train MAE : [157.51753] Validation MAE : [1282.26965]\n",
            "\n"
          ]
        },
        {
          "output_type": "stream",
          "name": "stderr",
          "text": [
            "41it [00:02, 18.76it/s]\n"
          ]
        },
        {
          "output_type": "stream",
          "name": "stdout",
          "text": [
            "Epoch [12] Train MAE : [169.85670] Validation MAE : [1860.54768]\n",
            "\n"
          ]
        },
        {
          "output_type": "stream",
          "name": "stderr",
          "text": [
            "41it [00:01, 26.43it/s]\n"
          ]
        },
        {
          "output_type": "stream",
          "name": "stdout",
          "text": [
            "Epoch [13] Train MAE : [184.90973] Validation MAE : [1921.60935]\n",
            "\n"
          ]
        },
        {
          "output_type": "stream",
          "name": "stderr",
          "text": [
            "41it [00:02, 20.04it/s]\n"
          ]
        },
        {
          "output_type": "stream",
          "name": "stdout",
          "text": [
            "Epoch [14] Train MAE : [175.27158] Validation MAE : [317.24093]\n",
            "\n"
          ]
        },
        {
          "output_type": "stream",
          "name": "stderr",
          "text": [
            "41it [00:01, 24.83it/s]\n"
          ]
        },
        {
          "output_type": "stream",
          "name": "stdout",
          "text": [
            "Epoch [15] Train MAE : [130.00596] Validation MAE : [590.88369]\n",
            "\n"
          ]
        },
        {
          "output_type": "stream",
          "name": "stderr",
          "text": [
            "41it [00:01, 24.23it/s]\n"
          ]
        },
        {
          "output_type": "stream",
          "name": "stdout",
          "text": [
            "Epoch [16] Train MAE : [173.59364] Validation MAE : [2032.34910]\n",
            "\n"
          ]
        },
        {
          "output_type": "stream",
          "name": "stderr",
          "text": [
            "41it [00:01, 25.30it/s]\n"
          ]
        },
        {
          "output_type": "stream",
          "name": "stdout",
          "text": [
            "Epoch [17] Train MAE : [220.12109] Validation MAE : [1669.25774]\n",
            "\n"
          ]
        },
        {
          "output_type": "stream",
          "name": "stderr",
          "text": [
            "41it [00:01, 25.38it/s]\n"
          ]
        },
        {
          "output_type": "stream",
          "name": "stdout",
          "text": [
            "Epoch [18] Train MAE : [202.54106] Validation MAE : [2713.70040]\n",
            "\n"
          ]
        },
        {
          "output_type": "stream",
          "name": "stderr",
          "text": [
            "41it [00:01, 25.37it/s]\n"
          ]
        },
        {
          "output_type": "stream",
          "name": "stdout",
          "text": [
            "Epoch [19] Train MAE : [207.09376] Validation MAE : [1704.41874]\n",
            "\n"
          ]
        },
        {
          "output_type": "stream",
          "name": "stderr",
          "text": [
            "41it [00:01, 25.29it/s]\n"
          ]
        },
        {
          "output_type": "stream",
          "name": "stdout",
          "text": [
            "Epoch [20] Train MAE : [147.42961] Validation MAE : [645.96292]\n",
            "\n"
          ]
        },
        {
          "output_type": "stream",
          "name": "stderr",
          "text": [
            "41it [00:01, 24.31it/s]\n"
          ]
        },
        {
          "output_type": "stream",
          "name": "stdout",
          "text": [
            "Epoch [21] Train MAE : [147.57993] Validation MAE : [1030.78902]\n",
            "\n"
          ]
        },
        {
          "output_type": "stream",
          "name": "stderr",
          "text": [
            "41it [00:01, 25.52it/s]\n"
          ]
        },
        {
          "output_type": "stream",
          "name": "stdout",
          "text": [
            "Epoch [22] Train MAE : [160.17985] Validation MAE : [1363.24580]\n",
            "\n"
          ]
        },
        {
          "output_type": "stream",
          "name": "stderr",
          "text": [
            "41it [00:01, 25.30it/s]\n"
          ]
        },
        {
          "output_type": "stream",
          "name": "stdout",
          "text": [
            "Epoch [23] Train MAE : [187.82984] Validation MAE : [695.72636]\n",
            "\n"
          ]
        },
        {
          "output_type": "stream",
          "name": "stderr",
          "text": [
            "41it [00:01, 25.37it/s]\n"
          ]
        },
        {
          "output_type": "stream",
          "name": "stdout",
          "text": [
            "Epoch [24] Train MAE : [269.05137] Validation MAE : [877.08350]\n",
            "\n"
          ]
        },
        {
          "output_type": "stream",
          "name": "stderr",
          "text": [
            "41it [00:01, 25.07it/s]\n"
          ]
        },
        {
          "output_type": "stream",
          "name": "stdout",
          "text": [
            "Epoch [25] Train MAE : [234.28575] Validation MAE : [430.98242]\n",
            "\n"
          ]
        },
        {
          "output_type": "stream",
          "name": "stderr",
          "text": [
            "41it [00:01, 25.33it/s]\n"
          ]
        },
        {
          "output_type": "stream",
          "name": "stdout",
          "text": [
            "Epoch [26] Train MAE : [206.68149] Validation MAE : [211.86939]\n",
            "\n"
          ]
        },
        {
          "output_type": "stream",
          "name": "stderr",
          "text": [
            "41it [00:01, 24.97it/s]\n"
          ]
        },
        {
          "output_type": "stream",
          "name": "stdout",
          "text": [
            "Epoch [27] Train MAE : [166.32277] Validation MAE : [183.77028]\n",
            "\n"
          ]
        },
        {
          "output_type": "stream",
          "name": "stderr",
          "text": [
            "41it [00:01, 25.23it/s]\n"
          ]
        },
        {
          "output_type": "stream",
          "name": "stdout",
          "text": [
            "Epoch [28] Train MAE : [159.19317] Validation MAE : [458.72620]\n",
            "\n"
          ]
        },
        {
          "output_type": "stream",
          "name": "stderr",
          "text": [
            "41it [00:01, 25.24it/s]\n"
          ]
        },
        {
          "output_type": "stream",
          "name": "stdout",
          "text": [
            "Epoch [29] Train MAE : [163.92915] Validation MAE : [584.14869]\n",
            "\n"
          ]
        },
        {
          "output_type": "stream",
          "name": "stderr",
          "text": [
            "41it [00:01, 25.39it/s]\n"
          ]
        },
        {
          "output_type": "stream",
          "name": "stdout",
          "text": [
            "Epoch [30] Train MAE : [152.77668] Validation MAE : [406.05522]\n",
            "\n"
          ]
        },
        {
          "output_type": "stream",
          "name": "stderr",
          "text": [
            "41it [00:01, 24.59it/s]\n"
          ]
        },
        {
          "output_type": "stream",
          "name": "stdout",
          "text": [
            "Epoch [31] Train MAE : [164.03853] Validation MAE : [205.01420]\n",
            "\n"
          ]
        },
        {
          "output_type": "stream",
          "name": "stderr",
          "text": [
            "41it [00:01, 25.06it/s]\n"
          ]
        },
        {
          "output_type": "stream",
          "name": "stdout",
          "text": [
            "Epoch [32] Train MAE : [242.13942] Validation MAE : [779.95144]\n",
            "\n"
          ]
        },
        {
          "output_type": "stream",
          "name": "stderr",
          "text": [
            "41it [00:01, 25.08it/s]\n"
          ]
        },
        {
          "output_type": "stream",
          "name": "stdout",
          "text": [
            "Epoch [33] Train MAE : [262.60269] Validation MAE : [174.12324]\n",
            "\n"
          ]
        },
        {
          "output_type": "stream",
          "name": "stderr",
          "text": [
            "41it [00:01, 23.95it/s]\n"
          ]
        },
        {
          "output_type": "stream",
          "name": "stdout",
          "text": [
            "Epoch [34] Train MAE : [204.74013] Validation MAE : [365.53110]\n",
            "\n"
          ]
        },
        {
          "output_type": "stream",
          "name": "stderr",
          "text": [
            "41it [00:01, 22.28it/s]\n"
          ]
        },
        {
          "output_type": "stream",
          "name": "stdout",
          "text": [
            "Epoch [35] Train MAE : [218.45114] Validation MAE : [286.26097]\n",
            "\n"
          ]
        },
        {
          "output_type": "stream",
          "name": "stderr",
          "text": [
            "41it [00:01, 24.48it/s]\n"
          ]
        },
        {
          "output_type": "stream",
          "name": "stdout",
          "text": [
            "Epoch [36] Train MAE : [154.69764] Validation MAE : [101.09910]\n",
            "\n"
          ]
        },
        {
          "output_type": "stream",
          "name": "stderr",
          "text": [
            "41it [00:01, 25.26it/s]\n"
          ]
        },
        {
          "output_type": "stream",
          "name": "stdout",
          "text": [
            "Epoch [37] Train MAE : [140.38654] Validation MAE : [338.29206]\n",
            "\n"
          ]
        },
        {
          "output_type": "stream",
          "name": "stderr",
          "text": [
            "41it [00:01, 23.78it/s]\n"
          ]
        },
        {
          "output_type": "stream",
          "name": "stdout",
          "text": [
            "Epoch [38] Train MAE : [126.83930] Validation MAE : [263.89168]\n",
            "\n"
          ]
        },
        {
          "output_type": "stream",
          "name": "stderr",
          "text": [
            "41it [00:01, 24.66it/s]\n"
          ]
        },
        {
          "output_type": "stream",
          "name": "stdout",
          "text": [
            "Epoch [39] Train MAE : [177.81200] Validation MAE : [706.24003]\n",
            "\n"
          ]
        },
        {
          "output_type": "stream",
          "name": "stderr",
          "text": [
            "41it [00:01, 25.40it/s]\n"
          ]
        },
        {
          "output_type": "stream",
          "name": "stdout",
          "text": [
            "Epoch [40] Train MAE : [232.32126] Validation MAE : [414.31452]\n",
            "\n"
          ]
        },
        {
          "output_type": "stream",
          "name": "stderr",
          "text": [
            "41it [00:01, 25.36it/s]\n"
          ]
        },
        {
          "output_type": "stream",
          "name": "stdout",
          "text": [
            "Epoch [41] Train MAE : [245.86908] Validation MAE : [319.07126]\n",
            "\n"
          ]
        },
        {
          "output_type": "stream",
          "name": "stderr",
          "text": [
            "41it [00:01, 24.42it/s]\n"
          ]
        },
        {
          "output_type": "stream",
          "name": "stdout",
          "text": [
            "Epoch [42] Train MAE : [337.10793] Validation MAE : [250.19351]\n",
            "\n"
          ]
        },
        {
          "output_type": "stream",
          "name": "stderr",
          "text": [
            "41it [00:01, 25.15it/s]\n"
          ]
        },
        {
          "output_type": "stream",
          "name": "stdout",
          "text": [
            "Epoch [43] Train MAE : [262.01972] Validation MAE : [252.99001]\n",
            "\n"
          ]
        },
        {
          "output_type": "stream",
          "name": "stderr",
          "text": [
            "41it [00:01, 25.22it/s]\n"
          ]
        },
        {
          "output_type": "stream",
          "name": "stdout",
          "text": [
            "Epoch [44] Train MAE : [254.71645] Validation MAE : [206.73473]\n",
            "\n"
          ]
        },
        {
          "output_type": "stream",
          "name": "stderr",
          "text": [
            "41it [00:01, 25.21it/s]\n"
          ]
        },
        {
          "output_type": "stream",
          "name": "stdout",
          "text": [
            "Epoch [45] Train MAE : [255.13910] Validation MAE : [272.89318]\n",
            "\n"
          ]
        },
        {
          "output_type": "stream",
          "name": "stderr",
          "text": [
            "41it [00:01, 25.49it/s]\n"
          ]
        },
        {
          "output_type": "stream",
          "name": "stdout",
          "text": [
            "Epoch [46] Train MAE : [266.09547] Validation MAE : [124.30614]\n",
            "\n"
          ]
        },
        {
          "output_type": "stream",
          "name": "stderr",
          "text": [
            "41it [00:01, 25.45it/s]\n"
          ]
        },
        {
          "output_type": "stream",
          "name": "stdout",
          "text": [
            "Epoch [47] Train MAE : [178.30216] Validation MAE : [149.51862]\n",
            "\n"
          ]
        },
        {
          "output_type": "stream",
          "name": "stderr",
          "text": [
            "41it [00:01, 24.23it/s]\n"
          ]
        },
        {
          "output_type": "stream",
          "name": "stdout",
          "text": [
            "Epoch [48] Train MAE : [173.40232] Validation MAE : [689.03982]\n",
            "\n"
          ]
        },
        {
          "output_type": "stream",
          "name": "stderr",
          "text": [
            "41it [00:01, 25.11it/s]\n"
          ]
        },
        {
          "output_type": "stream",
          "name": "stdout",
          "text": [
            "Epoch [49] Train MAE : [293.12495] Validation MAE : [248.20041]\n",
            "\n"
          ]
        },
        {
          "output_type": "stream",
          "name": "stderr",
          "text": [
            "41it [00:01, 25.34it/s]\n"
          ]
        },
        {
          "output_type": "stream",
          "name": "stdout",
          "text": [
            "Epoch [50] Train MAE : [201.70350] Validation MAE : [218.78427]\n",
            "\n"
          ]
        },
        {
          "output_type": "stream",
          "name": "stderr",
          "text": [
            "41it [00:01, 23.86it/s]\n"
          ]
        },
        {
          "output_type": "stream",
          "name": "stdout",
          "text": [
            "Epoch [51] Train MAE : [234.89312] Validation MAE : [116.95028]\n",
            "\n"
          ]
        },
        {
          "output_type": "stream",
          "name": "stderr",
          "text": [
            "41it [00:01, 25.54it/s]\n"
          ]
        },
        {
          "output_type": "stream",
          "name": "stdout",
          "text": [
            "Epoch [52] Train MAE : [173.46505] Validation MAE : [239.01484]\n",
            "\n"
          ]
        },
        {
          "output_type": "stream",
          "name": "stderr",
          "text": [
            "41it [00:01, 25.25it/s]\n"
          ]
        },
        {
          "output_type": "stream",
          "name": "stdout",
          "text": [
            "Epoch [53] Train MAE : [249.53145] Validation MAE : [109.10286]\n",
            "\n"
          ]
        },
        {
          "output_type": "stream",
          "name": "stderr",
          "text": [
            "41it [00:01, 24.47it/s]\n"
          ]
        },
        {
          "output_type": "stream",
          "name": "stdout",
          "text": [
            "Epoch [54] Train MAE : [160.90043] Validation MAE : [146.64082]\n",
            "\n"
          ]
        },
        {
          "output_type": "stream",
          "name": "stderr",
          "text": [
            "41it [00:01, 25.41it/s]\n"
          ]
        },
        {
          "output_type": "stream",
          "name": "stdout",
          "text": [
            "Epoch [55] Train MAE : [209.60069] Validation MAE : [117.34813]\n",
            "\n"
          ]
        },
        {
          "output_type": "stream",
          "name": "stderr",
          "text": [
            "41it [00:01, 25.34it/s]\n"
          ]
        },
        {
          "output_type": "stream",
          "name": "stdout",
          "text": [
            "Epoch [56] Train MAE : [215.53908] Validation MAE : [131.91358]\n",
            "\n"
          ]
        },
        {
          "output_type": "stream",
          "name": "stderr",
          "text": [
            "41it [00:01, 24.26it/s]\n"
          ]
        },
        {
          "output_type": "stream",
          "name": "stdout",
          "text": [
            "Epoch [57] Train MAE : [132.70286] Validation MAE : [167.71888]\n",
            "\n"
          ]
        },
        {
          "output_type": "stream",
          "name": "stderr",
          "text": [
            "41it [00:01, 24.71it/s]\n"
          ]
        },
        {
          "output_type": "stream",
          "name": "stdout",
          "text": [
            "Epoch [58] Train MAE : [170.54222] Validation MAE : [125.27957]\n",
            "\n"
          ]
        },
        {
          "output_type": "stream",
          "name": "stderr",
          "text": [
            "41it [00:01, 25.25it/s]\n"
          ]
        },
        {
          "output_type": "stream",
          "name": "stdout",
          "text": [
            "Epoch [59] Train MAE : [165.78089] Validation MAE : [203.62300]\n",
            "\n"
          ]
        },
        {
          "output_type": "stream",
          "name": "stderr",
          "text": [
            "41it [00:01, 25.43it/s]\n"
          ]
        },
        {
          "output_type": "error",
          "ename": "KeyboardInterrupt",
          "evalue": "ignored",
          "traceback": [
            "\u001b[0;31m---------------------------------------------------------------------------\u001b[0m",
            "\u001b[0;31mKeyboardInterrupt\u001b[0m                         Traceback (most recent call last)",
            "\u001b[0;32m<ipython-input-33-5765d1c66594>\u001b[0m in \u001b[0;36m<module>\u001b[0;34m()\u001b[0m\n\u001b[0;32m----> 1\u001b[0;31m \u001b[0mtrain\u001b[0m\u001b[0;34m(\u001b[0m\u001b[0mmodel\u001b[0m\u001b[0;34m,\u001b[0m \u001b[0moptimizer\u001b[0m\u001b[0;34m,\u001b[0m \u001b[0mtrain_loader\u001b[0m\u001b[0;34m,\u001b[0m\u001b[0mvalid_loader\u001b[0m\u001b[0;34m,\u001b[0m \u001b[0;32mNone\u001b[0m\u001b[0;34m,\u001b[0m \u001b[0mdevice\u001b[0m\u001b[0;34m)\u001b[0m\u001b[0;34m\u001b[0m\u001b[0;34m\u001b[0m\u001b[0m\n\u001b[0m",
            "\u001b[0;32m<ipython-input-32-96c1bfebaa22>\u001b[0m in \u001b[0;36mtrain\u001b[0;34m(model, optimizer, train_loader, vali_loader, scheduler, device)\u001b[0m\n\u001b[1;32m     22\u001b[0m \u001b[0;34m\u001b[0m\u001b[0m\n\u001b[1;32m     23\u001b[0m         \u001b[0;31m# Evaluation Validation set\u001b[0m\u001b[0;34m\u001b[0m\u001b[0;34m\u001b[0m\u001b[0;34m\u001b[0m\u001b[0m\n\u001b[0;32m---> 24\u001b[0;31m         \u001b[0mvali_mae\u001b[0m \u001b[0;34m=\u001b[0m \u001b[0mvalidation\u001b[0m\u001b[0;34m(\u001b[0m\u001b[0mmodel\u001b[0m\u001b[0;34m,\u001b[0m \u001b[0mvalid_loader\u001b[0m\u001b[0;34m,\u001b[0m \u001b[0mcriterion\u001b[0m\u001b[0;34m,\u001b[0m \u001b[0mdevice\u001b[0m\u001b[0;34m)\u001b[0m\u001b[0;34m\u001b[0m\u001b[0;34m\u001b[0m\u001b[0m\n\u001b[0m\u001b[1;32m     25\u001b[0m \u001b[0;34m\u001b[0m\u001b[0m\n\u001b[1;32m     26\u001b[0m         \u001b[0mprint\u001b[0m\u001b[0;34m(\u001b[0m\u001b[0;34mf'Epoch [{epoch}] Train MAE : [{np.mean(train_loss):.5f}] Validation MAE : [{vali_mae:.5f}]\\n'\u001b[0m\u001b[0;34m)\u001b[0m\u001b[0;34m\u001b[0m\u001b[0;34m\u001b[0m\u001b[0m\n",
            "\u001b[0;32m<ipython-input-30-3c8f0d89f5cf>\u001b[0m in \u001b[0;36mvalidation\u001b[0;34m(model, vali_loader, criterion, device)\u001b[0m\n\u001b[1;32m      4\u001b[0m     \u001b[0;32mwith\u001b[0m \u001b[0mtorch\u001b[0m\u001b[0;34m.\u001b[0m\u001b[0mno_grad\u001b[0m\u001b[0;34m(\u001b[0m\u001b[0;34m)\u001b[0m\u001b[0;34m:\u001b[0m\u001b[0;34m\u001b[0m\u001b[0;34m\u001b[0m\u001b[0m\n\u001b[1;32m      5\u001b[0m         \u001b[0;32mfor\u001b[0m \u001b[0midx\u001b[0m\u001b[0;34m,\u001b[0m \u001b[0mbatch\u001b[0m \u001b[0;32min\u001b[0m \u001b[0menumerate\u001b[0m\u001b[0;34m(\u001b[0m\u001b[0mvali_loader\u001b[0m\u001b[0;34m)\u001b[0m\u001b[0;34m:\u001b[0m\u001b[0;34m\u001b[0m\u001b[0;34m\u001b[0m\u001b[0m\n\u001b[0;32m----> 6\u001b[0;31m             \u001b[0mx\u001b[0m\u001b[0;34m,\u001b[0m \u001b[0my\u001b[0m \u001b[0;34m=\u001b[0m \u001b[0mbatch\u001b[0m\u001b[0;34m[\u001b[0m\u001b[0;36m0\u001b[0m\u001b[0;34m]\u001b[0m\u001b[0;34m.\u001b[0m\u001b[0mfloat\u001b[0m\u001b[0;34m(\u001b[0m\u001b[0;34m)\u001b[0m\u001b[0;34m.\u001b[0m\u001b[0mto\u001b[0m\u001b[0;34m(\u001b[0m\u001b[0mdevice\u001b[0m\u001b[0;34m)\u001b[0m\u001b[0;34m,\u001b[0m \u001b[0mbatch\u001b[0m\u001b[0;34m[\u001b[0m\u001b[0;36m1\u001b[0m\u001b[0;34m]\u001b[0m\u001b[0;34m.\u001b[0m\u001b[0mfloat\u001b[0m\u001b[0;34m(\u001b[0m\u001b[0;34m)\u001b[0m\u001b[0;34m.\u001b[0m\u001b[0mto\u001b[0m\u001b[0;34m(\u001b[0m\u001b[0mdevice\u001b[0m\u001b[0;34m)\u001b[0m\u001b[0;34m\u001b[0m\u001b[0;34m\u001b[0m\u001b[0m\n\u001b[0m\u001b[1;32m      7\u001b[0m \u001b[0;34m\u001b[0m\u001b[0m\n\u001b[1;32m      8\u001b[0m             \u001b[0mpred\u001b[0m \u001b[0;34m=\u001b[0m \u001b[0mmodel\u001b[0m\u001b[0;34m(\u001b[0m\u001b[0mx\u001b[0m\u001b[0;34m)\u001b[0m\u001b[0;34m\u001b[0m\u001b[0;34m\u001b[0m\u001b[0m\n",
            "\u001b[0;31mKeyboardInterrupt\u001b[0m: "
          ]
        }
      ]
    },
    {
      "cell_type": "code",
      "source": [
        "cust_idx = custs[12]  #1234가 안되는거\n",
        "test_dataset = CustomDataset(rct_tensors = None, cust_idx = cust_idx, train_mode = False, transforms = None)\n",
        "test_dataset.__len__()"
      ],
      "metadata": {
        "colab": {
          "base_uri": "https://localhost:8080/"
        },
        "id": "9356Mtx8NY-r",
        "outputId": "c4902abe-240e-41f3-dc91-d0beedc225a7"
      },
      "execution_count": 53,
      "outputs": [
        {
          "output_type": "execute_result",
          "data": {
            "text/plain": [
              "6"
            ]
          },
          "metadata": {},
          "execution_count": 53
        }
      ]
    },
    {
      "cell_type": "code",
      "source": [
        "cust_idx = custs[145]  #1234가 안되는거\n",
        "test_dataset = CustomDataset(rct_tensors = None, cust_idx = cust_idx, train_mode = False, transforms = None)\n",
        "test_dataset.__len__()"
      ],
      "metadata": {
        "colab": {
          "base_uri": "https://localhost:8080/"
        },
        "id": "xyb7ZLu4N0OY",
        "outputId": "9ce501a6-d954-4369-b9a3-3895768e6d9b"
      },
      "execution_count": 66,
      "outputs": [
        {
          "output_type": "execute_result",
          "data": {
            "text/plain": [
              "23"
            ]
          },
          "metadata": {},
          "execution_count": 66
        }
      ]
    },
    {
      "cell_type": "code",
      "source": [
        "custs[144]"
      ],
      "metadata": {
        "colab": {
          "base_uri": "https://localhost:8080/",
          "height": 35
        },
        "id": "Ha7bSxZRPCX6",
        "outputId": "1ab34bee-b9ce-486b-b126-33680af15690"
      },
      "execution_count": 55,
      "outputs": [
        {
          "output_type": "execute_result",
          "data": {
            "text/plain": [
              "'M411045461'"
            ],
            "application/vnd.google.colaboratory.intrinsic+json": {
              "type": "string"
            }
          },
          "metadata": {},
          "execution_count": 55
        }
      ]
    },
    {
      "cell_type": "code",
      "source": [
        "df = pd.DataFrame()\n",
        "for i in tqdm(range(26917)):    \n",
        "    cust_idx = custs[i]  #1234가 안되는거\n",
        "    test_dataset = CustomDataset(rct_tensors = None, cust_idx = cust_idx, train_mode = False, transforms = None) # 어떤 고객은 데이터셋이 없을 수 있음.\n",
        "    if test_dataset.__len__() == 0:\n",
        "        continue\n",
        "    test_loader = DataLoader(test_dataset, batch_size=1000, shuffle=False, num_workers=0)\n",
        "\n",
        "    model.eval() # Evaluation\n",
        "    results = pd.DataFrame()\n",
        "    with torch.no_grad():\n",
        "        for idx, batch in enumerate(test_loader):\n",
        "            x, rct_no = batch[0].float().to(device), batch[1]\n",
        "\n",
        "            pred = model(x, train_mode = False).to(\"cpu\").detach().numpy()\n",
        "            result = pd.DataFrame(pred)\n",
        "            result = pd.concat((pdde_cust_df.loc[list(rct_no)].reset_index(), result), axis=1)\n",
        "            \n",
        "            results = pd.concat((results, result), axis=0)\n",
        "            # break\n",
        "\n",
        "    df = pd.concat((df, result), axis=0)\n",
        "df"
      ],
      "metadata": {
        "colab": {
          "base_uri": "https://localhost:8080/",
          "height": 506
        },
        "id": "ou9CcYx1dKKE",
        "outputId": "0ee884ee-808f-48c5-d38f-ba3efcf3c32e"
      },
      "execution_count": 73,
      "outputs": [
        {
          "output_type": "stream",
          "name": "stderr",
          "text": [
            "100%|██████████| 26917/26917 [43:38<00:00, 10.28it/s]\n"
          ]
        },
        {
          "output_type": "execute_result",
          "data": {
            "text/plain": [
              "          rct_no  ma_fem_dv  ages  chnl_dv zon_hlv cop_c         0         1  \\\n",
              "0   A01000001113          1     3        0     Z17   A01 -0.003499 -0.097034   \n",
              "1   A01000007648          1     3        0     Z17   A01 -0.161823 -0.124157   \n",
              "2   A03104921319          1     3        0     Z17   A03 -0.152364 -0.111995   \n",
              "3   A03104969721          1     3        0     Z17   A03 -0.153275 -0.116798   \n",
              "4   A03089375637          1     3        0     Z17   A03 -0.122719 -0.127713   \n",
              "..           ...        ...   ...      ...     ...   ...       ...       ...   \n",
              "4   E06043646151          1     2        1     Z17   A06 -0.167120 -0.086208   \n",
              "5   E06045000396          1     2        1     Z17   A06 -0.149323 -0.135856   \n",
              "6   E06047254820          1     2        1     Z17   A06 -0.155091 -0.109149   \n",
              "0   E06043099892          0     2        1     Z10   A06 -0.139966 -0.126596   \n",
              "1   E06046190490          0     2        1     Z10   A06 -0.152769 -0.124576   \n",
              "\n",
              "           2         3         4         5         6         7         8  \\\n",
              "0   0.132439  0.090437 -0.081073 -0.096178  0.020280 -0.243195 -0.447459   \n",
              "1   0.189549  0.019463 -0.061196  0.038573  0.098080 -0.238949 -0.348969   \n",
              "2   0.171075 -0.058756 -0.041543  0.005752  0.120717 -0.219868 -0.379981   \n",
              "3   0.176958 -0.126616 -0.038817  0.008592  0.106148 -0.223084 -0.345886   \n",
              "4   0.144397 -0.048440 -0.052536  0.040808  0.115069 -0.230942 -0.293541   \n",
              "..       ...       ...       ...       ...       ...       ...       ...   \n",
              "4   0.172319 -0.144060 -0.000482  0.018715  0.133233 -0.149462 -0.167701   \n",
              "5   0.123108 -0.000361 -0.053221  0.039866  0.095177 -0.219620 -0.196483   \n",
              "6   0.132143 -0.035873 -0.043597  0.047228  0.100373 -0.220499 -0.195892   \n",
              "0   0.141192  0.003646 -0.057350  0.046370  0.093213 -0.208389 -0.196228   \n",
              "1   0.159369 -0.031503 -0.048179  0.050773  0.104911 -0.209812 -0.206893   \n",
              "\n",
              "           9  \n",
              "0   0.026381  \n",
              "1   0.163122  \n",
              "2   0.123004  \n",
              "3   0.144454  \n",
              "4   0.172711  \n",
              "..       ...  \n",
              "4   0.171611  \n",
              "5   0.188880  \n",
              "6   0.171555  \n",
              "0   0.199740  \n",
              "1   0.184210  \n",
              "\n",
              "[219753 rows x 16 columns]"
            ],
            "text/html": [
              "\n",
              "  <div id=\"df-220b27d4-2fd4-4cec-9fd3-813b3b09c332\">\n",
              "    <div class=\"colab-df-container\">\n",
              "      <div>\n",
              "<style scoped>\n",
              "    .dataframe tbody tr th:only-of-type {\n",
              "        vertical-align: middle;\n",
              "    }\n",
              "\n",
              "    .dataframe tbody tr th {\n",
              "        vertical-align: top;\n",
              "    }\n",
              "\n",
              "    .dataframe thead th {\n",
              "        text-align: right;\n",
              "    }\n",
              "</style>\n",
              "<table border=\"1\" class=\"dataframe\">\n",
              "  <thead>\n",
              "    <tr style=\"text-align: right;\">\n",
              "      <th></th>\n",
              "      <th>rct_no</th>\n",
              "      <th>ma_fem_dv</th>\n",
              "      <th>ages</th>\n",
              "      <th>chnl_dv</th>\n",
              "      <th>zon_hlv</th>\n",
              "      <th>cop_c</th>\n",
              "      <th>0</th>\n",
              "      <th>1</th>\n",
              "      <th>2</th>\n",
              "      <th>3</th>\n",
              "      <th>4</th>\n",
              "      <th>5</th>\n",
              "      <th>6</th>\n",
              "      <th>7</th>\n",
              "      <th>8</th>\n",
              "      <th>9</th>\n",
              "    </tr>\n",
              "  </thead>\n",
              "  <tbody>\n",
              "    <tr>\n",
              "      <th>0</th>\n",
              "      <td>A01000001113</td>\n",
              "      <td>1</td>\n",
              "      <td>3</td>\n",
              "      <td>0</td>\n",
              "      <td>Z17</td>\n",
              "      <td>A01</td>\n",
              "      <td>-0.003499</td>\n",
              "      <td>-0.097034</td>\n",
              "      <td>0.132439</td>\n",
              "      <td>0.090437</td>\n",
              "      <td>-0.081073</td>\n",
              "      <td>-0.096178</td>\n",
              "      <td>0.020280</td>\n",
              "      <td>-0.243195</td>\n",
              "      <td>-0.447459</td>\n",
              "      <td>0.026381</td>\n",
              "    </tr>\n",
              "    <tr>\n",
              "      <th>1</th>\n",
              "      <td>A01000007648</td>\n",
              "      <td>1</td>\n",
              "      <td>3</td>\n",
              "      <td>0</td>\n",
              "      <td>Z17</td>\n",
              "      <td>A01</td>\n",
              "      <td>-0.161823</td>\n",
              "      <td>-0.124157</td>\n",
              "      <td>0.189549</td>\n",
              "      <td>0.019463</td>\n",
              "      <td>-0.061196</td>\n",
              "      <td>0.038573</td>\n",
              "      <td>0.098080</td>\n",
              "      <td>-0.238949</td>\n",
              "      <td>-0.348969</td>\n",
              "      <td>0.163122</td>\n",
              "    </tr>\n",
              "    <tr>\n",
              "      <th>2</th>\n",
              "      <td>A03104921319</td>\n",
              "      <td>1</td>\n",
              "      <td>3</td>\n",
              "      <td>0</td>\n",
              "      <td>Z17</td>\n",
              "      <td>A03</td>\n",
              "      <td>-0.152364</td>\n",
              "      <td>-0.111995</td>\n",
              "      <td>0.171075</td>\n",
              "      <td>-0.058756</td>\n",
              "      <td>-0.041543</td>\n",
              "      <td>0.005752</td>\n",
              "      <td>0.120717</td>\n",
              "      <td>-0.219868</td>\n",
              "      <td>-0.379981</td>\n",
              "      <td>0.123004</td>\n",
              "    </tr>\n",
              "    <tr>\n",
              "      <th>3</th>\n",
              "      <td>A03104969721</td>\n",
              "      <td>1</td>\n",
              "      <td>3</td>\n",
              "      <td>0</td>\n",
              "      <td>Z17</td>\n",
              "      <td>A03</td>\n",
              "      <td>-0.153275</td>\n",
              "      <td>-0.116798</td>\n",
              "      <td>0.176958</td>\n",
              "      <td>-0.126616</td>\n",
              "      <td>-0.038817</td>\n",
              "      <td>0.008592</td>\n",
              "      <td>0.106148</td>\n",
              "      <td>-0.223084</td>\n",
              "      <td>-0.345886</td>\n",
              "      <td>0.144454</td>\n",
              "    </tr>\n",
              "    <tr>\n",
              "      <th>4</th>\n",
              "      <td>A03089375637</td>\n",
              "      <td>1</td>\n",
              "      <td>3</td>\n",
              "      <td>0</td>\n",
              "      <td>Z17</td>\n",
              "      <td>A03</td>\n",
              "      <td>-0.122719</td>\n",
              "      <td>-0.127713</td>\n",
              "      <td>0.144397</td>\n",
              "      <td>-0.048440</td>\n",
              "      <td>-0.052536</td>\n",
              "      <td>0.040808</td>\n",
              "      <td>0.115069</td>\n",
              "      <td>-0.230942</td>\n",
              "      <td>-0.293541</td>\n",
              "      <td>0.172711</td>\n",
              "    </tr>\n",
              "    <tr>\n",
              "      <th>...</th>\n",
              "      <td>...</td>\n",
              "      <td>...</td>\n",
              "      <td>...</td>\n",
              "      <td>...</td>\n",
              "      <td>...</td>\n",
              "      <td>...</td>\n",
              "      <td>...</td>\n",
              "      <td>...</td>\n",
              "      <td>...</td>\n",
              "      <td>...</td>\n",
              "      <td>...</td>\n",
              "      <td>...</td>\n",
              "      <td>...</td>\n",
              "      <td>...</td>\n",
              "      <td>...</td>\n",
              "      <td>...</td>\n",
              "    </tr>\n",
              "    <tr>\n",
              "      <th>4</th>\n",
              "      <td>E06043646151</td>\n",
              "      <td>1</td>\n",
              "      <td>2</td>\n",
              "      <td>1</td>\n",
              "      <td>Z17</td>\n",
              "      <td>A06</td>\n",
              "      <td>-0.167120</td>\n",
              "      <td>-0.086208</td>\n",
              "      <td>0.172319</td>\n",
              "      <td>-0.144060</td>\n",
              "      <td>-0.000482</td>\n",
              "      <td>0.018715</td>\n",
              "      <td>0.133233</td>\n",
              "      <td>-0.149462</td>\n",
              "      <td>-0.167701</td>\n",
              "      <td>0.171611</td>\n",
              "    </tr>\n",
              "    <tr>\n",
              "      <th>5</th>\n",
              "      <td>E06045000396</td>\n",
              "      <td>1</td>\n",
              "      <td>2</td>\n",
              "      <td>1</td>\n",
              "      <td>Z17</td>\n",
              "      <td>A06</td>\n",
              "      <td>-0.149323</td>\n",
              "      <td>-0.135856</td>\n",
              "      <td>0.123108</td>\n",
              "      <td>-0.000361</td>\n",
              "      <td>-0.053221</td>\n",
              "      <td>0.039866</td>\n",
              "      <td>0.095177</td>\n",
              "      <td>-0.219620</td>\n",
              "      <td>-0.196483</td>\n",
              "      <td>0.188880</td>\n",
              "    </tr>\n",
              "    <tr>\n",
              "      <th>6</th>\n",
              "      <td>E06047254820</td>\n",
              "      <td>1</td>\n",
              "      <td>2</td>\n",
              "      <td>1</td>\n",
              "      <td>Z17</td>\n",
              "      <td>A06</td>\n",
              "      <td>-0.155091</td>\n",
              "      <td>-0.109149</td>\n",
              "      <td>0.132143</td>\n",
              "      <td>-0.035873</td>\n",
              "      <td>-0.043597</td>\n",
              "      <td>0.047228</td>\n",
              "      <td>0.100373</td>\n",
              "      <td>-0.220499</td>\n",
              "      <td>-0.195892</td>\n",
              "      <td>0.171555</td>\n",
              "    </tr>\n",
              "    <tr>\n",
              "      <th>0</th>\n",
              "      <td>E06043099892</td>\n",
              "      <td>0</td>\n",
              "      <td>2</td>\n",
              "      <td>1</td>\n",
              "      <td>Z10</td>\n",
              "      <td>A06</td>\n",
              "      <td>-0.139966</td>\n",
              "      <td>-0.126596</td>\n",
              "      <td>0.141192</td>\n",
              "      <td>0.003646</td>\n",
              "      <td>-0.057350</td>\n",
              "      <td>0.046370</td>\n",
              "      <td>0.093213</td>\n",
              "      <td>-0.208389</td>\n",
              "      <td>-0.196228</td>\n",
              "      <td>0.199740</td>\n",
              "    </tr>\n",
              "    <tr>\n",
              "      <th>1</th>\n",
              "      <td>E06046190490</td>\n",
              "      <td>0</td>\n",
              "      <td>2</td>\n",
              "      <td>1</td>\n",
              "      <td>Z10</td>\n",
              "      <td>A06</td>\n",
              "      <td>-0.152769</td>\n",
              "      <td>-0.124576</td>\n",
              "      <td>0.159369</td>\n",
              "      <td>-0.031503</td>\n",
              "      <td>-0.048179</td>\n",
              "      <td>0.050773</td>\n",
              "      <td>0.104911</td>\n",
              "      <td>-0.209812</td>\n",
              "      <td>-0.206893</td>\n",
              "      <td>0.184210</td>\n",
              "    </tr>\n",
              "  </tbody>\n",
              "</table>\n",
              "<p>219753 rows × 16 columns</p>\n",
              "</div>\n",
              "      <button class=\"colab-df-convert\" onclick=\"convertToInteractive('df-220b27d4-2fd4-4cec-9fd3-813b3b09c332')\"\n",
              "              title=\"Convert this dataframe to an interactive table.\"\n",
              "              style=\"display:none;\">\n",
              "        \n",
              "  <svg xmlns=\"http://www.w3.org/2000/svg\" height=\"24px\"viewBox=\"0 0 24 24\"\n",
              "       width=\"24px\">\n",
              "    <path d=\"M0 0h24v24H0V0z\" fill=\"none\"/>\n",
              "    <path d=\"M18.56 5.44l.94 2.06.94-2.06 2.06-.94-2.06-.94-.94-2.06-.94 2.06-2.06.94zm-11 1L8.5 8.5l.94-2.06 2.06-.94-2.06-.94L8.5 2.5l-.94 2.06-2.06.94zm10 10l.94 2.06.94-2.06 2.06-.94-2.06-.94-.94-2.06-.94 2.06-2.06.94z\"/><path d=\"M17.41 7.96l-1.37-1.37c-.4-.4-.92-.59-1.43-.59-.52 0-1.04.2-1.43.59L10.3 9.45l-7.72 7.72c-.78.78-.78 2.05 0 2.83L4 21.41c.39.39.9.59 1.41.59.51 0 1.02-.2 1.41-.59l7.78-7.78 2.81-2.81c.8-.78.8-2.07 0-2.86zM5.41 20L4 18.59l7.72-7.72 1.47 1.35L5.41 20z\"/>\n",
              "  </svg>\n",
              "      </button>\n",
              "      \n",
              "  <style>\n",
              "    .colab-df-container {\n",
              "      display:flex;\n",
              "      flex-wrap:wrap;\n",
              "      gap: 12px;\n",
              "    }\n",
              "\n",
              "    .colab-df-convert {\n",
              "      background-color: #E8F0FE;\n",
              "      border: none;\n",
              "      border-radius: 50%;\n",
              "      cursor: pointer;\n",
              "      display: none;\n",
              "      fill: #1967D2;\n",
              "      height: 32px;\n",
              "      padding: 0 0 0 0;\n",
              "      width: 32px;\n",
              "    }\n",
              "\n",
              "    .colab-df-convert:hover {\n",
              "      background-color: #E2EBFA;\n",
              "      box-shadow: 0px 1px 2px rgba(60, 64, 67, 0.3), 0px 1px 3px 1px rgba(60, 64, 67, 0.15);\n",
              "      fill: #174EA6;\n",
              "    }\n",
              "\n",
              "    [theme=dark] .colab-df-convert {\n",
              "      background-color: #3B4455;\n",
              "      fill: #D2E3FC;\n",
              "    }\n",
              "\n",
              "    [theme=dark] .colab-df-convert:hover {\n",
              "      background-color: #434B5C;\n",
              "      box-shadow: 0px 1px 3px 1px rgba(0, 0, 0, 0.15);\n",
              "      filter: drop-shadow(0px 1px 2px rgba(0, 0, 0, 0.3));\n",
              "      fill: #FFFFFF;\n",
              "    }\n",
              "  </style>\n",
              "\n",
              "      <script>\n",
              "        const buttonEl =\n",
              "          document.querySelector('#df-220b27d4-2fd4-4cec-9fd3-813b3b09c332 button.colab-df-convert');\n",
              "        buttonEl.style.display =\n",
              "          google.colab.kernel.accessAllowed ? 'block' : 'none';\n",
              "\n",
              "        async function convertToInteractive(key) {\n",
              "          const element = document.querySelector('#df-220b27d4-2fd4-4cec-9fd3-813b3b09c332');\n",
              "          const dataTable =\n",
              "            await google.colab.kernel.invokeFunction('convertToInteractive',\n",
              "                                                     [key], {});\n",
              "          if (!dataTable) return;\n",
              "\n",
              "          const docLinkHtml = 'Like what you see? Visit the ' +\n",
              "            '<a target=\"_blank\" href=https://colab.research.google.com/notebooks/data_table.ipynb>data table notebook</a>'\n",
              "            + ' to learn more about interactive tables.';\n",
              "          element.innerHTML = '';\n",
              "          dataTable['output_type'] = 'display_data';\n",
              "          await google.colab.output.renderOutput(dataTable, element);\n",
              "          const docLink = document.createElement('div');\n",
              "          docLink.innerHTML = docLinkHtml;\n",
              "          element.appendChild(docLink);\n",
              "        }\n",
              "      </script>\n",
              "    </div>\n",
              "  </div>\n",
              "  "
            ]
          },
          "metadata": {},
          "execution_count": 73
        }
      ]
    },
    {
      "cell_type": "code",
      "source": [
        "df.to_csv(path + 'df.csv',index=False)"
      ],
      "metadata": {
        "id": "DaOVSH0reWHk"
      },
      "execution_count": 76,
      "outputs": []
    }
  ]
}