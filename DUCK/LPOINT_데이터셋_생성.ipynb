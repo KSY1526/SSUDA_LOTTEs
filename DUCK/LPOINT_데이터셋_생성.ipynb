{
  "nbformat": 4,
  "nbformat_minor": 0,
  "metadata": {
    "colab": {
      "name": "LPOINT_데이터셋_생성.ipynb",
      "provenance": [],
      "collapsed_sections": [],
      "machine_shape": "hm",
      "include_colab_link": true
    },
    "kernelspec": {
      "name": "python3",
      "display_name": "Python 3"
    },
    "language_info": {
      "name": "python"
    },
    "gpuClass": "standard"
  },
  "cells": [
    {
      "cell_type": "markdown",
      "metadata": {
        "id": "view-in-github",
        "colab_type": "text"
      },
      "source": [
        "<a href=\"https://colab.research.google.com/github/KSY1526/SSUDA_LOTTEs/blob/main/DUCK/LPOINT_%EB%8D%B0%EC%9D%B4%ED%84%B0%EC%85%8B_%EC%83%9D%EC%84%B1.ipynb\" target=\"_parent\"><img src=\"https://colab.research.google.com/assets/colab-badge.svg\" alt=\"Open In Colab\"/></a>"
      ]
    },
    {
      "cell_type": "code",
      "execution_count": null,
      "metadata": {
        "id": "KX3Kx0LmRFk7"
      },
      "outputs": [],
      "source": [
        "# '''\n",
        "# function ClickConnect(){\n",
        "#     console.log(\"코랩 연결 끊김 방지\"); \n",
        "#     document.querySelector(\"colab-toolbar-button#connect\").click() \n",
        "# }\n",
        "# setInterval(ClickConnect, 60 * 1000)\n",
        "# '''"
      ]
    },
    {
      "cell_type": "code",
      "source": [
        "!pip install fastpivot\n",
        "!pip install pyarrow\n",
        "\n",
        "!nvidia-smi\n",
        "!head /proc/cpuinfo\n",
        "!head -n 3 /proc/meminfo"
      ],
      "metadata": {
        "id": "RJCYruoVRK9-"
      },
      "execution_count": null,
      "outputs": []
    },
    {
      "cell_type": "code",
      "source": [
        "from google.colab import drive\n",
        "drive.mount(\"/content/drive\")\n",
        "\n",
        "import os\n",
        "import warnings; warnings.filterwarnings(\"ignore\")\n",
        "import numpy as np\n",
        "import pandas as pd\n",
        "import pyarrow as pa\n",
        "from fastpivot import pivot_table\n",
        "from tqdm import tqdm\n",
        "\n",
        "from joblib import Parallel, delayed\n",
        "import multiprocessing\n",
        "num_cores = multiprocessing.cpu_count()\n",
        "\n",
        "print(\"Usable Core : \", num_cores)\n",
        "print(\"Pandas Version : \", pd.__version__) # 1.3.5\n",
        "print(\"Pyarrow Version : \", pa.__version__) # 6.0.1\n",
        "\n",
        "path = \"/content/drive/MyDrive/AIFactory/Data/LPOINT_BIG_COMP/\""
      ],
      "metadata": {
        "colab": {
          "base_uri": "https://localhost:8080/"
        },
        "id": "jX5ZLDs0RMP-",
        "outputId": "6c8ff746-d6d7-4a31-e159-b758c0017b8c"
      },
      "execution_count": 3,
      "outputs": [
        {
          "output_type": "stream",
          "name": "stdout",
          "text": [
            "Drive already mounted at /content/drive; to attempt to forcibly remount, call drive.mount(\"/content/drive\", force_remount=True).\n",
            "Usable Core :  4\n",
            "Pandas Version :  1.3.5\n",
            "Pyarrow Version :  6.0.1\n"
          ]
        }
      ]
    },
    {
      "cell_type": "code",
      "source": [
        "def make_datetime(df, drop=True):\n",
        "    df[\"datetime\"] = df[\"de_dt\"].apply(str).str[:4] \\\n",
        "                                    + \"-\" + df[\"de_dt\"].apply(str).str[4:6] \\\n",
        "                                    + \"-\" + df[\"de_dt\"].apply(str).str[6:8] \\\n",
        "                                    + \" \" + df[\"de_hr\"].apply(lambda x: str(x).zfill(2))\n",
        "    df[\"datetime\"] = pd.to_datetime(df[\"datetime\"])\n",
        "    if drop : df = df.drop([\"de_dt\", \"de_hr\"], axis=1)\n",
        "    return df\n",
        "\n",
        "\n",
        "def class_mapping(df, col, verbose=True):\n",
        "    class_map = {lbl:idx for idx, lbl in enumerate(sorted(df[col].unique()))}\n",
        "    if verbose : print(class_map)\n",
        "    return df[col].map(class_map)"
      ],
      "metadata": {
        "id": "OqWdkZxBauWH"
      },
      "execution_count": 4,
      "outputs": []
    },
    {
      "cell_type": "code",
      "source": [
        "format_df = pd.read_parquet(path+\"/LPOINT_BIG_COMP_PDDE_CUST.parquet\", columns=[\"cust\", \"rct_no\", \"de_dt\", \"de_hr\"], engine=\"pyarrow\")\n",
        "format_df = make_datetime(format_df, drop=True)\n",
        "# format_df = format_df.set_index(\"datetime\").sort_values(\"datetime\").reset_index().set_index(\"rct_no\") # 뒤에서 어차피 순서 바뀌어서 하지 않음..\n",
        "format_df = format_df.set_index(\"rct_no\")\n",
        "print(format_df.head(5))\n",
        "\n",
        "\n",
        "pdde_cust_df = pd.read_parquet(path+\"/LPOINT_BIG_COMP_PDDE_CUST.parquet\", columns=[\"rct_no\", \"ma_fem_dv\", \"ages\", \"chnl_dv\", \"zon_hlv\", \"cop_c\"], engine=\"pyarrow\").drop_duplicates(\"rct_no\", keep=\"first\").set_index(\"rct_no\")\n",
        "pdde_cust_df[\"ma_fem_dv\"] = class_mapping(pdde_cust_df, \"ma_fem_dv\")\n",
        "pdde_cust_df[\"chnl_dv\"] = class_mapping(pdde_cust_df, \"chnl_dv\")\n",
        "pdde_cust_df[\"ages\"] = class_mapping(pdde_cust_df, \"ages\")\n",
        "print(pdde_cust_df.head(5))\n",
        "\n",
        "\n",
        "\n",
        "format_df = format_df.join(pdde_cust_df)\n",
        "format_df[\"month\"] = format_df.datetime.dt.month\n",
        "format_df[\"dayofweek\"] = format_df.datetime.dt.dayofweek\n",
        "format_df = pd.get_dummies(format_df,\n",
        "                           columns=[\"ages\", \"zon_hlv\", \"cop_c\", \"month\", \"dayofweek\"])\n",
        "\n",
        "format_df.head(5)"
      ],
      "metadata": {
        "id": "dN1Xs2zTRMLV"
      },
      "execution_count": null,
      "outputs": []
    },
    {
      "cell_type": "code",
      "source": [
        "clac_mcls_df = pd.read_parquet(path+\"/LPOINT_BIG_COMP_PDDE_CUST.parquet\", columns=[\"rct_no\", \"clac_mcls_nm\", \"buy_ct\"],engine=\"pyarrow\")\n",
        "clac_mcls_df = pivot_table(clac_mcls_df, index=\"rct_no\", columns=\"clac_mcls_nm\", values=\"buy_ct\", aggfunc='sum', fill_value=0).astype(\"uint16\")\n",
        "clac_mcls_df.head(5)"
      ],
      "metadata": {
        "colab": {
          "base_uri": "https://localhost:8080/",
          "height": 398
        },
        "id": "b3sc2kk-SfLM",
        "outputId": "b0f7efdf-9511-453b-cde3-7c67f74a0891"
      },
      "execution_count": 6,
      "outputs": [
        {
          "output_type": "execute_result",
          "data": {
            "text/plain": [
              "clac_mcls_nm  DVD/홈시어터  TV  가공유  가방세트  간식/안주형과자  간편조리  갑각류  거실가구  건강가전  \\\n",
              "rct_no                                                                   \n",
              "A01000001113         0   0    0     0         0     0    0     0     0   \n",
              "A01000002265         0   0    0     0         0     0    0     0     0   \n",
              "A01000003148         0   0    0     0         0     0    0     0     0   \n",
              "A01000004946         0   0    0     0         0     0    0     0     0   \n",
              "A01000005297         0   0    0     0         0     0    0     0     0   \n",
              "\n",
              "clac_mcls_nm  건강관리용품  ...  핸드/풋케어  햄/소시지  향수  향신료  헤어액세서리  헤어케어  호주산소고기  홈웨어  \\\n",
              "rct_no                ...                                                      \n",
              "A01000001113       0  ...       0      0   0    0       0     0       0    0   \n",
              "A01000002265       0  ...       0      0   0    0       0     0       0    0   \n",
              "A01000003148       0  ...       0      0   0    0       0     0       0    0   \n",
              "A01000004946       0  ...       0      0   0    0       0     0       0    0   \n",
              "A01000005297       0  ...       0      0   0    0       0     0       0    0   \n",
              "\n",
              "clac_mcls_nm  홍삼/인삼가공식품  화장지/티슈  \n",
              "rct_no                           \n",
              "A01000001113          0       0  \n",
              "A01000002265          0       0  \n",
              "A01000003148          0       0  \n",
              "A01000004946          0       0  \n",
              "A01000005297          0       0  \n",
              "\n",
              "[5 rows x 349 columns]"
            ],
            "text/html": [
              "\n",
              "  <div id=\"df-ee462b9a-b3ce-47d0-bf0a-5a981f185e1d\">\n",
              "    <div class=\"colab-df-container\">\n",
              "      <div>\n",
              "<style scoped>\n",
              "    .dataframe tbody tr th:only-of-type {\n",
              "        vertical-align: middle;\n",
              "    }\n",
              "\n",
              "    .dataframe tbody tr th {\n",
              "        vertical-align: top;\n",
              "    }\n",
              "\n",
              "    .dataframe thead th {\n",
              "        text-align: right;\n",
              "    }\n",
              "</style>\n",
              "<table border=\"1\" class=\"dataframe\">\n",
              "  <thead>\n",
              "    <tr style=\"text-align: right;\">\n",
              "      <th>clac_mcls_nm</th>\n",
              "      <th>DVD/홈시어터</th>\n",
              "      <th>TV</th>\n",
              "      <th>가공유</th>\n",
              "      <th>가방세트</th>\n",
              "      <th>간식/안주형과자</th>\n",
              "      <th>간편조리</th>\n",
              "      <th>갑각류</th>\n",
              "      <th>거실가구</th>\n",
              "      <th>건강가전</th>\n",
              "      <th>건강관리용품</th>\n",
              "      <th>...</th>\n",
              "      <th>핸드/풋케어</th>\n",
              "      <th>햄/소시지</th>\n",
              "      <th>향수</th>\n",
              "      <th>향신료</th>\n",
              "      <th>헤어액세서리</th>\n",
              "      <th>헤어케어</th>\n",
              "      <th>호주산소고기</th>\n",
              "      <th>홈웨어</th>\n",
              "      <th>홍삼/인삼가공식품</th>\n",
              "      <th>화장지/티슈</th>\n",
              "    </tr>\n",
              "    <tr>\n",
              "      <th>rct_no</th>\n",
              "      <th></th>\n",
              "      <th></th>\n",
              "      <th></th>\n",
              "      <th></th>\n",
              "      <th></th>\n",
              "      <th></th>\n",
              "      <th></th>\n",
              "      <th></th>\n",
              "      <th></th>\n",
              "      <th></th>\n",
              "      <th></th>\n",
              "      <th></th>\n",
              "      <th></th>\n",
              "      <th></th>\n",
              "      <th></th>\n",
              "      <th></th>\n",
              "      <th></th>\n",
              "      <th></th>\n",
              "      <th></th>\n",
              "      <th></th>\n",
              "      <th></th>\n",
              "    </tr>\n",
              "  </thead>\n",
              "  <tbody>\n",
              "    <tr>\n",
              "      <th>A01000001113</th>\n",
              "      <td>0</td>\n",
              "      <td>0</td>\n",
              "      <td>0</td>\n",
              "      <td>0</td>\n",
              "      <td>0</td>\n",
              "      <td>0</td>\n",
              "      <td>0</td>\n",
              "      <td>0</td>\n",
              "      <td>0</td>\n",
              "      <td>0</td>\n",
              "      <td>...</td>\n",
              "      <td>0</td>\n",
              "      <td>0</td>\n",
              "      <td>0</td>\n",
              "      <td>0</td>\n",
              "      <td>0</td>\n",
              "      <td>0</td>\n",
              "      <td>0</td>\n",
              "      <td>0</td>\n",
              "      <td>0</td>\n",
              "      <td>0</td>\n",
              "    </tr>\n",
              "    <tr>\n",
              "      <th>A01000002265</th>\n",
              "      <td>0</td>\n",
              "      <td>0</td>\n",
              "      <td>0</td>\n",
              "      <td>0</td>\n",
              "      <td>0</td>\n",
              "      <td>0</td>\n",
              "      <td>0</td>\n",
              "      <td>0</td>\n",
              "      <td>0</td>\n",
              "      <td>0</td>\n",
              "      <td>...</td>\n",
              "      <td>0</td>\n",
              "      <td>0</td>\n",
              "      <td>0</td>\n",
              "      <td>0</td>\n",
              "      <td>0</td>\n",
              "      <td>0</td>\n",
              "      <td>0</td>\n",
              "      <td>0</td>\n",
              "      <td>0</td>\n",
              "      <td>0</td>\n",
              "    </tr>\n",
              "    <tr>\n",
              "      <th>A01000003148</th>\n",
              "      <td>0</td>\n",
              "      <td>0</td>\n",
              "      <td>0</td>\n",
              "      <td>0</td>\n",
              "      <td>0</td>\n",
              "      <td>0</td>\n",
              "      <td>0</td>\n",
              "      <td>0</td>\n",
              "      <td>0</td>\n",
              "      <td>0</td>\n",
              "      <td>...</td>\n",
              "      <td>0</td>\n",
              "      <td>0</td>\n",
              "      <td>0</td>\n",
              "      <td>0</td>\n",
              "      <td>0</td>\n",
              "      <td>0</td>\n",
              "      <td>0</td>\n",
              "      <td>0</td>\n",
              "      <td>0</td>\n",
              "      <td>0</td>\n",
              "    </tr>\n",
              "    <tr>\n",
              "      <th>A01000004946</th>\n",
              "      <td>0</td>\n",
              "      <td>0</td>\n",
              "      <td>0</td>\n",
              "      <td>0</td>\n",
              "      <td>0</td>\n",
              "      <td>0</td>\n",
              "      <td>0</td>\n",
              "      <td>0</td>\n",
              "      <td>0</td>\n",
              "      <td>0</td>\n",
              "      <td>...</td>\n",
              "      <td>0</td>\n",
              "      <td>0</td>\n",
              "      <td>0</td>\n",
              "      <td>0</td>\n",
              "      <td>0</td>\n",
              "      <td>0</td>\n",
              "      <td>0</td>\n",
              "      <td>0</td>\n",
              "      <td>0</td>\n",
              "      <td>0</td>\n",
              "    </tr>\n",
              "    <tr>\n",
              "      <th>A01000005297</th>\n",
              "      <td>0</td>\n",
              "      <td>0</td>\n",
              "      <td>0</td>\n",
              "      <td>0</td>\n",
              "      <td>0</td>\n",
              "      <td>0</td>\n",
              "      <td>0</td>\n",
              "      <td>0</td>\n",
              "      <td>0</td>\n",
              "      <td>0</td>\n",
              "      <td>...</td>\n",
              "      <td>0</td>\n",
              "      <td>0</td>\n",
              "      <td>0</td>\n",
              "      <td>0</td>\n",
              "      <td>0</td>\n",
              "      <td>0</td>\n",
              "      <td>0</td>\n",
              "      <td>0</td>\n",
              "      <td>0</td>\n",
              "      <td>0</td>\n",
              "    </tr>\n",
              "  </tbody>\n",
              "</table>\n",
              "<p>5 rows × 349 columns</p>\n",
              "</div>\n",
              "      <button class=\"colab-df-convert\" onclick=\"convertToInteractive('df-ee462b9a-b3ce-47d0-bf0a-5a981f185e1d')\"\n",
              "              title=\"Convert this dataframe to an interactive table.\"\n",
              "              style=\"display:none;\">\n",
              "        \n",
              "  <svg xmlns=\"http://www.w3.org/2000/svg\" height=\"24px\"viewBox=\"0 0 24 24\"\n",
              "       width=\"24px\">\n",
              "    <path d=\"M0 0h24v24H0V0z\" fill=\"none\"/>\n",
              "    <path d=\"M18.56 5.44l.94 2.06.94-2.06 2.06-.94-2.06-.94-.94-2.06-.94 2.06-2.06.94zm-11 1L8.5 8.5l.94-2.06 2.06-.94-2.06-.94L8.5 2.5l-.94 2.06-2.06.94zm10 10l.94 2.06.94-2.06 2.06-.94-2.06-.94-.94-2.06-.94 2.06-2.06.94z\"/><path d=\"M17.41 7.96l-1.37-1.37c-.4-.4-.92-.59-1.43-.59-.52 0-1.04.2-1.43.59L10.3 9.45l-7.72 7.72c-.78.78-.78 2.05 0 2.83L4 21.41c.39.39.9.59 1.41.59.51 0 1.02-.2 1.41-.59l7.78-7.78 2.81-2.81c.8-.78.8-2.07 0-2.86zM5.41 20L4 18.59l7.72-7.72 1.47 1.35L5.41 20z\"/>\n",
              "  </svg>\n",
              "      </button>\n",
              "      \n",
              "  <style>\n",
              "    .colab-df-container {\n",
              "      display:flex;\n",
              "      flex-wrap:wrap;\n",
              "      gap: 12px;\n",
              "    }\n",
              "\n",
              "    .colab-df-convert {\n",
              "      background-color: #E8F0FE;\n",
              "      border: none;\n",
              "      border-radius: 50%;\n",
              "      cursor: pointer;\n",
              "      display: none;\n",
              "      fill: #1967D2;\n",
              "      height: 32px;\n",
              "      padding: 0 0 0 0;\n",
              "      width: 32px;\n",
              "    }\n",
              "\n",
              "    .colab-df-convert:hover {\n",
              "      background-color: #E2EBFA;\n",
              "      box-shadow: 0px 1px 2px rgba(60, 64, 67, 0.3), 0px 1px 3px 1px rgba(60, 64, 67, 0.15);\n",
              "      fill: #174EA6;\n",
              "    }\n",
              "\n",
              "    [theme=dark] .colab-df-convert {\n",
              "      background-color: #3B4455;\n",
              "      fill: #D2E3FC;\n",
              "    }\n",
              "\n",
              "    [theme=dark] .colab-df-convert:hover {\n",
              "      background-color: #434B5C;\n",
              "      box-shadow: 0px 1px 3px 1px rgba(0, 0, 0, 0.15);\n",
              "      filter: drop-shadow(0px 1px 2px rgba(0, 0, 0, 0.3));\n",
              "      fill: #FFFFFF;\n",
              "    }\n",
              "  </style>\n",
              "\n",
              "      <script>\n",
              "        const buttonEl =\n",
              "          document.querySelector('#df-ee462b9a-b3ce-47d0-bf0a-5a981f185e1d button.colab-df-convert');\n",
              "        buttonEl.style.display =\n",
              "          google.colab.kernel.accessAllowed ? 'block' : 'none';\n",
              "\n",
              "        async function convertToInteractive(key) {\n",
              "          const element = document.querySelector('#df-ee462b9a-b3ce-47d0-bf0a-5a981f185e1d');\n",
              "          const dataTable =\n",
              "            await google.colab.kernel.invokeFunction('convertToInteractive',\n",
              "                                                     [key], {});\n",
              "          if (!dataTable) return;\n",
              "\n",
              "          const docLinkHtml = 'Like what you see? Visit the ' +\n",
              "            '<a target=\"_blank\" href=https://colab.research.google.com/notebooks/data_table.ipynb>data table notebook</a>'\n",
              "            + ' to learn more about interactive tables.';\n",
              "          element.innerHTML = '';\n",
              "          dataTable['output_type'] = 'display_data';\n",
              "          await google.colab.output.renderOutput(dataTable, element);\n",
              "          const docLink = document.createElement('div');\n",
              "          docLink.innerHTML = docLinkHtml;\n",
              "          element.appendChild(docLink);\n",
              "        }\n",
              "      </script>\n",
              "    </div>\n",
              "  </div>\n",
              "  "
            ]
          },
          "metadata": {},
          "execution_count": 6
        }
      ]
    },
    {
      "cell_type": "code",
      "source": [
        "# 저장\n",
        "processed_df = format_df.reset_index().set_index(\"rct_no\").join(clac_mcls_df)\n",
        "processed_df.to_parquet(path + \"LPOINT_BIG_COMP_CLAC_MCLS_SUM.parquet\", index=True, engine=\"pyarrow\", compression=None)"
      ],
      "metadata": {
        "id": "zrn2-9vThOdh"
      },
      "execution_count": 8,
      "outputs": []
    },
    {
      "cell_type": "code",
      "source": [
        "# 로드\n",
        "processed_df = pd.read_parquet(path + \"LPOINT_BIG_COMP_CLAC_MCLS_SUM.parquet\", engine=\"pyarrow\")\n",
        "processed_df = processed_df.reset_index().set_index(\"cust\")\n",
        "processed_df.head(3)"
      ],
      "metadata": {
        "id": "ZkFtHW2toN8Y"
      },
      "execution_count": null,
      "outputs": []
    },
    {
      "cell_type": "code",
      "source": [
        "processed_df.info()"
      ],
      "metadata": {
        "colab": {
          "base_uri": "https://localhost:8080/"
        },
        "id": "Im_1O3nOS_-N",
        "outputId": "45328889-ce24-4e36-cea6-6a49ca939009"
      },
      "execution_count": 12,
      "outputs": [
        {
          "output_type": "stream",
          "name": "stdout",
          "text": [
            "<class 'pandas.core.frame.DataFrame'>\n",
            "Index: 4381743 entries, M430112881 to M533286446\n",
            "Columns: 401 entries, rct_no to 화장지/티슈\n",
            "dtypes: datetime64[ns](1), int64(2), object(1), uint16(349), uint8(48)\n",
            "memory usage: 3.2+ GB\n"
          ]
        }
      ]
    },
    {
      "cell_type": "code",
      "source": [
        "import torch\n",
        "import torchvision\n",
        "from torchvision import transforms\n",
        "import torch.nn.functional as F\n",
        "import torch.nn as nn\n",
        "import torch.optim as optim\n",
        "import matplotlib.pyplot as plt\n",
        "from torch.utils.data import DataLoader, Dataset\n",
        "\n",
        "from sklearn.model_selection import train_test_split\n",
        "\n",
        "\n",
        "device = torch.device('cuda:0' if torch.cuda.is_available() else 'cpu')"
      ],
      "metadata": {
        "id": "M8-7EwbbS_7v"
      },
      "execution_count": 13,
      "outputs": []
    },
    {
      "cell_type": "code",
      "source": [
        "custs = processed_df.index.unique()\n",
        "features = [col for col in format_df.columns if col not in [\"rct_no\", \"cust\", \"datetime\"]] + [\"date_interval\", \"date_from\"] + list(clac_mcls_df.columns)\n",
        "print(*custs[:400])\n",
        "print(*features)"
      ],
      "metadata": {
        "colab": {
          "base_uri": "https://localhost:8080/"
        },
        "id": "GfShwvx7mF5w",
        "outputId": "ffe14868-8f7f-476d-b2de-7a04eaed66d8"
      },
      "execution_count": 14,
      "outputs": [
        {
          "output_type": "stream",
          "name": "stdout",
          "text": [
            "M430112881 M646853852 M669384418 M886923095 M707991383 M117855953 M641274652 M625839441 M284446967 M401266932 M860973355 M686795542 M878181490 M704866277 M942878878 M174599398 M651841347 M577884977 M511106441 M531271959 M422047369 M234266219 M049345995 M497989990 M009032626 M931922533 M165312283 M996518031 M705629628 M184969427 M741760270 M243577483 M558692172 M377967939 M838446773 M506355556 M879094374 M732600894 M856124318 M263574190 M157204685 M650733020 M017256273 M641186030 M986125865 M232573809 M268811651 M162681947 M163175113 M440960058 M502480776 M191537184 M030477840 M690898061 M506965359 M725878700 M840551273 M746428121 M334943764 M561787985 M982559329 M807374636 M676262214 M988646555 M530294706 M900002349 M694209751 M123475113 M318802112 M038801652 M517637921 M539562667 M615380326 M609491987 M259613010 M338310215 M156930891 M419249862 M474747127 M624588650 M083434555 M049216782 M897579293 M316171414 M583031784 M370732403 M336360825 M835554931 M456838034 M586590453 M618317251 M956523130 M125895076 M053988830 M135902971 M331473499 M590533132 M977958641 M080584695 M048866855 M544570827 M752234615 M503639362 M397267143 M361261196 M781690028 M400682924 M819510622 M690515737 M366378636 M781279343 M238272817 M283308210 M289433991 M889933238 M891510784 M557567409 M467972035 M307151561 M567053439 M542006779 M538975514 M751728576 M471430471 M740718660 M970944841 M063704872 M736347559 M081078897 M478445642 M277171255 M555439355 M041303212 M867122864 M291380287 M355489415 M374870930 M966247621 M685408649 M849831487 M134888191 M436594332 M245811064 M207638686 M411045461 M062661758 M640653493 M072419092 M142311429 M056621722 M081569058 M501683336 M701304871 M398872489 M858126924 M013285074 M896896560 M953537328 M330277227 M991142381 M576689847 M738189511 M143027432 M153728920 M645976443 M762374565 M662330091 M577654091 M164780413 M544201308 M085265637 M732454229 M027441945 M519427263 M070544564 M226332649 M633282276 M205363338 M962965060 M984043972 M205485737 M117809504 M598228720 M183680726 M811221360 M830841749 M736029357 M201766112 M695297284 M863620095 M046113622 M038025013 M131789394 M526195887 M018184823 M317849762 M282651149 M686992522 M769600155 M729284172 M325661634 M702291596 M648254795 M253642334 M372939322 M088827294 M455824780 M642054815 M740316079 M281834288 M323702255 M589321117 M154631657 M910235569 M426611726 M321170502 M671806083 M596502154 M326503256 M696696054 M992067686 M523038535 M193455495 M985499664 M819862062 M024101254 M349334435 M083270072 M163037071 M744087833 M963110512 M927459944 M050037422 M540285266 M473840199 M098691956 M638623920 M716420925 M886716967 M743162991 M113763811 M565268465 M206689995 M881295041 M796142629 M463646981 M241023449 M915705833 M624880671 M851088731 M300709577 M138404016 M528097150 M148171146 M783908672 M688055546 M227598269 M994408992 M230976524 M855865931 M973279178 M955472914 M159375452 M588861009 M014339861 M425442290 M293971269 M763821861 M639610559 M790389301 M156626330 M691001733 M137293709 M768886877 M906632032 M962168384 M256210228 M848484390 M910085650 M479079032 M382044219 M408121877 M686863232 M671280935 M358798958 M012936022 M939459373 M228934898 M453663197 M586645156 M773977093 M329379634 M385378751 M943231214 M868511118 M652409781 M144266465 M946555429 M155118619 M172530920 M724735320 M118705305 M523807626 M545634703 M473125141 M567331707 M839993508 M153301641 M837797129 M668130552 M591942182 M830396092 M075995202 M681527141 M142065131 M794513392 M740635403 M876101498 M180581027 M938305951 M676674347 M941739760 M639909786 M805001563 M139230976 M199918823 M837947257 M439565447 M380362011 M675461091 M682413497 M410974362 M116478829 M320474582 M222290281 M402794395 M472417736 M749486808 M975646754 M511952367 M471728550 M111934771 M020136767 M656737591 M023577934 M009731870 M680825569 M852720148 M490359476 M512121304 M493122026 M789404870 M065151598 M348056935 M051581833 M496844384 M941198920 M979862567 M678205637 M546798182 M567637265 M323773246 M464594888 M232452691 M660057347 M635243433 M716073127 M649268943 M270037733 M209483390 M183296106 M236433557 M109733557 M254848060 M064408352 M228124869 M370260069 M812923328 M317778161 M310879031 M420179972 M239456864 M260108058 M205853827 M543457581 M505580896 M625429451 M825964298 M924062191 M509390954 M447665075 M651584265 M940559202 M911032593 M843199447 M037549585 M382066932 M169884285 M291721116 M321922863\n",
            "ma_fem_dv chnl_dv ages_0 ages_1 ages_2 ages_3 ages_4 ages_5 zon_hlv_Z01 zon_hlv_Z02 zon_hlv_Z03 zon_hlv_Z04 zon_hlv_Z05 zon_hlv_Z06 zon_hlv_Z07 zon_hlv_Z08 zon_hlv_Z09 zon_hlv_Z10 zon_hlv_Z11 zon_hlv_Z12 zon_hlv_Z13 zon_hlv_Z14 zon_hlv_Z15 zon_hlv_Z16 zon_hlv_Z17 cop_c_A01 cop_c_A02 cop_c_A03 cop_c_A04 cop_c_A05 cop_c_A06 month_1 month_2 month_3 month_4 month_5 month_6 month_7 month_8 month_9 month_10 month_11 month_12 dayofweek_0 dayofweek_1 dayofweek_2 dayofweek_3 dayofweek_4 dayofweek_5 dayofweek_6 date_interval date_from DVD/홈시어터 TV 가공유 가방세트 간식/안주형과자 간편조리 갑각류 거실가구 건강가전 건강관리용품 건강보조식품 건강진액 건강측정용품 건과일 건면 건어물 건해산물선물세트 격투기 견과류 계란류 고양이용품 골프 공구 공기청정/가습/제습 과일선물세트 과자세트 과채음료 교육보조재 교육완구 교환/정비용품 구강케어 국산과일 국산돼지고기 국산소고기 그릇/식기 기능성음료 기타 기타가구 기타고기류 기타구기/필드스포츠 기타국소고기 기타시즌스포츠 기타아웃도어/레저 기타애완동물 기타지갑 기프트 껌 꿀 나물류 낚시 난방가전 남성가방 남성골프의류 남성등산/아웃도어의류 남성속옷 남성스포츠화 남성양말류 남성의류상의 남성의류세트 남성의류아우터 남성의류전신 남성의류하의 남성일반스포츠의류 남성지갑 남성케어 남성특수목적의류 남성특수소재의류 남성패션액세서리 남성화 남아완구 남아의류상의 남아의류세트 남아의류아우터 남아의류전신 남아의류하의 남아특수목적의류 남아특수소재의류 냉동간편식 냉동과일 냉동포장생선류 냉방가전 냉장/냉동고 냉장간편식 냉장음료 냉장조리 노트 농구 농산물병통조림 닭고기류 동물병원 두부/콩나물류 두유 등산 디저트 떡 레토르트 렌탈서비스 렌탈수수료 맥주 메이크업 면도용품 모바일기기 모바일상품권 모바일액세서리 모자 미국산소고기 미술용품 미용소품 밀폐/보관용기 바디케어 반건생선 방향/제습/탈취제 배구 배드민턴 버섯류 베이커리 벨트 벽면/바닥용품 병통조림선물세트 보석 보수용품 보험 봉지라면 분말류 분말조리식 비스킷류 비식품테넌트 빵 뿌리채소 사무기기 사무용/학생용가구 사무용지/서식지 사탕/캔디 살충/방충제 생선회 생수 생활가전 생활서비스 생활요금상품판매/충전 서적 선식류 선케어 성인침구 세차용품 세탁/건조용품 세탁기 세탁세제 소모품 소스류 소주 소형디지털가전 속옷/양말/홈웨어세트 수납가구 수산물통조림 수산선물세트 수영/물놀이 수예소품 수예시즌소품 수예용품 수유/이유용품 수입과일 수입돼지고기 스낵류 스케이트/썰매 스키/보드 스킨케어 스포츠댄스 스포츠잡화 승용완구 시계 시공/DIY가구 시리얼 시트/쿠션/매트 식당 식용유류 실외놀이/스포츠완구 쌀 아이스크림 악기 안경/선글라스 안마/찜질용품 안전보호용품 안전용품 애견용품 액세서리편의용품 야구 야외용가구 양곡선물세트 양념육 양주 양채류 어류 어묵/맛살 여성가방 여성골프의류 여성등산/아웃도어의류 여성속옷 여성스포츠화 여성양말류 여성위생용품 여성의류상의 여성의류세트 여성의류아우터 여성의류전신 여성의류하의 여성일반스포츠의류 여성지갑 여성특수목적의류 여성특수소재의류 여성화 여아완구 여아의류상의 여아의류세트 여아의류아우터 여아의류전신 여아의류특수목적의류 여아의류하의 여아특수소재의류 여행/레저 여행용가방류 연체류 열매채소 영양제 오디오 오토바이 온장조리 와인 요구르트 욕실용품 용기라면 용기보증금 우산/양산류 우유 원두커피 원예 원예용품 웨이트 유가공품 유아간식 유아동가구 유아동속옷 유아동스포츠화 유아동식기 유아동양말류 유아동일반스포츠의류 유아동침구 유아동화 유아발육용품 유아스킨/바디케어 유아식 유아안전용품 유아위생용품 유아의류상의 유아의류세트 유아의류아우터 유아의류전신 유아의류하의 유아특수목적의류 육가공품 음료세트 음반/영상물 이미용가전 이용권/입장권 인라인/스케이트보드/킥보드 인스턴트커피 일반담배 일반문구/사무용품 일반의약외품 일반의약품 임대매출 임산부케어용품 잎채소 자동차음향/가전기기 자전거 잡곡 잡화균일가 장갑 장류 장식용품 잼 전기용품 전자/비디오게임 전자담배 전통과자류 전통주 전화기 정리용품 조개류 조리기구 조리도구 조명용품 조미료류 조미료세트 주류세트 주방가구 주방가전 주방세제 주방일회용품 주방정리용품/소모품 즉석반찬 즉석음료류 지류상품권 차류 차음료 채소선물세트 청소기 청소세제 청소용품 초콜릿 축구 축산물통조림 축산선물세트 침실가구 카메라/캠코더 카페트/러그/매트류 캐쥬얼가방 캠핑 커튼/블라인드류 커피/차세트 커피음료 컴퓨터/노트북 컴퓨터주변기기 탁구 탄산음료 테니스 특수담배 특수위생용품 특판 파이류 파티/팬시용품 패션액세서리 포장반찬 푸드코트 프리믹스 피트니스 필기도구 한방약재 해조류 해초류 핸드/풋케어 햄/소시지 향수 향신료 헤어액세서리 헤어케어 호주산소고기 홈웨어 홍삼/인삼가공식품 화장지/티슈\n"
          ]
        }
      ]
    },
    {
      "cell_type": "code",
      "source": [
        "def make_rct_tensor_by_cust(cust_idx, features=features, window=20, slide=10, dtype=torch.int16):\n",
        "    global processed_df\n",
        "\n",
        "    cust_df = processed_df.loc[cust_idx]\n",
        "    rct_tensor_by_cust = []\n",
        "    rct_length = len(cust_df)\n",
        "    if rct_length==1 or not isinstance(cust_df, pd.core.frame.DataFrame): # 길이가 1인 시리즈는 None 반환\n",
        "        return None\n",
        "\n",
        "    # cust index는 버려진다. rct_no도 index가 되면서 버려질 것.\n",
        "    # 구입일 간격에 대한 feature들을 생성하기 위해 sorting한다.\n",
        "    cust_df = cust_df.set_index(\"datetime\").sort_values(\"datetime\") \\\n",
        "                 .reset_index().set_index(\"rct_no\")\n",
        "    cust_df[\"date_interval\"] = (cust_df.datetime - cust_df.datetime.shift(-1)).dt.days.fillna(-1) # 몇일만에 새로운 구입을 하였는지\n",
        "\n",
        "    cust_rcts = list(range(rct_length))\n",
        "    for i in cust_rcts[::slide]:\n",
        "        if rct_length-1 <= i: # 고객의 남은 영수증이 1개 이하인 경우 break\n",
        "            break\n",
        "        else:\n",
        "            temp = cust_df.iloc[i : i+window]\n",
        "            temp[\"date_from\"] = (temp.datetime.iloc[0] - temp.datetime).dt.days # 최근 구입일로부터 몇일만에 구입한 영수증인지.  ex) [2]: 01/22, [1]: 02/11, [0]: 02/13 \n",
        "                                                                                                                                # => [2]: 22,    [1]: 20,    [0]: 0\n",
        "            temp = temp[features] # 피쳐 집합으로 원하는 피쳐를 골라 저장\n",
        "            temp = torch.tensor(temp.values, dtype=dtype) # window x features\n",
        "\n",
        "            if 1 < temp.shape[0] < window: # 고객의 남은 영수증이 2개 이상, 지정된 \"최근 영수증 개수\" 미만인 경우\n",
        "                ones = torch.ones((window-temp.shape[0], temp.shape[1]), dtype=dtype) # \"영수증 텐서\" 생성, 부족한 영수증 데이터는 -1로 채움.\n",
        "                temp = torch.cat((temp, -ones), dim=0)\n",
        "\n",
        "            rct_tensor_by_cust.append(temp)\n",
        "\n",
        "        \n",
        "    rct_tensor_by_cust = torch.stack(rct_tensor_by_cust, dim=0) # cust's rcts x window x features\n",
        "    return rct_tensor_by_cust"
      ],
      "metadata": {
        "id": "OzyaZhuslQw_"
      },
      "execution_count": 15,
      "outputs": []
    },
    {
      "cell_type": "code",
      "source": [
        "len(custs)"
      ],
      "metadata": {
        "colab": {
          "base_uri": "https://localhost:8080/"
        },
        "id": "ZYcwOswACZv5",
        "outputId": "8603a97c-59a9-40bf-9538-543be357fca4"
      },
      "execution_count": 16,
      "outputs": [
        {
          "output_type": "execute_result",
          "data": {
            "text/plain": [
              "26917"
            ]
          },
          "metadata": {},
          "execution_count": 16
        }
      ]
    },
    {
      "cell_type": "code",
      "source": [
        "window = 10 # 한 텐서 안에 들어갈 \"최근 영수증 개수\"\n",
        "slide = 10 # 한 고객의 영수증 기록에서 window로 스캔 시의 간격\n",
        "chunk_num = 10\n",
        "sample_size = 1000\n",
        "rct_tensors = []\n",
        "sampled_custs = np.random.choice(list(custs), size=sample_size)\n",
        "\n",
        "for j in tqdm(range(sample_size//chunk_num)):\n",
        "    if j == sample_size//chunk_num-1:\n",
        "        rct_chunk_tensors = Parallel(n_jobs=num_cores)(delayed(make_rct_tensor_by_cust)(cust_idx, features=features, window=window, slide=10, dtype=torch.int16) for cust_idx in sampled_custs[j*chunk_num:])\n",
        "    else:\n",
        "        rct_chunk_tensors = Parallel(n_jobs=num_cores)(delayed(make_rct_tensor_by_cust)(cust_idx, features=features, window=window, slide=10, dtype=torch.int16) for cust_idx in sampled_custs[j*chunk_num : (j+1)*chunk_num])\n",
        "    rct_chunk_tensors = [t for t in rct_chunk_tensors if t is not None] # None을 없앤다.\n",
        "    rct_chunk_tensors = torch.cat(rct_chunk_tensors, dim=0)\n",
        "\n",
        "    print(f\"{j}번째 chunk의 Tensor Shape : \", rct_chunk_tensors.shape)\n",
        "    rct_tensors.append(rct_chunk_tensors) # 전체 tensor에 추가\n",
        "    del rct_chunk_tensors\n",
        "\n",
        "rct_tensors = torch.cat(rct_tensors, dim = 0)\n",
        "rct_tensors.shape"
      ],
      "metadata": {
        "id": "1Hb4LE0o_hY0"
      },
      "execution_count": null,
      "outputs": []
    },
    {
      "cell_type": "code",
      "source": [
        "torch.save(rct_tensors, path + \"LPOINT_BIG_COMP_RCT_TENSORS.pt\")\n",
        "rct_tensors = torch.load(path + \"LPOINT_BIG_COMP_RCT_TENSORS.pt\")"
      ],
      "metadata": {
        "id": "lXDBkIdnDxVW"
      },
      "execution_count": 196,
      "outputs": []
    },
    {
      "cell_type": "code",
      "source": [
        "rct_tensors.shape"
      ],
      "metadata": {
        "colab": {
          "base_uri": "https://localhost:8080/"
        },
        "id": "99s8xtLKZozj",
        "outputId": "24dcbaaa-87a6-4dec-8ded-0d9f16e62b0e"
      },
      "execution_count": 197,
      "outputs": [
        {
          "output_type": "execute_result",
          "data": {
            "text/plain": [
              "torch.Size([16168, 10, 401])"
            ]
          },
          "metadata": {},
          "execution_count": 197
        }
      ]
    },
    {
      "cell_type": "code",
      "source": [
        "class CustomDataset(Dataset):\n",
        "    def __init__(self, rct_tensors, train_mode = True, transforms = None):\n",
        "        self.transforms = transforms\n",
        "        self.train_mode = train_mode\n",
        "        self.rct_tensors = rct_tensors\n",
        "\n",
        "    def __len__(self):\n",
        "        return self.rct_tensors.shape[0]\n",
        "\n",
        "    def __getitem__(self, idx):\n",
        "        input = self.rct_tensors[idx]\n",
        "\n",
        "        if self.transforms is not None:\n",
        "            input = self.transforms(input)\n",
        "        \n",
        "        # 어디까지가 고객데이터인지 모름\n",
        "        if self.train_mode:\n",
        "            return input, input[:,52:]\n",
        "        else:\n",
        "            return input"
      ],
      "metadata": {
        "id": "_GTTX7OTF2np"
      },
      "execution_count": 239,
      "outputs": []
    },
    {
      "cell_type": "code",
      "source": [
        "class Encoder(nn.Module):\n",
        "    def __init__(self, seq_len, n_features, embedding_dim=64):\n",
        "        super(Encoder, self).__init__()\n",
        "        self.seq_len, self.n_features = seq_len, n_features\n",
        "        self.embedding_dim, self.hidden_dim = (\n",
        "            embedding_dim, 2 * embedding_dim\n",
        "        )\n",
        "        self.rnn1 = nn.LSTM(\n",
        "          input_size=n_features,\n",
        "          hidden_size=self.hidden_dim,\n",
        "          num_layers=1,\n",
        "          batch_first=True\n",
        "        )\n",
        "        self.rnn2 = nn.LSTM(\n",
        "          input_size=self.hidden_dim,\n",
        "          hidden_size=embedding_dim,\n",
        "          num_layers=1,\n",
        "          batch_first=True\n",
        "        )\n",
        "    def forward(self, x):\n",
        "        x, (_, _) = self.rnn1(x)\n",
        "        x, (hidden_n, _) = self.rnn2(x)\n",
        "        return  x[:,-1,:]"
      ],
      "metadata": {
        "id": "EQ-7v863ZK-P"
      },
      "execution_count": 240,
      "outputs": []
    },
    {
      "cell_type": "code",
      "source": [
        "class Decoder(nn.Module):\n",
        "    def __init__(self, input_dim=64, n_features=1):\n",
        "        super(Decoder, self).__init__()\n",
        "        self.decoder_lin = nn.Sequential(\n",
        "            nn.Linear(input_dim, 128),\n",
        "            nn.ReLU(True),\n",
        "            nn.Linear(128, 512),\n",
        "            nn.ReLU(True),\n",
        "            nn.Linear(512, 1024),\n",
        "            nn.ReLU(True),\n",
        "            nn.Linear(1024, (n_features-52) * window, bias = True),\n",
        "            nn.ReLU(True)\n",
        "        )\n",
        "        self.unflatten = nn.Unflatten(dim=1, unflattened_size=(window, n_features - 52))\n",
        "        \n",
        "        \n",
        "    def forward(self, x):\n",
        "        x = self.decoder_lin(x)\n",
        "        x = self.unflatten(x) - 1\n",
        "\n",
        "        return x"
      ],
      "metadata": {
        "id": "GsT5xiGAZMKt"
      },
      "execution_count": 263,
      "outputs": []
    },
    {
      "cell_type": "code",
      "source": [
        "class RecurrentAutoencoder(nn.Module):\n",
        "    def __init__(self, seq_len, n_features, embedding_dim=64):\n",
        "        super(RecurrentAutoencoder, self).__init__()\n",
        "        self.encoder = Encoder(seq_len, n_features, embedding_dim)#.to(device)\n",
        "        self.decoder = Decoder(embedding_dim, n_features)#.to(device)\n",
        "\n",
        "    def forward(self, x, train_mode = True):\n",
        "        if train_mode:\n",
        "            x = self.encoder(x)\n",
        "            x = self.decoder(x)\n",
        "        else:\n",
        "            x = self.encoder(x)\n",
        "        return x"
      ],
      "metadata": {
        "id": "Z05b_Nj2ZOWm"
      },
      "execution_count": 273,
      "outputs": []
    },
    {
      "cell_type": "code",
      "source": [
        "#n X n_features  시계열 데이터를 1 X 128 형태로 변환\n",
        "device = torch.device('cuda') if torch.cuda.is_available() else torch.device('cpu')\n",
        "\n",
        "model = RecurrentAutoencoder(window, 401, 10)\n",
        "model = model.to(device)\n",
        "\n",
        "batch_size = 512"
      ],
      "metadata": {
        "id": "nT8RXHIpZQcH"
      },
      "execution_count": 274,
      "outputs": []
    },
    {
      "cell_type": "code",
      "source": [
        "train_id, valid_id = train_test_split(range(rct_tensors.shape[0]), test_size = 0.2, random_state = 42)"
      ],
      "metadata": {
        "id": "Y-BCJw2rZRww"
      },
      "execution_count": 275,
      "outputs": []
    },
    {
      "cell_type": "code",
      "source": [
        "train_dataset = CustomDataset(rct_tensors[train_id], train_mode = True, transforms = None)\n",
        "train_loader = DataLoader(train_dataset, batch_size = batch_size, shuffle=False, num_workers=0)\n",
        "\n",
        "valid_dataset = CustomDataset(rct_tensors[valid_id], train_mode = True, transforms = None)\n",
        "valid_loader = DataLoader(train_dataset, batch_size = batch_size, shuffle=False, num_workers=0)"
      ],
      "metadata": {
        "id": "j9C1C4-PZTgk"
      },
      "execution_count": 276,
      "outputs": []
    },
    {
      "cell_type": "code",
      "source": [
        "def validation(model, vali_loader, criterion, device):\n",
        "    model.eval() # Evaluation\n",
        "    vali_loss = []\n",
        "    with torch.no_grad():\n",
        "        for idx, batch in enumerate(train_loader):\n",
        "            x, y = batch[0].float().to(device), batch[1].float().to(device)\n",
        "\n",
        "            pred = model(x)\n",
        "            loss = criterion(pred, y)\n",
        "            \n",
        "            vali_loss.append(loss.item()/batch_size)\n",
        "\n",
        "    vali_mae_loss = np.mean(vali_loss)\n",
        "    return vali_mae_loss"
      ],
      "metadata": {
        "id": "KKqUwEVOZVru"
      },
      "execution_count": 277,
      "outputs": []
    },
    {
      "cell_type": "code",
      "source": [
        "optimizer = torch.optim.Adam(model.parameters(), lr=1e-3)\n",
        "# Loss Function\n",
        "criterion = nn.L1Loss(reduction='sum').to(device)"
      ],
      "metadata": {
        "id": "wp8nukrrbfX4"
      },
      "execution_count": 278,
      "outputs": []
    },
    {
      "cell_type": "code",
      "source": [
        "def train(model, optimizer, train_loader, vali_loader, scheduler, device):\n",
        "\n",
        "    best_mae = 9999\n",
        "    \n",
        "    for epoch in range(500):\n",
        "        model.train()\n",
        "        train_loss = []\n",
        "        for idx, batch in tqdm(enumerate(train_loader)):\n",
        "            x, y = batch[0].float().to(device), batch[1].float().to(device)\n",
        "            optimizer.zero_grad()\n",
        "            # Data -> Model -> Output\n",
        "            pred = model(x)\n",
        "            \n",
        "            # Calc loss\n",
        "            loss = criterion(pred, y)\n",
        "\n",
        "            # backpropagation\n",
        "            loss.backward()\n",
        "            optimizer.step()\n",
        "\n",
        "            train_loss.append(loss.item()/batch_size)\n",
        "                        \n",
        "        # Evaluation Validation set\n",
        "        vali_mae = validation(model, valid_loader, criterion, device)\n",
        "        \n",
        "        print(f'Epoch [{epoch}] Train MAE : [{np.mean(train_loss):.5f}] Validation MAE : [{vali_mae:.5f}]\\n')"
      ],
      "metadata": {
        "id": "PgKKwXxVbqdw"
      },
      "execution_count": 279,
      "outputs": []
    },
    {
      "cell_type": "code",
      "source": [
        "train(model, optimizer, train_loader,valid_loader, None, device)"
      ],
      "metadata": {
        "id": "16CO2qmJbi_-"
      },
      "execution_count": null,
      "outputs": []
    },
    {
      "cell_type": "code",
      "source": [
        "for idx, batch in tqdm(enumerate(train_loader)):\n",
        "    x, y = batch[0].float().to(device), batch[1].float().to(device)\n",
        "    break"
      ],
      "metadata": {
        "colab": {
          "base_uri": "https://localhost:8080/"
        },
        "id": "UMYPc9ksLjB9",
        "outputId": "a8ae044e-f845-45fb-8c64-96cd961d3797"
      },
      "execution_count": 281,
      "outputs": [
        {
          "output_type": "stream",
          "name": "stderr",
          "text": [
            "0it [00:00, ?it/s]\n"
          ]
        }
      ]
    },
    {
      "cell_type": "code",
      "source": [
        "pd.DataFrame(model(x, train_mode = False).to('cpu').detach().numpy())"
      ],
      "metadata": {
        "colab": {
          "base_uri": "https://localhost:8080/",
          "height": 424
        },
        "id": "YGQS-X3UL_7G",
        "outputId": "eea44afb-323c-419e-ee9c-9a464b337813"
      },
      "execution_count": 295,
      "outputs": [
        {
          "output_type": "execute_result",
          "data": {
            "text/plain": [
              "            0         1         2         3         4         5         6  \\\n",
              "0   -0.002306  0.176269  0.408830 -0.004427 -0.017187  0.055414  0.153083   \n",
              "1   -0.177991  0.177215  0.355328 -0.199573  0.160346  0.113137  0.089650   \n",
              "2   -0.095201  0.289582  0.491596 -0.032658  0.120976  0.083425  0.043109   \n",
              "3   -0.017892  0.221780  0.431535  0.009716  0.004551  0.047836  0.191744   \n",
              "4   -0.117725  0.244295  0.355723 -0.025650  0.029724  0.075860  0.101775   \n",
              "..        ...       ...       ...       ...       ...       ...       ...   \n",
              "507 -0.056614  0.262891  0.405264 -0.031524  0.024549  0.041498  0.208495   \n",
              "508 -0.118205 -0.288184 -0.597897  0.186475  0.799079  0.533847 -0.559350   \n",
              "509 -0.147146  0.181394  0.335009 -0.085203  0.123014  0.063012  0.103231   \n",
              "510 -0.036055  0.256048  0.415764 -0.035656  0.014524  0.038367  0.224065   \n",
              "511 -0.184496  0.273752  0.243230 -0.149861  0.047624  0.085702  0.156286   \n",
              "\n",
              "            7         8         9  \n",
              "0   -0.038970 -0.001635  0.185941  \n",
              "1    0.240339 -0.036911  0.189272  \n",
              "2    0.157293  0.033712  0.047218  \n",
              "3   -0.042108 -0.005200  0.144914  \n",
              "4    0.012833 -0.057125  0.230225  \n",
              "..        ...       ...       ...  \n",
              "507 -0.017453 -0.015668  0.166361  \n",
              "508 -0.112605 -0.165664 -0.419480  \n",
              "509 -0.053960 -0.064378  0.198938  \n",
              "510 -0.034860 -0.034688  0.168277  \n",
              "511  0.132844 -0.052766  0.243500  \n",
              "\n",
              "[512 rows x 10 columns]"
            ],
            "text/html": [
              "\n",
              "  <div id=\"df-fd931160-da9e-4dc8-9b29-ef2d1d5649ca\">\n",
              "    <div class=\"colab-df-container\">\n",
              "      <div>\n",
              "<style scoped>\n",
              "    .dataframe tbody tr th:only-of-type {\n",
              "        vertical-align: middle;\n",
              "    }\n",
              "\n",
              "    .dataframe tbody tr th {\n",
              "        vertical-align: top;\n",
              "    }\n",
              "\n",
              "    .dataframe thead th {\n",
              "        text-align: right;\n",
              "    }\n",
              "</style>\n",
              "<table border=\"1\" class=\"dataframe\">\n",
              "  <thead>\n",
              "    <tr style=\"text-align: right;\">\n",
              "      <th></th>\n",
              "      <th>0</th>\n",
              "      <th>1</th>\n",
              "      <th>2</th>\n",
              "      <th>3</th>\n",
              "      <th>4</th>\n",
              "      <th>5</th>\n",
              "      <th>6</th>\n",
              "      <th>7</th>\n",
              "      <th>8</th>\n",
              "      <th>9</th>\n",
              "    </tr>\n",
              "  </thead>\n",
              "  <tbody>\n",
              "    <tr>\n",
              "      <th>0</th>\n",
              "      <td>-0.002306</td>\n",
              "      <td>0.176269</td>\n",
              "      <td>0.408830</td>\n",
              "      <td>-0.004427</td>\n",
              "      <td>-0.017187</td>\n",
              "      <td>0.055414</td>\n",
              "      <td>0.153083</td>\n",
              "      <td>-0.038970</td>\n",
              "      <td>-0.001635</td>\n",
              "      <td>0.185941</td>\n",
              "    </tr>\n",
              "    <tr>\n",
              "      <th>1</th>\n",
              "      <td>-0.177991</td>\n",
              "      <td>0.177215</td>\n",
              "      <td>0.355328</td>\n",
              "      <td>-0.199573</td>\n",
              "      <td>0.160346</td>\n",
              "      <td>0.113137</td>\n",
              "      <td>0.089650</td>\n",
              "      <td>0.240339</td>\n",
              "      <td>-0.036911</td>\n",
              "      <td>0.189272</td>\n",
              "    </tr>\n",
              "    <tr>\n",
              "      <th>2</th>\n",
              "      <td>-0.095201</td>\n",
              "      <td>0.289582</td>\n",
              "      <td>0.491596</td>\n",
              "      <td>-0.032658</td>\n",
              "      <td>0.120976</td>\n",
              "      <td>0.083425</td>\n",
              "      <td>0.043109</td>\n",
              "      <td>0.157293</td>\n",
              "      <td>0.033712</td>\n",
              "      <td>0.047218</td>\n",
              "    </tr>\n",
              "    <tr>\n",
              "      <th>3</th>\n",
              "      <td>-0.017892</td>\n",
              "      <td>0.221780</td>\n",
              "      <td>0.431535</td>\n",
              "      <td>0.009716</td>\n",
              "      <td>0.004551</td>\n",
              "      <td>0.047836</td>\n",
              "      <td>0.191744</td>\n",
              "      <td>-0.042108</td>\n",
              "      <td>-0.005200</td>\n",
              "      <td>0.144914</td>\n",
              "    </tr>\n",
              "    <tr>\n",
              "      <th>4</th>\n",
              "      <td>-0.117725</td>\n",
              "      <td>0.244295</td>\n",
              "      <td>0.355723</td>\n",
              "      <td>-0.025650</td>\n",
              "      <td>0.029724</td>\n",
              "      <td>0.075860</td>\n",
              "      <td>0.101775</td>\n",
              "      <td>0.012833</td>\n",
              "      <td>-0.057125</td>\n",
              "      <td>0.230225</td>\n",
              "    </tr>\n",
              "    <tr>\n",
              "      <th>...</th>\n",
              "      <td>...</td>\n",
              "      <td>...</td>\n",
              "      <td>...</td>\n",
              "      <td>...</td>\n",
              "      <td>...</td>\n",
              "      <td>...</td>\n",
              "      <td>...</td>\n",
              "      <td>...</td>\n",
              "      <td>...</td>\n",
              "      <td>...</td>\n",
              "    </tr>\n",
              "    <tr>\n",
              "      <th>507</th>\n",
              "      <td>-0.056614</td>\n",
              "      <td>0.262891</td>\n",
              "      <td>0.405264</td>\n",
              "      <td>-0.031524</td>\n",
              "      <td>0.024549</td>\n",
              "      <td>0.041498</td>\n",
              "      <td>0.208495</td>\n",
              "      <td>-0.017453</td>\n",
              "      <td>-0.015668</td>\n",
              "      <td>0.166361</td>\n",
              "    </tr>\n",
              "    <tr>\n",
              "      <th>508</th>\n",
              "      <td>-0.118205</td>\n",
              "      <td>-0.288184</td>\n",
              "      <td>-0.597897</td>\n",
              "      <td>0.186475</td>\n",
              "      <td>0.799079</td>\n",
              "      <td>0.533847</td>\n",
              "      <td>-0.559350</td>\n",
              "      <td>-0.112605</td>\n",
              "      <td>-0.165664</td>\n",
              "      <td>-0.419480</td>\n",
              "    </tr>\n",
              "    <tr>\n",
              "      <th>509</th>\n",
              "      <td>-0.147146</td>\n",
              "      <td>0.181394</td>\n",
              "      <td>0.335009</td>\n",
              "      <td>-0.085203</td>\n",
              "      <td>0.123014</td>\n",
              "      <td>0.063012</td>\n",
              "      <td>0.103231</td>\n",
              "      <td>-0.053960</td>\n",
              "      <td>-0.064378</td>\n",
              "      <td>0.198938</td>\n",
              "    </tr>\n",
              "    <tr>\n",
              "      <th>510</th>\n",
              "      <td>-0.036055</td>\n",
              "      <td>0.256048</td>\n",
              "      <td>0.415764</td>\n",
              "      <td>-0.035656</td>\n",
              "      <td>0.014524</td>\n",
              "      <td>0.038367</td>\n",
              "      <td>0.224065</td>\n",
              "      <td>-0.034860</td>\n",
              "      <td>-0.034688</td>\n",
              "      <td>0.168277</td>\n",
              "    </tr>\n",
              "    <tr>\n",
              "      <th>511</th>\n",
              "      <td>-0.184496</td>\n",
              "      <td>0.273752</td>\n",
              "      <td>0.243230</td>\n",
              "      <td>-0.149861</td>\n",
              "      <td>0.047624</td>\n",
              "      <td>0.085702</td>\n",
              "      <td>0.156286</td>\n",
              "      <td>0.132844</td>\n",
              "      <td>-0.052766</td>\n",
              "      <td>0.243500</td>\n",
              "    </tr>\n",
              "  </tbody>\n",
              "</table>\n",
              "<p>512 rows × 10 columns</p>\n",
              "</div>\n",
              "      <button class=\"colab-df-convert\" onclick=\"convertToInteractive('df-fd931160-da9e-4dc8-9b29-ef2d1d5649ca')\"\n",
              "              title=\"Convert this dataframe to an interactive table.\"\n",
              "              style=\"display:none;\">\n",
              "        \n",
              "  <svg xmlns=\"http://www.w3.org/2000/svg\" height=\"24px\"viewBox=\"0 0 24 24\"\n",
              "       width=\"24px\">\n",
              "    <path d=\"M0 0h24v24H0V0z\" fill=\"none\"/>\n",
              "    <path d=\"M18.56 5.44l.94 2.06.94-2.06 2.06-.94-2.06-.94-.94-2.06-.94 2.06-2.06.94zm-11 1L8.5 8.5l.94-2.06 2.06-.94-2.06-.94L8.5 2.5l-.94 2.06-2.06.94zm10 10l.94 2.06.94-2.06 2.06-.94-2.06-.94-.94-2.06-.94 2.06-2.06.94z\"/><path d=\"M17.41 7.96l-1.37-1.37c-.4-.4-.92-.59-1.43-.59-.52 0-1.04.2-1.43.59L10.3 9.45l-7.72 7.72c-.78.78-.78 2.05 0 2.83L4 21.41c.39.39.9.59 1.41.59.51 0 1.02-.2 1.41-.59l7.78-7.78 2.81-2.81c.8-.78.8-2.07 0-2.86zM5.41 20L4 18.59l7.72-7.72 1.47 1.35L5.41 20z\"/>\n",
              "  </svg>\n",
              "      </button>\n",
              "      \n",
              "  <style>\n",
              "    .colab-df-container {\n",
              "      display:flex;\n",
              "      flex-wrap:wrap;\n",
              "      gap: 12px;\n",
              "    }\n",
              "\n",
              "    .colab-df-convert {\n",
              "      background-color: #E8F0FE;\n",
              "      border: none;\n",
              "      border-radius: 50%;\n",
              "      cursor: pointer;\n",
              "      display: none;\n",
              "      fill: #1967D2;\n",
              "      height: 32px;\n",
              "      padding: 0 0 0 0;\n",
              "      width: 32px;\n",
              "    }\n",
              "\n",
              "    .colab-df-convert:hover {\n",
              "      background-color: #E2EBFA;\n",
              "      box-shadow: 0px 1px 2px rgba(60, 64, 67, 0.3), 0px 1px 3px 1px rgba(60, 64, 67, 0.15);\n",
              "      fill: #174EA6;\n",
              "    }\n",
              "\n",
              "    [theme=dark] .colab-df-convert {\n",
              "      background-color: #3B4455;\n",
              "      fill: #D2E3FC;\n",
              "    }\n",
              "\n",
              "    [theme=dark] .colab-df-convert:hover {\n",
              "      background-color: #434B5C;\n",
              "      box-shadow: 0px 1px 3px 1px rgba(0, 0, 0, 0.15);\n",
              "      filter: drop-shadow(0px 1px 2px rgba(0, 0, 0, 0.3));\n",
              "      fill: #FFFFFF;\n",
              "    }\n",
              "  </style>\n",
              "\n",
              "      <script>\n",
              "        const buttonEl =\n",
              "          document.querySelector('#df-fd931160-da9e-4dc8-9b29-ef2d1d5649ca button.colab-df-convert');\n",
              "        buttonEl.style.display =\n",
              "          google.colab.kernel.accessAllowed ? 'block' : 'none';\n",
              "\n",
              "        async function convertToInteractive(key) {\n",
              "          const element = document.querySelector('#df-fd931160-da9e-4dc8-9b29-ef2d1d5649ca');\n",
              "          const dataTable =\n",
              "            await google.colab.kernel.invokeFunction('convertToInteractive',\n",
              "                                                     [key], {});\n",
              "          if (!dataTable) return;\n",
              "\n",
              "          const docLinkHtml = 'Like what you see? Visit the ' +\n",
              "            '<a target=\"_blank\" href=https://colab.research.google.com/notebooks/data_table.ipynb>data table notebook</a>'\n",
              "            + ' to learn more about interactive tables.';\n",
              "          element.innerHTML = '';\n",
              "          dataTable['output_type'] = 'display_data';\n",
              "          await google.colab.output.renderOutput(dataTable, element);\n",
              "          const docLink = document.createElement('div');\n",
              "          docLink.innerHTML = docLinkHtml;\n",
              "          element.appendChild(docLink);\n",
              "        }\n",
              "      </script>\n",
              "    </div>\n",
              "  </div>\n",
              "  "
            ]
          },
          "metadata": {},
          "execution_count": 295
        }
      ]
    }
  ]
}