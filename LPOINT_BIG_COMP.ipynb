{
  "nbformat": 4,
  "nbformat_minor": 0,
  "metadata": {
    "colab": {
      "name": "LPOINT_BIG_COMP.ipynb",
      "provenance": [],
      "collapsed_sections": [],
      "machine_shape": "hm",
      "mount_file_id": "1avB1GrykjyK1a20vi99SNdtTXbflFE3Z",
      "authorship_tag": "ABX9TyPtrd6+E8wGnzU+lnG6vFKy",
      "include_colab_link": true
    },
    "kernelspec": {
      "name": "python3",
      "display_name": "Python 3"
    },
    "language_info": {
      "name": "python"
    },
    "gpuClass": "standard"
  },
  "cells": [
    {
      "cell_type": "markdown",
      "metadata": {
        "id": "view-in-github",
        "colab_type": "text"
      },
      "source": [
        "<a href=\"https://colab.research.google.com/github/KSY1526/SSUDA_LOTTEs/blob/main/LPOINT_BIG_COMP.ipynb\" target=\"_parent\"><img src=\"https://colab.research.google.com/assets/colab-badge.svg\" alt=\"Open In Colab\"/></a>"
      ]
    },
    {
      "cell_type": "markdown",
      "source": [
        "품목별 소비자물가지수\n",
        "\n",
        "https://kosis.kr/statHtml/statHtml.do?orgId=101&tblId=DT_1J20005&vw_cd=MT_ZTITLE&list_id=P2_6&scrId=&seqNo=&lang_mode=ko&obj_var_id=&itm_id=&conn_path=E1"
      ],
      "metadata": {
        "id": "qVLm0d0YMN6b"
      }
    },
    {
      "cell_type": "code",
      "source": [
        "from google.colab import drive\n",
        "drive.mount('/content/drive')"
      ],
      "metadata": {
        "colab": {
          "base_uri": "https://localhost:8080/"
        },
        "id": "VovLeB2r0DFe",
        "outputId": "72a62a1f-2117-4edb-df6e-2b2123852b19"
      },
      "execution_count": null,
      "outputs": [
        {
          "output_type": "stream",
          "name": "stdout",
          "text": [
            "Drive already mounted at /content/drive; to attempt to forcibly remount, call drive.mount(\"/content/drive\", force_remount=True).\n"
          ]
        }
      ]
    },
    {
      "cell_type": "code",
      "execution_count": null,
      "metadata": {
        "id": "gbOPglC3y_Gg"
      },
      "outputs": [],
      "source": [
        "import numpy as np\n",
        "import pandas as pd\n",
        "from tqdm import tqdm\n",
        "import matplotlib.pyplot as plt"
      ]
    },
    {
      "cell_type": "code",
      "source": [
        "path = \"/content/drive/MyDrive/AIFactory/Data/LPOINT_BIG_COMP/LPOINT_BIG_COMP_PROCESSED_CUST/\"\n",
        "\n",
        "COPU = pd.read_csv(path + \"LPOINT_BIG_COMP_COPU_CUST.csv\")\n",
        "LPAY = pd.read_csv(path + \"LPOINT_BIG_COMP_LPAY_CUST.csv\")\n",
        "PDDE = pd.read_csv(path + \"LPOINT_BIG_COMP_PDDE_CUST.csv\")\n",
        "ind = pd.read_csv(path + \"품목별_소비자물가지수_품목성질별_2020100__20220713103547.csv\", encoding = 'cp949')"
      ],
      "metadata": {
        "id": "Bn4yUn22OMSA"
      },
      "execution_count": null,
      "outputs": []
    },
    {
      "cell_type": "code",
      "source": [
        "len((set(COPU.cust) | set(LPAY.cust) ) & set(PDDE.cust))"
      ],
      "metadata": {
        "colab": {
          "base_uri": "https://localhost:8080/"
        },
        "id": "gI4PYR0nO37P",
        "outputId": "4c14d511-6a6f-4b47-b1ab-d48dfb778c49"
      },
      "execution_count": null,
      "outputs": [
        {
          "output_type": "execute_result",
          "data": {
            "text/plain": [
              "19627"
            ]
          },
          "metadata": {},
          "execution_count": 23
        }
      ]
    },
    {
      "cell_type": "code",
      "source": [
        "len((set(COPU.cust) | set(LPAY.cust)) .symmetric_difference(set(PDDE.cust)))"
      ],
      "metadata": {
        "colab": {
          "base_uri": "https://localhost:8080/"
        },
        "id": "KRwtjjfzPtcD",
        "outputId": "abc1bebf-f579-4e94-d6d7-c956ed2b8c3d"
      },
      "execution_count": null,
      "outputs": [
        {
          "output_type": "execute_result",
          "data": {
            "text/plain": [
              "10247"
            ]
          },
          "metadata": {},
          "execution_count": 24
        }
      ]
    },
    {
      "cell_type": "code",
      "source": [
        "pd.DataFrame(ind.품목별.unique()).to_csv('지수.csv', index = False, encoding = 'ms949')"
      ],
      "metadata": {
        "id": "u3zx87ZaRz2Q"
      },
      "execution_count": null,
      "outputs": []
    },
    {
      "cell_type": "code",
      "source": [
        "pd.DataFrame(PDDE.pd_nm.unique()).to_csv(\"PDDE.csv\", index = False, encoding = 'ms949')"
      ],
      "metadata": {
        "id": "mio6pUj8RwRl"
      },
      "execution_count": null,
      "outputs": []
    },
    {
      "cell_type": "code",
      "source": [
        "col = ['cust', 'ma_fem_dv', 'ages', 'zon_hlv', 'de_dt', 'de_hr', 'chnl_dv', 'br_zon_hlv', 'br_zon_mcls', 'cop_c','buy_am']"
      ],
      "metadata": {
        "id": "X8xq31wyO7jr"
      },
      "execution_count": null,
      "outputs": []
    },
    {
      "cell_type": "code",
      "source": [
        "COPU_PDDE = pd.concat([COPU[col], PDDE[col]])"
      ],
      "metadata": {
        "id": "46_wJ8tTRUKA"
      },
      "execution_count": null,
      "outputs": []
    },
    {
      "cell_type": "code",
      "source": [
        "temp = COPU.groupby(['cust', 'de_dt', 'chnl_dv', 'cop_c']).sum('buy_am')"
      ],
      "metadata": {
        "id": "Ye6h8p7dQp_8"
      },
      "execution_count": null,
      "outputs": []
    },
    {
      "cell_type": "code",
      "source": [
        "temp = temp.reset_index()"
      ],
      "metadata": {
        "id": "7ry7d0LJS9ln"
      },
      "execution_count": null,
      "outputs": []
    },
    {
      "cell_type": "code",
      "source": [
        "cnt = 0\n",
        "b_temp = pd.DataFrame()\n",
        "for i in tqdm(range(LPAY.shape[0])):\n",
        "    cu = LPAY.loc[i, 'cust']\n",
        "    date = LPAY.loc[i, 'de_dt']\n",
        "    ho = LPAY.loc[i, 'de_hr']\n",
        "    ch = LPAY.loc[i, 'chnl_dv']\n",
        "    co = LPAY.loc[i, 'cop_c']\n",
        "    buy = LPAY.loc[i, 'buy_am']\n",
        "    a_temp = temp.loc[(temp.cust == cu) & (temp.de_dt == date) & (temp.de_hr == ho) & (temp.chnl_dv == ch) & (temp.buy_am == buy) & (temp.cop_c == co)]\n",
        "    if a_temp.shape[0] > 0:\n",
        "        F = b_temp.append(a_temp)"
      ],
      "metadata": {
        "id": "rYCpDpwfTWbD"
      },
      "execution_count": null,
      "outputs": []
    },
    {
      "cell_type": "code",
      "source": [
        "b_temp.cust.unique()"
      ],
      "metadata": {
        "colab": {
          "base_uri": "https://localhost:8080/"
        },
        "id": "oBzraR9jTEAA",
        "outputId": "faa3375a-2ec3-40f7-8b7e-d8f1d6893ef5"
      },
      "execution_count": null,
      "outputs": [
        {
          "output_type": "execute_result",
          "data": {
            "text/plain": [
              "array(['M205142844', 'M848083175', 'M253450307', 'M186539937',\n",
              "       'M347475637', 'M617097623', 'M425728822', 'M314794317'],\n",
              "      dtype=object)"
            ]
          },
          "metadata": {},
          "execution_count": 69
        }
      ]
    },
    {
      "cell_type": "code",
      "source": [
        "b_temp"
      ],
      "metadata": {
        "colab": {
          "base_uri": "https://localhost:8080/",
          "height": 424
        },
        "id": "Vcfs1hNOYPo6",
        "outputId": "d32e857a-8f6e-45e3-d3f5-fc14adbf0597"
      },
      "execution_count": null,
      "outputs": [
        {
          "output_type": "execute_result",
          "data": {
            "text/plain": [
              "              cust     de_dt  chnl_dv cop_c  Unnamed: 0  de_hr    vst_dt  \\\n",
              "45069   M205142844  20210420        1   D02       59273     16  20210420   \n",
              "45080   M205142844  20210727        1   D02       59266     13  20210727   \n",
              "182757  M848083175  20210309        1   D01      246003     12  20210309   \n",
              "182764  M848083175  20210629        1   D02      245995     11  20210629   \n",
              "182766  M848083175  20210801        1   D01      122065     14  20210801   \n",
              "...            ...       ...      ...   ...         ...    ...       ...   \n",
              "91505   M425728822  20210717        1   D02      243388     15  20210717   \n",
              "91518   M425728822  20211028        1   D02      243386     15  20211028   \n",
              "91526   M425728822  20211209        1   D02      243393     17  20211209   \n",
              "91523   M425728822  20211205        1   D02      119554     19  20211205   \n",
              "68485   M314794317  20211219        1   B01      113620     10  20211219   \n",
              "\n",
              "        buy_am  \n",
              "45069    11000  \n",
              "45080     7600  \n",
              "182757   10300  \n",
              "182764    4900  \n",
              "182766   20400  \n",
              "...        ...  \n",
              "91505     5600  \n",
              "91518     4050  \n",
              "91526    10500  \n",
              "91523     4550  \n",
              "68485    64099  \n",
              "\n",
              "[76 rows x 8 columns]"
            ],
            "text/html": [
              "\n",
              "  <div id=\"df-45a66989-25ad-47ba-a8ad-75bef326521e\">\n",
              "    <div class=\"colab-df-container\">\n",
              "      <div>\n",
              "<style scoped>\n",
              "    .dataframe tbody tr th:only-of-type {\n",
              "        vertical-align: middle;\n",
              "    }\n",
              "\n",
              "    .dataframe tbody tr th {\n",
              "        vertical-align: top;\n",
              "    }\n",
              "\n",
              "    .dataframe thead th {\n",
              "        text-align: right;\n",
              "    }\n",
              "</style>\n",
              "<table border=\"1\" class=\"dataframe\">\n",
              "  <thead>\n",
              "    <tr style=\"text-align: right;\">\n",
              "      <th></th>\n",
              "      <th>cust</th>\n",
              "      <th>de_dt</th>\n",
              "      <th>chnl_dv</th>\n",
              "      <th>cop_c</th>\n",
              "      <th>Unnamed: 0</th>\n",
              "      <th>de_hr</th>\n",
              "      <th>vst_dt</th>\n",
              "      <th>buy_am</th>\n",
              "    </tr>\n",
              "  </thead>\n",
              "  <tbody>\n",
              "    <tr>\n",
              "      <th>45069</th>\n",
              "      <td>M205142844</td>\n",
              "      <td>20210420</td>\n",
              "      <td>1</td>\n",
              "      <td>D02</td>\n",
              "      <td>59273</td>\n",
              "      <td>16</td>\n",
              "      <td>20210420</td>\n",
              "      <td>11000</td>\n",
              "    </tr>\n",
              "    <tr>\n",
              "      <th>45080</th>\n",
              "      <td>M205142844</td>\n",
              "      <td>20210727</td>\n",
              "      <td>1</td>\n",
              "      <td>D02</td>\n",
              "      <td>59266</td>\n",
              "      <td>13</td>\n",
              "      <td>20210727</td>\n",
              "      <td>7600</td>\n",
              "    </tr>\n",
              "    <tr>\n",
              "      <th>182757</th>\n",
              "      <td>M848083175</td>\n",
              "      <td>20210309</td>\n",
              "      <td>1</td>\n",
              "      <td>D01</td>\n",
              "      <td>246003</td>\n",
              "      <td>12</td>\n",
              "      <td>20210309</td>\n",
              "      <td>10300</td>\n",
              "    </tr>\n",
              "    <tr>\n",
              "      <th>182764</th>\n",
              "      <td>M848083175</td>\n",
              "      <td>20210629</td>\n",
              "      <td>1</td>\n",
              "      <td>D02</td>\n",
              "      <td>245995</td>\n",
              "      <td>11</td>\n",
              "      <td>20210629</td>\n",
              "      <td>4900</td>\n",
              "    </tr>\n",
              "    <tr>\n",
              "      <th>182766</th>\n",
              "      <td>M848083175</td>\n",
              "      <td>20210801</td>\n",
              "      <td>1</td>\n",
              "      <td>D01</td>\n",
              "      <td>122065</td>\n",
              "      <td>14</td>\n",
              "      <td>20210801</td>\n",
              "      <td>20400</td>\n",
              "    </tr>\n",
              "    <tr>\n",
              "      <th>...</th>\n",
              "      <td>...</td>\n",
              "      <td>...</td>\n",
              "      <td>...</td>\n",
              "      <td>...</td>\n",
              "      <td>...</td>\n",
              "      <td>...</td>\n",
              "      <td>...</td>\n",
              "      <td>...</td>\n",
              "    </tr>\n",
              "    <tr>\n",
              "      <th>91505</th>\n",
              "      <td>M425728822</td>\n",
              "      <td>20210717</td>\n",
              "      <td>1</td>\n",
              "      <td>D02</td>\n",
              "      <td>243388</td>\n",
              "      <td>15</td>\n",
              "      <td>20210717</td>\n",
              "      <td>5600</td>\n",
              "    </tr>\n",
              "    <tr>\n",
              "      <th>91518</th>\n",
              "      <td>M425728822</td>\n",
              "      <td>20211028</td>\n",
              "      <td>1</td>\n",
              "      <td>D02</td>\n",
              "      <td>243386</td>\n",
              "      <td>15</td>\n",
              "      <td>20211028</td>\n",
              "      <td>4050</td>\n",
              "    </tr>\n",
              "    <tr>\n",
              "      <th>91526</th>\n",
              "      <td>M425728822</td>\n",
              "      <td>20211209</td>\n",
              "      <td>1</td>\n",
              "      <td>D02</td>\n",
              "      <td>243393</td>\n",
              "      <td>17</td>\n",
              "      <td>20211209</td>\n",
              "      <td>10500</td>\n",
              "    </tr>\n",
              "    <tr>\n",
              "      <th>91523</th>\n",
              "      <td>M425728822</td>\n",
              "      <td>20211205</td>\n",
              "      <td>1</td>\n",
              "      <td>D02</td>\n",
              "      <td>119554</td>\n",
              "      <td>19</td>\n",
              "      <td>20211205</td>\n",
              "      <td>4550</td>\n",
              "    </tr>\n",
              "    <tr>\n",
              "      <th>68485</th>\n",
              "      <td>M314794317</td>\n",
              "      <td>20211219</td>\n",
              "      <td>1</td>\n",
              "      <td>B01</td>\n",
              "      <td>113620</td>\n",
              "      <td>10</td>\n",
              "      <td>20211219</td>\n",
              "      <td>64099</td>\n",
              "    </tr>\n",
              "  </tbody>\n",
              "</table>\n",
              "<p>76 rows × 8 columns</p>\n",
              "</div>\n",
              "      <button class=\"colab-df-convert\" onclick=\"convertToInteractive('df-45a66989-25ad-47ba-a8ad-75bef326521e')\"\n",
              "              title=\"Convert this dataframe to an interactive table.\"\n",
              "              style=\"display:none;\">\n",
              "        \n",
              "  <svg xmlns=\"http://www.w3.org/2000/svg\" height=\"24px\"viewBox=\"0 0 24 24\"\n",
              "       width=\"24px\">\n",
              "    <path d=\"M0 0h24v24H0V0z\" fill=\"none\"/>\n",
              "    <path d=\"M18.56 5.44l.94 2.06.94-2.06 2.06-.94-2.06-.94-.94-2.06-.94 2.06-2.06.94zm-11 1L8.5 8.5l.94-2.06 2.06-.94-2.06-.94L8.5 2.5l-.94 2.06-2.06.94zm10 10l.94 2.06.94-2.06 2.06-.94-2.06-.94-.94-2.06-.94 2.06-2.06.94z\"/><path d=\"M17.41 7.96l-1.37-1.37c-.4-.4-.92-.59-1.43-.59-.52 0-1.04.2-1.43.59L10.3 9.45l-7.72 7.72c-.78.78-.78 2.05 0 2.83L4 21.41c.39.39.9.59 1.41.59.51 0 1.02-.2 1.41-.59l7.78-7.78 2.81-2.81c.8-.78.8-2.07 0-2.86zM5.41 20L4 18.59l7.72-7.72 1.47 1.35L5.41 20z\"/>\n",
              "  </svg>\n",
              "      </button>\n",
              "      \n",
              "  <style>\n",
              "    .colab-df-container {\n",
              "      display:flex;\n",
              "      flex-wrap:wrap;\n",
              "      gap: 12px;\n",
              "    }\n",
              "\n",
              "    .colab-df-convert {\n",
              "      background-color: #E8F0FE;\n",
              "      border: none;\n",
              "      border-radius: 50%;\n",
              "      cursor: pointer;\n",
              "      display: none;\n",
              "      fill: #1967D2;\n",
              "      height: 32px;\n",
              "      padding: 0 0 0 0;\n",
              "      width: 32px;\n",
              "    }\n",
              "\n",
              "    .colab-df-convert:hover {\n",
              "      background-color: #E2EBFA;\n",
              "      box-shadow: 0px 1px 2px rgba(60, 64, 67, 0.3), 0px 1px 3px 1px rgba(60, 64, 67, 0.15);\n",
              "      fill: #174EA6;\n",
              "    }\n",
              "\n",
              "    [theme=dark] .colab-df-convert {\n",
              "      background-color: #3B4455;\n",
              "      fill: #D2E3FC;\n",
              "    }\n",
              "\n",
              "    [theme=dark] .colab-df-convert:hover {\n",
              "      background-color: #434B5C;\n",
              "      box-shadow: 0px 1px 3px 1px rgba(0, 0, 0, 0.15);\n",
              "      filter: drop-shadow(0px 1px 2px rgba(0, 0, 0, 0.3));\n",
              "      fill: #FFFFFF;\n",
              "    }\n",
              "  </style>\n",
              "\n",
              "      <script>\n",
              "        const buttonEl =\n",
              "          document.querySelector('#df-45a66989-25ad-47ba-a8ad-75bef326521e button.colab-df-convert');\n",
              "        buttonEl.style.display =\n",
              "          google.colab.kernel.accessAllowed ? 'block' : 'none';\n",
              "\n",
              "        async function convertToInteractive(key) {\n",
              "          const element = document.querySelector('#df-45a66989-25ad-47ba-a8ad-75bef326521e');\n",
              "          const dataTable =\n",
              "            await google.colab.kernel.invokeFunction('convertToInteractive',\n",
              "                                                     [key], {});\n",
              "          if (!dataTable) return;\n",
              "\n",
              "          const docLinkHtml = 'Like what you see? Visit the ' +\n",
              "            '<a target=\"_blank\" href=https://colab.research.google.com/notebooks/data_table.ipynb>data table notebook</a>'\n",
              "            + ' to learn more about interactive tables.';\n",
              "          element.innerHTML = '';\n",
              "          dataTable['output_type'] = 'display_data';\n",
              "          await google.colab.output.renderOutput(dataTable, element);\n",
              "          const docLink = document.createElement('div');\n",
              "          docLink.innerHTML = docLinkHtml;\n",
              "          element.appendChild(docLink);\n",
              "        }\n",
              "      </script>\n",
              "    </div>\n",
              "  </div>\n",
              "  "
            ]
          },
          "metadata": {},
          "execution_count": 70
        }
      ]
    },
    {
      "cell_type": "code",
      "source": [
        "(set(PDDE.cust) | set(COPU.cust)) & set(LPAY.cust)"
      ],
      "metadata": {
        "id": "XcsWC6SX6Kgw"
      },
      "execution_count": null,
      "outputs": []
    },
    {
      "cell_type": "code",
      "source": [
        "len(set(LPAY.cust))"
      ],
      "metadata": {
        "colab": {
          "base_uri": "https://localhost:8080/"
        },
        "id": "6awTzb1B7PVr",
        "outputId": "39056049-f1bf-46ba-dbbe-f77947df55e0"
      },
      "execution_count": null,
      "outputs": [
        {
          "output_type": "execute_result",
          "data": {
            "text/plain": [
              "8906"
            ]
          },
          "metadata": {},
          "execution_count": 16
        }
      ]
    },
    {
      "cell_type": "code",
      "source": [
        "len(set(COPU.cust))"
      ],
      "metadata": {
        "colab": {
          "base_uri": "https://localhost:8080/"
        },
        "id": "zlDWR7tq6z2x",
        "outputId": "97a5d9e5-2c3f-48e2-8c82-e57c46a85b01"
      },
      "execution_count": null,
      "outputs": [
        {
          "output_type": "execute_result",
          "data": {
            "text/plain": [
              "21769"
            ]
          },
          "metadata": {},
          "execution_count": 17
        }
      ]
    },
    {
      "cell_type": "code",
      "source": [
        "len(set(PDDE.cust))"
      ],
      "metadata": {
        "colab": {
          "base_uri": "https://localhost:8080/"
        },
        "id": "VLHRvuy57TUD",
        "outputId": "6577a670-b23a-484f-b3a7-933b53768b7f"
      },
      "execution_count": null,
      "outputs": [
        {
          "output_type": "execute_result",
          "data": {
            "text/plain": [
              "26917"
            ]
          },
          "metadata": {},
          "execution_count": 18
        }
      ]
    },
    {
      "cell_type": "code",
      "source": [
        "LPAY.rct_no"
      ],
      "metadata": {
        "colab": {
          "base_uri": "https://localhost:8080/"
        },
        "id": "McSKdFJj6xBO",
        "outputId": "bfbae81a-511a-4146-c9c4-d2176a0bf4c9"
      },
      "execution_count": null,
      "outputs": [
        {
          "output_type": "execute_result",
          "data": {
            "text/plain": [
              "0         210803210311226\n",
              "1         210803130167542\n",
              "2         210803140275112\n",
              "3         210803040637594\n",
              "4         210803140675502\n",
              "               ...       \n",
              "353179    210125110644545\n",
              "353180    210104210652271\n",
              "353181    210119200278240\n",
              "353182    210119180267206\n",
              "353183    210119150154756\n",
              "Name: rct_no, Length: 353184, dtype: int64"
            ]
          },
          "metadata": {},
          "execution_count": 9
        }
      ]
    },
    {
      "cell_type": "code",
      "source": [
        ""
      ],
      "metadata": {
        "id": "2ne1uehN6CQF"
      },
      "execution_count": null,
      "outputs": []
    },
    {
      "cell_type": "code",
      "source": [
        "# Python3 샘플 코드 #\n",
        "\n",
        "import requests\n",
        "api_key = 'Fag3S1Rzu7mBfk7C6iefQhLXPrSED3eWkntDDUS5dBwgMQCHmnFu7IBgcxoZh1weUelVZvjKkegTk40IigCehg%3D%3D'\n",
        "# api_key_decode = requests.utils.unquote(api_key)\n",
        "\n",
        "url = 'http://openapi.data.go.kr/openapi/service/rest/Covid19/getCovid19InfStateJson'\n",
        "params ={'serviceKey' : key, 'pageNo' : '1', 'numOfRows' : '10', 'startCreateDt' : '20200310', 'endCreateDt' : '20200315' }\n",
        "\n",
        "response = requests.get(url, params=params)\n",
        "print(response.content)"
      ],
      "metadata": {
        "colab": {
          "base_uri": "https://localhost:8080/"
        },
        "id": "tAFJSIbeBL-5",
        "outputId": "6156611d-c517-4208-cb28-b934ce4c760e"
      },
      "execution_count": null,
      "outputs": [
        {
          "output_type": "stream",
          "name": "stdout",
          "text": [
            "b'<?xml version=\"1.0\" encoding=\"UTF-8\" standalone=\"yes\"?><response><header><resultCode>99</resultCode><resultMsg>SERVICE KEY IS NOT REGISTERED ERROR.</resultMsg></header></response>'\n"
          ]
        }
      ]
    },
    {
      "cell_type": "code",
      "source": [
        "response"
      ],
      "metadata": {
        "colab": {
          "base_uri": "https://localhost:8080/"
        },
        "id": "x4ah8tw9Cb9B",
        "outputId": "5549165e-61bc-4613-fa2e-4939e64d5b2f"
      },
      "execution_count": null,
      "outputs": [
        {
          "output_type": "execute_result",
          "data": {
            "text/plain": [
              "<Response [200]>"
            ]
          },
          "metadata": {},
          "execution_count": 29
        }
      ]
    },
    {
      "cell_type": "code",
      "source": [
        "COPU['lpay'] = 0 \n",
        "LPAY['lpay'] = 1 "
      ],
      "metadata": {
        "id": "IZDIjw2smPuk"
      },
      "execution_count": null,
      "outputs": []
    },
    {
      "cell_type": "code",
      "source": [
        "col = ['cust', 'ma_fem_dv', 'ages', 'zon_hlv', 'de_dt', 'de_hr', 'chnl_dv', 'cop_c', 'buy_am', 'lpay']"
      ],
      "metadata": {
        "id": "pazEx5J1kzZx"
      },
      "execution_count": null,
      "outputs": []
    },
    {
      "cell_type": "code",
      "source": [
        "# LPAY_COPU = pd.concat([LPAY[col], COPU[col]])\n",
        "# LPAY_COPU['prop'] = 0\n",
        "\n",
        "# for id in tqdm(LPAY_COPU.cust.unique()):\n",
        "#     temp = LPAY_COPU.loc[LPAY_COPU.cust == id]\n",
        "#     LPAY_COPU.loc[LPAY_COPU.cust == id, 'prop'] = temp.lpay.mean()\n",
        "# LPAY_COPU.to_csv(path + \"LPAY_COPU.csv\", index = False) \n",
        "LPAY_COPU = pd.read_csv(path + \"LPAY_COPU.csv\")"
      ],
      "metadata": {
        "id": "COUIIzhOkxz9"
      },
      "execution_count": null,
      "outputs": []
    },
    {
      "cell_type": "code",
      "source": [
        "plt.scatter(sorted(LPAY_COPU.buy_am), range(LPAY_COPU.shape[0]))"
      ],
      "metadata": {
        "colab": {
          "base_uri": "https://localhost:8080/",
          "height": 296
        },
        "id": "-G1W0wVy2eRU",
        "outputId": "c366a782-e396-4968-8ef2-893dad658d4d"
      },
      "execution_count": null,
      "outputs": [
        {
          "output_type": "execute_result",
          "data": {
            "text/plain": [
              "<matplotlib.collections.PathCollection at 0x7f98d620cb90>"
            ]
          },
          "metadata": {},
          "execution_count": 10
        },
        {
          "output_type": "display_data",
          "data": {
            "text/plain": [
              "<Figure size 432x288 with 1 Axes>"
            ],
            "image/png": "[encoded data removed]"
          },
          "metadata": {
            "needs_background": "light"
          }
        }
      ]
    },
    {
      "cell_type": "code",
      "source": [
        "LPAY_COPU.loc[LPAY_COPU.prop > 0.75, 'ages'].hist()"
      ],
      "metadata": {
        "colab": {
          "base_uri": "https://localhost:8080/",
          "height": 338
        },
        "id": "ZoL1cdG_n_To",
        "outputId": "1c4637b4-02f4-4f6e-d3df-b6ee9847cdc0"
      },
      "execution_count": null,
      "outputs": [
        {
          "output_type": "execute_result",
          "data": {
            "text/plain": [
              "<matplotlib.axes._subplots.AxesSubplot at 0x7f98d3d77c50>"
            ]
          },
          "metadata": {},
          "execution_count": 11
        },
        {
          "output_type": "stream",
          "name": "stderr",
          "text": [
            "/usr/local/lib/python3.7/dist-packages/matplotlib/backends/backend_agg.py:214: RuntimeWarning: Glyph 45824 missing from current font.\n",
            "  font.set_text(s, 0.0, flags=flags)\n",
            "/usr/local/lib/python3.7/dist-packages/matplotlib/backends/backend_agg.py:183: RuntimeWarning: Glyph 45824 missing from current font.\n",
            "  font.set_text(s, 0, flags=flags)\n"
          ]
        },
        {
          "output_type": "display_data",
          "data": {
            "text/plain": [
              "<Figure size 432x288 with 1 Axes>"
            ],
            "image/png": "[encoded data removed]"
          },
          "metadata": {
            "needs_background": "light"
          }
        }
      ]
    },
    {
      "cell_type": "code",
      "source": [
        "LPAY_COPU.loc[LPAY_COPU.prop == 0, 'ages'].hist()"
      ],
      "metadata": {
        "colab": {
          "base_uri": "https://localhost:8080/",
          "height": 358
        },
        "id": "o0fMYF9n1ryt",
        "outputId": "0fd6b2f2-346b-4508-d117-032ac1622294"
      },
      "execution_count": null,
      "outputs": [
        {
          "output_type": "execute_result",
          "data": {
            "text/plain": [
              "<matplotlib.axes._subplots.AxesSubplot at 0x7f49ea5b99d0>"
            ]
          },
          "metadata": {},
          "execution_count": 23
        },
        {
          "output_type": "stream",
          "name": "stderr",
          "text": [
            "/usr/local/lib/python3.7/dist-packages/matplotlib/backends/backend_agg.py:214: RuntimeWarning: Glyph 45824 missing from current font.\n",
            "  font.set_text(s, 0.0, flags=flags)\n",
            "/usr/local/lib/python3.7/dist-packages/matplotlib/backends/backend_agg.py:183: RuntimeWarning: Glyph 45824 missing from current font.\n",
            "  font.set_text(s, 0, flags=flags)\n"
          ]
        },
        {
          "output_type": "display_data",
          "data": {
            "text/plain": [
              "<Figure size 432x288 with 1 Axes>"
            ],
            "image/png": "[encoded data removed]"
          },
          "metadata": {
            "needs_background": "light"
          }
        }
      ]
    },
    {
      "cell_type": "code",
      "source": [
        "#  구매내역 중 LPAY 사용 비율이 0.75 이상인 사람들의 lpay 사용금액의 분포\n",
        "LPAY_COPU.loc[(LPAY_COPU.lpay == 1) & (LPAY_COPU.buy_am < LPAY_COPU.buy_am.quantile(0.95)) & (LPAY_COPU.prop > 0.75)  , 'buy_am'].hist()"
      ],
      "metadata": {
        "colab": {
          "base_uri": "https://localhost:8080/",
          "height": 283
        },
        "id": "fQwvlfN419fb",
        "outputId": "f50af833-9948-4987-e62e-4b5466192185"
      },
      "execution_count": null,
      "outputs": [
        {
          "output_type": "execute_result",
          "data": {
            "text/plain": [
              "<matplotlib.axes._subplots.AxesSubplot at 0x7f98d37b7490>"
            ]
          },
          "metadata": {},
          "execution_count": 21
        },
        {
          "output_type": "display_data",
          "data": {
            "text/plain": [
              "<Figure size 432x288 with 1 Axes>"
            ],
            "image/png": "[encoded data removed]"
          },
          "metadata": {
            "needs_background": "light"
          }
        }
      ]
    },
    {
      "cell_type": "code",
      "source": [
        "#  구매내역 중 LPAY 사용 비율이 0.75 이상인 사람들의 현금거래 분포\n",
        "LPAY_COPU.loc[(LPAY_COPU.lpay == 0) & (LPAY_COPU.buy_am < LPAY_COPU.buy_am.quantile(0.95)) & (LPAY_COPU.prop > 0.75)  , 'buy_am'].hist()"
      ],
      "metadata": {
        "colab": {
          "base_uri": "https://localhost:8080/",
          "height": 283
        },
        "id": "0DCTh2Ys2RAE",
        "outputId": "7b852c38-1378-4c51-b04d-56eac03a638f"
      },
      "execution_count": null,
      "outputs": [
        {
          "output_type": "execute_result",
          "data": {
            "text/plain": [
              "<matplotlib.axes._subplots.AxesSubplot at 0x7f98d3ba68d0>"
            ]
          },
          "metadata": {},
          "execution_count": 22
        },
        {
          "output_type": "display_data",
          "data": {
            "text/plain": [
              "<Figure size 432x288 with 1 Axes>"
            ],
            "image/png": "[encoded data removed]"
          },
          "metadata": {
            "needs_background": "light"
          }
        }
      ]
    },
    {
      "cell_type": "code",
      "source": [
        "LPAY_COPU.cust.unique()"
      ],
      "metadata": {
        "colab": {
          "base_uri": "https://localhost:8080/"
        },
        "id": "hwEPBiGEpHce",
        "outputId": "e25752ed-6473-4a72-d900-2aedf15ef181"
      },
      "execution_count": null,
      "outputs": [
        {
          "output_type": "execute_result",
          "data": {
            "text/plain": [
              "array(['M629656521', 'M216016456', 'M205142844', ..., 'M736929241',\n",
              "       'M040608978', 'M761634870'], dtype=object)"
            ]
          },
          "metadata": {},
          "execution_count": 15
        }
      ]
    },
    {
      "cell_type": "code",
      "source": [
        "PDDE"
      ],
      "metadata": {
        "colab": {
          "base_uri": "https://localhost:8080/",
          "height": 1000
        },
        "id": "qjOIh5Q3Gcet",
        "outputId": "5d6d40c2-6cbe-4790-b8d0-2c8f1f2c252d"
      },
      "execution_count": null,
      "outputs": [
        {
          "output_type": "execute_result",
          "data": {
            "text/plain": [
              "         Unnamed: 0        cust ma_fem_dv ages zon_hlv     de_dt  de_hr  \\\n",
              "0                 0  M430112881        여성  50대     Z17  20210101     10   \n",
              "1                 1  M430112881        여성  50대     Z17  20210101     10   \n",
              "2                 2  M430112881        여성  50대     Z17  20210101     10   \n",
              "3                 3  M430112881        여성  50대     Z17  20210101     10   \n",
              "4                 4  M430112881        여성  50대     Z17  20210101     10   \n",
              "...             ...         ...       ...  ...     ...       ...    ...   \n",
              "4381738     4381738  M498069014        여성  40대     Z14  20211227     16   \n",
              "4381739     4381739  M498069014        여성  40대     Z14  20211227     16   \n",
              "4381740     4381740  M498069014        여성  40대     Z14  20211227     16   \n",
              "4381741     4381741  M498069014        여성  40대     Z14  20211227     16   \n",
              "4381742     4381742  M866900192        여성  50대     Z10  20211231     13   \n",
              "\n",
              "         chnl_dv br_zon_hlv br_zon_mcls cop_c     br_c clac_hlv_nm  \\\n",
              "0              1        Z10      Z10042   A01  A010039        남성의류   \n",
              "1              1        Z10      Z10042   A01  A010039        남성의류   \n",
              "2              1        Z10      Z10042   A01  A010039        남성의류   \n",
              "3              1        Z10      Z10042   A01  A010039        남성의류   \n",
              "4              1        Z10      Z10042   A01  A010039     테넌트/음식점   \n",
              "...          ...        ...         ...   ...      ...         ...   \n",
              "4381738        2        NaN         NaN   A06      NaN         상품권   \n",
              "4381739        2        NaN         NaN   A06      NaN         상품권   \n",
              "4381740        2        NaN         NaN   A06      NaN         상품권   \n",
              "4381741        2        NaN         NaN   A06      NaN         상품권   \n",
              "4381742        2        NaN         NaN   A06      NaN        여성의류   \n",
              "\n",
              "        clac_mcls_nm         pd_nm    pd_c  buy_ct    buy_am  \n",
              "0             남성의류상의         남성티셔츠  PD0290       1   15000.0  \n",
              "1             남성의류상의         남성티셔츠  PD0290       1   19000.0  \n",
              "2             남성의류상의         남성티셔츠  PD0290       1   19000.0  \n",
              "3             남성의류상의         남성티셔츠  PD0290       1   19000.0  \n",
              "4                 식당         커피/음료  PD1692       1    9900.0  \n",
              "...              ...           ...     ...     ...       ...  \n",
              "4381738       모바일상품권  백화점/마트모바일상품권  PD0507       1  100000.0  \n",
              "4381739       모바일상품권  백화점/마트모바일상품권  PD0507       1  100000.0  \n",
              "4381740       모바일상품권  백화점/마트모바일상품권  PD0507       1  100000.0  \n",
              "4381741       모바일상품권  백화점/마트모바일상품권  PD0507       1  100000.0  \n",
              "4381742       여성의류하의         여성청바지  PD0969       1   80100.0  \n",
              "\n",
              "[4381743 rows x 18 columns]"
            ],
            "text/html": [
              "\n",
              "  <div id=\"df-ffb1b426-4106-4c39-9fcd-fd0febe13c07\">\n",
              "    <div class=\"colab-df-container\">\n",
              "      <div>\n",
              "<style scoped>\n",
              "    .dataframe tbody tr th:only-of-type {\n",
              "        vertical-align: middle;\n",
              "    }\n",
              "\n",
              "    .dataframe tbody tr th {\n",
              "        vertical-align: top;\n",
              "    }\n",
              "\n",
              "    .dataframe thead th {\n",
              "        text-align: right;\n",
              "    }\n",
              "</style>\n",
              "<table border=\"1\" class=\"dataframe\">\n",
              "  <thead>\n",
              "    <tr style=\"text-align: right;\">\n",
              "      <th></th>\n",
              "      <th>Unnamed: 0</th>\n",
              "      <th>cust</th>\n",
              "      <th>ma_fem_dv</th>\n",
              "      <th>ages</th>\n",
              "      <th>zon_hlv</th>\n",
              "      <th>de_dt</th>\n",
              "      <th>de_hr</th>\n",
              "      <th>chnl_dv</th>\n",
              "      <th>br_zon_hlv</th>\n",
              "      <th>br_zon_mcls</th>\n",
              "      <th>cop_c</th>\n",
              "      <th>br_c</th>\n",
              "      <th>clac_hlv_nm</th>\n",
              "      <th>clac_mcls_nm</th>\n",
              "      <th>pd_nm</th>\n",
              "      <th>pd_c</th>\n",
              "      <th>buy_ct</th>\n",
              "      <th>buy_am</th>\n",
              "    </tr>\n",
              "  </thead>\n",
              "  <tbody>\n",
              "    <tr>\n",
              "      <th>0</th>\n",
              "      <td>0</td>\n",
              "      <td>M430112881</td>\n",
              "      <td>여성</td>\n",
              "      <td>50대</td>\n",
              "      <td>Z17</td>\n",
              "      <td>20210101</td>\n",
              "      <td>10</td>\n",
              "      <td>1</td>\n",
              "      <td>Z10</td>\n",
              "      <td>Z10042</td>\n",
              "      <td>A01</td>\n",
              "      <td>A010039</td>\n",
              "      <td>남성의류</td>\n",
              "      <td>남성의류상의</td>\n",
              "      <td>남성티셔츠</td>\n",
              "      <td>PD0290</td>\n",
              "      <td>1</td>\n",
              "      <td>15000.0</td>\n",
              "    </tr>\n",
              "    <tr>\n",
              "      <th>1</th>\n",
              "      <td>1</td>\n",
              "      <td>M430112881</td>\n",
              "      <td>여성</td>\n",
              "      <td>50대</td>\n",
              "      <td>Z17</td>\n",
              "      <td>20210101</td>\n",
              "      <td>10</td>\n",
              "      <td>1</td>\n",
              "      <td>Z10</td>\n",
              "      <td>Z10042</td>\n",
              "      <td>A01</td>\n",
              "      <td>A010039</td>\n",
              "      <td>남성의류</td>\n",
              "      <td>남성의류상의</td>\n",
              "      <td>남성티셔츠</td>\n",
              "      <td>PD0290</td>\n",
              "      <td>1</td>\n",
              "      <td>19000.0</td>\n",
              "    </tr>\n",
              "    <tr>\n",
              "      <th>2</th>\n",
              "      <td>2</td>\n",
              "      <td>M430112881</td>\n",
              "      <td>여성</td>\n",
              "      <td>50대</td>\n",
              "      <td>Z17</td>\n",
              "      <td>20210101</td>\n",
              "      <td>10</td>\n",
              "      <td>1</td>\n",
              "      <td>Z10</td>\n",
              "      <td>Z10042</td>\n",
              "      <td>A01</td>\n",
              "      <td>A010039</td>\n",
              "      <td>남성의류</td>\n",
              "      <td>남성의류상의</td>\n",
              "      <td>남성티셔츠</td>\n",
              "      <td>PD0290</td>\n",
              "      <td>1</td>\n",
              "      <td>19000.0</td>\n",
              "    </tr>\n",
              "    <tr>\n",
              "      <th>3</th>\n",
              "      <td>3</td>\n",
              "      <td>M430112881</td>\n",
              "      <td>여성</td>\n",
              "      <td>50대</td>\n",
              "      <td>Z17</td>\n",
              "      <td>20210101</td>\n",
              "      <td>10</td>\n",
              "      <td>1</td>\n",
              "      <td>Z10</td>\n",
              "      <td>Z10042</td>\n",
              "      <td>A01</td>\n",
              "      <td>A010039</td>\n",
              "      <td>남성의류</td>\n",
              "      <td>남성의류상의</td>\n",
              "      <td>남성티셔츠</td>\n",
              "      <td>PD0290</td>\n",
              "      <td>1</td>\n",
              "      <td>19000.0</td>\n",
              "    </tr>\n",
              "    <tr>\n",
              "      <th>4</th>\n",
              "      <td>4</td>\n",
              "      <td>M430112881</td>\n",
              "      <td>여성</td>\n",
              "      <td>50대</td>\n",
              "      <td>Z17</td>\n",
              "      <td>20210101</td>\n",
              "      <td>10</td>\n",
              "      <td>1</td>\n",
              "      <td>Z10</td>\n",
              "      <td>Z10042</td>\n",
              "      <td>A01</td>\n",
              "      <td>A010039</td>\n",
              "      <td>테넌트/음식점</td>\n",
              "      <td>식당</td>\n",
              "      <td>커피/음료</td>\n",
              "      <td>PD1692</td>\n",
              "      <td>1</td>\n",
              "      <td>9900.0</td>\n",
              "    </tr>\n",
              "    <tr>\n",
              "      <th>...</th>\n",
              "      <td>...</td>\n",
              "      <td>...</td>\n",
              "      <td>...</td>\n",
              "      <td>...</td>\n",
              "      <td>...</td>\n",
              "      <td>...</td>\n",
              "      <td>...</td>\n",
              "      <td>...</td>\n",
              "      <td>...</td>\n",
              "      <td>...</td>\n",
              "      <td>...</td>\n",
              "      <td>...</td>\n",
              "      <td>...</td>\n",
              "      <td>...</td>\n",
              "      <td>...</td>\n",
              "      <td>...</td>\n",
              "      <td>...</td>\n",
              "      <td>...</td>\n",
              "    </tr>\n",
              "    <tr>\n",
              "      <th>4381738</th>\n",
              "      <td>4381738</td>\n",
              "      <td>M498069014</td>\n",
              "      <td>여성</td>\n",
              "      <td>40대</td>\n",
              "      <td>Z14</td>\n",
              "      <td>20211227</td>\n",
              "      <td>16</td>\n",
              "      <td>2</td>\n",
              "      <td>NaN</td>\n",
              "      <td>NaN</td>\n",
              "      <td>A06</td>\n",
              "      <td>NaN</td>\n",
              "      <td>상품권</td>\n",
              "      <td>모바일상품권</td>\n",
              "      <td>백화점/마트모바일상품권</td>\n",
              "      <td>PD0507</td>\n",
              "      <td>1</td>\n",
              "      <td>100000.0</td>\n",
              "    </tr>\n",
              "    <tr>\n",
              "      <th>4381739</th>\n",
              "      <td>4381739</td>\n",
              "      <td>M498069014</td>\n",
              "      <td>여성</td>\n",
              "      <td>40대</td>\n",
              "      <td>Z14</td>\n",
              "      <td>20211227</td>\n",
              "      <td>16</td>\n",
              "      <td>2</td>\n",
              "      <td>NaN</td>\n",
              "      <td>NaN</td>\n",
              "      <td>A06</td>\n",
              "      <td>NaN</td>\n",
              "      <td>상품권</td>\n",
              "      <td>모바일상품권</td>\n",
              "      <td>백화점/마트모바일상품권</td>\n",
              "      <td>PD0507</td>\n",
              "      <td>1</td>\n",
              "      <td>100000.0</td>\n",
              "    </tr>\n",
              "    <tr>\n",
              "      <th>4381740</th>\n",
              "      <td>4381740</td>\n",
              "      <td>M498069014</td>\n",
              "      <td>여성</td>\n",
              "      <td>40대</td>\n",
              "      <td>Z14</td>\n",
              "      <td>20211227</td>\n",
              "      <td>16</td>\n",
              "      <td>2</td>\n",
              "      <td>NaN</td>\n",
              "      <td>NaN</td>\n",
              "      <td>A06</td>\n",
              "      <td>NaN</td>\n",
              "      <td>상품권</td>\n",
              "      <td>모바일상품권</td>\n",
              "      <td>백화점/마트모바일상품권</td>\n",
              "      <td>PD0507</td>\n",
              "      <td>1</td>\n",
              "      <td>100000.0</td>\n",
              "    </tr>\n",
              "    <tr>\n",
              "      <th>4381741</th>\n",
              "      <td>4381741</td>\n",
              "      <td>M498069014</td>\n",
              "      <td>여성</td>\n",
              "      <td>40대</td>\n",
              "      <td>Z14</td>\n",
              "      <td>20211227</td>\n",
              "      <td>16</td>\n",
              "      <td>2</td>\n",
              "      <td>NaN</td>\n",
              "      <td>NaN</td>\n",
              "      <td>A06</td>\n",
              "      <td>NaN</td>\n",
              "      <td>상품권</td>\n",
              "      <td>모바일상품권</td>\n",
              "      <td>백화점/마트모바일상품권</td>\n",
              "      <td>PD0507</td>\n",
              "      <td>1</td>\n",
              "      <td>100000.0</td>\n",
              "    </tr>\n",
              "    <tr>\n",
              "      <th>4381742</th>\n",
              "      <td>4381742</td>\n",
              "      <td>M866900192</td>\n",
              "      <td>여성</td>\n",
              "      <td>50대</td>\n",
              "      <td>Z10</td>\n",
              "      <td>20211231</td>\n",
              "      <td>13</td>\n",
              "      <td>2</td>\n",
              "      <td>NaN</td>\n",
              "      <td>NaN</td>\n",
              "      <td>A06</td>\n",
              "      <td>NaN</td>\n",
              "      <td>여성의류</td>\n",
              "      <td>여성의류하의</td>\n",
              "      <td>여성청바지</td>\n",
              "      <td>PD0969</td>\n",
              "      <td>1</td>\n",
              "      <td>80100.0</td>\n",
              "    </tr>\n",
              "  </tbody>\n",
              "</table>\n",
              "<p>4381743 rows × 18 columns</p>\n",
              "</div>\n",
              "      <button class=\"colab-df-convert\" onclick=\"convertToInteractive('df-ffb1b426-4106-4c39-9fcd-fd0febe13c07')\"\n",
              "              title=\"Convert this dataframe to an interactive table.\"\n",
              "              style=\"display:none;\">\n",
              "        \n",
              "  <svg xmlns=\"http://www.w3.org/2000/svg\" height=\"24px\"viewBox=\"0 0 24 24\"\n",
              "       width=\"24px\">\n",
              "    <path d=\"M0 0h24v24H0V0z\" fill=\"none\"/>\n",
              "    <path d=\"M18.56 5.44l.94 2.06.94-2.06 2.06-.94-2.06-.94-.94-2.06-.94 2.06-2.06.94zm-11 1L8.5 8.5l.94-2.06 2.06-.94-2.06-.94L8.5 2.5l-.94 2.06-2.06.94zm10 10l.94 2.06.94-2.06 2.06-.94-2.06-.94-.94-2.06-.94 2.06-2.06.94z\"/><path d=\"M17.41 7.96l-1.37-1.37c-.4-.4-.92-.59-1.43-.59-.52 0-1.04.2-1.43.59L10.3 9.45l-7.72 7.72c-.78.78-.78 2.05 0 2.83L4 21.41c.39.39.9.59 1.41.59.51 0 1.02-.2 1.41-.59l7.78-7.78 2.81-2.81c.8-.78.8-2.07 0-2.86zM5.41 20L4 18.59l7.72-7.72 1.47 1.35L5.41 20z\"/>\n",
              "  </svg>\n",
              "      </button>\n",
              "      \n",
              "  <style>\n",
              "    .colab-df-container {\n",
              "      display:flex;\n",
              "      flex-wrap:wrap;\n",
              "      gap: 12px;\n",
              "    }\n",
              "\n",
              "    .colab-df-convert {\n",
              "      background-color: #E8F0FE;\n",
              "      border: none;\n",
              "      border-radius: 50%;\n",
              "      cursor: pointer;\n",
              "      display: none;\n",
              "      fill: #1967D2;\n",
              "      height: 32px;\n",
              "      padding: 0 0 0 0;\n",
              "      width: 32px;\n",
              "    }\n",
              "\n",
              "    .colab-df-convert:hover {\n",
              "      background-color: #E2EBFA;\n",
              "      box-shadow: 0px 1px 2px rgba(60, 64, 67, 0.3), 0px 1px 3px 1px rgba(60, 64, 67, 0.15);\n",
              "      fill: #174EA6;\n",
              "    }\n",
              "\n",
              "    [theme=dark] .colab-df-convert {\n",
              "      background-color: #3B4455;\n",
              "      fill: #D2E3FC;\n",
              "    }\n",
              "\n",
              "    [theme=dark] .colab-df-convert:hover {\n",
              "      background-color: #434B5C;\n",
              "      box-shadow: 0px 1px 3px 1px rgba(0, 0, 0, 0.15);\n",
              "      filter: drop-shadow(0px 1px 2px rgba(0, 0, 0, 0.3));\n",
              "      fill: #FFFFFF;\n",
              "    }\n",
              "  </style>\n",
              "\n",
              "      <script>\n",
              "        const buttonEl =\n",
              "          document.querySelector('#df-ffb1b426-4106-4c39-9fcd-fd0febe13c07 button.colab-df-convert');\n",
              "        buttonEl.style.display =\n",
              "          google.colab.kernel.accessAllowed ? 'block' : 'none';\n",
              "\n",
              "        async function convertToInteractive(key) {\n",
              "          const element = document.querySelector('#df-ffb1b426-4106-4c39-9fcd-fd0febe13c07');\n",
              "          const dataTable =\n",
              "            await google.colab.kernel.invokeFunction('convertToInteractive',\n",
              "                                                     [key], {});\n",
              "          if (!dataTable) return;\n",
              "\n",
              "          const docLinkHtml = 'Like what you see? Visit the ' +\n",
              "            '<a target=\"_blank\" href=https://colab.research.google.com/notebooks/data_table.ipynb>data table notebook</a>'\n",
              "            + ' to learn more about interactive tables.';\n",
              "          element.innerHTML = '';\n",
              "          dataTable['output_type'] = 'display_data';\n",
              "          await google.colab.output.renderOutput(dataTable, element);\n",
              "          const docLink = document.createElement('div');\n",
              "          docLink.innerHTML = docLinkHtml;\n",
              "          element.appendChild(docLink);\n",
              "        }\n",
              "      </script>\n",
              "    </div>\n",
              "  </div>\n",
              "  "
            ]
          },
          "metadata": {},
          "execution_count": 23
        }
      ]
    },
    {
      "cell_type": "code",
      "source": [
        ""
      ],
      "metadata": {
        "id": "TD3X7YsJoE1S"
      },
      "execution_count": null,
      "outputs": []
    },
    {
      "cell_type": "code",
      "source": [
        "# 대칭 차집합\n",
        "len(set(LPAY_COPU.cust).symmetric_difference(set(PDDE.cust)))"
      ],
      "metadata": {
        "colab": {
          "base_uri": "https://localhost:8080/"
        },
        "id": "o8g0nMup0GI5",
        "outputId": "3fdba1d4-090a-4f8e-df65-8ba22160bbac"
      },
      "execution_count": null,
      "outputs": [
        {
          "output_type": "execute_result",
          "data": {
            "text/plain": [
              "10247"
            ]
          },
          "metadata": {},
          "execution_count": 103
        }
      ]
    },
    {
      "cell_type": "code",
      "source": [
        "len(PDDE.cust.unique())"
      ],
      "metadata": {
        "colab": {
          "base_uri": "https://localhost:8080/"
        },
        "id": "5_WDswau0I4z",
        "outputId": "09af63e9-306a-4862-e77d-ba9f53af780e"
      },
      "execution_count": null,
      "outputs": [
        {
          "output_type": "execute_result",
          "data": {
            "text/plain": [
              "26917"
            ]
          },
          "metadata": {},
          "execution_count": 102
        }
      ]
    },
    {
      "cell_type": "code",
      "source": [
        "print(len(LPAY.cust.unique()))\n",
        "print(LPAY.shape[0])"
      ],
      "metadata": {
        "colab": {
          "base_uri": "https://localhost:8080/"
        },
        "id": "xFPDxDfdvapb",
        "outputId": "e8c0f1bc-b04f-4f4d-9e90-855645f13af4"
      },
      "execution_count": null,
      "outputs": [
        {
          "output_type": "stream",
          "name": "stdout",
          "text": [
            "8906\n",
            "353184\n"
          ]
        }
      ]
    },
    {
      "cell_type": "code",
      "source": [
        "print(len(PDDE.cust.unique()))\n",
        "print(PDDE.shape[0])"
      ],
      "metadata": {
        "colab": {
          "base_uri": "https://localhost:8080/"
        },
        "id": "-Uhoo0D-stKp",
        "outputId": "32c8a4b1-75dc-428b-facb-18ac61a9b278"
      },
      "execution_count": null,
      "outputs": [
        {
          "output_type": "stream",
          "name": "stdout",
          "text": [
            "26917\n",
            "4381743\n"
          ]
        }
      ]
    },
    {
      "cell_type": "code",
      "source": [
        "print(len(COPU.cust.unique()))\n",
        "print(COPU.shape[0])"
      ],
      "metadata": {
        "colab": {
          "base_uri": "https://localhost:8080/"
        },
        "id": "NhA0IigFvbyf",
        "outputId": "d21e212a-068b-4d50-e402-70d78f82fe57"
      },
      "execution_count": null,
      "outputs": [
        {
          "output_type": "stream",
          "name": "stdout",
          "text": [
            "21769\n",
            "248304\n"
          ]
        }
      ]
    },
    {
      "cell_type": "code",
      "source": [
        "COPU.loc[COPU.cust == 'M430112881']"
      ],
      "metadata": {
        "colab": {
          "base_uri": "https://localhost:8080/",
          "height": 81
        },
        "id": "G7iJMPB716U_",
        "outputId": "8c85dbef-77d6-4db4-a963-83315ac76161"
      },
      "execution_count": null,
      "outputs": [
        {
          "output_type": "execute_result",
          "data": {
            "text/plain": [
              "        Unnamed: 0        cust ma_fem_dv ages zon_hlv     de_dt  de_hr  \\\n",
              "187860      187860  M430112881        여성  50대     Z17  20210509     14   \n",
              "\n",
              "        chnl_dv br_zon_hlv br_zon_mcls cop_c     br_c    vst_dt  buy_am  \n",
              "187860        1        Z17      Z17014   D01  D010565  20210509   13900  "
            ],
            "text/html": [
              "\n",
              "  <div id=\"df-02b861c0-c976-41cf-9688-fa3ba6a17554\">\n",
              "    <div class=\"colab-df-container\">\n",
              "      <div>\n",
              "<style scoped>\n",
              "    .dataframe tbody tr th:only-of-type {\n",
              "        vertical-align: middle;\n",
              "    }\n",
              "\n",
              "    .dataframe tbody tr th {\n",
              "        vertical-align: top;\n",
              "    }\n",
              "\n",
              "    .dataframe thead th {\n",
              "        text-align: right;\n",
              "    }\n",
              "</style>\n",
              "<table border=\"1\" class=\"dataframe\">\n",
              "  <thead>\n",
              "    <tr style=\"text-align: right;\">\n",
              "      <th></th>\n",
              "      <th>Unnamed: 0</th>\n",
              "      <th>cust</th>\n",
              "      <th>ma_fem_dv</th>\n",
              "      <th>ages</th>\n",
              "      <th>zon_hlv</th>\n",
              "      <th>de_dt</th>\n",
              "      <th>de_hr</th>\n",
              "      <th>chnl_dv</th>\n",
              "      <th>br_zon_hlv</th>\n",
              "      <th>br_zon_mcls</th>\n",
              "      <th>cop_c</th>\n",
              "      <th>br_c</th>\n",
              "      <th>vst_dt</th>\n",
              "      <th>buy_am</th>\n",
              "    </tr>\n",
              "  </thead>\n",
              "  <tbody>\n",
              "    <tr>\n",
              "      <th>187860</th>\n",
              "      <td>187860</td>\n",
              "      <td>M430112881</td>\n",
              "      <td>여성</td>\n",
              "      <td>50대</td>\n",
              "      <td>Z17</td>\n",
              "      <td>20210509</td>\n",
              "      <td>14</td>\n",
              "      <td>1</td>\n",
              "      <td>Z17</td>\n",
              "      <td>Z17014</td>\n",
              "      <td>D01</td>\n",
              "      <td>D010565</td>\n",
              "      <td>20210509</td>\n",
              "      <td>13900</td>\n",
              "    </tr>\n",
              "  </tbody>\n",
              "</table>\n",
              "</div>\n",
              "      <button class=\"colab-df-convert\" onclick=\"convertToInteractive('df-02b861c0-c976-41cf-9688-fa3ba6a17554')\"\n",
              "              title=\"Convert this dataframe to an interactive table.\"\n",
              "              style=\"display:none;\">\n",
              "        \n",
              "  <svg xmlns=\"http://www.w3.org/2000/svg\" height=\"24px\"viewBox=\"0 0 24 24\"\n",
              "       width=\"24px\">\n",
              "    <path d=\"M0 0h24v24H0V0z\" fill=\"none\"/>\n",
              "    <path d=\"M18.56 5.44l.94 2.06.94-2.06 2.06-.94-2.06-.94-.94-2.06-.94 2.06-2.06.94zm-11 1L8.5 8.5l.94-2.06 2.06-.94-2.06-.94L8.5 2.5l-.94 2.06-2.06.94zm10 10l.94 2.06.94-2.06 2.06-.94-2.06-.94-.94-2.06-.94 2.06-2.06.94z\"/><path d=\"M17.41 7.96l-1.37-1.37c-.4-.4-.92-.59-1.43-.59-.52 0-1.04.2-1.43.59L10.3 9.45l-7.72 7.72c-.78.78-.78 2.05 0 2.83L4 21.41c.39.39.9.59 1.41.59.51 0 1.02-.2 1.41-.59l7.78-7.78 2.81-2.81c.8-.78.8-2.07 0-2.86zM5.41 20L4 18.59l7.72-7.72 1.47 1.35L5.41 20z\"/>\n",
              "  </svg>\n",
              "      </button>\n",
              "      \n",
              "  <style>\n",
              "    .colab-df-container {\n",
              "      display:flex;\n",
              "      flex-wrap:wrap;\n",
              "      gap: 12px;\n",
              "    }\n",
              "\n",
              "    .colab-df-convert {\n",
              "      background-color: #E8F0FE;\n",
              "      border: none;\n",
              "      border-radius: 50%;\n",
              "      cursor: pointer;\n",
              "      display: none;\n",
              "      fill: #1967D2;\n",
              "      height: 32px;\n",
              "      padding: 0 0 0 0;\n",
              "      width: 32px;\n",
              "    }\n",
              "\n",
              "    .colab-df-convert:hover {\n",
              "      background-color: #E2EBFA;\n",
              "      box-shadow: 0px 1px 2px rgba(60, 64, 67, 0.3), 0px 1px 3px 1px rgba(60, 64, 67, 0.15);\n",
              "      fill: #174EA6;\n",
              "    }\n",
              "\n",
              "    [theme=dark] .colab-df-convert {\n",
              "      background-color: #3B4455;\n",
              "      fill: #D2E3FC;\n",
              "    }\n",
              "\n",
              "    [theme=dark] .colab-df-convert:hover {\n",
              "      background-color: #434B5C;\n",
              "      box-shadow: 0px 1px 3px 1px rgba(0, 0, 0, 0.15);\n",
              "      filter: drop-shadow(0px 1px 2px rgba(0, 0, 0, 0.3));\n",
              "      fill: #FFFFFF;\n",
              "    }\n",
              "  </style>\n",
              "\n",
              "      <script>\n",
              "        const buttonEl =\n",
              "          document.querySelector('#df-02b861c0-c976-41cf-9688-fa3ba6a17554 button.colab-df-convert');\n",
              "        buttonEl.style.display =\n",
              "          google.colab.kernel.accessAllowed ? 'block' : 'none';\n",
              "\n",
              "        async function convertToInteractive(key) {\n",
              "          const element = document.querySelector('#df-02b861c0-c976-41cf-9688-fa3ba6a17554');\n",
              "          const dataTable =\n",
              "            await google.colab.kernel.invokeFunction('convertToInteractive',\n",
              "                                                     [key], {});\n",
              "          if (!dataTable) return;\n",
              "\n",
              "          const docLinkHtml = 'Like what you see? Visit the ' +\n",
              "            '<a target=\"_blank\" href=https://colab.research.google.com/notebooks/data_table.ipynb>data table notebook</a>'\n",
              "            + ' to learn more about interactive tables.';\n",
              "          element.innerHTML = '';\n",
              "          dataTable['output_type'] = 'display_data';\n",
              "          await google.colab.output.renderOutput(dataTable, element);\n",
              "          const docLink = document.createElement('div');\n",
              "          docLink.innerHTML = docLinkHtml;\n",
              "          element.appendChild(docLink);\n",
              "        }\n",
              "      </script>\n",
              "    </div>\n",
              "  </div>\n",
              "  "
            ]
          },
          "metadata": {},
          "execution_count": 52
        }
      ]
    },
    {
      "cell_type": "code",
      "source": [
        "\t\t\t\t\t\tbr_zon_hlv\tbr_zon_mcls\t\tbr_c\tvst_dt\t"
      ],
      "metadata": {
        "id": "EofOK5VM4aOG"
      },
      "execution_count": null,
      "outputs": []
    },
    {
      "cell_type": "code",
      "source": [
        "LPAY.loc[LPAY.cust == 'M430112881']"
      ],
      "metadata": {
        "colab": {
          "base_uri": "https://localhost:8080/",
          "height": 49
        },
        "id": "hdevXz_D10kx",
        "outputId": "e84f1eea-459d-473e-ed5e-b82152cecc58"
      },
      "execution_count": null,
      "outputs": [
        {
          "output_type": "execute_result",
          "data": {
            "text/plain": [
              "Empty DataFrame\n",
              "Columns: [Unnamed: 0, cust, ma_fem_dv, ages, zon_hlv, de_dt, de_hr, chnl_dv, cop_c, buy_am]\n",
              "Index: []"
            ],
            "text/html": [
              "\n",
              "  <div id=\"df-c7877820-308c-4b4e-a155-92e8bf6868cf\">\n",
              "    <div class=\"colab-df-container\">\n",
              "      <div>\n",
              "<style scoped>\n",
              "    .dataframe tbody tr th:only-of-type {\n",
              "        vertical-align: middle;\n",
              "    }\n",
              "\n",
              "    .dataframe tbody tr th {\n",
              "        vertical-align: top;\n",
              "    }\n",
              "\n",
              "    .dataframe thead th {\n",
              "        text-align: right;\n",
              "    }\n",
              "</style>\n",
              "<table border=\"1\" class=\"dataframe\">\n",
              "  <thead>\n",
              "    <tr style=\"text-align: right;\">\n",
              "      <th></th>\n",
              "      <th>Unnamed: 0</th>\n",
              "      <th>cust</th>\n",
              "      <th>ma_fem_dv</th>\n",
              "      <th>ages</th>\n",
              "      <th>zon_hlv</th>\n",
              "      <th>de_dt</th>\n",
              "      <th>de_hr</th>\n",
              "      <th>chnl_dv</th>\n",
              "      <th>cop_c</th>\n",
              "      <th>buy_am</th>\n",
              "    </tr>\n",
              "  </thead>\n",
              "  <tbody>\n",
              "  </tbody>\n",
              "</table>\n",
              "</div>\n",
              "      <button class=\"colab-df-convert\" onclick=\"convertToInteractive('df-c7877820-308c-4b4e-a155-92e8bf6868cf')\"\n",
              "              title=\"Convert this dataframe to an interactive table.\"\n",
              "              style=\"display:none;\">\n",
              "        \n",
              "  <svg xmlns=\"http://www.w3.org/2000/svg\" height=\"24px\"viewBox=\"0 0 24 24\"\n",
              "       width=\"24px\">\n",
              "    <path d=\"M0 0h24v24H0V0z\" fill=\"none\"/>\n",
              "    <path d=\"M18.56 5.44l.94 2.06.94-2.06 2.06-.94-2.06-.94-.94-2.06-.94 2.06-2.06.94zm-11 1L8.5 8.5l.94-2.06 2.06-.94-2.06-.94L8.5 2.5l-.94 2.06-2.06.94zm10 10l.94 2.06.94-2.06 2.06-.94-2.06-.94-.94-2.06-.94 2.06-2.06.94z\"/><path d=\"M17.41 7.96l-1.37-1.37c-.4-.4-.92-.59-1.43-.59-.52 0-1.04.2-1.43.59L10.3 9.45l-7.72 7.72c-.78.78-.78 2.05 0 2.83L4 21.41c.39.39.9.59 1.41.59.51 0 1.02-.2 1.41-.59l7.78-7.78 2.81-2.81c.8-.78.8-2.07 0-2.86zM5.41 20L4 18.59l7.72-7.72 1.47 1.35L5.41 20z\"/>\n",
              "  </svg>\n",
              "      </button>\n",
              "      \n",
              "  <style>\n",
              "    .colab-df-container {\n",
              "      display:flex;\n",
              "      flex-wrap:wrap;\n",
              "      gap: 12px;\n",
              "    }\n",
              "\n",
              "    .colab-df-convert {\n",
              "      background-color: #E8F0FE;\n",
              "      border: none;\n",
              "      border-radius: 50%;\n",
              "      cursor: pointer;\n",
              "      display: none;\n",
              "      fill: #1967D2;\n",
              "      height: 32px;\n",
              "      padding: 0 0 0 0;\n",
              "      width: 32px;\n",
              "    }\n",
              "\n",
              "    .colab-df-convert:hover {\n",
              "      background-color: #E2EBFA;\n",
              "      box-shadow: 0px 1px 2px rgba(60, 64, 67, 0.3), 0px 1px 3px 1px rgba(60, 64, 67, 0.15);\n",
              "      fill: #174EA6;\n",
              "    }\n",
              "\n",
              "    [theme=dark] .colab-df-convert {\n",
              "      background-color: #3B4455;\n",
              "      fill: #D2E3FC;\n",
              "    }\n",
              "\n",
              "    [theme=dark] .colab-df-convert:hover {\n",
              "      background-color: #434B5C;\n",
              "      box-shadow: 0px 1px 3px 1px rgba(0, 0, 0, 0.15);\n",
              "      filter: drop-shadow(0px 1px 2px rgba(0, 0, 0, 0.3));\n",
              "      fill: #FFFFFF;\n",
              "    }\n",
              "  </style>\n",
              "\n",
              "      <script>\n",
              "        const buttonEl =\n",
              "          document.querySelector('#df-c7877820-308c-4b4e-a155-92e8bf6868cf button.colab-df-convert');\n",
              "        buttonEl.style.display =\n",
              "          google.colab.kernel.accessAllowed ? 'block' : 'none';\n",
              "\n",
              "        async function convertToInteractive(key) {\n",
              "          const element = document.querySelector('#df-c7877820-308c-4b4e-a155-92e8bf6868cf');\n",
              "          const dataTable =\n",
              "            await google.colab.kernel.invokeFunction('convertToInteractive',\n",
              "                                                     [key], {});\n",
              "          if (!dataTable) return;\n",
              "\n",
              "          const docLinkHtml = 'Like what you see? Visit the ' +\n",
              "            '<a target=\"_blank\" href=https://colab.research.google.com/notebooks/data_table.ipynb>data table notebook</a>'\n",
              "            + ' to learn more about interactive tables.';\n",
              "          element.innerHTML = '';\n",
              "          dataTable['output_type'] = 'display_data';\n",
              "          await google.colab.output.renderOutput(dataTable, element);\n",
              "          const docLink = document.createElement('div');\n",
              "          docLink.innerHTML = docLinkHtml;\n",
              "          element.appendChild(docLink);\n",
              "        }\n",
              "      </script>\n",
              "    </div>\n",
              "  </div>\n",
              "  "
            ]
          },
          "metadata": {},
          "execution_count": 53
        }
      ]
    },
    {
      "cell_type": "code",
      "source": [
        "PDDE.loc[PDDE.cust == 'M430112881']"
      ],
      "metadata": {
        "colab": {
          "base_uri": "https://localhost:8080/",
          "height": 817
        },
        "id": "SQ0gOMpJjV79",
        "outputId": "3ea9e7db-a81d-46ef-bc95-04ddd28f207f"
      },
      "execution_count": null,
      "outputs": [
        {
          "output_type": "execute_result",
          "data": {
            "text/plain": [
              "         Unnamed: 0        cust ma_fem_dv ages zon_hlv     de_dt  de_hr  \\\n",
              "0                 0  M430112881        여성  50대     Z17  20210101     10   \n",
              "1                 1  M430112881        여성  50대     Z17  20210101     10   \n",
              "2                 2  M430112881        여성  50대     Z17  20210101     10   \n",
              "3                 3  M430112881        여성  50대     Z17  20210101     10   \n",
              "4                 4  M430112881        여성  50대     Z17  20210101     10   \n",
              "...             ...         ...       ...  ...     ...       ...    ...   \n",
              "3382795     3382795  M430112881        여성  50대     Z17  20211230     17   \n",
              "3382796     3382796  M430112881        여성  50대     Z17  20211230     17   \n",
              "3382797     3382797  M430112881        여성  50대     Z17  20211115     11   \n",
              "3382798     3382798  M430112881        여성  50대     Z17  20211115     11   \n",
              "3382799     3382799  M430112881        여성  50대     Z17  20211115     11   \n",
              "\n",
              "         chnl_dv br_zon_hlv br_zon_mcls cop_c     br_c clac_hlv_nm  \\\n",
              "0              1        Z10      Z10042   A01  A010039        남성의류   \n",
              "1              1        Z10      Z10042   A01  A010039        남성의류   \n",
              "2              1        Z10      Z10042   A01  A010039        남성의류   \n",
              "3              1        Z10      Z10042   A01  A010039        남성의류   \n",
              "4              1        Z10      Z10042   A01  A010039     테넌트/음식점   \n",
              "...          ...        ...         ...   ...      ...         ...   \n",
              "3382795        1        Z17      Z17014   A03  A030185          과자   \n",
              "3382796        1        Z17      Z17014   A03  A030185         유제품   \n",
              "3382797        1        Z17      Z17014   A04  A040303    생활/렌탈서비스   \n",
              "3382798        1        Z17      Z17014   A04  A040303          음료   \n",
              "3382799        1        Z17      Z17014   A04  A040303        냉동식품   \n",
              "\n",
              "        clac_mcls_nm     pd_nm    pd_c  buy_ct   buy_am  \n",
              "0             남성의류상의     남성티셔츠  PD0290       1  15000.0  \n",
              "1             남성의류상의     남성티셔츠  PD0290       1  19000.0  \n",
              "2             남성의류상의     남성티셔츠  PD0290       1  19000.0  \n",
              "3             남성의류상의     남성티셔츠  PD0290       1  19000.0  \n",
              "4                 식당     커피/음료  PD1692       1   9900.0  \n",
              "...              ...       ...     ...     ...      ...  \n",
              "3382795          스낵류      일반스낵  PD0232       1   2990.0  \n",
              "3382796           우유     기능성우유  PD1157       1   2990.0  \n",
              "3382797        생활서비스   기타생활서비스  PD0529       1    100.0  \n",
              "3382798        즉석음료류  파우치/즉석음료  PD1178       1   1140.0  \n",
              "3382799        아이스크림        얼음  PD0335       1    760.0  \n",
              "\n",
              "[415 rows x 18 columns]"
            ],
            "text/html": [
              "\n",
              "  <div id=\"df-965bac5a-a17c-4935-80cd-3e50d79d6cab\">\n",
              "    <div class=\"colab-df-container\">\n",
              "      <div>\n",
              "<style scoped>\n",
              "    .dataframe tbody tr th:only-of-type {\n",
              "        vertical-align: middle;\n",
              "    }\n",
              "\n",
              "    .dataframe tbody tr th {\n",
              "        vertical-align: top;\n",
              "    }\n",
              "\n",
              "    .dataframe thead th {\n",
              "        text-align: right;\n",
              "    }\n",
              "</style>\n",
              "<table border=\"1\" class=\"dataframe\">\n",
              "  <thead>\n",
              "    <tr style=\"text-align: right;\">\n",
              "      <th></th>\n",
              "      <th>Unnamed: 0</th>\n",
              "      <th>cust</th>\n",
              "      <th>ma_fem_dv</th>\n",
              "      <th>ages</th>\n",
              "      <th>zon_hlv</th>\n",
              "      <th>de_dt</th>\n",
              "      <th>de_hr</th>\n",
              "      <th>chnl_dv</th>\n",
              "      <th>br_zon_hlv</th>\n",
              "      <th>br_zon_mcls</th>\n",
              "      <th>cop_c</th>\n",
              "      <th>br_c</th>\n",
              "      <th>clac_hlv_nm</th>\n",
              "      <th>clac_mcls_nm</th>\n",
              "      <th>pd_nm</th>\n",
              "      <th>pd_c</th>\n",
              "      <th>buy_ct</th>\n",
              "      <th>buy_am</th>\n",
              "    </tr>\n",
              "  </thead>\n",
              "  <tbody>\n",
              "    <tr>\n",
              "      <th>0</th>\n",
              "      <td>0</td>\n",
              "      <td>M430112881</td>\n",
              "      <td>여성</td>\n",
              "      <td>50대</td>\n",
              "      <td>Z17</td>\n",
              "      <td>20210101</td>\n",
              "      <td>10</td>\n",
              "      <td>1</td>\n",
              "      <td>Z10</td>\n",
              "      <td>Z10042</td>\n",
              "      <td>A01</td>\n",
              "      <td>A010039</td>\n",
              "      <td>남성의류</td>\n",
              "      <td>남성의류상의</td>\n",
              "      <td>남성티셔츠</td>\n",
              "      <td>PD0290</td>\n",
              "      <td>1</td>\n",
              "      <td>15000.0</td>\n",
              "    </tr>\n",
              "    <tr>\n",
              "      <th>1</th>\n",
              "      <td>1</td>\n",
              "      <td>M430112881</td>\n",
              "      <td>여성</td>\n",
              "      <td>50대</td>\n",
              "      <td>Z17</td>\n",
              "      <td>20210101</td>\n",
              "      <td>10</td>\n",
              "      <td>1</td>\n",
              "      <td>Z10</td>\n",
              "      <td>Z10042</td>\n",
              "      <td>A01</td>\n",
              "      <td>A010039</td>\n",
              "      <td>남성의류</td>\n",
              "      <td>남성의류상의</td>\n",
              "      <td>남성티셔츠</td>\n",
              "      <td>PD0290</td>\n",
              "      <td>1</td>\n",
              "      <td>19000.0</td>\n",
              "    </tr>\n",
              "    <tr>\n",
              "      <th>2</th>\n",
              "      <td>2</td>\n",
              "      <td>M430112881</td>\n",
              "      <td>여성</td>\n",
              "      <td>50대</td>\n",
              "      <td>Z17</td>\n",
              "      <td>20210101</td>\n",
              "      <td>10</td>\n",
              "      <td>1</td>\n",
              "      <td>Z10</td>\n",
              "      <td>Z10042</td>\n",
              "      <td>A01</td>\n",
              "      <td>A010039</td>\n",
              "      <td>남성의류</td>\n",
              "      <td>남성의류상의</td>\n",
              "      <td>남성티셔츠</td>\n",
              "      <td>PD0290</td>\n",
              "      <td>1</td>\n",
              "      <td>19000.0</td>\n",
              "    </tr>\n",
              "    <tr>\n",
              "      <th>3</th>\n",
              "      <td>3</td>\n",
              "      <td>M430112881</td>\n",
              "      <td>여성</td>\n",
              "      <td>50대</td>\n",
              "      <td>Z17</td>\n",
              "      <td>20210101</td>\n",
              "      <td>10</td>\n",
              "      <td>1</td>\n",
              "      <td>Z10</td>\n",
              "      <td>Z10042</td>\n",
              "      <td>A01</td>\n",
              "      <td>A010039</td>\n",
              "      <td>남성의류</td>\n",
              "      <td>남성의류상의</td>\n",
              "      <td>남성티셔츠</td>\n",
              "      <td>PD0290</td>\n",
              "      <td>1</td>\n",
              "      <td>19000.0</td>\n",
              "    </tr>\n",
              "    <tr>\n",
              "      <th>4</th>\n",
              "      <td>4</td>\n",
              "      <td>M430112881</td>\n",
              "      <td>여성</td>\n",
              "      <td>50대</td>\n",
              "      <td>Z17</td>\n",
              "      <td>20210101</td>\n",
              "      <td>10</td>\n",
              "      <td>1</td>\n",
              "      <td>Z10</td>\n",
              "      <td>Z10042</td>\n",
              "      <td>A01</td>\n",
              "      <td>A010039</td>\n",
              "      <td>테넌트/음식점</td>\n",
              "      <td>식당</td>\n",
              "      <td>커피/음료</td>\n",
              "      <td>PD1692</td>\n",
              "      <td>1</td>\n",
              "      <td>9900.0</td>\n",
              "    </tr>\n",
              "    <tr>\n",
              "      <th>...</th>\n",
              "      <td>...</td>\n",
              "      <td>...</td>\n",
              "      <td>...</td>\n",
              "      <td>...</td>\n",
              "      <td>...</td>\n",
              "      <td>...</td>\n",
              "      <td>...</td>\n",
              "      <td>...</td>\n",
              "      <td>...</td>\n",
              "      <td>...</td>\n",
              "      <td>...</td>\n",
              "      <td>...</td>\n",
              "      <td>...</td>\n",
              "      <td>...</td>\n",
              "      <td>...</td>\n",
              "      <td>...</td>\n",
              "      <td>...</td>\n",
              "      <td>...</td>\n",
              "    </tr>\n",
              "    <tr>\n",
              "      <th>3382795</th>\n",
              "      <td>3382795</td>\n",
              "      <td>M430112881</td>\n",
              "      <td>여성</td>\n",
              "      <td>50대</td>\n",
              "      <td>Z17</td>\n",
              "      <td>20211230</td>\n",
              "      <td>17</td>\n",
              "      <td>1</td>\n",
              "      <td>Z17</td>\n",
              "      <td>Z17014</td>\n",
              "      <td>A03</td>\n",
              "      <td>A030185</td>\n",
              "      <td>과자</td>\n",
              "      <td>스낵류</td>\n",
              "      <td>일반스낵</td>\n",
              "      <td>PD0232</td>\n",
              "      <td>1</td>\n",
              "      <td>2990.0</td>\n",
              "    </tr>\n",
              "    <tr>\n",
              "      <th>3382796</th>\n",
              "      <td>3382796</td>\n",
              "      <td>M430112881</td>\n",
              "      <td>여성</td>\n",
              "      <td>50대</td>\n",
              "      <td>Z17</td>\n",
              "      <td>20211230</td>\n",
              "      <td>17</td>\n",
              "      <td>1</td>\n",
              "      <td>Z17</td>\n",
              "      <td>Z17014</td>\n",
              "      <td>A03</td>\n",
              "      <td>A030185</td>\n",
              "      <td>유제품</td>\n",
              "      <td>우유</td>\n",
              "      <td>기능성우유</td>\n",
              "      <td>PD1157</td>\n",
              "      <td>1</td>\n",
              "      <td>2990.0</td>\n",
              "    </tr>\n",
              "    <tr>\n",
              "      <th>3382797</th>\n",
              "      <td>3382797</td>\n",
              "      <td>M430112881</td>\n",
              "      <td>여성</td>\n",
              "      <td>50대</td>\n",
              "      <td>Z17</td>\n",
              "      <td>20211115</td>\n",
              "      <td>11</td>\n",
              "      <td>1</td>\n",
              "      <td>Z17</td>\n",
              "      <td>Z17014</td>\n",
              "      <td>A04</td>\n",
              "      <td>A040303</td>\n",
              "      <td>생활/렌탈서비스</td>\n",
              "      <td>생활서비스</td>\n",
              "      <td>기타생활서비스</td>\n",
              "      <td>PD0529</td>\n",
              "      <td>1</td>\n",
              "      <td>100.0</td>\n",
              "    </tr>\n",
              "    <tr>\n",
              "      <th>3382798</th>\n",
              "      <td>3382798</td>\n",
              "      <td>M430112881</td>\n",
              "      <td>여성</td>\n",
              "      <td>50대</td>\n",
              "      <td>Z17</td>\n",
              "      <td>20211115</td>\n",
              "      <td>11</td>\n",
              "      <td>1</td>\n",
              "      <td>Z17</td>\n",
              "      <td>Z17014</td>\n",
              "      <td>A04</td>\n",
              "      <td>A040303</td>\n",
              "      <td>음료</td>\n",
              "      <td>즉석음료류</td>\n",
              "      <td>파우치/즉석음료</td>\n",
              "      <td>PD1178</td>\n",
              "      <td>1</td>\n",
              "      <td>1140.0</td>\n",
              "    </tr>\n",
              "    <tr>\n",
              "      <th>3382799</th>\n",
              "      <td>3382799</td>\n",
              "      <td>M430112881</td>\n",
              "      <td>여성</td>\n",
              "      <td>50대</td>\n",
              "      <td>Z17</td>\n",
              "      <td>20211115</td>\n",
              "      <td>11</td>\n",
              "      <td>1</td>\n",
              "      <td>Z17</td>\n",
              "      <td>Z17014</td>\n",
              "      <td>A04</td>\n",
              "      <td>A040303</td>\n",
              "      <td>냉동식품</td>\n",
              "      <td>아이스크림</td>\n",
              "      <td>얼음</td>\n",
              "      <td>PD0335</td>\n",
              "      <td>1</td>\n",
              "      <td>760.0</td>\n",
              "    </tr>\n",
              "  </tbody>\n",
              "</table>\n",
              "<p>415 rows × 18 columns</p>\n",
              "</div>\n",
              "      <button class=\"colab-df-convert\" onclick=\"convertToInteractive('df-965bac5a-a17c-4935-80cd-3e50d79d6cab')\"\n",
              "              title=\"Convert this dataframe to an interactive table.\"\n",
              "              style=\"display:none;\">\n",
              "        \n",
              "  <svg xmlns=\"http://www.w3.org/2000/svg\" height=\"24px\"viewBox=\"0 0 24 24\"\n",
              "       width=\"24px\">\n",
              "    <path d=\"M0 0h24v24H0V0z\" fill=\"none\"/>\n",
              "    <path d=\"M18.56 5.44l.94 2.06.94-2.06 2.06-.94-2.06-.94-.94-2.06-.94 2.06-2.06.94zm-11 1L8.5 8.5l.94-2.06 2.06-.94-2.06-.94L8.5 2.5l-.94 2.06-2.06.94zm10 10l.94 2.06.94-2.06 2.06-.94-2.06-.94-.94-2.06-.94 2.06-2.06.94z\"/><path d=\"M17.41 7.96l-1.37-1.37c-.4-.4-.92-.59-1.43-.59-.52 0-1.04.2-1.43.59L10.3 9.45l-7.72 7.72c-.78.78-.78 2.05 0 2.83L4 21.41c.39.39.9.59 1.41.59.51 0 1.02-.2 1.41-.59l7.78-7.78 2.81-2.81c.8-.78.8-2.07 0-2.86zM5.41 20L4 18.59l7.72-7.72 1.47 1.35L5.41 20z\"/>\n",
              "  </svg>\n",
              "      </button>\n",
              "      \n",
              "  <style>\n",
              "    .colab-df-container {\n",
              "      display:flex;\n",
              "      flex-wrap:wrap;\n",
              "      gap: 12px;\n",
              "    }\n",
              "\n",
              "    .colab-df-convert {\n",
              "      background-color: #E8F0FE;\n",
              "      border: none;\n",
              "      border-radius: 50%;\n",
              "      cursor: pointer;\n",
              "      display: none;\n",
              "      fill: #1967D2;\n",
              "      height: 32px;\n",
              "      padding: 0 0 0 0;\n",
              "      width: 32px;\n",
              "    }\n",
              "\n",
              "    .colab-df-convert:hover {\n",
              "      background-color: #E2EBFA;\n",
              "      box-shadow: 0px 1px 2px rgba(60, 64, 67, 0.3), 0px 1px 3px 1px rgba(60, 64, 67, 0.15);\n",
              "      fill: #174EA6;\n",
              "    }\n",
              "\n",
              "    [theme=dark] .colab-df-convert {\n",
              "      background-color: #3B4455;\n",
              "      fill: #D2E3FC;\n",
              "    }\n",
              "\n",
              "    [theme=dark] .colab-df-convert:hover {\n",
              "      background-color: #434B5C;\n",
              "      box-shadow: 0px 1px 3px 1px rgba(0, 0, 0, 0.15);\n",
              "      filter: drop-shadow(0px 1px 2px rgba(0, 0, 0, 0.3));\n",
              "      fill: #FFFFFF;\n",
              "    }\n",
              "  </style>\n",
              "\n",
              "      <script>\n",
              "        const buttonEl =\n",
              "          document.querySelector('#df-965bac5a-a17c-4935-80cd-3e50d79d6cab button.colab-df-convert');\n",
              "        buttonEl.style.display =\n",
              "          google.colab.kernel.accessAllowed ? 'block' : 'none';\n",
              "\n",
              "        async function convertToInteractive(key) {\n",
              "          const element = document.querySelector('#df-965bac5a-a17c-4935-80cd-3e50d79d6cab');\n",
              "          const dataTable =\n",
              "            await google.colab.kernel.invokeFunction('convertToInteractive',\n",
              "                                                     [key], {});\n",
              "          if (!dataTable) return;\n",
              "\n",
              "          const docLinkHtml = 'Like what you see? Visit the ' +\n",
              "            '<a target=\"_blank\" href=https://colab.research.google.com/notebooks/data_table.ipynb>data table notebook</a>'\n",
              "            + ' to learn more about interactive tables.';\n",
              "          element.innerHTML = '';\n",
              "          dataTable['output_type'] = 'display_data';\n",
              "          await google.colab.output.renderOutput(dataTable, element);\n",
              "          const docLink = document.createElement('div');\n",
              "          docLink.innerHTML = docLinkHtml;\n",
              "          element.appendChild(docLink);\n",
              "        }\n",
              "      </script>\n",
              "    </div>\n",
              "  </div>\n",
              "  "
            ]
          },
          "metadata": {},
          "execution_count": 51
        }
      ]
    },
    {
      "cell_type": "code",
      "source": [
        "LPAY.loc"
      ],
      "metadata": {
        "id": "sLnXJAA4vw7M"
      },
      "execution_count": null,
      "outputs": []
    },
    {
      "cell_type": "code",
      "source": [
        ""
      ],
      "metadata": {
        "id": "dqdHD2oxvv8U"
      },
      "execution_count": null,
      "outputs": []
    },
    {
      "cell_type": "code",
      "source": [
        "# 여기서 cop_c 는 숙박업종, 엔터테인먼트, F&B, 렌탈업종\n",
        "print(COPU.shape)\n",
        "print(COPU.isnull().sum())"
      ],
      "metadata": {
        "colab": {
          "base_uri": "https://localhost:8080/"
        },
        "id": "KvrAfVKSd4zz",
        "outputId": "fa3d923f-dd29-4069-8b4a-475ffb3dfd22"
      },
      "execution_count": null,
      "outputs": [
        {
          "output_type": "stream",
          "name": "stdout",
          "text": [
            "(248304, 14)\n",
            "Unnamed: 0      0\n",
            "cust            0\n",
            "ma_fem_dv       0\n",
            "ages            0\n",
            "zon_hlv         0\n",
            "de_dt           0\n",
            "de_hr           0\n",
            "chnl_dv         0\n",
            "br_zon_hlv     55\n",
            "br_zon_mcls    55\n",
            "cop_c           0\n",
            "br_c           55\n",
            "vst_dt          0\n",
            "buy_am          0\n",
            "dtype: int64\n"
          ]
        }
      ]
    },
    {
      "cell_type": "code",
      "source": [
        "print(COPU.loc[COPU.br_c.isnull(), 'chnl_dv'].value_counts())\n",
        "print(COPU.loc[COPU.br_c.notnull(), 'chnl_dv'].value_counts())"
      ],
      "metadata": {
        "colab": {
          "base_uri": "https://localhost:8080/"
        },
        "id": "8aX2WiJvevsc",
        "outputId": "e7bd8b38-c2dd-44a0-9e2b-2569b6999b54"
      },
      "execution_count": null,
      "outputs": [
        {
          "output_type": "stream",
          "name": "stdout",
          "text": [
            "2    55\n",
            "Name: chnl_dv, dtype: int64\n",
            "1    213525\n",
            "2     34724\n",
            "Name: chnl_dv, dtype: int64\n"
          ]
        }
      ]
    },
    {
      "cell_type": "code",
      "source": [
        "COPU.loc[COPU.br_c.isnull(),'cop_c'].value_counts()"
      ],
      "metadata": {
        "colab": {
          "base_uri": "https://localhost:8080/"
        },
        "id": "I7RTulpIhNSd",
        "outputId": "5b6bbe58-aece-45c2-b941-ea615e7941f2"
      },
      "execution_count": null,
      "outputs": [
        {
          "output_type": "execute_result",
          "data": {
            "text/plain": [
              "E01    55\n",
              "Name: cop_c, dtype: int64"
            ]
          },
          "metadata": {},
          "execution_count": 6
        }
      ]
    },
    {
      "cell_type": "code",
      "source": [
        "print(LPAY.shape)\n",
        "print(LPAY.isnull().sum())"
      ],
      "metadata": {
        "colab": {
          "base_uri": "https://localhost:8080/"
        },
        "id": "Wi_sDr2zL2o6",
        "outputId": "4097df5f-099d-4dc3-a7a2-07cca759f4bf"
      },
      "execution_count": null,
      "outputs": [
        {
          "output_type": "stream",
          "name": "stdout",
          "text": [
            "(353184, 10)\n",
            "Unnamed: 0    0\n",
            "cust          0\n",
            "ma_fem_dv     0\n",
            "ages          0\n",
            "zon_hlv       0\n",
            "de_dt         0\n",
            "de_hr         0\n",
            "chnl_dv       0\n",
            "cop_c         0\n",
            "buy_am        0\n",
            "dtype: int64\n"
          ]
        }
      ]
    },
    {
      "cell_type": "code",
      "source": [
        "# 여기서 cop_c 는 유통사 (A1~6)\n",
        "print(PDDE.shape)\n",
        "print(PDDE.isnull().sum())"
      ],
      "metadata": {
        "colab": {
          "base_uri": "https://localhost:8080/"
        },
        "id": "GWOVn3Bk7CNT",
        "outputId": "43f01af3-d724-41e3-923c-31c46fb1d94a"
      },
      "execution_count": null,
      "outputs": [
        {
          "output_type": "stream",
          "name": "stdout",
          "text": [
            "(4381743, 18)\n",
            "Unnamed: 0           0\n",
            "cust                 0\n",
            "ma_fem_dv            0\n",
            "ages                 0\n",
            "zon_hlv              0\n",
            "de_dt                0\n",
            "de_hr                0\n",
            "chnl_dv              0\n",
            "br_zon_hlv      428501\n",
            "br_zon_mcls     428501\n",
            "cop_c                0\n",
            "br_c            428501\n",
            "clac_hlv_nm          0\n",
            "clac_mcls_nm         0\n",
            "pd_nm                0\n",
            "pd_c                 0\n",
            "buy_ct               0\n",
            "buy_am               0\n",
            "dtype: int64\n"
          ]
        }
      ]
    },
    {
      "cell_type": "code",
      "source": [
        "# 매장 점포, 행정구역이 Null 값인 경우 온라인 매장이라 없는 거다.\n",
        "\n",
        "print(PDDE.loc[PDDE.br_c.notnull(), 'chnl_dv'].value_counts())\n",
        "print(PDDE.loc[PDDE.br_c.isnull(), 'chnl_dv'].value_counts())"
      ],
      "metadata": {
        "colab": {
          "base_uri": "https://localhost:8080/"
        },
        "id": "O2YG5f0ieEyk",
        "outputId": "fe4f574a-be00-49c4-b607-e321a1e1d933"
      },
      "execution_count": null,
      "outputs": [
        {
          "output_type": "stream",
          "name": "stdout",
          "text": [
            "1    3953242\n",
            "Name: chnl_dv, dtype: int64\n",
            "2    428501\n",
            "Name: chnl_dv, dtype: int64\n"
          ]
        }
      ]
    },
    {
      "cell_type": "code",
      "source": [
        "temp = PDDE.loc[PDDE.chnl_dv==2, 'buy_am']"
      ],
      "metadata": {
        "id": "9l79KVGAiKO1"
      },
      "execution_count": null,
      "outputs": []
    },
    {
      "cell_type": "code",
      "source": [
        ""
      ],
      "metadata": {
        "id": "hvCMw33WUAM5"
      },
      "execution_count": null,
      "outputs": []
    }
  ]
}